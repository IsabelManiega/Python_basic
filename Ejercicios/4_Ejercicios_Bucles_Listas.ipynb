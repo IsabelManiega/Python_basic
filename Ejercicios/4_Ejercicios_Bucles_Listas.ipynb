{
 "cells": [
  {
   "cell_type": "markdown",
   "id": "a5f6d5d7",
   "metadata": {},
   "source": [
    "*Creado por:*\n",
    "\n",
    "*Isabel Maniega*"
   ]
  },
  {
   "cell_type": "markdown",
   "id": "68bb3a4d",
   "metadata": {},
   "source": [
    "# Ejercicio 1"
   ]
  },
  {
   "cell_type": "markdown",
   "id": "64640529",
   "metadata": {},
   "source": [
    "Crear un pequeño programa que calcule la multiplicación de 2 números (x, y)\n",
    " * x = 3, y = 5\n",
    " * x = 7, y = 3"
   ]
  },
  {
   "cell_type": "markdown",
   "id": "4337dccb",
   "metadata": {},
   "source": [
    "* a) Con una función (por ejemplo funcion_multiplicar)"
   ]
  },
  {
   "cell_type": "markdown",
   "id": "fc312ce7",
   "metadata": {},
   "source": [
    "* b) Con la función lambda (Tal vez puedes ir a repasarlo)"
   ]
  },
  {
   "cell_type": "markdown",
   "id": "a9087de9",
   "metadata": {},
   "source": [
    "**una forma...**"
   ]
  },
  {
   "cell_type": "markdown",
   "id": "1febfae4",
   "metadata": {},
   "source": [
    "**otra forma...**"
   ]
  },
  {
   "cell_type": "markdown",
   "id": "3f51bb05",
   "metadata": {},
   "source": [
    "* c) Realizarlo con entrada de teclado (input)"
   ]
  },
  {
   "cell_type": "markdown",
   "id": "ee175aa5",
   "metadata": {},
   "source": [
    "**Otra forma sin ser tan repetitivo...**"
   ]
  },
  {
   "cell_type": "markdown",
   "id": "10a32628",
   "metadata": {},
   "source": [
    "# Ejercicio 2"
   ]
  },
  {
   "cell_type": "markdown",
   "id": "9943794f",
   "metadata": {},
   "source": [
    "-A-"
   ]
  },
  {
   "cell_type": "markdown",
   "id": "a91cec70",
   "metadata": {},
   "source": [
    "Dado un string:\n",
    "* \"Level\""
   ]
  },
  {
   "cell_type": "markdown",
   "id": "a0c810f6",
   "metadata": {},
   "source": [
    "¿Es un palíndromo?"
   ]
  },
  {
   "cell_type": "markdown",
   "id": "4a052702",
   "metadata": {},
   "source": [
    "-B-"
   ]
  },
  {
   "cell_type": "markdown",
   "id": "52983aa1",
   "metadata": {},
   "source": [
    "¿Y este string?"
   ]
  },
  {
   "cell_type": "markdown",
   "id": "8cc00967",
   "metadata": {},
   "source": [
    "* \"level\""
   ]
  },
  {
   "cell_type": "markdown",
   "id": "9b2f5e6f",
   "metadata": {},
   "source": [
    "Nota: \"Es un palíndromo si se invierte el orden del string, el resultado es exactamente el mismo\""
   ]
  },
  {
   "cell_type": "code",
   "execution_count": null,
   "id": "18967627-189f-43c1-8d0c-ef49d73602ac",
   "metadata": {},
   "outputs": [],
   "source": [
    "# Palíndromo: se escribe igual de derecha a izquierda y de izquierda a derecha\n",
    "\n",
    "# Level == leveL\n",
    "\n",
    "# level == level"
   ]
  },
  {
   "cell_type": "markdown",
   "id": "e0590128",
   "metadata": {},
   "source": [
    "# Ejercicio 3"
   ]
  },
  {
   "cell_type": "markdown",
   "id": "ee05882c",
   "metadata": {},
   "source": [
    "Dado 2 strings:"
   ]
  },
  {
   "cell_type": "markdown",
   "id": "dcb755be",
   "metadata": {},
   "source": [
    "* S1 = \"Hi!\"\n",
    "* S2 = \"Hello!\""
   ]
  },
  {
   "cell_type": "markdown",
   "id": "4b6dc7b9",
   "metadata": {},
   "source": [
    "Imprimir las letras que son comunes"
   ]
  },
  {
   "cell_type": "markdown",
   "id": "a0fba3c2",
   "metadata": {},
   "source": [
    "*Creado por:*\n",
    "\n",
    "*Isabel Maniega*"
   ]
  }
 ],
 "metadata": {
  "kernelspec": {
   "display_name": "Python 3 (ipykernel)",
   "language": "python",
   "name": "python3"
  },
  "language_info": {
   "codemirror_mode": {
    "name": "ipython",
    "version": 3
   },
   "file_extension": ".py",
   "mimetype": "text/x-python",
   "name": "python",
   "nbconvert_exporter": "python",
   "pygments_lexer": "ipython3",
   "version": "3.8.18"
  }
 },
 "nbformat": 4,
 "nbformat_minor": 5
}
