{
 "cells": [
  {
   "cell_type": "markdown",
   "id": "6cbb27a6",
   "metadata": {},
   "source": [
    "*Creado por:*\n",
    "    \n",
    "*Isabel Maniega*"
   ]
  },
  {
   "cell_type": "markdown",
   "id": "5f48ab0e",
   "metadata": {},
   "source": [
    "# Ejercicio 1"
   ]
  },
  {
   "cell_type": "markdown",
   "id": "a34c5c41",
   "metadata": {},
   "source": [
    "**a)** Declara la variable \"test\" como una lista con los siguientes componentes: 25, 8, 32, 20, 1. Usa las formas que conozcas para crearla y el uso de type para asegurarte de que es una lista."
   ]
  },
  {
   "cell_type": "markdown",
   "id": "5f3e6e76",
   "metadata": {},
   "source": [
    "**b)** Apendiza un valor de valor 20, 32, 25, 32"
   ]
  },
  {
   "cell_type": "markdown",
   "id": "1e36b494",
   "metadata": {},
   "source": [
    "**c)** Elimina el valor 8 de la lista"
   ]
  },
  {
   "cell_type": "markdown",
   "id": "89dcd2ca",
   "metadata": {},
   "source": [
    "**d)** Elimina los duplicados que haya en la lista y colócalos por orden."
   ]
  },
  {
   "cell_type": "markdown",
   "id": "ef1d7659",
   "metadata": {},
   "source": [
    "**e)** Crea una segunda lista de nombre \"info\" que contenga los valores: 25, 100, 10, 20, 5, 25, 30, 200"
   ]
  },
  {
   "cell_type": "markdown",
   "id": "aa4205c9",
   "metadata": {},
   "source": [
    "**f)** ¿Cuántos valores se repiten entre las listas?"
   ]
  },
  {
   "cell_type": "markdown",
   "id": "0dca4027",
   "metadata": {},
   "source": [
    "**g)** Muéstrame el maximo y mínimo en las dos listas"
   ]
  },
  {
   "cell_type": "markdown",
   "id": "e2103a31",
   "metadata": {},
   "source": [
    "**h)** Crea una nueva variable de nombre \"matriz\" transformando la lista test en matriz"
   ]
  },
  {
   "cell_type": "markdown",
   "id": "52c8ffdf",
   "metadata": {},
   "source": [
    "**i)** Crea una función que se llame \"funcion_división\" donde se divida el test con valor 32 entre info con valor 5 y muestra el resto de la división"
   ]
  },
  {
   "cell_type": "markdown",
   "id": "6cc31543",
   "metadata": {},
   "source": [
    "**j)** Con ayuda de reverse() muestra la inversa de test"
   ]
  },
  {
   "cell_type": "markdown",
   "id": "cc7e54ab",
   "metadata": {},
   "source": [
    "**k)** Con el listado info utiliza un bucle for con la ayuda de enumerate(), para mostrar posición y valor y crea un diccionario de nombre \"newDict\""
   ]
  },
  {
   "cell_type": "markdown",
   "id": "a7de920d",
   "metadata": {},
   "source": [
    "**l)** Crea un nuevo listado con nombre \"info2\" donde los valores: 25 se sustituya por \"María\", el valor 20 por \"Juan\" y el valor 10 por \"Pedro\""
   ]
  },
  {
   "cell_type": "markdown",
   "id": "8acc8169",
   "metadata": {},
   "source": [
    "**m)** Sustituye en el listado test los multiplos de 2 por \"Dos\""
   ]
  },
  {
   "cell_type": "markdown",
   "id": "c7e579a4",
   "metadata": {},
   "source": [
    "# Ejercicio 2"
   ]
  },
  {
   "cell_type": "markdown",
   "id": "8c85b66f",
   "metadata": {},
   "source": [
    "Escribe un programa que imprima los números desde 1 hasta 100"
   ]
  },
  {
   "cell_type": "markdown",
   "id": "4174c393",
   "metadata": {},
   "source": [
    "Pero:\n",
    " * Para los múltiplos de 3 sustituye por \"Hello\".\n",
    " * Para los múltiplos de 5 sustituye por \"World\".\n",
    " * Para los múltiplos de los dos (3/5) sustituye por \"Hello World\".\n",
    " \n",
    "( en vez del número correspondiente)"
   ]
  },
  {
   "cell_type": "markdown",
   "id": "66de71c7",
   "metadata": {},
   "source": [
    "*Creado por:*\n",
    "    \n",
    "*Isabel Maniega*"
   ]
  }
 ],
 "metadata": {
  "kernelspec": {
   "display_name": "Python 3 (ipykernel)",
   "language": "python",
   "name": "python3"
  },
  "language_info": {
   "codemirror_mode": {
    "name": "ipython",
    "version": 3
   },
   "file_extension": ".py",
   "mimetype": "text/x-python",
   "name": "python",
   "nbconvert_exporter": "python",
   "pygments_lexer": "ipython3",
   "version": "3.8.18"
  }
 },
 "nbformat": 4,
 "nbformat_minor": 5
}
