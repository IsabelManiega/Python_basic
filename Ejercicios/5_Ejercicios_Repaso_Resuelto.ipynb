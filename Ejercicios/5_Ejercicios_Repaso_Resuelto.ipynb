{
 "cells": [
  {
   "cell_type": "markdown",
   "id": "31ad6fde-8b9d-4a60-ba74-ed1efb2d182b",
   "metadata": {},
   "source": [
    "*Creado por:*\n",
    "\n",
    "*Isabel Maniega*"
   ]
  },
  {
   "cell_type": "markdown",
   "id": "de813868",
   "metadata": {},
   "source": [
    "# Ejercicio 1"
   ]
  },
  {
   "cell_type": "markdown",
   "id": "6d2e863d",
   "metadata": {},
   "source": [
    "**a)** Declara la variable \"test\" como una lista con los siguientes componentes: 25, 8, 32, 20, 1. Usa las formas que conozcas para crearla y el uso de type para asegurarte de que es una lista."
   ]
  },
  {
   "cell_type": "code",
   "execution_count": 1,
   "id": "87b278ad",
   "metadata": {},
   "outputs": [
    {
     "data": {
      "text/plain": [
       "[25, 8, 32, 20, 1]"
      ]
     },
     "execution_count": 1,
     "metadata": {},
     "output_type": "execute_result"
    }
   ],
   "source": [
    "test = list((25, 8, 32, 20, 1))\n",
    "test"
   ]
  },
  {
   "cell_type": "code",
   "execution_count": 2,
   "id": "c5c95ba0",
   "metadata": {},
   "outputs": [
    {
     "data": {
      "text/plain": [
       "[25, 8, 32, 20, 1]"
      ]
     },
     "execution_count": 2,
     "metadata": {},
     "output_type": "execute_result"
    }
   ],
   "source": [
    "test = [25, 8, 32, 20, 1]\n",
    "test"
   ]
  },
  {
   "cell_type": "code",
   "execution_count": 3,
   "id": "82bef022",
   "metadata": {},
   "outputs": [
    {
     "data": {
      "text/plain": [
       "list"
      ]
     },
     "execution_count": 3,
     "metadata": {},
     "output_type": "execute_result"
    }
   ],
   "source": [
    "type(test)"
   ]
  },
  {
   "cell_type": "markdown",
   "id": "bddded2e",
   "metadata": {},
   "source": [
    "**b)** Apendiza un valor de valor 20, 32, 25, 32"
   ]
  },
  {
   "cell_type": "code",
   "execution_count": 4,
   "id": "66be8ea9",
   "metadata": {},
   "outputs": [
    {
     "data": {
      "text/plain": [
       "[25, 8, 32, 20, 1, 20]"
      ]
     },
     "execution_count": 4,
     "metadata": {},
     "output_type": "execute_result"
    }
   ],
   "source": [
    "test.append(20)\n",
    "test"
   ]
  },
  {
   "cell_type": "code",
   "execution_count": 5,
   "id": "af2adb32",
   "metadata": {},
   "outputs": [
    {
     "data": {
      "text/plain": [
       "[25, 8, 32, 20, 1, 20, 32]"
      ]
     },
     "execution_count": 5,
     "metadata": {},
     "output_type": "execute_result"
    }
   ],
   "source": [
    "test.append(32)\n",
    "test"
   ]
  },
  {
   "cell_type": "code",
   "execution_count": 6,
   "id": "88fc7dc4",
   "metadata": {},
   "outputs": [
    {
     "data": {
      "text/plain": [
       "[25, 8, 32, 20, 1, 20, 32, 25]"
      ]
     },
     "execution_count": 6,
     "metadata": {},
     "output_type": "execute_result"
    }
   ],
   "source": [
    "test.append(25)\n",
    "test"
   ]
  },
  {
   "cell_type": "code",
   "execution_count": 7,
   "id": "7c8fe8ad",
   "metadata": {},
   "outputs": [
    {
     "data": {
      "text/plain": [
       "[25, 8, 32, 20, 1, 20, 32, 25, 32]"
      ]
     },
     "execution_count": 7,
     "metadata": {},
     "output_type": "execute_result"
    }
   ],
   "source": [
    "test.append(32)\n",
    "test"
   ]
  },
  {
   "cell_type": "markdown",
   "id": "50b8e3c2",
   "metadata": {},
   "source": [
    "**otra forma**"
   ]
  },
  {
   "cell_type": "code",
   "execution_count": 8,
   "id": "1cceaeca",
   "metadata": {},
   "outputs": [
    {
     "data": {
      "text/plain": [
       "[25, 8, 32, 20, 1]"
      ]
     },
     "execution_count": 8,
     "metadata": {},
     "output_type": "execute_result"
    }
   ],
   "source": [
    "test = [25, 8, 32, 20, 1]\n",
    "test"
   ]
  },
  {
   "cell_type": "code",
   "execution_count": 9,
   "id": "4ed1e6b5",
   "metadata": {},
   "outputs": [
    {
     "data": {
      "text/plain": [
       "[25, 8, 32, 20, 1, 20, 32, 25, 32]"
      ]
     },
     "execution_count": 9,
     "metadata": {},
     "output_type": "execute_result"
    }
   ],
   "source": [
    "listas = [20, 32, 25, 32]\n",
    "\n",
    "for lista in listas:\n",
    "    test.append(lista)\n",
    "test"
   ]
  },
  {
   "cell_type": "markdown",
   "id": "49be5bd8-b590-44ca-8ee4-9c58ebc6148c",
   "metadata": {},
   "source": [
    "**y forma más...**"
   ]
  },
  {
   "cell_type": "code",
   "execution_count": 10,
   "id": "3a8e3cb1-ff7f-4f70-87cc-60c0924377f5",
   "metadata": {},
   "outputs": [
    {
     "data": {
      "text/plain": [
       "[25, 8, 32, 20, 1, 20, 32, 25, 32]"
      ]
     },
     "execution_count": 10,
     "metadata": {},
     "output_type": "execute_result"
    }
   ],
   "source": [
    "#  Concatenación de listas:\n",
    "\n",
    "listas = [20, 32, 25, 32]\n",
    "test2 = [25, 8, 32, 20, 1]\n",
    "result = test2 + listas\n",
    "result"
   ]
  },
  {
   "cell_type": "markdown",
   "id": "666f86ba",
   "metadata": {},
   "source": [
    "**c)** Elimina el valor 8 de la lista"
   ]
  },
  {
   "cell_type": "code",
   "execution_count": 11,
   "id": "adf1c974",
   "metadata": {},
   "outputs": [
    {
     "data": {
      "text/plain": [
       "[25, 32, 20, 1, 20, 32, 25, 32]"
      ]
     },
     "execution_count": 11,
     "metadata": {},
     "output_type": "execute_result"
    }
   ],
   "source": [
    "# Por posición:\n",
    "test.remove(test[1])\n",
    "test"
   ]
  },
  {
   "cell_type": "code",
   "execution_count": 12,
   "id": "df783c25",
   "metadata": {},
   "outputs": [
    {
     "data": {
      "text/plain": [
       "[25, 32, 20, 1, 20, 32, 25, 32]"
      ]
     },
     "execution_count": 12,
     "metadata": {},
     "output_type": "execute_result"
    }
   ],
   "source": [
    "# Por valor:\n",
    "result.remove(8)\n",
    "result"
   ]
  },
  {
   "cell_type": "code",
   "execution_count": 13,
   "id": "5d66cf03-2f22-44e0-a440-1b0f6a46bfbb",
   "metadata": {},
   "outputs": [
    {
     "data": {
      "text/plain": [
       "[25, 32, 1, 20, 32, 25, 32]"
      ]
     },
     "execution_count": 13,
     "metadata": {},
     "output_type": "execute_result"
    }
   ],
   "source": [
    "#  Sólo elimina el primer valor que encuentra:\n",
    "result.remove(20)\n",
    "result"
   ]
  },
  {
   "cell_type": "markdown",
   "id": "ae2c6173",
   "metadata": {},
   "source": [
    "**d)** Elimina los duplicados que haya en la lista test"
   ]
  },
  {
   "cell_type": "code",
   "execution_count": 14,
   "id": "5591f967",
   "metadata": {},
   "outputs": [
    {
     "data": {
      "text/plain": [
       "[32, 25, 20, 1]"
      ]
     },
     "execution_count": 14,
     "metadata": {},
     "output_type": "execute_result"
    }
   ],
   "source": [
    "test = list(set(test))\n",
    "test"
   ]
  },
  {
   "cell_type": "markdown",
   "id": "e3044a4f",
   "metadata": {},
   "source": [
    "**e)** Crea una segunda lista de nombre \"info\" que contenga los valores: 25, 100, 10, 20, 5, 25, 30, 200"
   ]
  },
  {
   "cell_type": "code",
   "execution_count": 15,
   "id": "a2d1a834",
   "metadata": {},
   "outputs": [
    {
     "data": {
      "text/plain": [
       "[25, 100, 10, 20, 5, 25, 30, 200]"
      ]
     },
     "execution_count": 15,
     "metadata": {},
     "output_type": "execute_result"
    }
   ],
   "source": [
    "info = [25, 100, 10, 20, 5, 25, 30, 200]\n",
    "info"
   ]
  },
  {
   "cell_type": "markdown",
   "id": "5085cdea",
   "metadata": {},
   "source": [
    "**f)** ¿Cuántos valores se repiten entre las listas?"
   ]
  },
  {
   "cell_type": "code",
   "execution_count": 16,
   "id": "f3c497e7",
   "metadata": {},
   "outputs": [
    {
     "name": "stdout",
     "output_type": "stream",
     "text": [
      "Numero repetido:  25\n",
      "Numero repetido:  25\n",
      "Numero repetido:  20\n",
      "3\n"
     ]
    }
   ],
   "source": [
    "contador = 0\n",
    "for n in test:\n",
    "    for i in info:\n",
    "        if n == i:\n",
    "            print('Numero repetido: ', n)\n",
    "            contador += 1\n",
    "print(contador)\n",
    "            "
   ]
  },
  {
   "cell_type": "markdown",
   "id": "218989d0",
   "metadata": {},
   "source": [
    "**g)** Muéstrame el maximo y mínimo en las dos listas"
   ]
  },
  {
   "cell_type": "code",
   "execution_count": 17,
   "id": "97f0c600",
   "metadata": {},
   "outputs": [
    {
     "data": {
      "text/plain": [
       "(32, 1)"
      ]
     },
     "execution_count": 17,
     "metadata": {},
     "output_type": "execute_result"
    }
   ],
   "source": [
    "max(test), min(test)"
   ]
  },
  {
   "cell_type": "code",
   "execution_count": 18,
   "id": "81f94fb0",
   "metadata": {},
   "outputs": [
    {
     "data": {
      "text/plain": [
       "(200, 5)"
      ]
     },
     "execution_count": 18,
     "metadata": {},
     "output_type": "execute_result"
    }
   ],
   "source": [
    "max(info), min(info)"
   ]
  },
  {
   "cell_type": "markdown",
   "id": "286ff78c",
   "metadata": {},
   "source": [
    "**h)** Crea una nueva variable de nombre \"matriz\" transformando la lista test en matriz"
   ]
  },
  {
   "cell_type": "code",
   "execution_count": 19,
   "id": "f7446e1d",
   "metadata": {},
   "outputs": [
    {
     "data": {
      "text/plain": [
       "array([32, 25, 20,  1])"
      ]
     },
     "execution_count": 19,
     "metadata": {},
     "output_type": "execute_result"
    }
   ],
   "source": [
    "import numpy as np\n",
    "\n",
    "matriz = np.array(test)\n",
    "matriz"
   ]
  },
  {
   "cell_type": "markdown",
   "id": "a46a0e78",
   "metadata": {},
   "source": [
    "**i)** Crea una función que se llame \"funcion_división\" donde se divida el test con valor 32 entre info con valor 5 y muestra el resto de la división"
   ]
  },
  {
   "cell_type": "code",
   "execution_count": 20,
   "id": "0ae2dcf7",
   "metadata": {},
   "outputs": [],
   "source": [
    "# Info[4] == 5\n",
    "# test[0] == 32\n",
    "def funcion_division(n, s):\n",
    "    return test[n] % info[s]"
   ]
  },
  {
   "cell_type": "code",
   "execution_count": 21,
   "id": "5dca98b3",
   "metadata": {},
   "outputs": [
    {
     "name": "stdout",
     "output_type": "stream",
     "text": [
      "0\n"
     ]
    }
   ],
   "source": [
    "n = 0\n",
    "for i in test:\n",
    "    if i == 32:\n",
    "        break\n",
    "    n += 1\n",
    "print(n)\n"
   ]
  },
  {
   "cell_type": "code",
   "execution_count": 22,
   "id": "beeb8336",
   "metadata": {},
   "outputs": [
    {
     "name": "stdout",
     "output_type": "stream",
     "text": [
      "4\n"
     ]
    }
   ],
   "source": [
    "s = 0\n",
    "for j in info:\n",
    "    if j == 5:\n",
    "        break\n",
    "    s += 1\n",
    "print(s)"
   ]
  },
  {
   "cell_type": "code",
   "execution_count": 23,
   "id": "510d0c86",
   "metadata": {},
   "outputs": [
    {
     "data": {
      "text/plain": [
       "2"
      ]
     },
     "execution_count": 23,
     "metadata": {},
     "output_type": "execute_result"
    }
   ],
   "source": [
    "funcion_division(n, s)"
   ]
  },
  {
   "cell_type": "markdown",
   "id": "68614f7f",
   "metadata": {},
   "source": [
    "**j)** Con ayuda de reverse() muestra la inversa de test"
   ]
  },
  {
   "cell_type": "code",
   "execution_count": 24,
   "id": "15ad990c",
   "metadata": {},
   "outputs": [
    {
     "data": {
      "text/plain": [
       "[1, 20, 25, 32]"
      ]
     },
     "execution_count": 24,
     "metadata": {},
     "output_type": "execute_result"
    }
   ],
   "source": [
    "test.reverse()\n",
    "test"
   ]
  },
  {
   "cell_type": "markdown",
   "id": "eaaa9130",
   "metadata": {},
   "source": [
    "**k)** Con el listado info utiliza un bucle for con la ayuda de enumerate(), para mostrar posición y valor y crea un diccionario de nombre \"newDict\""
   ]
  },
  {
   "cell_type": "code",
   "execution_count": 25,
   "id": "faf990db",
   "metadata": {},
   "outputs": [
    {
     "name": "stdout",
     "output_type": "stream",
     "text": [
      "{0: 25, 1: 100, 2: 10, 3: 20, 4: 5, 5: 25, 6: 30, 7: 200}\n"
     ]
    }
   ],
   "source": [
    "newDict = {}\n",
    "\n",
    "for key, value in enumerate(info):\n",
    "    newDict[key] = value\n",
    "print(newDict)"
   ]
  },
  {
   "cell_type": "markdown",
   "id": "117e68f8",
   "metadata": {},
   "source": [
    "**l)** Crea un nuevo listado con nombre \"info2\" donde los valores: 25 se sustituya por \"María\", el valor 20 por \"Juan\" y el valor 10 por \"Pedro\""
   ]
  },
  {
   "cell_type": "code",
   "execution_count": 26,
   "id": "5e96fbd1",
   "metadata": {},
   "outputs": [
    {
     "data": {
      "text/plain": [
       "['María', 100, 'Pedro', 'Juan', 5, 'María', 30, 200]"
      ]
     },
     "execution_count": 26,
     "metadata": {},
     "output_type": "execute_result"
    }
   ],
   "source": [
    "info2 = []\n",
    "\n",
    "for i in info:\n",
    "    if i == 25:\n",
    "        info2.append(\"María\")\n",
    "    elif i == 20:\n",
    "        info2.append(\"Juan\")\n",
    "    elif i == 10:\n",
    "        info2.append(\"Pedro\")\n",
    "    else:\n",
    "        info2.append(i)\n",
    "info2"
   ]
  },
  {
   "cell_type": "markdown",
   "id": "1db2a591",
   "metadata": {},
   "source": [
    "**m)** Sustituye en el listado test los multiplos de 2 por \"Dos\""
   ]
  },
  {
   "cell_type": "code",
   "execution_count": 27,
   "id": "8c59008a",
   "metadata": {},
   "outputs": [
    {
     "data": {
      "text/plain": [
       "[1, 'Dos', 25, 'Dos']"
      ]
     },
     "execution_count": 27,
     "metadata": {},
     "output_type": "execute_result"
    }
   ],
   "source": [
    "n = 0\n",
    "\n",
    "for i in test:\n",
    "    if i%2 == 0:\n",
    "        test[n] = \"Dos\"\n",
    "    n += 1\n",
    "test"
   ]
  },
  {
   "cell_type": "markdown",
   "id": "1079289e",
   "metadata": {},
   "source": [
    "# Ejercicio 2: "
   ]
  },
  {
   "cell_type": "markdown",
   "id": "c9b078b0",
   "metadata": {},
   "source": [
    "Escribe un programa que imprima los números desde 1 hasta 100\n",
    "\n",
    "Pero:\n",
    "    \n",
    "   * Para los múltiplos de 3 escribe \"Hello\"\n",
    "   * Para los múltiplos de 5 escribe \"World\"\n",
    "   * Para los múltiplos de ambos (3 y 5) escribe \"Hello World\" \n",
    "   \n",
    "(en vez de los números correspondientes)"
   ]
  },
  {
   "cell_type": "code",
   "execution_count": 15,
   "id": "1d2efa3d",
   "metadata": {},
   "outputs": [
    {
     "name": "stdout",
     "output_type": "stream",
     "text": [
      "[  0   1   2   3   4   5   6   7   8   9  10  11  12  13  14  15  16  17\n",
      "  18  19  20  21  22  23  24  25  26  27  28  29  30  31  32  33  34  35\n",
      "  36  37  38  39  40  41  42  43  44  45  46  47  48  49  50  51  52  53\n",
      "  54  55  56  57  58  59  60  61  62  63  64  65  66  67  68  69  70  71\n",
      "  72  73  74  75  76  77  78  79  80  81  82  83  84  85  86  87  88  89\n",
      "  90  91  92  93  94  95  96  97  98  99 100]\n"
     ]
    }
   ],
   "source": [
    "# Crear la lista con todos los valores\n",
    "import numpy as np\n",
    "N = np.arange(0,101,1).tolist()\n",
    "print(np.array(N))"
   ]
  },
  {
   "cell_type": "code",
   "execution_count": 16,
   "id": "dd84ac95-f7b5-4028-992a-e239c7d59492",
   "metadata": {},
   "outputs": [
    {
     "name": "stdout",
     "output_type": "stream",
     "text": [
      "['Hello World' '1' '2' 'Hello' '4' 'World' 'Hello' '7' '8' 'Hello' 'World'\n",
      " '11' 'Hello' '13' '14' 'Hello World' '16' '17' 'Hello' '19' 'World'\n",
      " 'Hello' '22' '23' 'Hello' 'World' '26' 'Hello' '28' '29' 'Hello World'\n",
      " '31' '32' 'Hello' '34' 'World' 'Hello' '37' '38' 'Hello' 'World' '41'\n",
      " 'Hello' '43' '44' 'Hello World' '46' '47' 'Hello' '49' 'World' 'Hello'\n",
      " '52' '53' 'Hello' 'World' '56' 'Hello' '58' '59' 'Hello World' '61' '62'\n",
      " 'Hello' '64' 'World' 'Hello' '67' '68' 'Hello' 'World' '71' 'Hello' '73'\n",
      " '74' 'Hello World' '76' '77' 'Hello' '79' 'World' 'Hello' '82' '83'\n",
      " 'Hello' 'World' '86' 'Hello' '88' '89' 'Hello World' '91' '92' 'Hello'\n",
      " '94' 'World' 'Hello' '97' '98' 'Hello' 'World']\n"
     ]
    }
   ],
   "source": [
    "# Sustituir los valores\n",
    "for i in N:\n",
    "    if N[i] % 5 == 0 and N[i] % 3 == 0:\n",
    "        N[i] = \"Hello World\"\n",
    "    if N[i] != \"Hello World\" and N[i] % 5 == 0:\n",
    "        N[i] = \"World\"\n",
    "    if N[i] != \"Hello World\" and N[i] != \"World\" and N[i] % 3 == 0:\n",
    "        N[i] = \"Hello\"    \n",
    "\n",
    "print(np.array(N))"
   ]
  },
  {
   "cell_type": "code",
   "execution_count": 17,
   "id": "cbc21d3b-e0cd-48d9-ba05-16bdb2987be0",
   "metadata": {},
   "outputs": [
    {
     "name": "stdout",
     "output_type": "stream",
     "text": [
      "['1' '2' 'Hello' '4' 'World' 'Hello' '7' '8' 'Hello' 'World' '11' 'Hello'\n",
      " '13' '14' 'Hello World' '16' '17' 'Hello' '19' 'World' 'Hello' '22' '23'\n",
      " 'Hello' 'World' '26' 'Hello' '28' '29' 'Hello World' '31' '32' 'Hello'\n",
      " '34' 'World' 'Hello' '37' '38' 'Hello' 'World' '41' 'Hello' '43' '44'\n",
      " 'Hello World' '46' '47' 'Hello' '49' 'World' 'Hello' '52' '53' 'Hello'\n",
      " 'World' '56' 'Hello' '58' '59' 'Hello World' '61' '62' 'Hello' '64'\n",
      " 'World' 'Hello' '67' '68' 'Hello' 'World' '71' 'Hello' '73' '74'\n",
      " 'Hello World' '76' '77' 'Hello' '79' 'World' 'Hello' '82' '83' 'Hello'\n",
      " 'World' '86' 'Hello' '88' '89' 'Hello World' '91' '92' 'Hello' '94'\n",
      " 'World' 'Hello' '97' '98' 'Hello' 'World']\n"
     ]
    }
   ],
   "source": [
    "del N[0]\n",
    "print(np.array(N))"
   ]
  },
  {
   "cell_type": "markdown",
   "id": "13fd95cc-785c-47d7-98a9-06a5cb9ef260",
   "metadata": {},
   "source": [
    "*Creado por:*\n",
    "\n",
    "*Isabel Maniega*"
   ]
  }
 ],
 "metadata": {
  "kernelspec": {
   "display_name": "Python 3 (ipykernel)",
   "language": "python",
   "name": "python3"
  },
  "language_info": {
   "codemirror_mode": {
    "name": "ipython",
    "version": 3
   },
   "file_extension": ".py",
   "mimetype": "text/x-python",
   "name": "python",
   "nbconvert_exporter": "python",
   "pygments_lexer": "ipython3",
   "version": "3.8.19"
  }
 },
 "nbformat": 4,
 "nbformat_minor": 5
}
