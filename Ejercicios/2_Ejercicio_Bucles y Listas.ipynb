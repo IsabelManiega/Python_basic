{
 "cells": [
  {
   "cell_type": "markdown",
   "id": "49aaad0c",
   "metadata": {},
   "source": [
    "*Creado por:*\n",
    "\n",
    "*Isabel Maniega*"
   ]
  },
  {
   "cell_type": "markdown",
   "id": "9fe6ed0d",
   "metadata": {},
   "source": [
    "# Ejercicio 1"
   ]
  },
  {
   "cell_type": "markdown",
   "id": "cefb97a2",
   "metadata": {},
   "source": [
    "Dado el siguiente listado: [\"Python\", \"Matlab\", \"R\", \"VBA\", \"Julia\", \"C++\"]."
   ]
  },
  {
   "cell_type": "markdown",
   "id": "0d1320c5",
   "metadata": {},
   "source": [
    "Modifica con un algoritmo ese listado.\n",
    "* Cuando encuentre Python debe poner un 1\n",
    "* y cuando encuentre otro lenguaje de programacion, un 0"
   ]
  },
  {
   "cell_type": "markdown",
   "id": "a923e3b1",
   "metadata": {},
   "source": [
    "es un simple ejemplo de modificación de valores en una lista"
   ]
  },
  {
   "cell_type": "markdown",
   "id": "4addbf4a",
   "metadata": {},
   "source": [
    "# Ejercicio 2"
   ]
  },
  {
   "cell_type": "markdown",
   "id": "985c63ce",
   "metadata": {},
   "source": [
    "L = [10, None, 8, 5, None, 20]"
   ]
  },
  {
   "cell_type": "markdown",
   "id": "f2e34883",
   "metadata": {},
   "source": [
    "**2.2)** Susitituir por -1 el valor None usando bucles y listas"
   ]
  },
  {
   "cell_type": "markdown",
   "id": "b347bd3e",
   "metadata": {},
   "source": [
    "**2.3)** Creamos un dataframe con los valores de la lista y modificamos los \"NaN\" por un valor de -1 (Valores nulos, suma, etc..)"
   ]
  },
  {
   "cell_type": "code",
   "execution_count": 18,
   "id": "e2992bc2",
   "metadata": {},
   "outputs": [],
   "source": [
    "# Recuerda instalar la libreria con:\n",
    "# pip install pandas\n",
    "import pandas as pd"
   ]
  },
  {
   "cell_type": "markdown",
   "id": "43d96b5f",
   "metadata": {},
   "source": [
    "**2.4)** Vuelve a escribir el listado con falta de valores (inicial), y sustituye por la media."
   ]
  },
  {
   "cell_type": "code",
   "execution_count": 23,
   "id": "dc540a2c",
   "metadata": {},
   "outputs": [],
   "source": [
    "L = [10, None, 8, 5, None, 20]"
   ]
  },
  {
   "cell_type": "markdown",
   "id": "98c42fe5",
   "metadata": {},
   "source": [
    "**2.5)** Apendiza la columna con estos valores"
   ]
  },
  {
   "cell_type": "markdown",
   "id": "b58bdcde",
   "metadata": {},
   "source": [
    "listado2 = [10, 20, 50, 30, 20, 0]"
   ]
  },
  {
   "cell_type": "markdown",
   "id": "3ae98056",
   "metadata": {},
   "source": [
    "**2.6)** Elimina la columna L"
   ]
  },
  {
   "cell_type": "markdown",
   "id": "b5b2fb95",
   "metadata": {},
   "source": [
    "# Ejercicio 3"
   ]
  },
  {
   "cell_type": "markdown",
   "id": "323a9b57",
   "metadata": {},
   "source": [
    "Crear un listado con los siguientes numeros: 10, 20, 30, 40 (nombra la lista con nombre: \"listado\")"
   ]
  },
  {
   "cell_type": "markdown",
   "id": "e009848a",
   "metadata": {},
   "source": [
    "**1)** Crea el listado e imprimelo:"
   ]
  },
  {
   "cell_type": "markdown",
   "id": "a4ed9a94",
   "metadata": {},
   "source": [
    "**2)** Apendiza el valor 50 ( si es posible)"
   ]
  },
  {
   "cell_type": "markdown",
   "id": "ced62edb",
   "metadata": {},
   "source": [
    "**3)** Modifica (si es posible) el valor 10 por 100"
   ]
  },
  {
   "cell_type": "markdown",
   "id": "1be8cf23",
   "metadata": {},
   "source": [
    "****"
   ]
  },
  {
   "cell_type": "markdown",
   "id": "21d8106c",
   "metadata": {},
   "source": [
    "# Ejercicio 4"
   ]
  },
  {
   "cell_type": "markdown",
   "id": "dda67c53",
   "metadata": {},
   "source": [
    "Da una lista de nombre \"Temperatura\" con valores: 10, 20, 30, 40, 50"
   ]
  },
  {
   "cell_type": "markdown",
   "id": "2c208170",
   "metadata": {},
   "source": [
    "**1)** Crea el listado e imprimelo:"
   ]
  },
  {
   "cell_type": "markdown",
   "id": "4babf81d",
   "metadata": {},
   "source": [
    "**2)** En este \"Temperatura\". ¿Cuál es el elemento en la posición (index) 1?"
   ]
  },
  {
   "cell_type": "markdown",
   "id": "ecbdfc97",
   "metadata": {},
   "source": [
    "**3)** ¿Y en la posición (index) 0?"
   ]
  },
  {
   "cell_type": "markdown",
   "id": "452ab50b",
   "metadata": {},
   "source": [
    "**4)** ¿Y en la posición (index) -1?"
   ]
  },
  {
   "cell_type": "markdown",
   "id": "aa39aac3",
   "metadata": {},
   "source": [
    "*Creado por:*\n",
    "\n",
    "*Isabel Maniega*"
   ]
  }
 ],
 "metadata": {
  "kernelspec": {
   "display_name": "Python 3 (ipykernel)",
   "language": "python",
   "name": "python3"
  },
  "language_info": {
   "codemirror_mode": {
    "name": "ipython",
    "version": 3
   },
   "file_extension": ".py",
   "mimetype": "text/x-python",
   "name": "python",
   "nbconvert_exporter": "python",
   "pygments_lexer": "ipython3",
   "version": "3.8.18"
  }
 },
 "nbformat": 4,
 "nbformat_minor": 5
}
