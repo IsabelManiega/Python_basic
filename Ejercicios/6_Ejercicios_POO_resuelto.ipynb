{
 "cells": [
  {
   "cell_type": "markdown",
   "id": "b4679b30",
   "metadata": {},
   "source": [
    "*Creado por:*\n",
    "\n",
    "*Isabel Maniega*"
   ]
  },
  {
   "cell_type": "markdown",
   "id": "57d3e548",
   "metadata": {},
   "source": [
    "# Ejercicios"
   ]
  },
  {
   "cell_type": "markdown",
   "id": "dd300802",
   "metadata": {},
   "source": [
    "**1)** Crea el siguiente programa:\n",
    "* Una clase de nombre Librería\n",
    "* Inicia los siguientes atributos: nombre, sección, editorial y año\n",
    "* Crea una segunda clase con nombre Rosalia que herede la clase librería.\n",
    "* En esta clase Rosalia, crea una función \"result\" cuyo resultado sea los datos de los libros.\n",
    "* declara los Objetos siguientes:\n",
    "    * libro1 --> Oceanarium, Ciencia, Impedimenta, 2021\n",
    "    * libro2 --> 33 Botones, Novela negra, Atlantis, 2022\n",
    "    * libro3 --> Venganza en Compostela, Historia, Universo de letras, 2022"
   ]
  },
  {
   "cell_type": "code",
   "execution_count": 1,
   "id": "bbc1a984",
   "metadata": {},
   "outputs": [],
   "source": [
    "class Libreria:\n",
    "    def __init__(self, nombre, seccion, editorial, año):\n",
    "        self.nombre = nombre\n",
    "        self.seccion = seccion\n",
    "        self.editorial = editorial\n",
    "        self.año = año        "
   ]
  },
  {
   "cell_type": "code",
   "execution_count": 2,
   "id": "46e13de2",
   "metadata": {},
   "outputs": [],
   "source": [
    "class Rosalia(Libreria):\n",
    "    \n",
    "    def result(self):\n",
    "        print(\"Información del libro es %s, de la editorial %s, cuya seccion es %s, del año %s\" \n",
    "              % (self.nombre, self.editorial, self.seccion, self.año))"
   ]
  },
  {
   "cell_type": "code",
   "execution_count": 3,
   "id": "578f3a8d",
   "metadata": {},
   "outputs": [],
   "source": [
    "libro1 = Rosalia(\"Oceanarium\", \"Ciencia\", \"Impedimenta\", 2021)\n",
    "libro2 = Rosalia(\"33 Botones\", \"Novela negra\", \"Atlantis\", 2022)\n",
    "libro3 = Rosalia(\"Venganza en Compostela\", \"Historia\", \"Universo de letras\", 2022)"
   ]
  },
  {
   "cell_type": "code",
   "execution_count": 4,
   "id": "a50376a8",
   "metadata": {},
   "outputs": [
    {
     "name": "stdout",
     "output_type": "stream",
     "text": [
      "Información del libro es Oceanarium, de la editorial Impedimenta, cuya seccion es Ciencia, del año 2021\n"
     ]
    }
   ],
   "source": [
    "libro1.result()"
   ]
  },
  {
   "cell_type": "markdown",
   "id": "839ac91e",
   "metadata": {},
   "source": [
    "**2)** Crea otra libraría de nombre MiLibro, que corresponde a una nueva clase, define una función de nombre misLibros, cuyo resultado sea los datos de los libros:\n",
    "* libro4 --> Mi primera Novela, Novela, Bruño, 2019\n",
    "* libro5 --> Gatos, Literatura, Listado, 2018"
   ]
  },
  {
   "cell_type": "code",
   "execution_count": 5,
   "id": "f493b113",
   "metadata": {},
   "outputs": [],
   "source": [
    "class MiLibro(Libreria):\n",
    "    \n",
    "    def misLibros(self):\n",
    "        print(\"Información del libro es %s, de la editorial %s, cuya seccion es %s, del año %s\" \n",
    "              % (self.nombre, self.editorial, self.seccion, self.año))\n",
    "        \n",
    "    def años(self):\n",
    "        return self.año"
   ]
  },
  {
   "cell_type": "code",
   "execution_count": 6,
   "id": "6d444bef",
   "metadata": {},
   "outputs": [],
   "source": [
    "libro4 = MiLibro(\"Mi primera Novela\", \"Novela\", \"Bruño\", 2019)\n",
    "libro5 = MiLibro(\"Gatos\", \"Literatura\", \"Listado\", 2018)"
   ]
  },
  {
   "cell_type": "code",
   "execution_count": 7,
   "id": "fa00714d",
   "metadata": {},
   "outputs": [
    {
     "name": "stdout",
     "output_type": "stream",
     "text": [
      "Información del libro es Mi primera Novela, de la editorial Bruño, cuya seccion es Novela, del año 2019\n"
     ]
    }
   ],
   "source": [
    "libro4.misLibros()"
   ]
  },
  {
   "cell_type": "markdown",
   "id": "9a6e14fa",
   "metadata": {},
   "source": [
    "* Realiza la media de los años de los libros 4 y 5"
   ]
  },
  {
   "cell_type": "code",
   "execution_count": 8,
   "id": "81076f20",
   "metadata": {},
   "outputs": [
    {
     "data": {
      "text/plain": [
       "2018.5"
      ]
     },
     "execution_count": 8,
     "metadata": {},
     "output_type": "execute_result"
    }
   ],
   "source": [
    "media = (libro4.años() + libro5.años())/2\n",
    "media"
   ]
  },
  {
   "cell_type": "markdown",
   "id": "59ecc045",
   "metadata": {},
   "source": [
    "**3)** Crea una clase llamada Persona. Sus atributos son: nombre, edad y DNI. Construye los siguientes métodos para la clase:\n",
    "\n",
    "* Un constructor, donde los datos pueden estar vacíos.\n",
    "* mostrar(): Muestra los datos de la persona.\n",
    "* esMayorDeEdad(): Devuelve un valor indicando si es mayor de edad."
   ]
  },
  {
   "cell_type": "code",
   "execution_count": 2,
   "id": "26f24d47",
   "metadata": {},
   "outputs": [],
   "source": [
    "class Persona:\n",
    "    \n",
    "    def __init__(self, nombre, edad, DNI):\n",
    "        self.nombre = nombre\n",
    "        self.edad = edad\n",
    "        self.DNI = DNI\n",
    "    \n",
    "    def mostrar(self):\n",
    "        print(\"Nombre:\"+self.nombre+\" - Edad:\"+str(self.edad)+\" - DNI:\"+self.DNI)\n",
    "        \n",
    "        \n",
    "    def esMayorDeEdad(self):\n",
    "        return self.edad>=18"
   ]
  },
  {
   "cell_type": "code",
   "execution_count": 10,
   "id": "d68074d7",
   "metadata": {},
   "outputs": [],
   "source": [
    "persona1 = Persona(\"Juan García\", 15, \"74152864W\")\n",
    "persona2 = Persona(\"María Perez\", 20, \"29152875W\")"
   ]
  },
  {
   "cell_type": "code",
   "execution_count": 11,
   "id": "1d8ec743",
   "metadata": {},
   "outputs": [
    {
     "name": "stdout",
     "output_type": "stream",
     "text": [
      "Nombre:Juan García - Edad:15 - DNI:74152864W\n"
     ]
    }
   ],
   "source": [
    "persona1.mostrar()"
   ]
  },
  {
   "cell_type": "code",
   "execution_count": 12,
   "id": "417d1145",
   "metadata": {},
   "outputs": [
    {
     "name": "stdout",
     "output_type": "stream",
     "text": [
      "Nombre:María Perez - Edad:20 - DNI:29152875W\n"
     ]
    }
   ],
   "source": [
    "persona2.mostrar()"
   ]
  },
  {
   "cell_type": "code",
   "execution_count": 13,
   "id": "322b0ae6",
   "metadata": {},
   "outputs": [
    {
     "data": {
      "text/plain": [
       "False"
      ]
     },
     "execution_count": 13,
     "metadata": {},
     "output_type": "execute_result"
    }
   ],
   "source": [
    "persona1.esMayorDeEdad()"
   ]
  },
  {
   "cell_type": "code",
   "execution_count": 14,
   "id": "7f08d2fa",
   "metadata": {},
   "outputs": [
    {
     "data": {
      "text/plain": [
       "True"
      ]
     },
     "execution_count": 14,
     "metadata": {},
     "output_type": "execute_result"
    }
   ],
   "source": [
    "persona2.esMayorDeEdad()"
   ]
  },
  {
   "cell_type": "markdown",
   "id": "d3788c2c",
   "metadata": {},
   "source": [
    "**4)** Crea una clase llamada Cuenta que tendrá los siguientes atributos: titular (que es una persona) y cantidad (puede tener decimales). El titular será obligatorio y la cantidad es opcional. Construye los siguientes métodos para la clase:\n",
    "\n",
    "* Un constructor, donde los datos pueden estar vacíos.\n",
    "* El atributo no se puede modificar directamente, sólo ingresando o retirando dinero.\n",
    "* mostrar(): Muestra los datos de la cuenta.\n",
    "* ingresar(cantidad): se ingresa una cantidad a la cuenta, si la cantidad introducida es negativa, no se hará nada.\n",
    "* retirar(cantidad): se retira una cantidad a la cuenta. La cuenta puede estar en números rojos si es saldo negativo."
   ]
  },
  {
   "cell_type": "code",
   "execution_count": 3,
   "id": "2b907d84",
   "metadata": {},
   "outputs": [],
   "source": [
    "class Cuenta(Persona):\n",
    "\n",
    "    def __init__(self,titular,cantidad=0):\n",
    "        self.titular=titular\n",
    "        self.cantidad=cantidad\n",
    "       \n",
    "    def mostrar(self):\n",
    "        return \"Titular de la cuenta: \"+self.titular +\" - Cantidad: \"+str(self.cantidad)\n",
    "    \n",
    "    def ingresar(self,cantidad):\n",
    "        if cantidad > 0:\n",
    "            self.cantidad = self.cantidad + cantidad\n",
    "    \n",
    "    def retirar(self,cantidad):\n",
    "        if cantidad > 0:\n",
    "            self.cantidad = self.cantidad - cantidad\n",
    "            \n",
    "        if self.cantidad < 0:\n",
    "            return f\"ATENCIÓN! La cuenta está en números rojos: {self.cantidad}\"\n"
   ]
  },
  {
   "cell_type": "code",
   "execution_count": 16,
   "id": "0cd04562",
   "metadata": {},
   "outputs": [],
   "source": [
    "titular1 = Cuenta(\"José Rodríguez\")"
   ]
  },
  {
   "cell_type": "code",
   "execution_count": 17,
   "id": "cbdbc62d",
   "metadata": {},
   "outputs": [
    {
     "data": {
      "text/plain": [
       "'Titular de la cuenta: José Rodríguez - Cantidad: 0'"
      ]
     },
     "execution_count": 17,
     "metadata": {},
     "output_type": "execute_result"
    }
   ],
   "source": [
    "titular1.mostrar()"
   ]
  },
  {
   "cell_type": "markdown",
   "id": "37fb9d43",
   "metadata": {},
   "source": [
    "* Ingresar en positivo"
   ]
  },
  {
   "cell_type": "code",
   "execution_count": 18,
   "id": "a2f2b5d5",
   "metadata": {},
   "outputs": [],
   "source": [
    "titular1.ingresar(20)"
   ]
  },
  {
   "cell_type": "code",
   "execution_count": 19,
   "id": "648e00a7",
   "metadata": {},
   "outputs": [
    {
     "data": {
      "text/plain": [
       "'Titular de la cuenta: José Rodríguez - Cantidad: 20'"
      ]
     },
     "execution_count": 19,
     "metadata": {},
     "output_type": "execute_result"
    }
   ],
   "source": [
    "titular1.mostrar()"
   ]
  },
  {
   "cell_type": "markdown",
   "id": "529f6eed",
   "metadata": {},
   "source": [
    "* Ingresar en negativo"
   ]
  },
  {
   "cell_type": "code",
   "execution_count": 20,
   "id": "4f46a6af",
   "metadata": {},
   "outputs": [],
   "source": [
    "titular1.ingresar(-10)"
   ]
  },
  {
   "cell_type": "code",
   "execution_count": 21,
   "id": "daaabcec",
   "metadata": {},
   "outputs": [
    {
     "data": {
      "text/plain": [
       "'Titular de la cuenta: José Rodríguez - Cantidad: 20'"
      ]
     },
     "execution_count": 21,
     "metadata": {},
     "output_type": "execute_result"
    }
   ],
   "source": [
    "titular1.mostrar()"
   ]
  },
  {
   "cell_type": "markdown",
   "id": "ae7ed299",
   "metadata": {},
   "source": [
    "* Retirar dinero"
   ]
  },
  {
   "cell_type": "code",
   "execution_count": 22,
   "id": "b40c68c0",
   "metadata": {},
   "outputs": [],
   "source": [
    "titular1.retirar(5)"
   ]
  },
  {
   "cell_type": "code",
   "execution_count": 23,
   "id": "3517b247",
   "metadata": {},
   "outputs": [
    {
     "data": {
      "text/plain": [
       "'Titular de la cuenta: José Rodríguez - Cantidad: 15'"
      ]
     },
     "execution_count": 23,
     "metadata": {},
     "output_type": "execute_result"
    }
   ],
   "source": [
    "titular1.mostrar()"
   ]
  },
  {
   "cell_type": "markdown",
   "id": "8206e883",
   "metadata": {},
   "source": [
    "* Retirar dinero en numeros rojos"
   ]
  },
  {
   "cell_type": "code",
   "execution_count": 24,
   "id": "8d6f5653",
   "metadata": {},
   "outputs": [
    {
     "data": {
      "text/plain": [
       "'ATENCIÓN! La cuenta está en números rojos: -5'"
      ]
     },
     "execution_count": 24,
     "metadata": {},
     "output_type": "execute_result"
    }
   ],
   "source": [
    "titular1.retirar(20)"
   ]
  },
  {
   "cell_type": "code",
   "execution_count": 25,
   "id": "23837c21",
   "metadata": {},
   "outputs": [
    {
     "data": {
      "text/plain": [
       "'Titular de la cuenta: José Rodríguez - Cantidad: -5'"
      ]
     },
     "execution_count": 25,
     "metadata": {},
     "output_type": "execute_result"
    }
   ],
   "source": [
    "titular1.mostrar()"
   ]
  },
  {
   "cell_type": "markdown",
   "id": "eab30154",
   "metadata": {},
   "source": [
    "**5)** Vamos a definir ahora una “Cuenta Joven”, para ello vamos a crear una nueva clase CuantaJoven que deriva de la anterior. Cuando se crea esta nueva clase, además del titular y la cantidad se debe guardar una bonificación que estará expresada en tanto por ciento.Construye los siguientes métodos para la clase:\n",
    "\n",
    "* Un constructor.\n",
    "* En esta ocasión los titulares de este tipo de cuenta tienen que ser mayor de edad., por lo tanto hay que crear un método esTitularValido() que devuelve verdadero si el titular es mayor de edad pero menor de 25 años y falso en caso contrario.\n",
    "* Además la retirada de dinero sólo se podrá hacer si el titular es válido.\n",
    "* El método mostrar() debe devolver el mensaje de “Cuenta Joven” y la bonificación de la cuenta.\n",
    "* Piensa los métodos heredados de la clase madre que hay que reescribir."
   ]
  },
  {
   "cell_type": "code",
   "execution_count": 7,
   "id": "3320a169",
   "metadata": {},
   "outputs": [],
   "source": [
    "class CuentaJoven(Cuenta):\n",
    "\n",
    "    def __init__(self,titular, edad, cantidad=0, bonificacion=0):\n",
    "        super().__init__(titular,cantidad)\n",
    "        self.bonificacion=bonificacion\n",
    "        self.edad = edad\n",
    "\n",
    "    def mostrar(self):\n",
    "        return \"-Cuenta Joven- \"+\"Titular:\"+self.titular +\" - Cantidad:\"+str(self.cantidad)+ \"- Bonificación:\"+str(self.bonificacion)+\"%\"\n",
    "   \n",
    "    def esTitularValido(self):\n",
    "        return self.edad < 25 and self.esMayorDeEdad()\n",
    "    \n",
    "    def retirar(self,cantidad):\n",
    "        if not self.esTitularValido():\n",
    "            print (\"No puesdes retirar el dinero. titular no válido\")\n",
    "        elif cantidad > 0:\n",
    "            super().retirar(cantidad)\n"
   ]
  },
  {
   "cell_type": "code",
   "execution_count": 8,
   "id": "c7b15ef4",
   "metadata": {},
   "outputs": [],
   "source": [
    "titular2 = CuentaJoven(\"Pedro Alonso\", 30)\n",
    "titular3 = CuentaJoven(\"Lorena García\", 20, 200, 5)"
   ]
  },
  {
   "cell_type": "markdown",
   "id": "aea43be0",
   "metadata": {},
   "source": [
    "* Mayor de edad"
   ]
  },
  {
   "cell_type": "code",
   "execution_count": 9,
   "id": "4ef68d6e",
   "metadata": {},
   "outputs": [
    {
     "data": {
      "text/plain": [
       "'-Cuenta Joven- Titular:Pedro Alonso - Cantidad:0- Bonificación:0%'"
      ]
     },
     "execution_count": 9,
     "metadata": {},
     "output_type": "execute_result"
    }
   ],
   "source": [
    "titular2.mostrar()"
   ]
  },
  {
   "cell_type": "code",
   "execution_count": 10,
   "id": "0aa00a72",
   "metadata": {},
   "outputs": [],
   "source": [
    "titular2.ingresar(100)"
   ]
  },
  {
   "cell_type": "code",
   "execution_count": 11,
   "id": "ad86a78d",
   "metadata": {},
   "outputs": [
    {
     "data": {
      "text/plain": [
       "'-Cuenta Joven- Titular:Pedro Alonso - Cantidad:100- Bonificación:0%'"
      ]
     },
     "execution_count": 11,
     "metadata": {},
     "output_type": "execute_result"
    }
   ],
   "source": [
    "titular2.mostrar()"
   ]
  },
  {
   "cell_type": "code",
   "execution_count": 12,
   "id": "f81a7454",
   "metadata": {},
   "outputs": [
    {
     "name": "stdout",
     "output_type": "stream",
     "text": [
      "No puesdes retirar el dinero. titular no válido\n"
     ]
    }
   ],
   "source": [
    "titular2.retirar(10)"
   ]
  },
  {
   "cell_type": "markdown",
   "id": "e8047328",
   "metadata": {},
   "source": [
    "* Menor de edad"
   ]
  },
  {
   "cell_type": "code",
   "execution_count": 32,
   "id": "cc06236b",
   "metadata": {},
   "outputs": [],
   "source": [
    "titular3.ingresar(1000)"
   ]
  },
  {
   "cell_type": "code",
   "execution_count": 33,
   "id": "ce331e00",
   "metadata": {},
   "outputs": [
    {
     "data": {
      "text/plain": [
       "'-Cuenta Joven- Titular:Lorena García - Cantidad:1200- Bonificación:5%'"
      ]
     },
     "execution_count": 33,
     "metadata": {},
     "output_type": "execute_result"
    }
   ],
   "source": [
    "titular3.mostrar()"
   ]
  },
  {
   "cell_type": "code",
   "execution_count": 34,
   "id": "4e5c3c29",
   "metadata": {},
   "outputs": [],
   "source": [
    "titular3.retirar(200)"
   ]
  },
  {
   "cell_type": "code",
   "execution_count": 35,
   "id": "08ab4c70",
   "metadata": {},
   "outputs": [
    {
     "data": {
      "text/plain": [
       "'-Cuenta Joven- Titular:Lorena García - Cantidad:1000- Bonificación:5%'"
      ]
     },
     "execution_count": 35,
     "metadata": {},
     "output_type": "execute_result"
    }
   ],
   "source": [
    "titular3.mostrar()"
   ]
  },
  {
   "cell_type": "markdown",
   "id": "0ec140b2",
   "metadata": {},
   "source": [
    "*Creado por:*\n",
    "\n",
    "*Isabel Maniega*"
   ]
  }
 ],
 "metadata": {
  "kernelspec": {
   "display_name": "Python 3 (ipykernel)",
   "language": "python",
   "name": "python3"
  },
  "language_info": {
   "codemirror_mode": {
    "name": "ipython",
    "version": 3
   },
   "file_extension": ".py",
   "mimetype": "text/x-python",
   "name": "python",
   "nbconvert_exporter": "python",
   "pygments_lexer": "ipython3",
   "version": "3.8.18"
  }
 },
 "nbformat": 4,
 "nbformat_minor": 5
}
