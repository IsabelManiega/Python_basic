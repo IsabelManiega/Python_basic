{
 "cells": [
  {
   "cell_type": "markdown",
   "id": "1902ec0a",
   "metadata": {},
   "source": [
    "*Creado por:*\n",
    "    \n",
    "*Isabel Maniega*"
   ]
  },
  {
   "cell_type": "markdown",
   "id": "98c97d54",
   "metadata": {},
   "source": [
    "# Ejercicio 1"
   ]
  },
  {
   "cell_type": "markdown",
   "id": "02d0ecb5",
   "metadata": {},
   "source": [
    "Describe una variable con nombre \"notas\" que tenga el valor de -3, muestra su valor."
   ]
  },
  {
   "cell_type": "code",
   "execution_count": 1,
   "id": "6917816e",
   "metadata": {},
   "outputs": [
    {
     "data": {
      "text/plain": [
       "-3"
      ]
     },
     "execution_count": 1,
     "metadata": {},
     "output_type": "execute_result"
    }
   ],
   "source": [
    "notas = -3\n",
    "notas"
   ]
  },
  {
   "cell_type": "markdown",
   "id": "d1a89f17",
   "metadata": {},
   "source": [
    "# Ejercicio 2"
   ]
  },
  {
   "cell_type": "markdown",
   "id": "21fad97d",
   "metadata": {},
   "source": [
    "Imprime los valores de \"s\" es igual 25, de \"y\" es igual a 10, poniendo la siguiente salida:\n",
    "    El valor de \"s\" es \"valor de s\" y el valor de y es \"valor de y\""
   ]
  },
  {
   "cell_type": "code",
   "execution_count": 2,
   "id": "d6897ce5",
   "metadata": {},
   "outputs": [
    {
     "name": "stdout",
     "output_type": "stream",
     "text": [
      "el valor de s es 25 y el valor de y es 10\n",
      "el valor de s es 25 y el valor de y es 10\n",
      "el valor de s es  25  y el valor de y es  10\n",
      "el valor de s es 25 y el valor de y es 10\n"
     ]
    }
   ],
   "source": [
    "s = 25\n",
    "y = 10\n",
    "print(f'el valor de s es {s} y el valor de y es {y}')\n",
    "print('el valor de s es ' + str(s) + ' y el valor de y es ' + str(y))\n",
    "print('el valor de s es ', s, ' y el valor de y es ', y)\n",
    "print('el valor de s es %s y el valor de y es %s' %(s, y))"
   ]
  },
  {
   "cell_type": "markdown",
   "id": "b87fe420",
   "metadata": {},
   "source": [
    "# Ejercicio 3"
   ]
  },
  {
   "cell_type": "markdown",
   "id": "3ab3c667",
   "metadata": {},
   "source": [
    "Declarar una variable con nombre \"name\", que tenga el valor de Juan \"El profesor\""
   ]
  },
  {
   "cell_type": "code",
   "execution_count": 13,
   "id": "fa590f56",
   "metadata": {},
   "outputs": [
    {
     "data": {
      "text/plain": [
       "\"Juan 'El profesor'\""
      ]
     },
     "execution_count": 13,
     "metadata": {},
     "output_type": "execute_result"
    }
   ],
   "source": [
    "name = \"Juan 'El profesor'\"\n",
    "name"
   ]
  },
  {
   "cell_type": "markdown",
   "id": "94129caa",
   "metadata": {},
   "source": [
    "# Ejercicio 4"
   ]
  },
  {
   "cell_type": "markdown",
   "id": "2aff5ac4",
   "metadata": {},
   "source": [
    "Concatena las siguientes palabras formando un sola: Juan \"El profesor\""
   ]
  },
  {
   "cell_type": "code",
   "execution_count": 14,
   "id": "882a8ef7",
   "metadata": {},
   "outputs": [
    {
     "data": {
      "text/plain": [
       "\"Juan 'El profesor'\""
      ]
     },
     "execution_count": 14,
     "metadata": {},
     "output_type": "execute_result"
    }
   ],
   "source": [
    "name = \"Juan\"  + \" \" + \"'El profesor'\"\n",
    "name"
   ]
  },
  {
   "cell_type": "code",
   "execution_count": 15,
   "id": "6cdebc90",
   "metadata": {},
   "outputs": [
    {
     "data": {
      "text/plain": [
       "\"Juan 'El profesor'\""
      ]
     },
     "execution_count": 15,
     "metadata": {},
     "output_type": "execute_result"
    }
   ],
   "source": [
    "name = \"Juan \" + \"'El profesor'\"\n",
    "name"
   ]
  },
  {
   "cell_type": "markdown",
   "id": "9c2e2605",
   "metadata": {},
   "source": [
    "# Ejercicio 5"
   ]
  },
  {
   "cell_type": "markdown",
   "id": "82a4215c",
   "metadata": {},
   "source": [
    "Teniendo la siguientes palabras: no cuentes los días, haz que los días cuenten"
   ]
  },
  {
   "cell_type": "code",
   "execution_count": 16,
   "id": "4073be0d",
   "metadata": {},
   "outputs": [],
   "source": [
    "frase = \"no cuentes los días, haz que los días cuenten\""
   ]
  },
  {
   "cell_type": "markdown",
   "id": "e817694d",
   "metadata": {},
   "source": [
    "· Pon las primeras letras de cada palabra en mayúsculas:"
   ]
  },
  {
   "cell_type": "code",
   "execution_count": 17,
   "id": "d44ff45c",
   "metadata": {},
   "outputs": [
    {
     "data": {
      "text/plain": [
       "'No Cuentes Los Días, Haz Que Los Días Cuenten'"
      ]
     },
     "execution_count": 17,
     "metadata": {},
     "output_type": "execute_result"
    }
   ],
   "source": [
    "frase = frase.title()\n",
    "frase"
   ]
  },
  {
   "cell_type": "markdown",
   "id": "122d3b2b",
   "metadata": {},
   "source": [
    "· Pon todas las letras en mayúsculas:"
   ]
  },
  {
   "cell_type": "code",
   "execution_count": 18,
   "id": "e7ae4633",
   "metadata": {},
   "outputs": [
    {
     "data": {
      "text/plain": [
       "'NO CUENTES LOS DÍAS, HAZ QUE LOS DÍAS CUENTEN'"
      ]
     },
     "execution_count": 18,
     "metadata": {},
     "output_type": "execute_result"
    }
   ],
   "source": [
    "frase = frase.upper()\n",
    "frase"
   ]
  },
  {
   "cell_type": "markdown",
   "id": "a5c47e57",
   "metadata": {},
   "source": [
    "· Pon todas las letras en minúculas"
   ]
  },
  {
   "cell_type": "code",
   "execution_count": 19,
   "id": "b14d52ac",
   "metadata": {},
   "outputs": [
    {
     "data": {
      "text/plain": [
       "'no cuentes los días, haz que los días cuenten'"
      ]
     },
     "execution_count": 19,
     "metadata": {},
     "output_type": "execute_result"
    }
   ],
   "source": [
    "frase = frase.lower()\n",
    "frase"
   ]
  },
  {
   "cell_type": "markdown",
   "id": "f5ff99f0",
   "metadata": {},
   "source": [
    "# Ejercicio 6"
   ]
  },
  {
   "cell_type": "markdown",
   "id": "2d6ce723",
   "metadata": {},
   "source": [
    "Realiza la suma de 26 y 35:"
   ]
  },
  {
   "cell_type": "code",
   "execution_count": 20,
   "id": "0a3b8f4a",
   "metadata": {},
   "outputs": [
    {
     "data": {
      "text/plain": [
       "61"
      ]
     },
     "execution_count": 20,
     "metadata": {},
     "output_type": "execute_result"
    }
   ],
   "source": [
    "suma = 26 + 35\n",
    "suma"
   ]
  },
  {
   "cell_type": "markdown",
   "id": "e76a972d",
   "metadata": {},
   "source": [
    "Realiza la multiplicación de 26 y 35:"
   ]
  },
  {
   "cell_type": "code",
   "execution_count": 21,
   "id": "9ddfd899",
   "metadata": {},
   "outputs": [
    {
     "data": {
      "text/plain": [
       "910"
      ]
     },
     "execution_count": 21,
     "metadata": {},
     "output_type": "execute_result"
    }
   ],
   "source": [
    "multiplicacion = 26 * 35\n",
    "multiplicacion"
   ]
  },
  {
   "cell_type": "markdown",
   "id": "0090acb7",
   "metadata": {},
   "source": [
    "Realiza la operación de 2 + 32 por 10:"
   ]
  },
  {
   "cell_type": "code",
   "execution_count": 22,
   "id": "9f55258a",
   "metadata": {},
   "outputs": [
    {
     "data": {
      "text/plain": [
       "322"
      ]
     },
     "execution_count": 22,
     "metadata": {},
     "output_type": "execute_result"
    }
   ],
   "source": [
    "operacion = 2 + 32 * 10\n",
    "operacion"
   ]
  },
  {
   "cell_type": "code",
   "execution_count": 1,
   "id": "f88be4b8-bc78-4fb5-8275-f34e3f3937eb",
   "metadata": {},
   "outputs": [
    {
     "data": {
      "text/plain": [
       "340"
      ]
     },
     "execution_count": 1,
     "metadata": {},
     "output_type": "execute_result"
    }
   ],
   "source": [
    "operacion = (2 + 32) * 10\n",
    "operacion"
   ]
  },
  {
   "cell_type": "markdown",
   "id": "ee4e32ca",
   "metadata": {},
   "source": [
    "Saca el resultado de 3 elevado a 9"
   ]
  },
  {
   "cell_type": "code",
   "execution_count": 24,
   "id": "81afc284",
   "metadata": {},
   "outputs": [
    {
     "data": {
      "text/plain": [
       "19683"
      ]
     },
     "execution_count": 24,
     "metadata": {},
     "output_type": "execute_result"
    }
   ],
   "source": [
    "elevado = 3 ** 9\n",
    "elevado"
   ]
  },
  {
   "cell_type": "markdown",
   "id": "3203190f",
   "metadata": {},
   "source": [
    "Redondea el resultado anterior a dos decimales"
   ]
  },
  {
   "cell_type": "code",
   "execution_count": 25,
   "id": "702d75b9",
   "metadata": {},
   "outputs": [
    {
     "data": {
      "text/plain": [
       "19683"
      ]
     },
     "execution_count": 25,
     "metadata": {},
     "output_type": "execute_result"
    }
   ],
   "source": [
    "elevado = round(elevado, 2)\n",
    "elevado"
   ]
  },
  {
   "cell_type": "markdown",
   "id": "06f1a0be",
   "metadata": {},
   "source": [
    "Muestra de que tipo se trata"
   ]
  },
  {
   "cell_type": "code",
   "execution_count": 26,
   "id": "8ece3f80",
   "metadata": {},
   "outputs": [
    {
     "data": {
      "text/plain": [
       "int"
      ]
     },
     "execution_count": 26,
     "metadata": {},
     "output_type": "execute_result"
    }
   ],
   "source": [
    "type(elevado)"
   ]
  },
  {
   "cell_type": "markdown",
   "id": "e184e2b6",
   "metadata": {},
   "source": [
    "# Ejercicio 7"
   ]
  },
  {
   "cell_type": "markdown",
   "id": "b79d004e",
   "metadata": {},
   "source": [
    "Saca el valor absoluto de -32"
   ]
  },
  {
   "cell_type": "code",
   "execution_count": 27,
   "id": "b016115f",
   "metadata": {},
   "outputs": [
    {
     "data": {
      "text/plain": [
       "32"
      ]
     },
     "execution_count": 27,
     "metadata": {},
     "output_type": "execute_result"
    }
   ],
   "source": [
    "absoluto = abs(-32)\n",
    "absoluto"
   ]
  },
  {
   "cell_type": "markdown",
   "id": "97b6dbeb",
   "metadata": {},
   "source": [
    "Muestra el máximo y el mínimo de (3, -6, 4, -10, 2.6666)"
   ]
  },
  {
   "cell_type": "code",
   "execution_count": 28,
   "id": "8656126a",
   "metadata": {},
   "outputs": [
    {
     "data": {
      "text/plain": [
       "[3, -6, 4, -10, 2.6666]"
      ]
     },
     "execution_count": 28,
     "metadata": {},
     "output_type": "execute_result"
    }
   ],
   "source": [
    "L = [3, -6, 4, -10, 2.6666]\n",
    "L"
   ]
  },
  {
   "cell_type": "code",
   "execution_count": 29,
   "id": "657b0b53",
   "metadata": {},
   "outputs": [
    {
     "data": {
      "text/plain": [
       "(4, -10)"
      ]
     },
     "execution_count": 29,
     "metadata": {},
     "output_type": "execute_result"
    }
   ],
   "source": [
    "max(L), min(L)"
   ]
  },
  {
   "cell_type": "markdown",
   "id": "22086351",
   "metadata": {},
   "source": [
    "# Ejercicio 8"
   ]
  },
  {
   "cell_type": "markdown",
   "id": "6f235720",
   "metadata": {},
   "source": [
    "Tratar de reemplazar los valores que faltan en este listado --> por un -1"
   ]
  },
  {
   "cell_type": "markdown",
   "id": "e2c50569",
   "metadata": {},
   "source": [
    "L = [10, None, 8, 5, None, 20]"
   ]
  },
  {
   "cell_type": "markdown",
   "id": "cde8a14c",
   "metadata": {},
   "source": [
    "**1) Hazlo de la forma más fácil posible teniendo en cuenta la posición (index) de esos valores.**"
   ]
  },
  {
   "cell_type": "code",
   "execution_count": 1,
   "id": "3e27e13e",
   "metadata": {},
   "outputs": [],
   "source": [
    "L = [10, None, 8, 5, None, 20]"
   ]
  },
  {
   "cell_type": "code",
   "execution_count": 2,
   "id": "cf09e208",
   "metadata": {},
   "outputs": [],
   "source": [
    "L[1] = -1"
   ]
  },
  {
   "cell_type": "code",
   "execution_count": 3,
   "id": "bf2c9627",
   "metadata": {},
   "outputs": [
    {
     "data": {
      "text/plain": [
       "[10, -1, 8, 5, -1, 20]"
      ]
     },
     "execution_count": 3,
     "metadata": {},
     "output_type": "execute_result"
    }
   ],
   "source": [
    "L[-2] = -1\n",
    "L"
   ]
  },
  {
   "cell_type": "markdown",
   "id": "889f56a4",
   "metadata": {},
   "source": [
    "**2) Crea un dataframe con esos valores (L = [10, None, 8, 5, None, 20])**"
   ]
  },
  {
   "cell_type": "code",
   "execution_count": 4,
   "id": "05b4dad7",
   "metadata": {},
   "outputs": [],
   "source": [
    "# recuerda instalar pandas si es necesario:\n",
    "# pip install pandas"
   ]
  },
  {
   "cell_type": "code",
   "execution_count": 4,
   "id": "52fccef3",
   "metadata": {},
   "outputs": [],
   "source": [
    "import pandas as pd"
   ]
  },
  {
   "cell_type": "code",
   "execution_count": 5,
   "id": "d968064b",
   "metadata": {},
   "outputs": [],
   "source": [
    "L = [10, None, 8, 5, None, 20]"
   ]
  },
  {
   "cell_type": "code",
   "execution_count": 8,
   "id": "b90f5f2e",
   "metadata": {},
   "outputs": [],
   "source": [
    "df = pd.DataFrame(L)"
   ]
  },
  {
   "cell_type": "code",
   "execution_count": 9,
   "id": "410faa65",
   "metadata": {},
   "outputs": [
    {
     "data": {
      "text/html": [
       "<div>\n",
       "<style scoped>\n",
       "    .dataframe tbody tr th:only-of-type {\n",
       "        vertical-align: middle;\n",
       "    }\n",
       "\n",
       "    .dataframe tbody tr th {\n",
       "        vertical-align: top;\n",
       "    }\n",
       "\n",
       "    .dataframe thead th {\n",
       "        text-align: right;\n",
       "    }\n",
       "</style>\n",
       "<table border=\"1\" class=\"dataframe\">\n",
       "  <thead>\n",
       "    <tr style=\"text-align: right;\">\n",
       "      <th></th>\n",
       "      <th>0</th>\n",
       "    </tr>\n",
       "  </thead>\n",
       "  <tbody>\n",
       "    <tr>\n",
       "      <th>0</th>\n",
       "      <td>10.0</td>\n",
       "    </tr>\n",
       "    <tr>\n",
       "      <th>1</th>\n",
       "      <td>NaN</td>\n",
       "    </tr>\n",
       "    <tr>\n",
       "      <th>2</th>\n",
       "      <td>8.0</td>\n",
       "    </tr>\n",
       "    <tr>\n",
       "      <th>3</th>\n",
       "      <td>5.0</td>\n",
       "    </tr>\n",
       "    <tr>\n",
       "      <th>4</th>\n",
       "      <td>NaN</td>\n",
       "    </tr>\n",
       "    <tr>\n",
       "      <th>5</th>\n",
       "      <td>20.0</td>\n",
       "    </tr>\n",
       "  </tbody>\n",
       "</table>\n",
       "</div>"
      ],
      "text/plain": [
       "      0\n",
       "0  10.0\n",
       "1   NaN\n",
       "2   8.0\n",
       "3   5.0\n",
       "4   NaN\n",
       "5  20.0"
      ]
     },
     "execution_count": 9,
     "metadata": {},
     "output_type": "execute_result"
    }
   ],
   "source": [
    "df"
   ]
  },
  {
   "cell_type": "markdown",
   "id": "1fc68c18",
   "metadata": {},
   "source": [
    "*Creado por:*\n",
    "    \n",
    "*Isabel Maniega*"
   ]
  }
 ],
 "metadata": {
  "kernelspec": {
   "display_name": "Python 3 (ipykernel)",
   "language": "python",
   "name": "python3"
  },
  "language_info": {
   "codemirror_mode": {
    "name": "ipython",
    "version": 3
   },
   "file_extension": ".py",
   "mimetype": "text/x-python",
   "name": "python",
   "nbconvert_exporter": "python",
   "pygments_lexer": "ipython3",
   "version": "3.8.18"
  }
 },
 "nbformat": 4,
 "nbformat_minor": 5
}
