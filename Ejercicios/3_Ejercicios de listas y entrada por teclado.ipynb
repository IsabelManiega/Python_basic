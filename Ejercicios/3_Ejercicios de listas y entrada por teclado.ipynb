{
 "cells": [
  {
   "cell_type": "markdown",
   "id": "30a55ef2",
   "metadata": {},
   "source": [
    "*Creado por:*\n",
    "\n",
    "*Isabel Maniega*"
   ]
  },
  {
   "cell_type": "markdown",
   "id": "5e997ed2",
   "metadata": {},
   "source": [
    "# Ejercicio 1"
   ]
  },
  {
   "cell_type": "markdown",
   "id": "c3a051fb",
   "metadata": {},
   "source": [
    "Dada una lista de nombre \"listado\" y con valores: 10,20,30,40,50"
   ]
  },
  {
   "cell_type": "markdown",
   "id": "f2ef223e",
   "metadata": {},
   "source": [
    "**1)**\n",
    "\n",
    "Crea un pequeño programa capaz de conseguir el orden inverso de los números de \"listado\""
   ]
  },
  {
   "cell_type": "code",
   "execution_count": 1,
   "id": "83dac1d9",
   "metadata": {},
   "outputs": [],
   "source": [
    "# imprime nuevamente el listado para tenerlo \"a mano\"\n",
    "# 10-20-30-40-50 (tengo)\n",
    "# 50-40-30-20-10 (lo que busco)"
   ]
  },
  {
   "cell_type": "code",
   "execution_count": 2,
   "id": "7d1b9dcb",
   "metadata": {},
   "outputs": [],
   "source": [
    "# necesitas instalar con:\n",
    "# pip install numpy\n",
    "import numpy as np"
   ]
  },
  {
   "cell_type": "markdown",
   "id": "3b67e062",
   "metadata": {},
   "source": [
    "# Ejercicio 2"
   ]
  },
  {
   "cell_type": "markdown",
   "id": "3021c48f",
   "metadata": {},
   "source": [
    "Programa que coge por teclado 5 números y los almacena en una lista\n",
    "\n",
    "Nota: \n",
    "\n",
    "debería estar en la misma celda\n",
    "\n",
    "Hazlo como puedas, discurre cómo sería.."
   ]
  },
  {
   "cell_type": "markdown",
   "id": "ad206fd8",
   "metadata": {},
   "source": [
    "# Ejercicio 3"
   ]
  },
  {
   "cell_type": "markdown",
   "id": "c471472d",
   "metadata": {},
   "source": [
    "Programa que coge por teclado una frase y es capaz de decir cuántas vocales hay\n",
    "\n",
    "Nota: asume que son letras minúsculas sin tildes."
   ]
  },
  {
   "cell_type": "markdown",
   "id": "f3d748f6",
   "metadata": {},
   "source": [
    "**1)**\n",
    "\n",
    "Entrada de texto por teclado"
   ]
  },
  {
   "cell_type": "markdown",
   "id": "cd958281",
   "metadata": {},
   "source": [
    "**2)**\n",
    "\n",
    "Hazlo si puedes de varias formas\n",
    "\n",
    "**forma 1: contar vocales en palabra/frase**"
   ]
  },
  {
   "cell_type": "markdown",
   "id": "5d957ff5",
   "metadata": {},
   "source": [
    "**3)**\n",
    "\n",
    "Hazlo de otra forma si se te ocurre..\n",
    "\n",
    "**forma 2**"
   ]
  },
  {
   "cell_type": "markdown",
   "id": "49870bab",
   "metadata": {},
   "source": [
    "# Ejercicio 4"
   ]
  },
  {
   "cell_type": "markdown",
   "id": "102cb147",
   "metadata": {},
   "source": [
    "Tablas de multiplicar:\n",
    "    \n",
    "Haz algo tal que:\n",
    "\n",
    "1) Pregunta al usuario que tabla quiere multiplicar: <1 al 10>\n",
    "    \n",
    "2) Muestra los resultados de esta forma:\n",
    "    \n",
    "2 x 1 = 2\n",
    "\n",
    "2 x 2 = 4\n",
    "\n",
    "...\n",
    "\n",
    "2 x 10 = 20"
   ]
  },
  {
   "cell_type": "markdown",
   "id": "40314866",
   "metadata": {},
   "source": [
    "*Creado por:*\n",
    "\n",
    "*Isabel Maniega*"
   ]
  }
 ],
 "metadata": {
  "kernelspec": {
   "display_name": "Python 3 (ipykernel)",
   "language": "python",
   "name": "python3"
  },
  "language_info": {
   "codemirror_mode": {
    "name": "ipython",
    "version": 3
   },
   "file_extension": ".py",
   "mimetype": "text/x-python",
   "name": "python",
   "nbconvert_exporter": "python",
   "pygments_lexer": "ipython3",
   "version": "3.8.18"
  }
 },
 "nbformat": 4,
 "nbformat_minor": 5
}
