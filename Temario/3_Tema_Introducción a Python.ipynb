{
 "cells": [
  {
   "cell_type": "markdown",
   "id": "acce684f",
   "metadata": {},
   "source": [
    "*Creado por:*\n",
    "\n",
    "*Isabel Maniega*"
   ]
  },
  {
   "cell_type": "markdown",
   "id": "9c95b269",
   "metadata": {},
   "source": [
    "# -1.2- Introducción a Python (Continuación)"
   ]
  },
  {
   "cell_type": "markdown",
   "id": "0d01b243",
   "metadata": {},
   "source": [
    "## -1.2.1- Condiciones Multiples"
   ]
  },
  {
   "cell_type": "markdown",
   "id": "d5228a99",
   "metadata": {},
   "source": [
    "### Operador: |"
   ]
  },
  {
   "cell_type": "markdown",
   "id": "97d91764",
   "metadata": {},
   "source": [
    "**(condición1) ó (condición2)**"
   ]
  },
  {
   "cell_type": "code",
   "execution_count": null,
   "id": "39e606c3",
   "metadata": {},
   "outputs": [],
   "source": [
    "listado = [5, 10, 15, 20, 25]\n",
    "listado"
   ]
  },
  {
   "cell_type": "markdown",
   "id": "52c4fa92",
   "metadata": {},
   "source": [
    "Buscar números que son o bien 5 o bien 25"
   ]
  },
  {
   "cell_type": "code",
   "execution_count": null,
   "id": "1c04a2e7",
   "metadata": {},
   "outputs": [],
   "source": [
    "# Paso a Paso\n",
    "contador = 0 # inicializar el contador con valor 0\n",
    "\n",
    "for numero in listado:\n",
    "    # contador = 0\n",
    "    if (numero == 5) | (numero == 25):\n",
    "        contador = contador + 1\n",
    "        # si el numero es 5 entonces el contador suma 1 --> 0 a 1\n",
    "        # si el numero es 25 entonces el contador suma 1 --> 1 a 2\n",
    "    # recorre la lista y finaliza el bucle\n",
    "\n",
    "print(contador) # Resultado esperado es 2      "
   ]
  },
  {
   "cell_type": "markdown",
   "id": "7fc17949",
   "metadata": {},
   "source": [
    "**Ahora veremos el uso de print**"
   ]
  },
  {
   "cell_type": "code",
   "execution_count": null,
   "id": "2c893720",
   "metadata": {},
   "outputs": [],
   "source": [
    "# Paso a Paso\n",
    "contador = 0 # inicializar el contador con valor 0\n",
    "\n",
    "for numero in listado:\n",
    "    # contador = 0\n",
    "    print('valor del contador antes if: ', contador)\n",
    "    print('valor del numero: ', numero)\n",
    "    if (numero == 5) | (numero == 25):        \n",
    "        print('### valor del numero en IF: ', numero)\n",
    "        contador = contador + 1\n",
    "        print('*** valor del contador después de IF: ', contador)\n",
    "        # si el numero es 5 entonces el contador suma 1 --> 0 a 1\n",
    "        # si el numero es 25 entonces el contador suma 1 --> 1 a 2\n",
    "    # recorre la lista y finaliza el bucle\n",
    "\n",
    "print(contador) # Resultado esperado es 2   "
   ]
  },
  {
   "cell_type": "markdown",
   "id": "aae26885",
   "metadata": {},
   "source": [
    "**2º opción uso de OR**"
   ]
  },
  {
   "cell_type": "code",
   "execution_count": null,
   "id": "5c931fb7",
   "metadata": {},
   "outputs": [],
   "source": [
    "listado = [5, 10, 15, 20, 25]\n",
    "listado"
   ]
  },
  {
   "cell_type": "code",
   "execution_count": null,
   "id": "06bf4d06",
   "metadata": {},
   "outputs": [],
   "source": [
    "# Paso a Paso\n",
    "contador = 0 # inicializar el contador con valor 0\n",
    "\n",
    "for numero in listado:\n",
    "    # contador = 0\n",
    "    if (numero == 5) or (numero == 25):\n",
    "        contador += 1\n",
    "        # si el numero es 5 entonces el contador suma 1 --> 0 a 1\n",
    "        # si el numero es 25 entonces el contador suma 1 --> 1 a 2\n",
    "    # recorre la lista y finaliza el bucle\n",
    "\n",
    "print(contador) # Resultado esperado es 2    "
   ]
  },
  {
   "cell_type": "markdown",
   "id": "9280d68b",
   "metadata": {},
   "source": [
    "### Operador: &"
   ]
  },
  {
   "cell_type": "markdown",
   "id": "cd9a4005",
   "metadata": {},
   "source": [
    "**(condición1) y (condición2)**"
   ]
  },
  {
   "cell_type": "code",
   "execution_count": null,
   "id": "40e1ee0a",
   "metadata": {},
   "outputs": [],
   "source": [
    "listado = [5, 10, 15, 20, 25]\n",
    "listado"
   ]
  },
  {
   "cell_type": "markdown",
   "id": "7c4c4024",
   "metadata": {},
   "source": [
    "Tenemos una variable además de la lista con valor x = 1, entonces queremos buscar la coincidencia que el valor de x=1 y además que el valor de numero sea 15"
   ]
  },
  {
   "cell_type": "code",
   "execution_count": null,
   "id": "e259bdbe",
   "metadata": {},
   "outputs": [],
   "source": [
    "x = 1"
   ]
  },
  {
   "cell_type": "code",
   "execution_count": null,
   "id": "68684da8",
   "metadata": {},
   "outputs": [],
   "source": [
    "for numero in listado:\n",
    "    print('valor del numero: ', numero)\n",
    "    if (numero == 15) & (x == 1):\n",
    "        print('### valor del numero en IF: ', numero)\n",
    "        print('### valor de x en IF: ', x)\n",
    "        print(\"Hemos detectado un 15 en la lista y la x vale 1\")"
   ]
  },
  {
   "cell_type": "markdown",
   "id": "1dbc212d",
   "metadata": {},
   "source": [
    "**2ª opción: and**"
   ]
  },
  {
   "cell_type": "code",
   "execution_count": null,
   "id": "0533e098",
   "metadata": {},
   "outputs": [],
   "source": [
    "listado = [5, 10, 15, 20, 25]\n",
    "listado"
   ]
  },
  {
   "cell_type": "code",
   "execution_count": null,
   "id": "39db72cb",
   "metadata": {},
   "outputs": [],
   "source": [
    " x = 1"
   ]
  },
  {
   "cell_type": "code",
   "execution_count": null,
   "id": "817298fa",
   "metadata": {},
   "outputs": [],
   "source": [
    "for numero in listado:\n",
    "    print('valor del numero: ', numero)\n",
    "    if (numero == 15) and (x == 1):\n",
    "        print('### valor del numero en IF: ', numero)\n",
    "        print('### valor de x en IF: ', x)\n",
    "        print(\"Hemos detectado un 15 en la lista y la x vale 1\")"
   ]
  },
  {
   "cell_type": "markdown",
   "id": "73de5a08",
   "metadata": {},
   "source": [
    "### IN/NOT IN "
   ]
  },
  {
   "cell_type": "code",
   "execution_count": null,
   "id": "2f5494cc",
   "metadata": {},
   "outputs": [],
   "source": [
    "listado = [10, 20, 30]\n",
    "listado"
   ]
  },
  {
   "cell_type": "code",
   "execution_count": null,
   "id": "bdf378a4",
   "metadata": {},
   "outputs": [],
   "source": [
    "# está el valor 10 en la lista?¿ --> Sí == True; No == False\n",
    "10 in listado"
   ]
  },
  {
   "cell_type": "code",
   "execution_count": null,
   "id": "8138d647",
   "metadata": {},
   "outputs": [],
   "source": [
    "10 not in listado"
   ]
  },
  {
   "cell_type": "code",
   "execution_count": null,
   "id": "2d5aa89f",
   "metadata": {},
   "outputs": [],
   "source": [
    "20 in listado"
   ]
  },
  {
   "cell_type": "code",
   "execution_count": null,
   "id": "27479129",
   "metadata": {},
   "outputs": [],
   "source": [
    "20 not in listado"
   ]
  },
  {
   "cell_type": "markdown",
   "id": "81259f39",
   "metadata": {},
   "source": [
    "### Entrada de texto por teclado"
   ]
  },
  {
   "cell_type": "markdown",
   "id": "9fe399c9",
   "metadata": {},
   "source": [
    "**String**"
   ]
  },
  {
   "cell_type": "code",
   "execution_count": null,
   "id": "c7c85da7",
   "metadata": {},
   "outputs": [],
   "source": [
    "input(\"hola como estás?? - Digame: ...\")"
   ]
  },
  {
   "cell_type": "markdown",
   "id": "dabb54a1",
   "metadata": {},
   "source": [
    "**Asignación de variable...**"
   ]
  },
  {
   "cell_type": "code",
   "execution_count": null,
   "id": "bf19c5fc",
   "metadata": {},
   "outputs": [],
   "source": [
    "texto = input(\"hola como estás?? - Digame: ...\")\n",
    "texto"
   ]
  },
  {
   "cell_type": "markdown",
   "id": "e9ada879",
   "metadata": {},
   "source": [
    "**Ejemplo de entrada de numeros**"
   ]
  },
  {
   "cell_type": "code",
   "execution_count": null,
   "id": "aa942569",
   "metadata": {},
   "outputs": [],
   "source": [
    "numero = int(input(\"dígame su número favorito: <No valen decimales>...\"))\n",
    "numero"
   ]
  },
  {
   "cell_type": "code",
   "execution_count": null,
   "id": "009b117d",
   "metadata": {},
   "outputs": [],
   "source": [
    "print(\"Su número favorito es: \", numero)"
   ]
  },
  {
   "cell_type": "markdown",
   "id": "9c3d5fe2",
   "metadata": {},
   "source": [
    "**Ejemplo de numeros decimales**"
   ]
  },
  {
   "cell_type": "code",
   "execution_count": null,
   "id": "10c0bcfe",
   "metadata": {},
   "outputs": [],
   "source": [
    "numero_decimal = float(input(\"dígame su número decimal favorito: <valen decimales>...\"))\n",
    "numero_decimal"
   ]
  },
  {
   "cell_type": "code",
   "execution_count": null,
   "id": "8a6f11af",
   "metadata": {},
   "outputs": [],
   "source": [
    "print(\"Su número decimal favorito es: \", numero_decimal)"
   ]
  },
  {
   "cell_type": "markdown",
   "id": "320cb7e1-cf81-43e6-b691-7be272f4d080",
   "metadata": {},
   "source": [
    "# Archivos\n",
    "\n",
    "**Streams**\n",
    "\n",
    "La apertura del stream no solo está asociada con el archivo, sino que también se debe declarar la manera en que se procesará el stream. Esta declaración se llama open mode (modo de apertura).\n",
    "\n",
    "Si la apertura es exitosa, el programa solo podrá realizar las operaciones que sean consistentes con el modo abierto declarado.\n",
    "\n",
    "Hay dos operaciones básicas a realizar con el stream:\n",
    "\n",
    "* **Lectura del stream:** las porciones de los datos se recuperan del archivo y se colocan en un área de memoria administrada por el programa (por ejemplo, una variable).\n",
    "* **Escritura del stream:** Las porciones de los datos de la memoria (por ejemplo, una variable) se transfieren al archivo.\n",
    "\n",
    "Hay tres modos básicos utilizados para abrir un stream:\n",
    "\n",
    "* **Modo Lectura:** un stream abierto en este modo permite solo operaciones de lectura; intentar escribir en la transmisión provocará una excepción (la excepción se llama UnsupportedOperation, la cual hereda el OSError y el ValueError, y proviene del módulo io).\n",
    "* **Modo Escritura:** un stream abierto en este modo permite solo operaciones de escritura; intentar leer el stream provocará la excepción mencionada anteriormente.\n",
    "* **Modo Actualizar:** un stream abierto en este modo permite tanto lectura como escritura.\n",
    "\n",
    "**Manejo de Archivos**\n",
    "\n",
    "Nota: nunca se utiliza el constructor para dar vida a estos objetos. La unica forma de obtenerlos es invocar la función llamada open().\n",
    "\n",
    "La función analiza los argumentos proporcionados y crea automáticamente el objeto requerido.\n",
    "\n",
    "Si deseas deshacerte del objeto, invoca el método denominado close().\n",
    "\n",
    "La invocación cortará la conexión con el objeto y el archivo, y eliminará el objeto.\n",
    "\n",
    "Proceso:\n",
    "\n",
    "stream = open(file, mode = 'r', encoding = None)\n",
    "\n",
    "* El nombre de la función (open) habla por si mismo; si la apertura es exitosa, la función devuelve un objeto stream; de lo contrario, se genera una excepción (por ejemplo, FileNotFoundError si el archivo que vas a leer no existe).\n",
    "\n",
    "* El primer parámetro de la función (file) especifica el nombre del archivo que se asociará al stream.\n",
    "\n",
    "* El segundo parámetro (mode) especifica el modo de apertura utilizado para el stream; es una cadena llena de una secuencia de caracteres, y cada uno de ellos tiene su propio significado especial (más detalles pronto).\n",
    "\n",
    "* El tercer parámetro (encoding) especifica el tipo de codificación (por ejemplo, UTF-8 cuando se trabaja con archivos de texto).\n",
    "\n",
    "* La apertura debe ser la primera operación realizada en el stream.\n",
    "\n",
    "Nota: el modo y los argumentos de codificación pueden omitirse; en dado caso, se tomarán sus valores predeterminados. El modo de apertura predeterminado es leer en modo de texto, mientras que la codificación predeterminada depende de la plataforma utilizada."
   ]
  },
  {
   "cell_type": "code",
   "execution_count": null,
   "id": "09633470-9969-4948-9fa6-503c93085004",
   "metadata": {},
   "outputs": [],
   "source": [
    "# Se abre el archivo tzop.txt en modo lectura, devolviéndolo como un objeto del tipo archivo:\n",
    "stream = open(\"tzop.txt\", \"rt\", encoding = \"utf-8\")\n",
    "\n",
    "# Se imprime el contenido del archivo:\n",
    "print(stream.read()) "
   ]
  },
  {
   "cell_type": "code",
   "execution_count": null,
   "id": "7f83fed3-3877-4c0d-8a3b-d793306b31d9",
   "metadata": {},
   "outputs": [],
   "source": [
    "stream.close()"
   ]
  },
  {
   "cell_type": "markdown",
   "id": "fe7e811e-826d-4739-bf4d-d5308d88a331",
   "metadata": {},
   "source": [
    "**readline()**\n",
    "\n",
    "Si deseas manejar el contenido del archivo como un conjunto de líneas, no como un montón de caracteres, el método readline() te ayudará con eso.\n",
    "\n",
    "El método intenta leer una línea completa de texto del archivo, y la devuelve como una cadena en caso de éxito. De lo contrario, devuelve una cadena vacía.\n",
    "\n",
    "Esto abre nuevas oportunidades: ahora también puedes contar líneas fácilmente, no solo caracteres."
   ]
  },
  {
   "cell_type": "code",
   "execution_count": null,
   "id": "a7ef671f-15b0-428e-94a1-b9c26f864ee1",
   "metadata": {},
   "outputs": [],
   "source": [
    "from os import strerror\n",
    "\n",
    "try:\n",
    "    character_counter = line_counter = 0\n",
    "    stream = open('tzop.txt', 'rt')\n",
    "    line = stream.readline()\n",
    "    while line != '':\n",
    "        line_counter += 1\n",
    "        for char in line:\n",
    "            print(char, end='')\n",
    "            character_counter += 1\n",
    "        line = stream.readline()\n",
    "    stream.close()\n",
    "    print(\"\\n\\nCaracteres en el archivo:\", character_counter)\n",
    "    print(\"Líneas en el archivo:     \", line_counter)\n",
    "except IOError as e:\n",
    "    print(\"Se produjo un error de E/S:\", strerror(e.errno))"
   ]
  },
  {
   "cell_type": "markdown",
   "id": "7782c139-d59a-4f65-8f9d-f1d40a4cd460",
   "metadata": {},
   "source": [
    "**readlines()**\n",
    "\n",
    "Cuando el método readlines(), se invoca sin argumentos, intenta leer todo el contenido del archivo y devuelve una lista de cadenas, un elemento por línea del archivo.\n",
    "\n",
    "Si no estás seguro de si el tamaño del archivo es lo suficientemente pequeño y no deseas probar el sistema operativo, puedes convencer al método readlines() de leer no más de un número especificado de bytes a la vez (el valor de retorno sigue siendo el mismo, es una lista de una cadena).\n",
    "\n",
    "Siéntete libre de experimentar con el siguiente código de ejemplo para entender cómo funciona el método readlines():"
   ]
  },
  {
   "cell_type": "code",
   "execution_count": null,
   "id": "4f4da1e2-d4c0-4e8b-b5e3-f5f731bb4818",
   "metadata": {},
   "outputs": [],
   "source": [
    "stream = open(\"tzop.txt\")\n",
    "print(stream.readlines(20))\n",
    "print(stream.readlines(20))\n",
    "print(stream.readlines(20))\n",
    "print(stream.readlines(20))\n",
    "stream.close()"
   ]
  },
  {
   "cell_type": "markdown",
   "id": "a8df521a-1b10-4655-abbc-60b423e38d11",
   "metadata": {},
   "source": [
    "**write()**\n",
    "\n",
    "El método se llama write() y espera solo un argumento: una cadena que se transferirá a un archivo abierto (no lo olvides), el modo de apertura debe reflejar la forma en que se transfieren los datos, escribir en un archivo abierto en modo de lectura no tendrá éxito).\n",
    "\n",
    "No se agrega carácter de nueva línea al argumento de write(), por lo que debes agregarlo tu mismo si deseas que el archivo se complete con varias líneas."
   ]
  },
  {
   "cell_type": "code",
   "execution_count": null,
   "id": "33129a64-9783-462c-aa8d-223d27feb44a",
   "metadata": {},
   "outputs": [],
   "source": [
    "from os import strerror\n",
    "\n",
    "try:\n",
    "\tfile = open('newtext.txt', 'wt') # Un nuevo archivo (newtext.txt) es creado.\n",
    "\tfor i in range(10):\n",
    "\t\ts = \"línea #\" + str(i+1) + \"\\n\"\n",
    "\t\tfor char in s:\n",
    "\t\t\tfile.write(char)\n",
    "\tfile.close()\n",
    "except IOError as e:\n",
    "\tprint(\"Se produjo un error de E/S:\", strerror(e.errno))"
   ]
  },
  {
   "cell_type": "markdown",
   "id": "c805eda4-d457-41ae-8af0-adc04e931c45",
   "metadata": {},
   "source": [
    "El ejemplo en el editor muestra un código muy simple que crea un archivo llamado newtext.txt (nota: el modo de apertura w asegura que el archivo se creará desde cero, incluso si existe y contiene datos) y luego coloca diez líneas en él.\n",
    "\n",
    "La cadena que se grabará consta de la palabra línea, seguida del número de línea. Hemos decidido escribir el contenido de la cadena carácter por carácter (esto lo hace el bucle interno for) pero no estás obligado a hacerlo de esta manera.\n",
    "\n",
    "Solo queríamos mostrarte que write() puede operar con caracteres individuales."
   ]
  },
  {
   "cell_type": "markdown",
   "id": "cc3cf49a-b0e4-4016-9be9-0cf9bb64adaf",
   "metadata": {},
   "source": [
    "**Otra forma de leer archivos - with open()**\n",
    "\n",
    "Con esta forma no necesitamos cerrar el stream una vez abierto él lo realizará al finalizar el proceso deseado."
   ]
  },
  {
   "cell_type": "code",
   "execution_count": null,
   "id": "8c72ad7f-e751-486f-8d2d-c2e7e99b3dec",
   "metadata": {},
   "outputs": [],
   "source": [
    "with open('tzop.txt') as f:\n",
    "    contents = f.read()\n",
    "    print(contents)"
   ]
  },
  {
   "cell_type": "code",
   "execution_count": null,
   "id": "cc283e93-d7bc-460a-87e4-32eba571acbd",
   "metadata": {},
   "outputs": [],
   "source": [
    "#  Actualizar el archivo agregando una línea nueva:\n",
    "\n",
    "with open(\"myfile.txt\", \"a\") as f:\n",
    "    f.write(\"Today \\n\")"
   ]
  },
  {
   "cell_type": "markdown",
   "id": "3beb12c8",
   "metadata": {},
   "source": [
    "*Creado por:*\n",
    "\n",
    "*Isabel Maniega*"
   ]
  }
 ],
 "metadata": {
  "kernelspec": {
   "display_name": "Python 3 (ipykernel)",
   "language": "python",
   "name": "python3"
  },
  "language_info": {
   "codemirror_mode": {
    "name": "ipython",
    "version": 3
   },
   "file_extension": ".py",
   "mimetype": "text/x-python",
   "name": "python",
   "nbconvert_exporter": "python",
   "pygments_lexer": "ipython3",
   "version": "3.8.18"
  }
 },
 "nbformat": 4,
 "nbformat_minor": 5
}
