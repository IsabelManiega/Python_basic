{
 "cells": [
  {
   "cell_type": "markdown",
   "id": "16d99338-6e4b-4fda-93fa-f121f73e9aa2",
   "metadata": {},
   "source": [
    "*Creado por:*\n",
    "\n",
    "*Isabel Maniega*"
   ]
  },
  {
   "cell_type": "markdown",
   "id": "409f0bd6-f791-46bc-b060-7dff14042718",
   "metadata": {},
   "source": [
    "1) [Math](#Math)\n",
    "2) [Random](#Random)\n",
    "3) [Paquetes](#Paquetes)\n",
    "4) [PyPI](#Pypi)\n",
    "5) [Re](#Módulo-Re)"
   ]
  },
  {
   "cell_type": "markdown",
   "id": "b0ee1843-1223-454c-a486-4b27814694be",
   "metadata": {},
   "source": [
    "# Módulos"
   ]
  },
  {
   "cell_type": "markdown",
   "id": "b89e5740-7568-4dd3-9fc5-3dfe6aa111fb",
   "metadata": {},
   "source": [
    "**Módulo** es un archivo que contiene definiciones y sentencias de Python, que se pueden importar más tarde y utilizar cuando sea necesario."
   ]
  },
  {
   "cell_type": "markdown",
   "id": "ba16f012-5fdd-46ac-94f9-9ad0ab271e81",
   "metadata": {},
   "source": [
    "**Importar modulos**\n",
    "\n",
    "Para que un módulo sea utilizable, hay que importarlo (piensa en ello como sacar un libro del estante). La importación de un módulo se realiza mediante una instrucción llamada import. Nota: import es también una palabra clave reservada (con todas sus implicaciones)."
   ]
  },
  {
   "cell_type": "markdown",
   "id": "83f49d46-d502-4aa1-9ae4-21d0accaaca6",
   "metadata": {},
   "source": [
    "# Math"
   ]
  },
  {
   "cell_type": "markdown",
   "id": "de176d76-ca6a-45c3-91e5-a3ccf1b804d6",
   "metadata": {},
   "source": [
    "### 1) Ejemplo importar el modulo **math** de Python"
   ]
  },
  {
   "cell_type": "code",
   "execution_count": null,
   "id": "83715037-6750-4df5-a6d5-054dc58fe0f4",
   "metadata": {},
   "outputs": [],
   "source": [
    "import math"
   ]
  },
  {
   "cell_type": "markdown",
   "id": "20233f6f-8299-47e5-8484-2a331b2c693d",
   "metadata": {},
   "source": [
    "Dentro del modulo math podemos importar la función seno para calcular el valor de pi entre dos:"
   ]
  },
  {
   "cell_type": "code",
   "execution_count": null,
   "id": "c3d3cce7-a78a-49d0-a365-7e0a06a4b939",
   "metadata": {},
   "outputs": [],
   "source": [
    "math.sin(math.pi/2)"
   ]
  },
  {
   "cell_type": "markdown",
   "id": "3802b8c6-5632-4c88-b228-ee985581e788",
   "metadata": {},
   "source": [
    "Lo realizamos llamando:  **modulo + '.' + nombre de la entidad** ej. math.sin()"
   ]
  },
  {
   "cell_type": "markdown",
   "id": "4302eaba-e428-41ce-84f9-3fc60a494f6d",
   "metadata": {},
   "source": [
    "### 2) Otro ejemplo de importar modulo math en Python"
   ]
  },
  {
   "cell_type": "code",
   "execution_count": null,
   "id": "14fe9f46-f2f8-45ec-a21d-3e2e66067e08",
   "metadata": {},
   "outputs": [],
   "source": [
    "from math import sin, pi"
   ]
  },
  {
   "cell_type": "markdown",
   "id": "ad2561ce-c6c2-40e2-bdd6-ebe4ccfbfb9e",
   "metadata": {},
   "source": [
    "* La palabra clave reservada **from**.\n",
    "* El nombre del módulo a ser (selectivamente) importado.\n",
    "* La palabra clave reservada **import**.\n",
    "* El nombre o lista de nombres de la entidad o entidades las cuales estan siendo importadas al namespace."
   ]
  },
  {
   "cell_type": "code",
   "execution_count": null,
   "id": "b19ac88b-64f9-4f64-9893-627d98b31a1e",
   "metadata": {},
   "outputs": [],
   "source": [
    "sin(pi/2)"
   ]
  },
  {
   "cell_type": "markdown",
   "id": "44696042-d18d-46c7-b599-532b15cfd2af",
   "metadata": {},
   "source": [
    "Se llaman directamente sin necesidad de declarar math de nuevo"
   ]
  },
  {
   "cell_type": "markdown",
   "id": "91cd70d8-f375-4f37-942d-31c1150703d6",
   "metadata": {},
   "source": [
    "### 3) Otro ejemplo de importar modulo math en Python"
   ]
  },
  {
   "cell_type": "code",
   "execution_count": null,
   "id": "e2b996ff-9142-41f1-8e52-50c93fe5a1c3",
   "metadata": {},
   "outputs": [],
   "source": [
    "from math import *"
   ]
  },
  {
   "cell_type": "markdown",
   "id": "4df76da4-401c-411e-8811-14edeb7012b6",
   "metadata": {},
   "source": [
    "Esto quiere decir que importa todas las entidades que conforman el paquete **math**"
   ]
  },
  {
   "cell_type": "markdown",
   "id": "0bdf7d40-a3c0-44e0-831b-7eab800b2e3d",
   "metadata": {},
   "source": [
    "## Importando un módulo usando la palabra reservada *as*"
   ]
  },
  {
   "cell_type": "code",
   "execution_count": null,
   "id": "6fa19edd-0cb2-406b-85bf-a0667725d331",
   "metadata": {},
   "outputs": [],
   "source": [
    "# pip install pandas"
   ]
  },
  {
   "cell_type": "code",
   "execution_count": null,
   "id": "13a5ada6-3b19-4c64-baff-49974d1d270d",
   "metadata": {},
   "outputs": [],
   "source": [
    "import pandas as pd"
   ]
  },
  {
   "cell_type": "markdown",
   "id": "6ce156a1-a863-4ff9-83cf-975435894c25",
   "metadata": {},
   "source": [
    "La palabra **as** nos permite usar a lo largo del código la palabra asignada sin necesidad de usar el nombre completo. En este ejemplo **pandas** a partir de este momento pasará a llamarse **pd** a lo largo del código."
   ]
  },
  {
   "cell_type": "markdown",
   "id": "99d9fcb3-a62d-408a-a51e-aa80e56e9051",
   "metadata": {},
   "source": [
    "**import** modulo **as** alias\n",
    "\n",
    "El \"module\" identifica el nombre del módulo original mientras que el \"alias\" es el nombre que se desea usar en lugar del original."
   ]
  },
  {
   "cell_type": "markdown",
   "id": "4cdf6de6-c70c-4674-a0d9-f261744e048b",
   "metadata": {},
   "source": [
    "## DIR"
   ]
  },
  {
   "cell_type": "markdown",
   "id": "8f0d7fe6-3482-4be1-ab3f-84b39db1c3c0",
   "metadata": {},
   "source": [
    "La función devuelve una lista ordenada alfabéticamente la cual contiene todos los nombres de las entidades disponibles en el módulo"
   ]
  },
  {
   "cell_type": "code",
   "execution_count": null,
   "id": "bcffda0f-e57b-4ed9-85e4-26009c163a7f",
   "metadata": {},
   "outputs": [],
   "source": [
    "dir(math)"
   ]
  },
  {
   "cell_type": "code",
   "execution_count": null,
   "id": "b838351e-3106-4208-9808-61bf3ea776a4",
   "metadata": {},
   "outputs": [],
   "source": [
    "dir(pd)"
   ]
  },
  {
   "cell_type": "markdown",
   "id": "28d78ba4-65b5-4b93-b627-aeb4da89e3a3",
   "metadata": {},
   "source": [
    "¿Has notado los nombres extraños que comienzan con __ al inicio de la lista? Se hablará más sobre ellos cuando hablemos sobre los problemas relacionados con la escritura de módulos propios."
   ]
  },
  {
   "cell_type": "markdown",
   "id": "5306d3fc-c149-4c84-a55a-dba589536547",
   "metadata": {},
   "source": [
    "# Random"
   ]
  },
  {
   "cell_type": "markdown",
   "id": "04fdcb30-46d7-4316-9bf9-34d6735ea1a8",
   "metadata": {},
   "source": [
    "Nos permite obtener número **pseudoaleatorios**, esto quiere decir que los algoritmos, que generan los números, no son aleatorios, son deterministas y predecibles.\n",
    "\n",
    "Los números random, necesitan determinar una **semilla**, calcula un número \"aleatorio\" basado en él (el método depende de un algoritmo elegido). El valor de la semilla inicial, establecido durante el inicio del programa, determina el orden en que aparecerán los valores generados.\n",
    "\n"
   ]
  },
  {
   "cell_type": "markdown",
   "id": "ff9b0c0d-ee13-442e-b53a-fa9092732dc5",
   "metadata": {},
   "source": [
    "### Ejemplo 1:"
   ]
  },
  {
   "cell_type": "markdown",
   "id": "1265632e-08ec-481b-a54c-ea215dc1a3c0",
   "metadata": {},
   "source": [
    "Generamos números pseudoaleatorios de 0.0 a 1.0"
   ]
  },
  {
   "cell_type": "code",
   "execution_count": null,
   "id": "22254dc3-77ee-4807-a316-8b937ae1f70a",
   "metadata": {},
   "outputs": [],
   "source": [
    "from random import random\n",
    "\n",
    "for i in range(5):\n",
    "    print(random())"
   ]
  },
  {
   "cell_type": "markdown",
   "id": "5a40a7ed-2ae6-443a-9ad3-b7f242b0c3e8",
   "metadata": {},
   "source": [
    "La semilla en este caso no está definida, por lo tanto es dificil saber porque valor empieza y presentará una aleatoriedad."
   ]
  },
  {
   "cell_type": "markdown",
   "id": "d376cf70-55fd-453d-ba8b-bcdefcba81d0",
   "metadata": {},
   "source": [
    "### Ejemplo 2: seed"
   ]
  },
  {
   "cell_type": "markdown",
   "id": "2caced16-1dd6-4448-8963-99bd2bfd72b0",
   "metadata": {},
   "source": [
    "Añadimos una semilla de 0"
   ]
  },
  {
   "cell_type": "code",
   "execution_count": null,
   "id": "00f57296-fe25-4970-8962-9d34b022f932",
   "metadata": {},
   "outputs": [],
   "source": [
    "from random import random, seed\n",
    "\n",
    "seed(0)\n",
    "\n",
    "for i in range(5):\n",
    "    print(random())"
   ]
  },
  {
   "cell_type": "markdown",
   "id": "a7bcb3bd-5063-44aa-a986-81127ff5f172",
   "metadata": {},
   "source": [
    "Debido al hecho de que la semilla siempre se establece con el mismo valor, la secuencia de valores generados siempre se ve igual."
   ]
  },
  {
   "cell_type": "markdown",
   "id": "d0055fd8-322f-42ab-ad82-8f238c0da361",
   "metadata": {},
   "source": [
    "### Ejemplo 3: randrange, randint"
   ]
  },
  {
   "cell_type": "markdown",
   "id": "4d618c3c-7746-4009-aa42-39b964b18b35",
   "metadata": {},
   "source": [
    "randrange y ranint: genera números enteros aleatorios en un rango determinado:.\n",
    "\n",
    "* randrange(inicio, fin, incremento)\n",
    "* randint(izquierda, derecha)"
   ]
  },
  {
   "cell_type": "code",
   "execution_count": null,
   "id": "e7a2297e-23b9-4e1d-8b46-e01715a72245",
   "metadata": {},
   "outputs": [],
   "source": [
    "from random import randrange, randint\n",
    "\n",
    "print(randrange(1), end=' ')\n",
    "print(randrange(0, 1), end=' ')\n",
    "print(randrange(0, 1, 1), end=' ')\n",
    "print(randint(0, 1))"
   ]
  },
  {
   "cell_type": "markdown",
   "id": "65286ff4-3eda-49e9-a92f-09488984e5f7",
   "metadata": {},
   "source": [
    "**Nota:** Observa que los datos generados no son único"
   ]
  },
  {
   "cell_type": "code",
   "execution_count": null,
   "id": "3c1b9504-8014-4932-8b2c-9b0ba4645fca",
   "metadata": {},
   "outputs": [],
   "source": [
    "from random import randint\n",
    "\n",
    "for i in range(10):\n",
    "    print(randint(1, 10), end=',')"
   ]
  },
  {
   "cell_type": "markdown",
   "id": "63198436-88ec-4ba9-ae18-79fb0843bf35",
   "metadata": {},
   "source": [
    "### Ejemplo 4: Choice, sample"
   ]
  },
  {
   "cell_type": "markdown",
   "id": "0c57f332-ac7c-428a-b17e-dd24eb000fb4",
   "metadata": {},
   "source": [
    "* choice(secuencia)\n",
    "* sample(secuencia, elementos_a_elegir=1)\n",
    "\n",
    "**choice** elige un elemento \"aleatorio\" de la secuencia de entrada y lo devuelve.\n",
    "\n",
    "**sample** crea una lista (una muestra) que consta del elemento elementos_a_elegir (que por defecto es 1) \"sorteado\" de la secuencia de entrada."
   ]
  },
  {
   "cell_type": "code",
   "execution_count": null,
   "id": "6f8b308b-e987-4ee2-b55d-c1695820d9d9",
   "metadata": {},
   "outputs": [],
   "source": [
    "from random import choice, sample\n",
    "\n",
    "my_list = [1, 2, 3, 4, 5, 6, 7, 8, 9, 10]\n",
    "\n",
    "print(choice(my_list))\n",
    "print(sample(my_list, 5))\n",
    "print(sample(my_list, 10))"
   ]
  },
  {
   "cell_type": "markdown",
   "id": "3e12f60e-80fc-4bc6-a43a-f93541c5bcba",
   "metadata": {},
   "source": [
    "# Estructura de ejecución de código"
   ]
  },
  {
   "cell_type": "markdown",
   "id": "52336f4e-1ca2-4c3b-82f0-313060779623",
   "metadata": {},
   "source": [
    "* Tu código quiere crear un archivo, por lo que invoca una de las funciones de Python.\n",
    "* Python acepta la orden, la reorganiza para cumplir con los requisitos del sistema operativo local, es como poner el sello \"aprobado\" en una solicitud y lo envía (esto puede recordarte una cadena de mando).\n",
    "* El SO comprueba si la solicitud es razonable y válida (por ejemplo, si el nombre del archivo se ajusta a algunas reglas de sintaxis) e intenta crear el archivo. Tal operación, aparentemente es muy simple, no es atómica: consiste de muchos pasos menores tomados por:\n",
    "* El hardware, el cual es responsable de activar los dispositivos de almacenamiento (disco duro, dispositivos de estado sólido, etc.) para satisfacer las necesidades del sistema operativo."
   ]
  },
  {
   "cell_type": "markdown",
   "id": "9a4986ee-aa2f-41c0-8d1a-ce71cc0d1d2d",
   "metadata": {},
   "source": [
    "# Paquetes"
   ]
  },
  {
   "cell_type": "markdown",
   "id": "e063634d-506f-47d8-9049-252a82cb3c6d",
   "metadata": {},
   "source": [
    "* Un módulo es un contenedor lleno de funciones - puedes empaquetar tantas funciones como desees en un módulo y distribuirlo por todo el mundo.\n",
    "* Por supuesto, no es una buena idea mezclar funciones con diferentes áreas de aplicación dentro de un módulo (al igual que en una biblioteca: nadie espera que los trabajos científicos se incluyan entre los cómics), así que se deben agrupar las funciones cuidadosamente y asignar un nombre claro e intuitivo al módulo que las contiene (por ejemplo, no le des el nombre videojuegos a un módulo que contiene funciones destinadas a particionar y formatear discos duros).\n",
    "* Crear muchos módulos puede causar desorden: tarde que temprano querrás agrupar tus módulos de la misma manera que previamente has agrupado funciones: ¿Existe un contenedor más general que un módulo?\n",
    "* Sí lo hay, es un paquete: en el mundo de los módulos, un paquete juega un papel similar al de una carpeta o directorio en el mundo de los archivos."
   ]
  },
  {
   "cell_type": "markdown",
   "id": "f2887015-d287-4345-b12e-17e011ae0a09",
   "metadata": {},
   "source": [
    "### 1) Crear un modulo"
   ]
  },
  {
   "cell_type": "code",
   "execution_count": null,
   "id": "b47272d9-3f68-4037-a042-a860c4872beb",
   "metadata": {},
   "outputs": [],
   "source": [
    "# 1) Crea un script con nombre module.py\n",
    "# 2) Crea un script con nombre main.py\n",
    "# 3) Dentro del script main, llama al script module:\n",
    "    # import module\n",
    "# 4) Ejecuta el script main.py y no deberias de ver como salida nada, \n",
    "# si no ha realizado ningún error, ha realizado con éxito la importación del modulo (module.py)"
   ]
  },
  {
   "cell_type": "markdown",
   "id": "3780e598-381a-4b94-abad-66a705f58a35",
   "metadata": {},
   "source": [
    "Al ejecutar el script main.py verás que ha aparecido una nueva subcarpeta, ¿puedes verla? Su nombre es **__pycache__**. Echa un vistazo adentro. ¿Qué es lo que ves?\n",
    "\n",
    "Hay un archivo llamado (más o menos) module.cpython-xy.pyc donde x y y son dígitos derivados de tu versión de Python (por ejemplo, serán 3 y 8 si utilizas Python 3.8).\n",
    "\n",
    "El nombre del archivo es el mismo que el de tu módulo. La parte posterior al primer punto dice qué implementación de Python ha creado el archivo (CPython) y su número de versión. La ultima parte (pyc) viene de las palabras Python y compilado.\n",
    "\n",
    "Puedes mirar dentro del archivo: el contenido es completamente ilegible para los humanos. Tiene que ser así, ya que el archivo está destinado solo para uso el uso de Python.\n",
    "\n",
    "Cuando Python importa un módulo por primera vez, traduce el contenido a una forma algo compilada.\n",
    "\n",
    "El archivo no contiene código en lenguaje máquina: es código semi-compilado interno de Python, listo para ser ejecutado por el intérprete de Python. Como tal archivo no requiere tantas comprobaciones como las de un archivo fuente, la ejecución comienza más rápido y también se ejecuta más rápido.\n",
    "\n",
    "Gracias a eso, cada importación posterior será más rápida que interpretar el código fuente desde cero.\n",
    "\n",
    "Python puede verificar si el archivo fuente del módulo ha sido modificado (en este caso, el archivo pyc será reconstruido) o no (cuando el archivo pyc pueda ser ejecutado al instante). Este proceso es completamente automático y transparente, no tiene que ser tomando en cuenta."
   ]
  },
  {
   "cell_type": "markdown",
   "id": "13a7a2c0-10e2-4585-b6e9-9a4472d2ef78",
   "metadata": {},
   "source": [
    "### 2) mostrar la información de module.py"
   ]
  },
  {
   "cell_type": "code",
   "execution_count": null,
   "id": "f3e3021f-7e2c-44e2-b092-f4cd698ba849",
   "metadata": {},
   "outputs": [],
   "source": [
    "# Podemos repetir los pasos anteriores pero en este punto añadimos al script module.py un print, \n",
    "# por los tanto los pasos serían:\n",
    "\n",
    "# 1) Crea un script con nombre mudule.py\n",
    "# 2) Dentro del script module.py realiza un print:\n",
    "    # print(\"Me gusta ser un módulo.\")\n",
    "# 3) Crea un script con nombre main.py\n",
    "# 4) Dentro del script main, llama al script module:\n",
    "    # import module\n",
    "# 5) Ejecuta el script main.py en este punto verás que la salida muestra:\n",
    "    # Me gusta ser un módulo.\n",
    "# Visualizamos el contenido del módulo module.py"
   ]
  },
  {
   "cell_type": "markdown",
   "id": "fdad72e5-1cde-4d18-ae3e-c4b35bfb4e86",
   "metadata": {},
   "source": [
    "### 3) '_  _ _name_ _ _ '"
   ]
  },
  {
   "cell_type": "code",
   "execution_count": null,
   "id": "aab1a0ba-9fc5-4b56-b2f3-7db5d52736c4",
   "metadata": {},
   "outputs": [],
   "source": [
    "# Podemos repetir los pasos anteriores pero en este punto añadimos al script module.py un print que muestre '__name__', \n",
    "# por los tanto los pasos serían:\n",
    "\n",
    "# 1) Crea un script con nombre module.py\n",
    "# 2) Dentro del script module.py realiza un print:\n",
    "    # print(\"Me gusta ser un módulo.\")\n",
    "    # print(__name__)\n",
    "# 3) Crea un script con nombre main.py\n",
    "# 4) Dentro del script main, llama al script module:\n",
    "    # import module\n",
    "# 5) Ejecuta el script main.py en este punto verás que la salida muestra:\n",
    "    # Me gusta ser un módulo.\n",
    "    # __main__\n",
    "\n",
    "# Podemos decir que:\n",
    "\n",
    "    # Cuando se ejecuta un archivo directamente, su variable __name__ se establece a __main__.\n",
    "    # Cuando un archivo se importa como un módulo, su variable __name__ se establece al nombre del archivo (excluyendo a .py)."
   ]
  },
  {
   "cell_type": "markdown",
   "id": "55b7089f-346e-4a54-a7f0-e600ae4c1240",
   "metadata": {},
   "source": [
    "### 4) main"
   ]
  },
  {
   "cell_type": "code",
   "execution_count": null,
   "id": "2dfe0aa5-0816-4564-afc6-03573189fc49",
   "metadata": {},
   "outputs": [],
   "source": [
    "# Podemos repetir los pasos anteriores pero en este punto añadimos al script module.py un print que muestre '__name__', \n",
    "# por los tanto los pasos serían:\n",
    "\n",
    "# 1) Crea un script con nombre mudule.py\n",
    "# 2) Dentro del script module.py realiza un print:\n",
    "    # print(\"Me gusta ser un módulo.\")\n",
    "    # if __name__ == \"__main__\":\n",
    "        # print(\"Yo prefiero ser un módulo\")\n",
    "    # else:\n",
    "        #print(\"Me gusta ser un módulo\")\n",
    "# 3) Crea un script con nombre main.py\n",
    "# 4) Dentro del script main, llama al script module:\n",
    "    # import module\n",
    "# 5) Ejecuta el script main.py en este punto verás que la salida muestra:\n",
    "    # Me gusta ser un módulo.\n",
    "    # __main__\n",
    "\n",
    "# Podemos decir que:\n",
    "\n",
    "    # Cuando se ejecuta un archivo directamente, su variable __name__ se establece a __main__.\n",
    "    # Cuando un archivo se importa como un módulo, su variable __name__ se establece al nombre del archivo (excluyendo a .py)."
   ]
  },
  {
   "cell_type": "markdown",
   "id": "b4012145-666b-434b-b7c2-648fcdc10651",
   "metadata": {},
   "source": [
    "### 5) Contador de llamada de funciones"
   ]
  },
  {
   "cell_type": "code",
   "execution_count": null,
   "id": "6d1e8a05-0e45-49d4-90cc-03e7edc5acd1",
   "metadata": {},
   "outputs": [],
   "source": [
    "# Podemos repetir los pasos anteriores pero en este punto añadimos al script module.py un print que muestre '__name__', \n",
    "# por los tanto los pasos serían:\n",
    "\n",
    "# 1) Crea un script con nombre mudule.py\n",
    "# 2) Dentro del script module.py realiza un print:\n",
    "    # counter = 0\n",
    "    # if __name__ == \"__main__\":\n",
    "        # print(\"Yo prefiero ser un módulo\")\n",
    "    # else:\n",
    "        #print(\"Me gusta ser un módulo\")\n",
    "# 3) Crea un script con nombre main.py\n",
    "# 4) Dentro del script main, llama al script module:\n",
    "    # import module\n",
    "    # print(module.counter)\n",
    "# 5) Ejecuta el script main.py en este punto verás que la salida muestra:\n",
    "    # Yo prefiero ser un módulo.\n",
    "    # 0\n",
    "\n",
    "# Como puedes ver, el archivo principal intenta acceder a la variable de contador del módulo. \n",
    "# ¿Es esto legal? Sí lo es. ¿Es utilizable? Claro. ¿Es seguro?\n",
    "\n",
    "# Eso depende: si confías en los usuarios de tu módulo, no hay problema; \n",
    "# sin embargo, es posible que no desees que el resto del mundo vea tu variable personal o privada.\n",
    "\n",
    "# A diferencia de muchos otros lenguajes de programación, \n",
    "# Python no tiene medios para permitirte ocultar tales variables a los ojos de los usuarios del módulo.\n",
    "\n",
    "# Solo puedes informar a tus usuarios que esta es tu variable, que pueden leerla, \n",
    "# pero que no deben modificarla bajo ninguna circunstancia.\n",
    "\n",
    "# Esto se hace anteponiendo al nombre de la variable _ (un guión bajo) o __ (dos guiones bajos), \n",
    "# pero recuerda, es solo un acuerdo. Los usuarios de tu módulo pueden obedecerlo o no."
   ]
  },
  {
   "cell_type": "markdown",
   "id": "66bc2704-3803-47db-b4e3-25caa16205f9",
   "metadata": {},
   "source": [
    "# Pypi"
   ]
  },
  {
   "cell_type": "markdown",
   "id": "adb7ff06-362d-4668-a7bd-185a5561afc4",
   "metadata": {},
   "source": [
    "El repositorio de Python es **PyPI** (es la abreviatura de Python Package Index) y lo mantiene un grupo de trabajo llamado Packaging Working Group, una parte de la Python Software Foundation, cuya tarea principal es apoyar a los desarrolladores de Python en la diseminación de código eficiente.\n",
    "\n",
    "https://wiki.python.org/psf/PackagingWG\n",
    "\n",
    "https://pypi.org/"
   ]
  },
  {
   "cell_type": "markdown",
   "id": "ab9d2620-dd78-4fb4-96d7-695d9196b311",
   "metadata": {},
   "source": [
    "Para descargar los paquetes del repositorio de Pypi necesitas usar *pip*.\n",
    "\n",
    "Para verificar su instalación usamos: \n",
    "\n",
    "* pip3 --version --> Si tenemos python 2 instalado en el sistema\n",
    "* pip --version\n",
    "\n",
    "Para pedir ayuda a pip se realiza con:\n",
    "\n",
    "* pip help"
   ]
  },
  {
   "cell_type": "code",
   "execution_count": null,
   "id": "9198ec8d-babe-44c6-a487-cacdb891f3ac",
   "metadata": {},
   "outputs": [],
   "source": [
    "pip --version"
   ]
  },
  {
   "cell_type": "code",
   "execution_count": null,
   "id": "1d6ea4fc-7bfc-4859-a166-81cdb65209e0",
   "metadata": {},
   "outputs": [],
   "source": [
    "pip help"
   ]
  },
  {
   "cell_type": "markdown",
   "id": "fd2b804c-0653-4ab8-ae89-35a3111aa329",
   "metadata": {},
   "source": [
    "Para saber los paquetes instalados usamos:\n",
    "\n",
    "* pip list"
   ]
  },
  {
   "cell_type": "code",
   "execution_count": null,
   "id": "2f2fdd32-061d-48b1-8e12-febdb926fba4",
   "metadata": {},
   "outputs": [],
   "source": [
    "pip list"
   ]
  },
  {
   "cell_type": "markdown",
   "id": "3241b8db-2f41-4a86-b6b5-1f62a3d8c19c",
   "metadata": {},
   "source": [
    "Para mostrar más información sobre un paquete:\n",
    "\n",
    "* pip show nombre del paquete"
   ]
  },
  {
   "cell_type": "code",
   "execution_count": null,
   "id": "4d0d2ed4-2164-4668-af8d-1785ecd2de89",
   "metadata": {},
   "outputs": [],
   "source": [
    "pip show pip"
   ]
  },
  {
   "cell_type": "markdown",
   "id": "01372ed4-4925-45d8-beb6-ac810ed8cdc5",
   "metadata": {},
   "source": [
    "Para buscar un paquete determinado:\n",
    "\n",
    "* pip search anystring"
   ]
  },
  {
   "cell_type": "code",
   "execution_count": null,
   "id": "6af8ab4a-eeda-4054-b3ad-2e7c8c92afe6",
   "metadata": {},
   "outputs": [],
   "source": [
    "# pip search pip\n",
    "# Da un error en jupyter"
   ]
  },
  {
   "cell_type": "markdown",
   "id": "7feed007-a024-4c63-a5dc-26180771b67e",
   "metadata": {},
   "source": [
    "pip emplea una opción dedicada llamada --user (observa el guión doble). La presencia de esta opción indica a pip que actúe localmente en nombre de tu usuario sin privilegios de administrador.\n",
    "\n",
    "Como administrador la instalación es: pip install pygame\n",
    "Como usuario sin derechos de administrador es: pip install --user pygame\n",
    "\n",
    "El comando **pip install** tiene dos habilidades adicionales importantes:\n",
    "\n",
    "Es capaz de actualizar un paquete instalado localmente; por ejemplo, si deseas asegurarte de que estás utilizando la última versión de un paquete en particular, puedes ejecutar el siguiente comando:\n",
    "\n",
    "pip install -U nombre_del_paquete\n",
    "\n",
    "Es capaz de instalar una versión seleccionada por el usuario de un paquete (pip instala por defecto la versión más nueva disponible); para lograr este objetivo debes utilizar la siguiente sintaxis:\n",
    "\n",
    "pip install nombre_del_paquete==versión_del_paquete"
   ]
  },
  {
   "cell_type": "markdown",
   "id": "ee0f2f37-ba51-4275-a80f-94bda92eb616",
   "metadata": {},
   "source": [
    "Si alguno de los paquetes instalados actualmente ya no es necesario y deseas deshacerte de el, pip también será útil. Su comando uninstall ejecutará todos los pasos necesarios.\n",
    "\n",
    "pip uninstall nombre_del_paquete"
   ]
  },
  {
   "cell_type": "markdown",
   "id": "cf12c55b-49db-4f90-8225-655cf9bbdfe9",
   "metadata": {},
   "source": [
    "# Módulo Re"
   ]
  },
  {
   "cell_type": "markdown",
   "id": "e208ebe1-807a-4df1-b689-a638cbc43cde",
   "metadata": {},
   "source": [
    "RegEx, Regular Expression, este módulo proporciona operaciones de coincidencia de expresiones regulares similares a las encontradas en Perl.\n",
    "\n",
    "Las expresiones regulares usan el carácter de barra inversa ('\\') para indicar formas especiales o para permitir el uso de caracteres especiales sin invocar su significado especial."
   ]
  },
  {
   "cell_type": "code",
   "execution_count": null,
   "id": "a199f985-a467-4c7c-bc92-beb49691bbf5",
   "metadata": {},
   "outputs": [],
   "source": [
    "# Python para imprimir una barra necesitamos usar dos:\n",
    "print('\\\\')"
   ]
  },
  {
   "cell_type": "code",
   "execution_count": null,
   "id": "00ac6b1f-5061-4c30-a9a3-420101551c65",
   "metadata": {},
   "outputs": [],
   "source": [
    "# Si sólo usamos una única barra nos arroja un error de Syntaxis:\n",
    "print('\\')"
   ]
  },
  {
   "cell_type": "markdown",
   "id": "a42c944e-9731-4c4b-8196-9227093d2d3c",
   "metadata": {},
   "source": [
    "La solución es usar la notación de cadena raw de Python para los patrones de expresiones regulares; las barras inversas no se manejan de ninguna manera especial en un literal de cadena prefijado con 'r'. Así que r\"\\n\" es una cadena de dos caracteres que contiene '\\' y 'n', mientras que \"\\n\" es una cadena de un carácter que contiene una nueva línea. Normalmente los patrones se expresan en código Python usando esta notación de cadena raw."
   ]
  },
  {
   "cell_type": "code",
   "execution_count": null,
   "id": "f252feeb-2d1c-4189-a207-bc84331cf0a2",
   "metadata": {},
   "outputs": [],
   "source": [
    "print(r'\\n')"
   ]
  },
  {
   "cell_type": "code",
   "execution_count": null,
   "id": "614f45c6-3176-4e91-8486-5b911608c74a",
   "metadata": {},
   "outputs": [],
   "source": [
    "print('Antes de...')\n",
    "print('\\n')\n",
    "print('Salto de línea')"
   ]
  },
  {
   "cell_type": "markdown",
   "id": "8c869fbb-0ee0-42e5-8c35-841eee431fcc",
   "metadata": {},
   "source": [
    "Una expresión regular (o RE, por sus siglas en inglés) especifica un conjunto de cadenas que coinciden con ella; las funciones de este módulo permiten comprobar si una determinada cadena coincide con una expresión regular dada (o si una expresión regular dada coincide con una determinada cadena, que se reduce a lo mismo)."
   ]
  },
  {
   "cell_type": "code",
   "execution_count": null,
   "id": "7460f404-0a8c-4691-8ed1-9e1862fa2cea",
   "metadata": {},
   "outputs": [],
   "source": [
    "import re # Importamos el paquete re\n",
    "\n",
    "# Comprobar que la frase empieza por \"The\" y acaba por \"Spain\":\n",
    "\n",
    "txt = \"The rain in Spain\"\n",
    "x = re.search(\"^The.*Spain$\", txt)\n",
    "\n",
    "if x:\n",
    "  print(\"YES! We have a match!\")\n",
    "else:\n",
    "  print(\"No match\")"
   ]
  },
  {
   "cell_type": "markdown",
   "id": "e5e369ba-f6ed-4dad-b624-55948bd878e3",
   "metadata": {},
   "source": [
    "## Funciones de RegEx\n",
    "\n",
    "- findall: retorna una lista que contiene todas las coincidencias\n",
    "- search: retorna la coincidencia del objeto.\n",
    "- split: Divide la string («cadena») por el número de ocurrencias del pattern («patrón»).\n",
    "- sub: \tRetorna la cadena obtenida reemplazando las ocurrencias no superpuestas del pattern («patrón») en la string («cadena») por el reemplazo de repl.\n",
    "\n",
    "## Metacaracteres\n",
    "\n",
    "- [] Conjunto de caracteres, ejemplo: \"[a-m]\"\t\n",
    "- \\\tCaracter de escape, ejemplo: \"\\d\"\t\n",
    "- .\tCualquier carácter (excepto carácter de nueva línea), ejemplo: \"he..o\"\t\n",
    "- \\^ Empezar por, ejemplo: \"^hello\"\t\n",
    "- \\\\$ Acabar con, ejemplo: \"planet\\\\$\"\t\n",
    "- \\* Cero o más ocurrencias, ejemplo: \"he.*o\"\t\n",
    "- \\+ Una o más concurrencias, ejemplo: \"he.+o\"\t\n",
    "- ?\tcero o una concurrencia, ejemplo: \"he.?o\"\t\n",
    "- {} Exactamente el número especificado de ocurrencias, ejemplo: \"he.{2}o\"\t\n",
    "- |\tCualquiera o, ejemplo: \"falls|stays\"\t\n",
    "- () Capturar y grupo, ejemplo: "
   ]
  },
  {
   "cell_type": "code",
   "execution_count": null,
   "id": "79735bbe-1f11-4578-8d66-9ca6c29c003b",
   "metadata": {},
   "outputs": [],
   "source": [
    "import re\n",
    "\n",
    "txt = \"The rain in Spain\"\n",
    "\n",
    "# Encontrar todas las minúsculas alfabéticas entre la \"a\" y \"m\":\n",
    "\n",
    "x = re.findall(\"[a-m]\", txt)\n",
    "print(x)"
   ]
  },
  {
   "cell_type": "code",
   "execution_count": null,
   "id": "760121d1-3e0b-4332-9b07-72b109166898",
   "metadata": {},
   "outputs": [],
   "source": [
    "import re\n",
    "\n",
    "txt = \"That will be 59 dollars\"\n",
    "\n",
    "# Encontrar los números en la frase:\n",
    "\n",
    "x = re.findall(\"\\d\", txt)\n",
    "print(x)\n"
   ]
  },
  {
   "cell_type": "code",
   "execution_count": null,
   "id": "1bf1c1a5-753d-4f35-8cf9-fc0b480d4caa",
   "metadata": {},
   "outputs": [],
   "source": [
    "import re\n",
    "\n",
    "txt = \"hello planet\"\n",
    "\n",
    "# Busque una secuencia que comience con \"he\" (cocidencias exactas, he, no He), seguida de dos (cualquiera) caracteres y una \"o\":\n",
    "\n",
    "x = re.findall(\"he..o\", txt)\n",
    "print(x)"
   ]
  },
  {
   "cell_type": "code",
   "execution_count": null,
   "id": "59c723cb-9d89-47ce-85e2-77983a027db8",
   "metadata": {},
   "outputs": [],
   "source": [
    "# /s --> espacio en blanco, buscar la primera posición en blanco:\n",
    "\n",
    "import re\n",
    "\n",
    "txt = \"The rain in Spain\"\n",
    "x = re.search(\"\\s\", txt)\n",
    "\n",
    "print(\"The first white-space character is located in position:\", x.start())"
   ]
  },
  {
   "cell_type": "code",
   "execution_count": null,
   "id": "55340b34-f087-41c7-94fc-27f580f6cfe1",
   "metadata": {},
   "outputs": [],
   "source": [
    "#  Buscar si esta Portugal en la frase:\n",
    "\n",
    "import re\n",
    "\n",
    "txt = \"The rain in Spain\"\n",
    "x = re.search(\"Portugal\", txt)\n",
    "print(x)"
   ]
  },
  {
   "cell_type": "code",
   "execution_count": null,
   "id": "e4595ce1-82d4-4d58-a6e5-49e91eebebbc",
   "metadata": {},
   "outputs": [],
   "source": [
    "# Dividir la frase cuando encuentre un espacio en blanco (\\s):\n",
    "\n",
    "import re\n",
    "\n",
    "txt = \"The rain in Spain\"\n",
    "x = re.split(\"\\s\", txt)\n",
    "print(x)"
   ]
  },
  {
   "cell_type": "code",
   "execution_count": null,
   "id": "bddb2070-a676-4ede-8f6b-1e7c7a843edd",
   "metadata": {},
   "outputs": [],
   "source": [
    "# Sustituir espacio en blanco por 9:\n",
    "\n",
    "import re\n",
    "\n",
    "txt = \"The rain in Spain\"\n",
    "x = re.sub(\"\\s\", \"9\", txt)\n",
    "print(x)"
   ]
  },
  {
   "cell_type": "markdown",
   "id": "1b888d36-8127-41e8-8715-3c53dd171f09",
   "metadata": {},
   "source": [
    "*Creado por:*\n",
    "\n",
    "*Isabel Maniega*"
   ]
  }
 ],
 "metadata": {
  "kernelspec": {
   "display_name": "Python 3 (ipykernel)",
   "language": "python",
   "name": "python3"
  },
  "language_info": {
   "codemirror_mode": {
    "name": "ipython",
    "version": 3
   },
   "file_extension": ".py",
   "mimetype": "text/x-python",
   "name": "python",
   "nbconvert_exporter": "python",
   "pygments_lexer": "ipython3",
   "version": "3.8.18"
  }
 },
 "nbformat": 4,
 "nbformat_minor": 5
}
