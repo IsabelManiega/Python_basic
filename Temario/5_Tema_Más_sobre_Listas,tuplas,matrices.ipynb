{
 "cells": [
  {
   "cell_type": "markdown",
   "id": "30e2bd91",
   "metadata": {},
   "source": [
    "*Creado por:*\n",
    "\n",
    "*Isabel Maniega*"
   ]
  },
  {
   "cell_type": "markdown",
   "id": "8e617392",
   "metadata": {},
   "source": [
    "# Estructura de datos de almacenamiento"
   ]
  },
  {
   "cell_type": "markdown",
   "id": "f4cc9aaf",
   "metadata": {},
   "source": [
    "En el presente documento se han incluído varios de los archivos de clase.\n",
    "\n",
    "Incluye:\n",
    "    \n",
    "* Tuplas, \n",
    "\n",
    "* Listas, \n",
    "\n",
    "* Diccionarios, \n",
    "\n",
    "* etc"
   ]
  },
  {
   "cell_type": "markdown",
   "id": "e79d0518",
   "metadata": {},
   "source": [
    "## Tuplas"
   ]
  },
  {
   "cell_type": "code",
   "execution_count": 8,
   "id": "0edf501d",
   "metadata": {},
   "outputs": [
    {
     "data": {
      "text/plain": [
       "(10, 20, 30, 40)"
      ]
     },
     "execution_count": 8,
     "metadata": {},
     "output_type": "execute_result"
    }
   ],
   "source": [
    "# 0, 1, 2, 3 ... Izquierda a derecha \n",
    "# -1, -2, -3, ... Derecha a Izquierda\n",
    "A = (10, 20, 30, 40) \n",
    "A"
   ]
  },
  {
   "cell_type": "code",
   "execution_count": 2,
   "id": "7a088037",
   "metadata": {},
   "outputs": [
    {
     "data": {
      "text/plain": [
       "30"
      ]
     },
     "execution_count": 2,
     "metadata": {},
     "output_type": "execute_result"
    }
   ],
   "source": [
    "A[2]"
   ]
  },
  {
   "cell_type": "code",
   "execution_count": 3,
   "id": "162e6bd0",
   "metadata": {},
   "outputs": [
    {
     "data": {
      "text/plain": [
       "(10, 20, 30, 40)"
      ]
     },
     "execution_count": 3,
     "metadata": {},
     "output_type": "execute_result"
    }
   ],
   "source": [
    "A[0], A[1], A[2], A[3]"
   ]
  },
  {
   "cell_type": "code",
   "execution_count": 4,
   "id": "948298cd-dea8-4b6c-b021-56afb7e186c8",
   "metadata": {},
   "outputs": [
    {
     "data": {
      "text/plain": [
       "(1, 2)"
      ]
     },
     "execution_count": 4,
     "metadata": {},
     "output_type": "execute_result"
    }
   ],
   "source": [
    "B = (1, 2)\n",
    "B"
   ]
  },
  {
   "cell_type": "code",
   "execution_count": 5,
   "id": "d86646a0-fc77-4f90-92c4-6d4d65df5a67",
   "metadata": {},
   "outputs": [
    {
     "data": {
      "text/plain": [
       "(10, 20, 30, 40, 1, 2)"
      ]
     },
     "execution_count": 5,
     "metadata": {},
     "output_type": "execute_result"
    }
   ],
   "source": [
    "C = A + B\n",
    "C"
   ]
  },
  {
   "cell_type": "code",
   "execution_count": 6,
   "id": "245dd194-ca66-47f3-9e15-e4632dc16433",
   "metadata": {},
   "outputs": [
    {
     "data": {
      "text/plain": [
       "(10, 20, 30, 40, 1, 2)"
      ]
     },
     "execution_count": 6,
     "metadata": {},
     "output_type": "execute_result"
    }
   ],
   "source": [
    "A = A + B\n",
    "A"
   ]
  },
  {
   "cell_type": "code",
   "execution_count": 7,
   "id": "8dc61fd2-863c-4af3-a3bb-1eda80a66b8c",
   "metadata": {},
   "outputs": [
    {
     "ename": "NameError",
     "evalue": "name 'A' is not defined",
     "output_type": "error",
     "traceback": [
      "\u001b[0;31m---------------------------------------------------------------------------\u001b[0m",
      "\u001b[0;31mNameError\u001b[0m                                 Traceback (most recent call last)",
      "Cell \u001b[0;32mIn[7], line 2\u001b[0m\n\u001b[1;32m      1\u001b[0m \u001b[38;5;28;01mdel\u001b[39;00m A\n\u001b[0;32m----> 2\u001b[0m \u001b[43mA\u001b[49m\n",
      "\u001b[0;31mNameError\u001b[0m: name 'A' is not defined"
     ]
    }
   ],
   "source": [
    "# Eliminación de toda la tupla:\n",
    "\n",
    "del A\n",
    "A # NameError: name 'A' is not defined"
   ]
  },
  {
   "cell_type": "code",
   "execution_count": 7,
   "id": "a754bf7d",
   "metadata": {},
   "outputs": [],
   "source": [
    "# No se puede ni modificar\n",
    "# No se puede apendizar"
   ]
  },
  {
   "cell_type": "markdown",
   "id": "e285ddd9",
   "metadata": {},
   "source": [
    "## Arrays"
   ]
  },
  {
   "cell_type": "code",
   "execution_count": 8,
   "id": "2f8763a9",
   "metadata": {},
   "outputs": [],
   "source": [
    "import numpy as np"
   ]
  },
  {
   "cell_type": "code",
   "execution_count": 9,
   "id": "44cd0046",
   "metadata": {},
   "outputs": [
    {
     "data": {
      "text/plain": [
       "array([1, 2, 3, 4])"
      ]
     },
     "execution_count": 9,
     "metadata": {},
     "output_type": "execute_result"
    }
   ],
   "source": [
    "B = np.array([1, 2, 3, 4])\n",
    "B"
   ]
  },
  {
   "cell_type": "code",
   "execution_count": 10,
   "id": "a859e387",
   "metadata": {},
   "outputs": [
    {
     "data": {
      "text/plain": [
       "1"
      ]
     },
     "execution_count": 10,
     "metadata": {},
     "output_type": "execute_result"
    }
   ],
   "source": [
    "B[0]"
   ]
  },
  {
   "cell_type": "code",
   "execution_count": 11,
   "id": "5fd4a77e",
   "metadata": {},
   "outputs": [
    {
     "data": {
      "text/plain": [
       "array([20,  2,  3,  4])"
      ]
     },
     "execution_count": 11,
     "metadata": {},
     "output_type": "execute_result"
    }
   ],
   "source": [
    "B[0] = 20\n",
    "B"
   ]
  },
  {
   "cell_type": "code",
   "execution_count": 12,
   "id": "54776188",
   "metadata": {},
   "outputs": [
    {
     "data": {
      "text/plain": [
       "array([20,  2,  3,  4, 50])"
      ]
     },
     "execution_count": 12,
     "metadata": {},
     "output_type": "execute_result"
    }
   ],
   "source": [
    "B1 = np.append(B, 50)\n",
    "B1"
   ]
  },
  {
   "cell_type": "code",
   "execution_count": 13,
   "id": "cf80bb90",
   "metadata": {},
   "outputs": [],
   "source": [
    "# se puede modificar\n",
    "# se pueder añadir/ apendizar"
   ]
  },
  {
   "cell_type": "markdown",
   "id": "e3f78526",
   "metadata": {},
   "source": [
    "**o concatenar...**"
   ]
  },
  {
   "cell_type": "code",
   "execution_count": 14,
   "id": "b2569c3d",
   "metadata": {},
   "outputs": [
    {
     "data": {
      "text/plain": [
       "array([60])"
      ]
     },
     "execution_count": 14,
     "metadata": {},
     "output_type": "execute_result"
    }
   ],
   "source": [
    "B2 = np.array([60])\n",
    "B2"
   ]
  },
  {
   "cell_type": "code",
   "execution_count": 15,
   "id": "e8ae4e4c",
   "metadata": {},
   "outputs": [
    {
     "data": {
      "text/plain": [
       "array([20,  2,  3,  4, 50, 60])"
      ]
     },
     "execution_count": 15,
     "metadata": {},
     "output_type": "execute_result"
    }
   ],
   "source": [
    "# unir dos arrays\n",
    "B3 = np.concatenate((B1, B2))\n",
    "B3"
   ]
  },
  {
   "cell_type": "markdown",
   "id": "f9edb31c",
   "metadata": {},
   "source": [
    "## Listas"
   ]
  },
  {
   "cell_type": "code",
   "execution_count": 16,
   "id": "72f20087",
   "metadata": {},
   "outputs": [
    {
     "data": {
      "text/plain": [
       "[1, 2, 3, 4]"
      ]
     },
     "execution_count": 16,
     "metadata": {},
     "output_type": "execute_result"
    }
   ],
   "source": [
    "C = list((1, 2, 3, 4))\n",
    "C"
   ]
  },
  {
   "cell_type": "code",
   "execution_count": 1,
   "id": "2269c403",
   "metadata": {},
   "outputs": [
    {
     "data": {
      "text/plain": [
       "[0, 2, 3, 5, 7, 8]"
      ]
     },
     "execution_count": 1,
     "metadata": {},
     "output_type": "execute_result"
    }
   ],
   "source": [
    "D = [0, 2, 3, 5, 7, 8]\n",
    "D"
   ]
  },
  {
   "cell_type": "code",
   "execution_count": 18,
   "id": "1d939a81",
   "metadata": {},
   "outputs": [
    {
     "data": {
      "text/plain": [
       "3"
      ]
     },
     "execution_count": 18,
     "metadata": {},
     "output_type": "execute_result"
    }
   ],
   "source": [
    "D[2]"
   ]
  },
  {
   "cell_type": "code",
   "execution_count": 19,
   "id": "cf6b08da",
   "metadata": {},
   "outputs": [
    {
     "data": {
      "text/plain": [
       "[0, 2, 100, 5, 7, 8]"
      ]
     },
     "execution_count": 19,
     "metadata": {},
     "output_type": "execute_result"
    }
   ],
   "source": [
    "D[2] = 100\n",
    "D"
   ]
  },
  {
   "cell_type": "code",
   "execution_count": 20,
   "id": "9fb9b1c1",
   "metadata": {},
   "outputs": [
    {
     "data": {
      "text/plain": [
       "[0, 2, 100, 5, 7, 8, 200]"
      ]
     },
     "execution_count": 20,
     "metadata": {},
     "output_type": "execute_result"
    }
   ],
   "source": [
    "D.append(200)\n",
    "D"
   ]
  },
  {
   "cell_type": "code",
   "execution_count": 21,
   "id": "7179152b",
   "metadata": {},
   "outputs": [
    {
     "data": {
      "text/plain": [
       "[0, 2, 100, 5, 7, 8]"
      ]
     },
     "execution_count": 21,
     "metadata": {},
     "output_type": "execute_result"
    }
   ],
   "source": [
    "# Eliminar por valor concreta\n",
    "D.remove(200)\n",
    "D"
   ]
  },
  {
   "cell_type": "code",
   "execution_count": 22,
   "id": "2ef0e5c1",
   "metadata": {},
   "outputs": [
    {
     "data": {
      "text/plain": [
       "[0, 2, 5, 7, 8]"
      ]
     },
     "execution_count": 22,
     "metadata": {},
     "output_type": "execute_result"
    }
   ],
   "source": [
    "# Eliminar por posición concreta\n",
    "D.remove(D[2])\n",
    "D"
   ]
  },
  {
   "cell_type": "code",
   "execution_count": 2,
   "id": "8b75f26b-b527-49c1-993d-1452209df6a5",
   "metadata": {},
   "outputs": [
    {
     "data": {
      "text/plain": [
       "[0, 2, 3, 7, 8]"
      ]
     },
     "execution_count": 2,
     "metadata": {},
     "output_type": "execute_result"
    }
   ],
   "source": [
    "# Otra opción más:\n",
    "del D[3]\n",
    "D"
   ]
  },
  {
   "cell_type": "code",
   "execution_count": 23,
   "id": "859f8f45",
   "metadata": {},
   "outputs": [
    {
     "data": {
      "text/plain": [
       "[1, 1, 2, 3, 6, 3, 3, 8, 10, 10, 5, 1]"
      ]
     },
     "execution_count": 23,
     "metadata": {},
     "output_type": "execute_result"
    }
   ],
   "source": [
    "L = [1, 1, 2, 3, 6, 3, 3, 8, 10, 10, 5, 1]\n",
    "L"
   ]
  },
  {
   "cell_type": "code",
   "execution_count": 24,
   "id": "be02651c",
   "metadata": {},
   "outputs": [
    {
     "data": {
      "text/plain": [
       "[1, 1, 1, 2, 3, 3, 3, 5, 6, 8, 10, 10]"
      ]
     },
     "execution_count": 24,
     "metadata": {},
     "output_type": "execute_result"
    }
   ],
   "source": [
    "# ordenar los valores\n",
    "L.sort()\n",
    "L"
   ]
  },
  {
   "cell_type": "code",
   "execution_count": 25,
   "id": "3ad8bb45",
   "metadata": {},
   "outputs": [
    {
     "data": {
      "text/plain": [
       "{1, 2, 3, 5, 6, 8, 10}"
      ]
     },
     "execution_count": 25,
     "metadata": {},
     "output_type": "execute_result"
    }
   ],
   "source": [
    "# Eliminar valores duplicados y colocarlos\n",
    "L = set(L)\n",
    "L"
   ]
  },
  {
   "cell_type": "code",
   "execution_count": 26,
   "id": "0501a8f1",
   "metadata": {},
   "outputs": [
    {
     "data": {
      "text/plain": [
       "set"
      ]
     },
     "execution_count": 26,
     "metadata": {},
     "output_type": "execute_result"
    }
   ],
   "source": [
    "type(L)"
   ]
  },
  {
   "cell_type": "code",
   "execution_count": 27,
   "id": "51f06331",
   "metadata": {},
   "outputs": [
    {
     "ename": "TypeError",
     "evalue": "'set' object does not support item assignment",
     "output_type": "error",
     "traceback": [
      "\u001b[0;31m---------------------------------------------------------------------------\u001b[0m",
      "\u001b[0;31mTypeError\u001b[0m                                 Traceback (most recent call last)",
      "Cell \u001b[0;32mIn[27], line 1\u001b[0m\n\u001b[0;32m----> 1\u001b[0m \u001b[43mL\u001b[49m\u001b[43m[\u001b[49m\u001b[38;5;241;43m0\u001b[39;49m\u001b[43m]\u001b[49m \u001b[38;5;241m=\u001b[39m \u001b[38;5;241m100\u001b[39m\n",
      "\u001b[0;31mTypeError\u001b[0m: 'set' object does not support item assignment"
     ]
    }
   ],
   "source": [
    "L[0] = 100"
   ]
  },
  {
   "cell_type": "code",
   "execution_count": 28,
   "id": "ce68aa20",
   "metadata": {},
   "outputs": [
    {
     "ename": "AttributeError",
     "evalue": "'set' object has no attribute 'append'",
     "output_type": "error",
     "traceback": [
      "\u001b[0;31m---------------------------------------------------------------------------\u001b[0m",
      "\u001b[0;31mAttributeError\u001b[0m                            Traceback (most recent call last)",
      "Cell \u001b[0;32mIn[28], line 1\u001b[0m\n\u001b[0;32m----> 1\u001b[0m \u001b[43mL\u001b[49m\u001b[38;5;241;43m.\u001b[39;49m\u001b[43mappend\u001b[49m(\u001b[38;5;241m50\u001b[39m)\n",
      "\u001b[0;31mAttributeError\u001b[0m: 'set' object has no attribute 'append'"
     ]
    }
   ],
   "source": [
    "L.append(50)"
   ]
  },
  {
   "cell_type": "code",
   "execution_count": 29,
   "id": "999d885a",
   "metadata": {},
   "outputs": [
    {
     "data": {
      "text/plain": [
       "[1, 2, 3, 5, 6, 8, 10]"
      ]
     },
     "execution_count": 29,
     "metadata": {},
     "output_type": "execute_result"
    }
   ],
   "source": [
    "L1 = list(L)\n",
    "L1"
   ]
  },
  {
   "cell_type": "code",
   "execution_count": 30,
   "id": "37724515",
   "metadata": {},
   "outputs": [
    {
     "data": {
      "text/plain": [
       "[100, 2, 3, 5, 6, 8, 10]"
      ]
     },
     "execution_count": 30,
     "metadata": {},
     "output_type": "execute_result"
    }
   ],
   "source": [
    "L1[0] = 100\n",
    "L1"
   ]
  },
  {
   "cell_type": "code",
   "execution_count": 31,
   "id": "a7b4c1ed",
   "metadata": {},
   "outputs": [
    {
     "data": {
      "text/plain": [
       "[100, 2, 3, 5, 6, 8, 10, 500]"
      ]
     },
     "execution_count": 31,
     "metadata": {},
     "output_type": "execute_result"
    }
   ],
   "source": [
    "L1.append(500)\n",
    "L1"
   ]
  },
  {
   "cell_type": "markdown",
   "id": "2a0dd565",
   "metadata": {},
   "source": [
    "## Otras cosas importantes"
   ]
  },
  {
   "cell_type": "code",
   "execution_count": 32,
   "id": "230ef02c",
   "metadata": {},
   "outputs": [
    {
     "data": {
      "text/plain": [
       "[3, 7, 5, 1]"
      ]
     },
     "execution_count": 32,
     "metadata": {},
     "output_type": "execute_result"
    }
   ],
   "source": [
    "listado = [3, 7, 5, 1]\n",
    "listado"
   ]
  },
  {
   "cell_type": "code",
   "execution_count": 33,
   "id": "722d1743",
   "metadata": {},
   "outputs": [
    {
     "data": {
      "text/plain": [
       "1"
      ]
     },
     "execution_count": 33,
     "metadata": {},
     "output_type": "execute_result"
    }
   ],
   "source": [
    "min(listado)"
   ]
  },
  {
   "cell_type": "code",
   "execution_count": 34,
   "id": "1d17f870",
   "metadata": {},
   "outputs": [
    {
     "data": {
      "text/plain": [
       "7"
      ]
     },
     "execution_count": 34,
     "metadata": {},
     "output_type": "execute_result"
    }
   ],
   "source": [
    "max(listado)"
   ]
  },
  {
   "cell_type": "code",
   "execution_count": 35,
   "id": "4e005891",
   "metadata": {},
   "outputs": [
    {
     "data": {
      "text/plain": [
       "[1, 23, 26, 45, 48, 1, 3, 6, 8]"
      ]
     },
     "execution_count": 35,
     "metadata": {},
     "output_type": "execute_result"
    }
   ],
   "source": [
    "# Recomendación listas:\n",
    "L = [1, 23, 26, 45, 48, 1, 3, 6, 8]\n",
    "L"
   ]
  },
  {
   "cell_type": "code",
   "execution_count": 36,
   "id": "0e7d474d",
   "metadata": {},
   "outputs": [
    {
     "data": {
      "text/plain": [
       "[1, 23, 26, 45, 48, 1, 3, 6, 8]"
      ]
     },
     "execution_count": 36,
     "metadata": {},
     "output_type": "execute_result"
    }
   ],
   "source": [
    "# separar en grupos de 3 en 3:\n",
    "L = [\n",
    "    1, 23, 26,\n",
    "    45, 48, 1,\n",
    "    3, 6, 8\n",
    "]\n",
    "L"
   ]
  },
  {
   "cell_type": "code",
   "execution_count": 37,
   "id": "906f2fa0",
   "metadata": {},
   "outputs": [
    {
     "data": {
      "text/plain": [
       "[1, 2, 3, 4, 5, 6]"
      ]
     },
     "execution_count": 37,
     "metadata": {},
     "output_type": "execute_result"
    }
   ],
   "source": [
    "test = [1, 2, 3, 4, 5, 6]\n",
    "test"
   ]
  },
  {
   "cell_type": "code",
   "execution_count": 38,
   "id": "a5fb1c15",
   "metadata": {},
   "outputs": [
    {
     "data": {
      "text/plain": [
       "[6, 5, 4, 3, 2, 1]"
      ]
     },
     "execution_count": 38,
     "metadata": {},
     "output_type": "execute_result"
    }
   ],
   "source": [
    "test.reverse()\n",
    "test"
   ]
  },
  {
   "cell_type": "code",
   "execution_count": 39,
   "id": "b301c656",
   "metadata": {},
   "outputs": [
    {
     "data": {
      "text/plain": [
       "<enumerate at 0x7f160c0e4200>"
      ]
     },
     "execution_count": 39,
     "metadata": {},
     "output_type": "execute_result"
    }
   ],
   "source": [
    "test1 = enumerate(test)\n",
    "test1"
   ]
  },
  {
   "cell_type": "code",
   "execution_count": 40,
   "id": "e452b26f",
   "metadata": {},
   "outputs": [
    {
     "data": {
      "text/plain": [
       "[(0, 6), (1, 5), (2, 4), (3, 3), (4, 2), (5, 1)]"
      ]
     },
     "execution_count": 40,
     "metadata": {},
     "output_type": "execute_result"
    }
   ],
   "source": [
    "list(test1)"
   ]
  },
  {
   "cell_type": "markdown",
   "id": "2850b320",
   "metadata": {},
   "source": [
    "## Transformación de entre ellas (Array/Lista)"
   ]
  },
  {
   "cell_type": "markdown",
   "id": "91338fce",
   "metadata": {},
   "source": [
    "**Numpy array a lista**"
   ]
  },
  {
   "cell_type": "code",
   "execution_count": 41,
   "id": "c9ee1d95",
   "metadata": {},
   "outputs": [],
   "source": [
    "import numpy as np"
   ]
  },
  {
   "cell_type": "code",
   "execution_count": 42,
   "id": "c69d910a",
   "metadata": {},
   "outputs": [
    {
     "data": {
      "text/plain": [
       "array([ 1,  3,  4, 25,  1,  6,  7])"
      ]
     },
     "execution_count": 42,
     "metadata": {},
     "output_type": "execute_result"
    }
   ],
   "source": [
    "E = np.array([1, 3, 4, 25, 1, 6, 7])\n",
    "E"
   ]
  },
  {
   "cell_type": "code",
   "execution_count": 43,
   "id": "554c8f2f",
   "metadata": {},
   "outputs": [
    {
     "data": {
      "text/plain": [
       "[1, 3, 4, 25, 1, 6, 7]"
      ]
     },
     "execution_count": 43,
     "metadata": {},
     "output_type": "execute_result"
    }
   ],
   "source": [
    "E1 = E.tolist()\n",
    "E1"
   ]
  },
  {
   "cell_type": "markdown",
   "id": "79a87c14",
   "metadata": {},
   "source": [
    "**Lista a numpy Array**"
   ]
  },
  {
   "cell_type": "code",
   "execution_count": 44,
   "id": "3f79fcb1",
   "metadata": {},
   "outputs": [
    {
     "data": {
      "text/plain": [
       "[2, 3, 6, 8, 4, 12, 25]"
      ]
     },
     "execution_count": 44,
     "metadata": {},
     "output_type": "execute_result"
    }
   ],
   "source": [
    "F = [2, 3, 6, 8, 4, 12, 25]\n",
    "F"
   ]
  },
  {
   "cell_type": "code",
   "execution_count": 45,
   "id": "be813f61",
   "metadata": {},
   "outputs": [
    {
     "data": {
      "text/plain": [
       "array([ 2,  3,  6,  8,  4, 12, 25])"
      ]
     },
     "execution_count": 45,
     "metadata": {},
     "output_type": "execute_result"
    }
   ],
   "source": [
    "F1 = np.array(F)\n",
    "F1"
   ]
  },
  {
   "cell_type": "code",
   "execution_count": 46,
   "id": "e64a5023-d6aa-443a-bd91-024057e8ad02",
   "metadata": {},
   "outputs": [
    {
     "name": "stdout",
     "output_type": "stream",
     "text": [
      "[ 2  3  6  8  4 12 25]\n"
     ]
    }
   ],
   "source": [
    "print(F1)"
   ]
  },
  {
   "cell_type": "code",
   "execution_count": 47,
   "id": "2bf2a3ac",
   "metadata": {},
   "outputs": [
    {
     "data": {
      "text/plain": [
       "(list, numpy.ndarray)"
      ]
     },
     "execution_count": 47,
     "metadata": {},
     "output_type": "execute_result"
    }
   ],
   "source": [
    "type(E1), type(F1)"
   ]
  },
  {
   "cell_type": "markdown",
   "id": "1f6bf7e2",
   "metadata": {},
   "source": [
    "## Matrices"
   ]
  },
  {
   "cell_type": "markdown",
   "id": "a6de7d9b",
   "metadata": {},
   "source": [
    "### Ejemplo 1: Teoría"
   ]
  },
  {
   "cell_type": "code",
   "execution_count": 48,
   "id": "48f7b1ce",
   "metadata": {},
   "outputs": [],
   "source": [
    "import numpy as np"
   ]
  },
  {
   "cell_type": "code",
   "execution_count": 49,
   "id": "52308d0e",
   "metadata": {},
   "outputs": [
    {
     "data": {
      "text/plain": [
       "array([[ 10,  20,  30,  40],\n",
       "       [ 50,  60,  70,  80],\n",
       "       [ 90, 100, 110, 120]])"
      ]
     },
     "execution_count": 49,
     "metadata": {},
     "output_type": "execute_result"
    }
   ],
   "source": [
    "a = np.array([\n",
    "    [10, 20, 30, 40],\n",
    "    [50, 60, 70, 80],\n",
    "    [90, 100, 110, 120]\n",
    "])\n",
    "a"
   ]
  },
  {
   "cell_type": "markdown",
   "id": "804183dc",
   "metadata": {},
   "source": [
    "### Ejemplo 2: Suma de matrices"
   ]
  },
  {
   "cell_type": "code",
   "execution_count": 50,
   "id": "83e9e927",
   "metadata": {},
   "outputs": [
    {
     "data": {
      "text/plain": [
       "array([[1, 2],\n",
       "       [3, 4]])"
      ]
     },
     "execution_count": 50,
     "metadata": {},
     "output_type": "execute_result"
    }
   ],
   "source": [
    "# np.array([ [fila1], [fila2]])\n",
    "matriz1 = np.array([[1, 2], [3, 4]])\n",
    "matriz1"
   ]
  },
  {
   "cell_type": "code",
   "execution_count": 51,
   "id": "74f3b36a",
   "metadata": {},
   "outputs": [
    {
     "data": {
      "text/plain": [
       "array([[5, 6],\n",
       "       [7, 8]])"
      ]
     },
     "execution_count": 51,
     "metadata": {},
     "output_type": "execute_result"
    }
   ],
   "source": [
    "matriz2 = np.array([[5, 6], [7, 8]])\n",
    "matriz2"
   ]
  },
  {
   "cell_type": "code",
   "execution_count": 52,
   "id": "d06d453b",
   "metadata": {},
   "outputs": [
    {
     "data": {
      "text/plain": [
       "array([[ 6,  8],\n",
       "       [10, 12]])"
      ]
     },
     "execution_count": 52,
     "metadata": {},
     "output_type": "execute_result"
    }
   ],
   "source": [
    "matriz_suma = matriz1 + matriz2\n",
    "matriz_suma"
   ]
  },
  {
   "cell_type": "markdown",
   "id": "cab642be",
   "metadata": {},
   "source": [
    "### Ejemplo 3: Multiplicación y división de matrices"
   ]
  },
  {
   "cell_type": "code",
   "execution_count": 53,
   "id": "b6320298",
   "metadata": {},
   "outputs": [
    {
     "data": {
      "text/plain": [
       "array([[1, 2],\n",
       "       [3, 4]])"
      ]
     },
     "execution_count": 53,
     "metadata": {},
     "output_type": "execute_result"
    }
   ],
   "source": [
    "# np.array([ [fila1], [fila2]])\n",
    "matriz1 = np.array([[1, 2], [3, 4]])\n",
    "matriz1"
   ]
  },
  {
   "cell_type": "code",
   "execution_count": 54,
   "id": "56a4a997-25bd-4e20-a3e7-50f64f2484c9",
   "metadata": {},
   "outputs": [
    {
     "data": {
      "text/plain": [
       "3"
      ]
     },
     "execution_count": 54,
     "metadata": {},
     "output_type": "execute_result"
    }
   ],
   "source": [
    "matriz1[1][0]"
   ]
  },
  {
   "cell_type": "code",
   "execution_count": 55,
   "id": "c6386ec9",
   "metadata": {},
   "outputs": [
    {
     "data": {
      "text/plain": [
       "array([[5, 6],\n",
       "       [7, 8]])"
      ]
     },
     "execution_count": 55,
     "metadata": {},
     "output_type": "execute_result"
    }
   ],
   "source": [
    "matriz2 = np.array([[5, 6], [7, 8]])\n",
    "matriz2"
   ]
  },
  {
   "cell_type": "code",
   "execution_count": 56,
   "id": "564c2b24",
   "metadata": {},
   "outputs": [
    {
     "data": {
      "text/plain": [
       "array([[2, 4],\n",
       "       [6, 8]])"
      ]
     },
     "execution_count": 56,
     "metadata": {},
     "output_type": "execute_result"
    }
   ],
   "source": [
    "# Multiplicación\n",
    "matriz_multiplicacion = 2 * matriz1\n",
    "matriz_multiplicacion"
   ]
  },
  {
   "cell_type": "code",
   "execution_count": 57,
   "id": "dbf07069",
   "metadata": {},
   "outputs": [
    {
     "data": {
      "text/plain": [
       "array([[1., 2.],\n",
       "       [3., 4.]])"
      ]
     },
     "execution_count": 57,
     "metadata": {},
     "output_type": "execute_result"
    }
   ],
   "source": [
    "# División\n",
    "matriz_division = matriz_multiplicacion / 2\n",
    "matriz_division"
   ]
  },
  {
   "cell_type": "code",
   "execution_count": 58,
   "id": "1eb9043a",
   "metadata": {},
   "outputs": [
    {
     "data": {
      "text/plain": [
       "array([[2.5, 3. ],\n",
       "       [3.5, 4. ]])"
      ]
     },
     "execution_count": 58,
     "metadata": {},
     "output_type": "execute_result"
    }
   ],
   "source": [
    "matriz_division = matriz2 / 2\n",
    "matriz_division"
   ]
  },
  {
   "cell_type": "markdown",
   "id": "5a9e4a52",
   "metadata": {},
   "source": [
    "*Creado por:*\n",
    "\n",
    "*Isabel Maniega*"
   ]
  }
 ],
 "metadata": {
  "kernelspec": {
   "display_name": "Python 3 (ipykernel)",
   "language": "python",
   "name": "python3"
  },
  "language_info": {
   "codemirror_mode": {
    "name": "ipython",
    "version": 3
   },
   "file_extension": ".py",
   "mimetype": "text/x-python",
   "name": "python",
   "nbconvert_exporter": "python",
   "pygments_lexer": "ipython3",
   "version": "3.8.18"
  }
 },
 "nbformat": 4,
 "nbformat_minor": 5
}
