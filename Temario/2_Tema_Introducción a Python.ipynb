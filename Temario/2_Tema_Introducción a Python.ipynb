{
 "cells": [
  {
   "cell_type": "markdown",
   "id": "2824c452",
   "metadata": {},
   "source": [
    "*Creado por:*\n",
    "    \n",
    "*Isabel Maniega*"
   ]
  },
  {
   "cell_type": "markdown",
   "id": "ba082723",
   "metadata": {},
   "source": [
    "# -1.1- Introducción a Python (Continuación)"
   ]
  },
  {
   "cell_type": "markdown",
   "id": "27679309",
   "metadata": {},
   "source": [
    "## -1.1.0- Diccionarios"
   ]
  },
  {
   "cell_type": "code",
   "execution_count": null,
   "id": "c9b6eb78",
   "metadata": {},
   "outputs": [],
   "source": [
    "# clave-valor\n",
    "# \"key\": value\n",
    "# {\"key\": value}\n",
    "# {\"key1\": \"value1\", \"key2\": \"value2\",.....}"
   ]
  },
  {
   "cell_type": "code",
   "execution_count": null,
   "id": "a69bcbcb",
   "metadata": {},
   "outputs": [],
   "source": [
    "diccionario = {\"A\": 10, \"B\": -2, \"C\": 35}\n",
    "diccionario"
   ]
  },
  {
   "cell_type": "code",
   "execution_count": null,
   "id": "ccf71370",
   "metadata": {},
   "outputs": [],
   "source": [
    "diccionario[\"A\"] # 10"
   ]
  },
  {
   "cell_type": "code",
   "execution_count": null,
   "id": "6104d588",
   "metadata": {},
   "outputs": [],
   "source": [
    "diccionario[\"C\"] # 35"
   ]
  },
  {
   "cell_type": "code",
   "execution_count": null,
   "id": "4ee0d5bb",
   "metadata": {},
   "outputs": [],
   "source": [
    "diccionario[\"B\"] # -2"
   ]
  },
  {
   "cell_type": "code",
   "execution_count": null,
   "id": "34853469",
   "metadata": {},
   "outputs": [],
   "source": [
    "len(diccionario)"
   ]
  },
  {
   "cell_type": "code",
   "execution_count": null,
   "id": "cd326df5",
   "metadata": {},
   "outputs": [],
   "source": [
    "diccionario = {\"clave1\": 1, \"clave2\": 2, \"clave3\": 3}\n",
    "diccionario"
   ]
  },
  {
   "cell_type": "code",
   "execution_count": null,
   "id": "88fb3534",
   "metadata": {},
   "outputs": [],
   "source": [
    "# Mostrar valores de claves\n",
    "diccionario.keys()"
   ]
  },
  {
   "cell_type": "code",
   "execution_count": null,
   "id": "a6cb7695",
   "metadata": {},
   "outputs": [],
   "source": [
    "type(diccionario.keys())"
   ]
  },
  {
   "cell_type": "code",
   "execution_count": null,
   "id": "5a99f0b0",
   "metadata": {},
   "outputs": [],
   "source": [
    "# Mostrar valores de los valores\n",
    "diccionario.values()"
   ]
  },
  {
   "cell_type": "code",
   "execution_count": null,
   "id": "2f366775",
   "metadata": {},
   "outputs": [],
   "source": [
    "# Mostrar información del diccionario\n",
    "# Usada en Bucles\n",
    "diccionario.items()"
   ]
  },
  {
   "cell_type": "code",
   "execution_count": null,
   "id": "95e51cc2",
   "metadata": {},
   "outputs": [],
   "source": [
    "# Modificación de un valor\n",
    "diccionario[\"clave1\"] = 5\n",
    "diccionario"
   ]
  },
  {
   "cell_type": "code",
   "execution_count": null,
   "id": "cfc28e8b",
   "metadata": {},
   "outputs": [],
   "source": [
    "# Eliminacion de un campo del diccionario\n",
    "del diccionario[\"clave3\"]\n",
    "diccionario"
   ]
  },
  {
   "cell_type": "code",
   "execution_count": null,
   "id": "b90e5b2c",
   "metadata": {},
   "outputs": [],
   "source": [
    "len(diccionario)"
   ]
  },
  {
   "cell_type": "markdown",
   "id": "9c152ea5",
   "metadata": {},
   "source": [
    "## Usos de tuplas/listas y diccionarios en Dataframe"
   ]
  },
  {
   "cell_type": "code",
   "execution_count": null,
   "id": "3b5a2e43",
   "metadata": {},
   "outputs": [],
   "source": [
    "import pandas as pd"
   ]
  },
  {
   "cell_type": "code",
   "execution_count": null,
   "id": "98e76d26",
   "metadata": {},
   "outputs": [],
   "source": [
    "# Usamos comillas dobles para los nombres de los estudiantes (E)\n",
    "E = [\"Andres\", \"Marcos\", \"Eva\", \"María\"]\n",
    "E"
   ]
  },
  {
   "cell_type": "code",
   "execution_count": null,
   "id": "1905fff1",
   "metadata": {},
   "outputs": [],
   "source": [
    "# Notas de los exámenes (N), de 0 a 10, siendo 10 la nota más alta\n",
    "N = [9, 7, 8, 6]\n",
    "N"
   ]
  },
  {
   "cell_type": "code",
   "execution_count": null,
   "id": "0d6b4b82",
   "metadata": {},
   "outputs": [],
   "source": [
    "data = list(zip(E, N))\n",
    "data"
   ]
  },
  {
   "cell_type": "code",
   "execution_count": null,
   "id": "2994135d",
   "metadata": {},
   "outputs": [],
   "source": [
    "df = pd.DataFrame(data, columns=[\"Estudiantes\", \"Notas\"])\n",
    "df"
   ]
  },
  {
   "cell_type": "code",
   "execution_count": null,
   "id": "284299f1",
   "metadata": {},
   "outputs": [],
   "source": [
    "diccionario = {\"Estudiantes\": E, \"Notas\": N}\n",
    "df2 = pd.DataFrame(diccionario)\n",
    "df2"
   ]
  },
  {
   "cell_type": "code",
   "execution_count": null,
   "id": "8e8b5be0",
   "metadata": {},
   "outputs": [],
   "source": [
    "curso = dict(Estudiantes=E, Notas=N)\n",
    "curso"
   ]
  },
  {
   "cell_type": "markdown",
   "id": "b9081255",
   "metadata": {},
   "source": [
    "## -1.1.1- Strings"
   ]
  },
  {
   "cell_type": "code",
   "execution_count": null,
   "id": "5493a1ea",
   "metadata": {},
   "outputs": [],
   "source": [
    "s1 = \"Hola, ¿Como estás?\"\n",
    "s1"
   ]
  },
  {
   "cell_type": "code",
   "execution_count": null,
   "id": "3f37b2c1",
   "metadata": {},
   "outputs": [],
   "source": [
    "s1[-1], s1[17]"
   ]
  },
  {
   "cell_type": "code",
   "execution_count": null,
   "id": "de65893b",
   "metadata": {},
   "outputs": [],
   "source": [
    "len(s1)"
   ]
  },
  {
   "cell_type": "code",
   "execution_count": null,
   "id": "09776bec",
   "metadata": {},
   "outputs": [],
   "source": [
    "s1[0], s1[1], s1[2], s1[3], s1[4], s1[5], s1[6], s1[7], s1[8], s1[9]"
   ]
  },
  {
   "cell_type": "code",
   "execution_count": null,
   "id": "c749cfe5",
   "metadata": {},
   "outputs": [],
   "source": [
    "s1[0]"
   ]
  },
  {
   "cell_type": "code",
   "execution_count": null,
   "id": "0a41f4cd",
   "metadata": {},
   "outputs": [],
   "source": [
    "# Ejemplo de lista para buscar palabras que empiezen por \"J\": [\"Maria\", \"Juan\", \"Elisa\"]\n",
    "# startswith = False, True (Boleano)\n",
    "s1.startswith(\"J\")"
   ]
  },
  {
   "cell_type": "code",
   "execution_count": null,
   "id": "5f991a46",
   "metadata": {},
   "outputs": [],
   "source": [
    "s1.startswith(\"H\")"
   ]
  },
  {
   "cell_type": "code",
   "execution_count": null,
   "id": "345f3db5",
   "metadata": {},
   "outputs": [],
   "source": [
    "# Ejemplo de lista para buscar palabras que acaben por \"J\": [\"Maria\", \"Juan\", \"Elisa\"]\n",
    "# endswith = False, True (Boleano)\n",
    "s1.endswith(\"J\")"
   ]
  },
  {
   "cell_type": "code",
   "execution_count": null,
   "id": "31911278",
   "metadata": {},
   "outputs": [],
   "source": [
    "s1.endswith(\"?\")"
   ]
  },
  {
   "cell_type": "markdown",
   "id": "5672de7b",
   "metadata": {},
   "source": [
    "## -1.1.2- Listas con falta de valores (missing values)"
   ]
  },
  {
   "cell_type": "code",
   "execution_count": null,
   "id": "77975530",
   "metadata": {},
   "outputs": [],
   "source": [
    "L = [10, -20, None, 80, -5, None, 20]\n",
    "L"
   ]
  },
  {
   "cell_type": "code",
   "execution_count": null,
   "id": "79a2560f",
   "metadata": {},
   "outputs": [],
   "source": [
    "L[2] = -1\n",
    "L"
   ]
  },
  {
   "cell_type": "code",
   "execution_count": null,
   "id": "34282861",
   "metadata": {},
   "outputs": [],
   "source": [
    "L[-2] = -1\n",
    "L"
   ]
  },
  {
   "cell_type": "code",
   "execution_count": null,
   "id": "0f66d42a",
   "metadata": {},
   "outputs": [],
   "source": [
    "# Bucles \"for\" muestre en lista\n",
    "for i in L:\n",
    "    print(i)"
   ]
  },
  {
   "cell_type": "code",
   "execution_count": null,
   "id": "865e8ca7",
   "metadata": {},
   "outputs": [],
   "source": [
    "L = [10, -20, None, 80, -5, None, 20]\n",
    "L"
   ]
  },
  {
   "cell_type": "code",
   "execution_count": null,
   "id": "7154a119",
   "metadata": {},
   "outputs": [],
   "source": [
    "# range: limita los valores a mostrar.\n",
    "# range decir empieza en posición 0 y acaba en posición 7\n",
    "for i in range(0, len(L)):\n",
    "    print(i)"
   ]
  },
  {
   "cell_type": "code",
   "execution_count": null,
   "id": "49d56772",
   "metadata": {},
   "outputs": [],
   "source": [
    "# condiciones: si esto es igual a x entonces....\n",
    "# if i == None:\n",
    "# sino haz esto otro = else:"
   ]
  },
  {
   "cell_type": "code",
   "execution_count": null,
   "id": "95d98d3e",
   "metadata": {},
   "outputs": [],
   "source": [
    "for i in range(0, len(L)):\n",
    "    if L[i] == None:\n",
    "        print(True)\n",
    "    else:\n",
    "        print(False)"
   ]
  },
  {
   "cell_type": "code",
   "execution_count": null,
   "id": "d7fcca27",
   "metadata": {},
   "outputs": [],
   "source": [
    "for i in range(0, len(L)):\n",
    "    if L[i] == None:\n",
    "        L[i] = -1\n",
    "L"
   ]
  },
  {
   "cell_type": "markdown",
   "id": "8f7aaefb",
   "metadata": {},
   "source": [
    "### Faltan valores en un Dataframe"
   ]
  },
  {
   "cell_type": "code",
   "execution_count": null,
   "id": "bba8ef15",
   "metadata": {},
   "outputs": [],
   "source": [
    "L = [10, -20, None, 80, -5, None, 20]\n",
    "L"
   ]
  },
  {
   "cell_type": "code",
   "execution_count": null,
   "id": "d1110b90",
   "metadata": {},
   "outputs": [],
   "source": [
    "import pandas as pd\n",
    "df = pd.DataFrame(L, columns=[\"Temperatura\"])\n",
    "df"
   ]
  },
  {
   "cell_type": "code",
   "execution_count": null,
   "id": "307cdee2",
   "metadata": {},
   "outputs": [],
   "source": [
    "df.isnull()"
   ]
  },
  {
   "cell_type": "code",
   "execution_count": null,
   "id": "1c1b71e2",
   "metadata": {},
   "outputs": [],
   "source": [
    "df.isnull().sum()"
   ]
  },
  {
   "cell_type": "code",
   "execution_count": null,
   "id": "9b027fca",
   "metadata": {},
   "outputs": [],
   "source": [
    "df.describe()"
   ]
  },
  {
   "cell_type": "code",
   "execution_count": null,
   "id": "e710edc5",
   "metadata": {},
   "outputs": [],
   "source": [
    "df"
   ]
  },
  {
   "cell_type": "code",
   "execution_count": null,
   "id": "146fbe5c",
   "metadata": {},
   "outputs": [],
   "source": [
    "df.Temperatura = df.Temperatura.fillna(df.Temperatura.mean())\n",
    "df"
   ]
  },
  {
   "cell_type": "code",
   "execution_count": null,
   "id": "896905f1",
   "metadata": {},
   "outputs": [],
   "source": [
    "df['Humedad'] = [10, 20, 30, 40, 50, 60, 70]\n",
    "df"
   ]
  },
  {
   "cell_type": "code",
   "execution_count": null,
   "id": "865b588c",
   "metadata": {},
   "outputs": [],
   "source": [
    "df = df.drop([\"Humedad\"], axis=1)\n",
    "df"
   ]
  },
  {
   "cell_type": "markdown",
   "id": "8ba798aa",
   "metadata": {},
   "source": [
    "### Range de números"
   ]
  },
  {
   "cell_type": "code",
   "execution_count": null,
   "id": "902aa67e",
   "metadata": {},
   "outputs": [],
   "source": [
    "# range(inicio, fin+1, salto)\n",
    "# rango = range(1, 10) --> defecto el salto 1\n",
    "rango = range(1, 10, 1)\n",
    "rango"
   ]
  },
  {
   "cell_type": "code",
   "execution_count": null,
   "id": "9fe987cd",
   "metadata": {},
   "outputs": [],
   "source": [
    "# imprimimos los valores del rango\n",
    "for numero in rango:\n",
    "    print(numero)"
   ]
  },
  {
   "cell_type": "code",
   "execution_count": null,
   "id": "5fb91133",
   "metadata": {},
   "outputs": [],
   "source": [
    "# les almacenamos e imprimos\n",
    "listado_rango = []\n",
    "for numero in rango:\n",
    "    listado_rango.append(numero)\n",
    "    # print(\"Añadiendo valores: \", listado_rango)\n",
    "print(\"Listado final: \", listado_rango)"
   ]
  },
  {
   "cell_type": "markdown",
   "id": "681f987f",
   "metadata": {},
   "source": [
    "**np.arange: otra forma posible**"
   ]
  },
  {
   "cell_type": "code",
   "execution_count": null,
   "id": "b1a28eb2",
   "metadata": {},
   "outputs": [],
   "source": [
    "import numpy as np"
   ]
  },
  {
   "cell_type": "code",
   "execution_count": null,
   "id": "c7eb468b",
   "metadata": {},
   "outputs": [],
   "source": [
    "# range(inicio, fin+1, salto)\n",
    "# rango = range(1, 10, 1)\n",
    "rango_np = np.arange(1, 10, 1)\n",
    "rango_np"
   ]
  },
  {
   "cell_type": "code",
   "execution_count": null,
   "id": "2ed0df52",
   "metadata": {},
   "outputs": [],
   "source": [
    "# Convertir de array a lista\n",
    "rango_lista = rango_np.tolist()\n",
    "rango_lista"
   ]
  },
  {
   "cell_type": "code",
   "execution_count": null,
   "id": "30863b17",
   "metadata": {},
   "outputs": [],
   "source": [
    "# Aplicar saltos\n",
    "# range(inicio, fin+1, salto)\n",
    "num = np.arange(3, 37, 3).tolist()\n",
    "num"
   ]
  },
  {
   "cell_type": "code",
   "execution_count": null,
   "id": "36312195",
   "metadata": {},
   "outputs": [],
   "source": [
    "# Cuando es de 1 en 1. No es necesario añadirlo:\n",
    "# rango = range(1, 10, 1)\n",
    "rango_np = np.arange(1, 10)\n",
    "rango_np"
   ]
  },
  {
   "cell_type": "code",
   "execution_count": null,
   "id": "08fc455a",
   "metadata": {},
   "outputs": [],
   "source": [
    "# si nosotros queremos que empiece 0, no es necesario indicarlo:\n",
    "rango_np2 = np.arange(10)\n",
    "rango_np2"
   ]
  },
  {
   "cell_type": "code",
   "execution_count": null,
   "id": "9c4ec043",
   "metadata": {},
   "outputs": [],
   "source": [
    "# equivale a:\n",
    "# si nosotros queremos que empiece 0, no es necesario indicarlo:\n",
    "rango_np2 = np.arange(0, 10)\n",
    "rango_np2"
   ]
  },
  {
   "cell_type": "markdown",
   "id": "b67a459b",
   "metadata": {},
   "source": [
    "## -1.2- Funciones, Clases y Objetos"
   ]
  },
  {
   "cell_type": "markdown",
   "id": "93762594",
   "metadata": {},
   "source": [
    "### Concepto de función general:"
   ]
  },
  {
   "cell_type": "code",
   "execution_count": null,
   "id": "129e90dd",
   "metadata": {},
   "outputs": [],
   "source": [
    "# Funciones se definen:\n",
    "# def nombre de la funcion():"
   ]
  },
  {
   "cell_type": "code",
   "execution_count": null,
   "id": "808fc51a",
   "metadata": {},
   "outputs": [],
   "source": [
    "# 1º definir función:\n",
    "def funcion_suma(x):\n",
    "    y = x + 20\n",
    "    return y"
   ]
  },
  {
   "cell_type": "code",
   "execution_count": null,
   "id": "efd6d91c",
   "metadata": {},
   "outputs": [],
   "source": [
    "funcion_suma(5)"
   ]
  },
  {
   "cell_type": "code",
   "execution_count": null,
   "id": "f69c050c",
   "metadata": {},
   "outputs": [],
   "source": [
    "funcion_suma(10)"
   ]
  },
  {
   "cell_type": "markdown",
   "id": "45bd03a9",
   "metadata": {},
   "source": [
    "### Función lambda"
   ]
  },
  {
   "cell_type": "code",
   "execution_count": null,
   "id": "5402ace1",
   "metadata": {},
   "outputs": [],
   "source": [
    "# con funciones:\n",
    "def funcion_suma_1(x):\n",
    "    return x +20\n",
    "funcion_suma_1(5)"
   ]
  },
  {
   "cell_type": "code",
   "execution_count": null,
   "id": "b55f7250",
   "metadata": {},
   "outputs": [],
   "source": [
    "funcion_suma_1(10)"
   ]
  },
  {
   "cell_type": "code",
   "execution_count": null,
   "id": "abe7c2db",
   "metadata": {},
   "outputs": [],
   "source": [
    "# con lambda:\n",
    "(lambda x: x + 20)(5)"
   ]
  },
  {
   "cell_type": "code",
   "execution_count": null,
   "id": "d859b825",
   "metadata": {},
   "outputs": [],
   "source": [
    "# con lambda:\n",
    "(lambda x: x + 20)(10)"
   ]
  },
  {
   "cell_type": "markdown",
   "id": "9b316dba",
   "metadata": {},
   "source": [
    "### Break (continue, pass, NO EXPLICADOS de momento)"
   ]
  },
  {
   "cell_type": "code",
   "execution_count": null,
   "id": "e7f524ab",
   "metadata": {},
   "outputs": [],
   "source": [
    "L = [2, 5, 7, 9, 12, 25, -6]\n",
    "L"
   ]
  },
  {
   "cell_type": "code",
   "execution_count": null,
   "id": "5e322b0e",
   "metadata": {},
   "outputs": [],
   "source": [
    "for numero in L:\n",
    "    if numero == 9:\n",
    "        print(\"\\n\")\n",
    "        break # Rompa el bucles: pare el bucle for\n",
    "    else:\n",
    "        print(numero)\n",
    "print(\"hemos llegado al valor 9, y salió del bucle FOR\")\n",
    "# 2, 5, 7 Les imprime\n",
    "# 9 Salta (NO IMPRIME), \\n permite dejar la linea en blanco\n",
    "# 12, 25, -6 NO se IMPRIMEN"
   ]
  },
  {
   "cell_type": "markdown",
   "id": "3b452db8",
   "metadata": {},
   "source": [
    "### Clases"
   ]
  },
  {
   "cell_type": "code",
   "execution_count": null,
   "id": "346a9c5a",
   "metadata": {},
   "outputs": [],
   "source": [
    "# definir una clase pone class + nombre de la clase:\n",
    "class Python:\n",
    "    def funcion_imprimir(y):\n",
    "        print(\"estamos aquí en la función imprimir: \", y)\n",
    "    \n",
    "    def funcion_suma():\n",
    "        x = 2\n",
    "        z = 4\n",
    "        y = x + z\n",
    "        print(\"Estamos en la función suma y la suma de y es %s\" %(y))\n",
    "        "
   ]
  },
  {
   "cell_type": "code",
   "execution_count": null,
   "id": "3b072f81",
   "metadata": {},
   "outputs": [],
   "source": [
    "Python.funcion_imprimir(8)"
   ]
  },
  {
   "cell_type": "code",
   "execution_count": null,
   "id": "041c817f",
   "metadata": {},
   "outputs": [],
   "source": [
    "Python.funcion_suma()"
   ]
  },
  {
   "cell_type": "markdown",
   "id": "474491c2",
   "metadata": {},
   "source": [
    "## Programación Orientada a Objetos (POO)"
   ]
  },
  {
   "cell_type": "code",
   "execution_count": null,
   "id": "78b62f5a",
   "metadata": {},
   "outputs": [],
   "source": [
    "class Empleado:\n",
    "    # funciones se les llama MÉTODOS.\n",
    "    # variables se les llama ATRIBUTOS\n",
    "    # Init se pone con (__) dos barras bajas:\n",
    "    def __init__(self, Id, Name, Age, Role):\n",
    "        self.Id = Id\n",
    "        self.Name = Name\n",
    "        self.Age = Age\n",
    "        self.Role = Role\n",
    "# Instancio\n",
    "# genero tantos clientes/empleados como quiera de esta forma\n",
    "# empleado1 es el objeto1\n",
    "empleado1 = Empleado(1, \"Ana\", 30, \"Ingeniera\")\n",
    "empleado2 = Empleado(2, \"Pedro\", 26, \"Arquitecto\")\n",
    "empleado3 = Empleado(3, \"Maria\", 54, \"Abogado\")"
   ]
  },
  {
   "cell_type": "code",
   "execution_count": null,
   "id": "ff136b26",
   "metadata": {},
   "outputs": [],
   "source": [
    "empleado1.Age"
   ]
  },
  {
   "cell_type": "code",
   "execution_count": null,
   "id": "ba624d54",
   "metadata": {},
   "outputs": [],
   "source": [
    "empleado3.Role"
   ]
  },
  {
   "cell_type": "markdown",
   "id": "19df4b9c",
   "metadata": {},
   "source": [
    "### Try - Except"
   ]
  },
  {
   "cell_type": "code",
   "execution_count": null,
   "id": "eba9a37d",
   "metadata": {},
   "outputs": [],
   "source": [
    "x = [1, 2, 3, 4]\n",
    "x"
   ]
  },
  {
   "cell_type": "code",
   "execution_count": null,
   "id": "ea566fa0",
   "metadata": {},
   "outputs": [],
   "source": [
    "try:\n",
    "    print(w)\n",
    "except:\n",
    "    print(\"w no esta definida, no podemos imprimirla\")    "
   ]
  },
  {
   "cell_type": "code",
   "execution_count": null,
   "id": "d25c4533",
   "metadata": {},
   "outputs": [],
   "source": [
    "try:\n",
    "    print(x)\n",
    "except:\n",
    "    print(\"w no esta definida, no podemos imprimirla\")   "
   ]
  },
  {
   "cell_type": "code",
   "execution_count": null,
   "id": "91e742a6",
   "metadata": {},
   "outputs": [],
   "source": [
    "try:\n",
    "    print(w)\n",
    "except Exception as e:\n",
    "    print(\"### Error: %s\" %str(e))    "
   ]
  },
  {
   "cell_type": "markdown",
   "id": "31a7c31b",
   "metadata": {},
   "source": [
    "*Contenido creado por:*\n",
    "\n",
    "*Isabel Maniega*"
   ]
  }
 ],
 "metadata": {
  "kernelspec": {
   "display_name": "Python 3 (ipykernel)",
   "language": "python",
   "name": "python3"
  },
  "language_info": {
   "codemirror_mode": {
    "name": "ipython",
    "version": 3
   },
   "file_extension": ".py",
   "mimetype": "text/x-python",
   "name": "python",
   "nbconvert_exporter": "python",
   "pygments_lexer": "ipython3",
   "version": "3.8.18"
  }
 },
 "nbformat": 4,
 "nbformat_minor": 5
}
