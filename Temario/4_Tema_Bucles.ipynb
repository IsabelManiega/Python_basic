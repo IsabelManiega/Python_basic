{
 "cells": [
  {
   "cell_type": "markdown",
   "id": "1f93f825",
   "metadata": {},
   "source": [
    "*Creado por:*\n",
    "\n",
    "*Isabel Maniega*"
   ]
  },
  {
   "cell_type": "markdown",
   "id": "99d2767c",
   "metadata": {},
   "source": [
    "# Tema 4 - Bucles-"
   ]
  },
  {
   "cell_type": "markdown",
   "id": "bc834732",
   "metadata": {},
   "source": [
    "Principales Estructuras de datos (se verán en otro archivo un poco mejor):\n",
    "\n",
    "* Tuplas ( )\n",
    "\n",
    "* numpy arrays np.array ([ ])\n",
    "\n",
    "* Listas [ ]\n",
    "\n",
    "* Diccionarios {'clave': valor}  / {'key': value}\n",
    "\n",
    "* dataframes (matriz de datos)"
   ]
  },
  {
   "cell_type": "markdown",
   "id": "8e551da9",
   "metadata": {},
   "source": [
    "Signos en Python:\n",
    " * Mayor que **>** \n",
    " * Menor que **<** \n",
    " * Mayor o igual que **>=**\n",
    " * Menor o igual que **<=**"
   ]
  },
  {
   "cell_type": "markdown",
   "id": "8ba53742",
   "metadata": {},
   "source": [
    "## -2.1- For"
   ]
  },
  {
   "cell_type": "code",
   "execution_count": null,
   "id": "a910e8f3",
   "metadata": {},
   "outputs": [],
   "source": [
    "ventas = [100, 20, 30, 40, 50]\n",
    "ventas"
   ]
  },
  {
   "cell_type": "code",
   "execution_count": null,
   "id": "c0678933",
   "metadata": {},
   "outputs": [],
   "source": [
    "for venta in ventas:\n",
    "    print(venta)"
   ]
  },
  {
   "cell_type": "code",
   "execution_count": null,
   "id": "15a2e211",
   "metadata": {},
   "outputs": [],
   "source": [
    "len(ventas)"
   ]
  },
  {
   "cell_type": "code",
   "execution_count": null,
   "id": "66e7ebdb",
   "metadata": {},
   "outputs": [],
   "source": [
    "# Posicion de izquierda a derecha: 0, 1, 2, ...\n",
    "# Posición de derecha a izquierda: -1, -2, -3, ...\n",
    "listado = [10, 20, 30, 40, 50, \"Hola Mundo\"] \n",
    "listado"
   ]
  },
  {
   "cell_type": "code",
   "execution_count": null,
   "id": "92854607",
   "metadata": {},
   "outputs": [],
   "source": [
    "listado[0]"
   ]
  },
  {
   "cell_type": "code",
   "execution_count": null,
   "id": "68ac7a92",
   "metadata": {},
   "outputs": [],
   "source": [
    "listado[0], listado[-1]"
   ]
  },
  {
   "cell_type": "code",
   "execution_count": null,
   "id": "e42c028c",
   "metadata": {},
   "outputs": [],
   "source": [
    "listado[-1]"
   ]
  },
  {
   "cell_type": "code",
   "execution_count": null,
   "id": "710edfc5",
   "metadata": {},
   "outputs": [],
   "source": [
    "len(listado)"
   ]
  },
  {
   "cell_type": "code",
   "execution_count": null,
   "id": "44543b45",
   "metadata": {},
   "outputs": [],
   "source": [
    "for value in listado:\n",
    "    print(value)"
   ]
  },
  {
   "cell_type": "markdown",
   "id": "9fc21d61",
   "metadata": {},
   "source": [
    "**Estructura abreviada**"
   ]
  },
  {
   "cell_type": "code",
   "execution_count": null,
   "id": "b11a08ca",
   "metadata": {},
   "outputs": [],
   "source": [
    "listado1 = [10, 20, 30, 40]\n",
    "listado1"
   ]
  },
  {
   "cell_type": "code",
   "execution_count": null,
   "id": "56ecbc39",
   "metadata": {},
   "outputs": [],
   "source": [
    "for numero in listado1:\n",
    "    print(numero)"
   ]
  },
  {
   "cell_type": "code",
   "execution_count": null,
   "id": "55e0d322",
   "metadata": {},
   "outputs": [],
   "source": [
    "# Paso 1: Comienza una lista []\n",
    "# Paso 2: Añade el primer valor de la listado1 --> [10]\n",
    "# Paso 3: Añade el segundo valor de la listado1 --> [10, 20]\n",
    "# Paso 4: Añade el tercer valor de la listado1 --> [10, 20, 30]\n",
    "# Paso 5: Añade el cuarto valor de la listado1 --> [10, 20, 30, 40]\n",
    "\n",
    "[numero for numero in listado1]"
   ]
  },
  {
   "cell_type": "code",
   "execution_count": null,
   "id": "94b22869",
   "metadata": {},
   "outputs": [],
   "source": [
    "x = [numero for numero in listado1]\n",
    "x"
   ]
  },
  {
   "cell_type": "code",
   "execution_count": null,
   "id": "d151d0a2",
   "metadata": {},
   "outputs": [],
   "source": [
    "# No es posible usarlo con tuplas crea un objeto:\n",
    "(numero for numero in listado1)"
   ]
  },
  {
   "cell_type": "markdown",
   "id": "a7980571",
   "metadata": {},
   "source": [
    "**Creamos la lista vacia desde 0**"
   ]
  },
  {
   "cell_type": "code",
   "execution_count": null,
   "id": "3e920111",
   "metadata": {},
   "outputs": [],
   "source": [
    "listado1"
   ]
  },
  {
   "cell_type": "code",
   "execution_count": null,
   "id": "f612ae3e",
   "metadata": {},
   "outputs": [],
   "source": [
    "listado2 = []\n",
    "for numero in listado1:\n",
    "    listado2.append(numero)\n",
    "listado2"
   ]
  },
  {
   "cell_type": "code",
   "execution_count": null,
   "id": "3304267f",
   "metadata": {},
   "outputs": [],
   "source": [
    "max(listado2), min(listado2)"
   ]
  },
  {
   "cell_type": "code",
   "execution_count": null,
   "id": "e253c608",
   "metadata": {},
   "outputs": [],
   "source": [
    "# Calcular el minimo:\n",
    "\n",
    "# minimo_lista = 1000000\n",
    "# for para recorrer la lista\n",
    "# if el numero < minimo_lista:\n",
    "    # el numero_minimo = numero\n",
    "# if-else\n",
    "# if - elif...elif -else\n",
    "# minimo_lista --> 10"
   ]
  },
  {
   "cell_type": "markdown",
   "id": "86ad302c",
   "metadata": {},
   "source": [
    "Condicionales:\n",
    "   * si es esto haz .. sino haz...: if -else\n",
    "   * si es esto haz ... si es esto otro haz ... sino haz ..: if - elif - else"
   ]
  },
  {
   "cell_type": "code",
   "execution_count": null,
   "id": "27317255",
   "metadata": {},
   "outputs": [],
   "source": [
    "for numero in listado2:\n",
    "    if numero == 10:\n",
    "        print('El valor es 10')\n",
    "    elif numero == 20:\n",
    "        print('El valor es 20')\n",
    "    elif numero == 30:\n",
    "        print('El valor es 30')\n",
    "    else:\n",
    "        print('El valor es 40')"
   ]
  },
  {
   "cell_type": "code",
   "execution_count": null,
   "id": "67f99b61",
   "metadata": {},
   "outputs": [],
   "source": [
    "# Apendizar:\n",
    "listado2.append(1000)\n",
    "listado2"
   ]
  },
  {
   "cell_type": "code",
   "execution_count": null,
   "id": "0572e934",
   "metadata": {},
   "outputs": [],
   "source": [
    "# Modificar un valor, tendremos en cuenta la posición:\n",
    "listado2[1] = 50"
   ]
  },
  {
   "cell_type": "code",
   "execution_count": null,
   "id": "050579db",
   "metadata": {},
   "outputs": [],
   "source": [
    "listado2"
   ]
  },
  {
   "cell_type": "code",
   "execution_count": null,
   "id": "0408adb6",
   "metadata": {},
   "outputs": [],
   "source": [
    "import numpy as np\n",
    "print(np.array(listado2))"
   ]
  },
  {
   "cell_type": "code",
   "execution_count": null,
   "id": "d64ea268",
   "metadata": {},
   "outputs": [],
   "source": [
    "x = [-2, -1, 0, 1, 2]\n",
    "\n",
    "# -2, -1, 0, 1, 2\n",
    "for n in x:\n",
    "    if n < 0:\n",
    "        print(f'El valor {n} es negativo')\n",
    "    else:\n",
    "        print(f'El valor {n} es positivo')"
   ]
  },
  {
   "cell_type": "code",
   "execution_count": null,
   "id": "ce0e6f41",
   "metadata": {},
   "outputs": [],
   "source": [
    "x = [-2, -1, 0, 1, 2]\n",
    "\n",
    "# -2, -1, 0, 1, 2\n",
    "for n in x:\n",
    "    if n < 0:\n",
    "        print(f'El valor {n} es negativo')\n",
    "    elif n == 0:\n",
    "        print(f'El valor {n} es neutro')\n",
    "    else:\n",
    "        print(f'El valor {n} es positivo')"
   ]
  },
  {
   "cell_type": "markdown",
   "id": "6ac6f68e",
   "metadata": {},
   "source": [
    "**Forma abreviada**"
   ]
  },
  {
   "cell_type": "code",
   "execution_count": null,
   "id": "e1045d7d",
   "metadata": {},
   "outputs": [],
   "source": [
    "L = [1, 2, 3, 4, 5, 6, 7, 8, 9]\n",
    "L"
   ]
  },
  {
   "cell_type": "code",
   "execution_count": null,
   "id": "581cf889",
   "metadata": {},
   "outputs": [],
   "source": [
    "for i in L:\n",
    "    print(i)"
   ]
  },
  {
   "cell_type": "code",
   "execution_count": null,
   "id": "35e11894",
   "metadata": {},
   "outputs": [],
   "source": [
    "listadoNew = [i for i in L] \n",
    "listadoNew"
   ]
  },
  {
   "cell_type": "code",
   "execution_count": null,
   "id": "2dd63729",
   "metadata": {},
   "outputs": [],
   "source": [
    "# Modificamos un valor no se ve afectado el listado L\n",
    "listadoNew[0] = 0\n",
    "listadoNew"
   ]
  },
  {
   "cell_type": "code",
   "execution_count": null,
   "id": "20946202",
   "metadata": {},
   "outputs": [],
   "source": [
    "L"
   ]
  },
  {
   "cell_type": "code",
   "execution_count": null,
   "id": "22aa9b89",
   "metadata": {},
   "outputs": [],
   "source": [
    "#¡ OJO !\n",
    "# Realiza una copia si uno se modifica (ListadoNew) se modifica el otro (L)\n",
    "ListadoNew = L"
   ]
  },
  {
   "cell_type": "code",
   "execution_count": null,
   "id": "20c730aa",
   "metadata": {},
   "outputs": [],
   "source": [
    "# Mezclar bucle con condicional\n",
    "for numero in L:\n",
    "    if numero < 5:\n",
    "        print(numero) # 1, 2, 3, 4\n",
    "    # else:\n",
    "    #     print(numero) # imprime 5, 6, 7, ..."
   ]
  },
  {
   "cell_type": "code",
   "execution_count": null,
   "id": "b3db6a25",
   "metadata": {},
   "outputs": [],
   "source": [
    "print(L)\n",
    "# Mezclar bucle con condicional\n",
    "for numero in L:\n",
    "    if numero < 5:\n",
    "        print(\"*** Valores if: \", numero) # 1, 2, 3, 4\n",
    "    else:\n",
    "        print(numero) # imprime 5, 6, 7, ..."
   ]
  },
  {
   "cell_type": "code",
   "execution_count": null,
   "id": "92d26b7e",
   "metadata": {},
   "outputs": [],
   "source": [
    "print(L)\n",
    "# Mezclar bucle con condicional\n",
    "for numero in L:\n",
    "    if numero < 5:\n",
    "        print(\"*** Valores if: \", numero) # 1, 2, 3, 4\n",
    "        continue\n",
    "    #else:\n",
    "    print(numero) # imprime 5, 6, 7, ..."
   ]
  },
  {
   "cell_type": "markdown",
   "id": "c2948a7b",
   "metadata": {},
   "source": [
    "**Forma abreviada for y if**"
   ]
  },
  {
   "cell_type": "code",
   "execution_count": null,
   "id": "36b3d48e",
   "metadata": {},
   "outputs": [],
   "source": [
    "L = [1, 2, 3, 4, 5, 6, 7, 8, 9]\n",
    "L"
   ]
  },
  {
   "cell_type": "code",
   "execution_count": null,
   "id": "1064f40e",
   "metadata": {},
   "outputs": [],
   "source": [
    "listado3 = []\n",
    "for numero in L:\n",
    "    if numero < 5:\n",
    "        print(numero)\n",
    "        listado3.append(numero)\n",
    "listado3        "
   ]
  },
  {
   "cell_type": "code",
   "execution_count": null,
   "id": "91c4d4ea",
   "metadata": {},
   "outputs": [],
   "source": [
    "# Lista menores de 5\n",
    "newList = [numero for numero in L if numero < 5]\n",
    "newList"
   ]
  },
  {
   "cell_type": "code",
   "execution_count": null,
   "id": "99e19ede",
   "metadata": {},
   "outputs": [],
   "source": [
    "# Lista mayores de 5\n",
    "superiores = [numero for numero in L if numero > 5]\n",
    "superiores"
   ]
  },
  {
   "cell_type": "code",
   "execution_count": null,
   "id": "fc857ac2",
   "metadata": {},
   "outputs": [],
   "source": [
    "x = [i for i in L if i < 5]\n",
    "x"
   ]
  },
  {
   "cell_type": "markdown",
   "id": "3a863c1c",
   "metadata": {},
   "source": [
    "## -2.2- While"
   ]
  },
  {
   "cell_type": "code",
   "execution_count": null,
   "id": "7a94f795",
   "metadata": {},
   "outputs": [],
   "source": [
    "# Condición while\n",
    "# Mientras se cumpla la condición el while esta funcionando,\n",
    "# mientras que la i sea menor a 5 muestrame (print) los valores:\n",
    "i = 1\n",
    "\n",
    "while i < 5:\n",
    "    print(i) # Print(1)... print(2)... print(3)...print(4)\n",
    "    i = i + 1 # suma 1 valor pasa a tener valor 2 ... pasa a valor 3... pasa al valor 4...\n",
    "# llega al valor 5 se para"
   ]
  },
  {
   "cell_type": "code",
   "execution_count": null,
   "id": "16c7081b",
   "metadata": {},
   "outputs": [],
   "source": [
    "# Condición while\n",
    "# Mientras se cumpla la condición el while esta funcionando,\n",
    "# mientras que la i sea menor a 5 muestrame (print) los valores:\n",
    "i = 1\n",
    "data = []\n",
    "\n",
    "while i < 5:\n",
    "    print(i) # Print(1)... print(2)... print(3)...print(4)\n",
    "    data.append(i)\n",
    "    i = i + 1 # suma 1 valor pasa a tener valor 2 ... pasa a valor 3... pasa al valor 4...\n",
    "    \n",
    "# llega al valor 5 se para\n",
    "data"
   ]
  },
  {
   "cell_type": "code",
   "execution_count": null,
   "id": "7c4da732",
   "metadata": {},
   "outputs": [],
   "source": [
    "# While true actividad continua...\n",
    "# n = 0\n",
    "# while True:\n",
    "#    n += 1\n",
    "#    print(f'El valor de n es {n}')"
   ]
  },
  {
   "cell_type": "markdown",
   "id": "c5da3206",
   "metadata": {},
   "source": [
    "# Indentación"
   ]
  },
  {
   "cell_type": "code",
   "execution_count": null,
   "id": "7597a38d",
   "metadata": {},
   "outputs": [],
   "source": [
    "# Error en posición del código:\n",
    "for i in L:\n",
    "print(i)"
   ]
  },
  {
   "cell_type": "code",
   "execution_count": null,
   "id": "fd8c24a3",
   "metadata": {},
   "outputs": [],
   "source": [
    "L = [1, 2, 3, 4, 5]\n",
    "L"
   ]
  },
  {
   "cell_type": "code",
   "execution_count": null,
   "id": "7a56d900",
   "metadata": {},
   "outputs": [],
   "source": [
    "# Indentación con 4 golpes de la barra espaciadora\n",
    "for i in L:\n",
    "    print(i)"
   ]
  },
  {
   "cell_type": "code",
   "execution_count": null,
   "id": "50fd8b08",
   "metadata": {
    "scrolled": true
   },
   "outputs": [],
   "source": [
    "# Indentación con un golpe de tabulador\n",
    "for i in L:\n",
    "    print(i)"
   ]
  },
  {
   "cell_type": "code",
   "execution_count": null,
   "id": "2199f1f3",
   "metadata": {},
   "outputs": [],
   "source": [
    "# Indentación con detección de python simplemente \n",
    "# nos detecta en que posición debe ir el código y pulsamos enter\n",
    "for i in L:\n",
    "    print(i)"
   ]
  },
  {
   "cell_type": "markdown",
   "id": "a43aaaa1",
   "metadata": {},
   "source": [
    "*Creado por:*\n",
    "\n",
    "*Isabel Maniega*"
   ]
  }
 ],
 "metadata": {
  "kernelspec": {
   "display_name": "Python 3 (ipykernel)",
   "language": "python",
   "name": "python3"
  },
  "language_info": {
   "codemirror_mode": {
    "name": "ipython",
    "version": 3
   },
   "file_extension": ".py",
   "mimetype": "text/x-python",
   "name": "python",
   "nbconvert_exporter": "python",
   "pygments_lexer": "ipython3",
   "version": "3.8.18"
  }
 },
 "nbformat": 4,
 "nbformat_minor": 5
}
