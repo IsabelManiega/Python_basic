{
 "cells": [
  {
   "cell_type": "markdown",
   "id": "dda75e87",
   "metadata": {},
   "source": [
    "*Creado por:*\n",
    "\n",
    "*Isabel Maniega*"
   ]
  },
  {
   "cell_type": "markdown",
   "id": "75cec8f9",
   "metadata": {},
   "source": [
    "# Clases y Funciones"
   ]
  },
  {
   "cell_type": "markdown",
   "id": "2d91075b",
   "metadata": {},
   "source": [
    "Nos permiten ordenar el código, como por ejemplo código repetido, etc"
   ]
  },
  {
   "cell_type": "markdown",
   "id": "15a8d1c3",
   "metadata": {},
   "source": [
    "### Ejemplo 1: 1 Clase - 2 funciones"
   ]
  },
  {
   "cell_type": "code",
   "execution_count": 1,
   "id": "ed87bb9c",
   "metadata": {},
   "outputs": [],
   "source": [
    "class Clase1:\n",
    "    \n",
    "    def funcion1():\n",
    "        print(\"Estamos en: Clase1 - Funcion1\")\n",
    "    \n",
    "    def funcion2():\n",
    "        print(\"Estamos en: Clase1 - Funcion2\")"
   ]
  },
  {
   "cell_type": "code",
   "execution_count": 2,
   "id": "5823f282",
   "metadata": {},
   "outputs": [],
   "source": [
    "# funcion1() --> no funciona, no encuentra la funcion"
   ]
  },
  {
   "cell_type": "code",
   "execution_count": 3,
   "id": "14b2dbf4",
   "metadata": {},
   "outputs": [
    {
     "name": "stdout",
     "output_type": "stream",
     "text": [
      "Estamos en: Clase1 - Funcion1\n"
     ]
    }
   ],
   "source": [
    "# se define primero la clase + función\n",
    "Clase1.funcion1()"
   ]
  },
  {
   "cell_type": "code",
   "execution_count": 4,
   "id": "855990fe",
   "metadata": {},
   "outputs": [
    {
     "name": "stdout",
     "output_type": "stream",
     "text": [
      "Estamos en: Clase1 - Funcion2\n"
     ]
    }
   ],
   "source": [
    "Clase1.funcion2()"
   ]
  },
  {
   "cell_type": "markdown",
   "id": "f0cdd82c",
   "metadata": {},
   "source": [
    "**Ejemplo 1**"
   ]
  },
  {
   "cell_type": "code",
   "execution_count": 5,
   "id": "00246bdc",
   "metadata": {},
   "outputs": [],
   "source": [
    "class Clase1:\n",
    "    \n",
    "    def imprimir(y):\n",
    "        print(\"Estamos en: \")\n",
    "        print(\"Clase Python - funcion imprimir, argumento y: \", y)\n",
    "    \n",
    "    def funcion_suma():\n",
    "        x = 1\n",
    "        z = 3\n",
    "        y = x + z\n",
    "        \n",
    "        print(f\"La suma de {x} más {z} es {y}\")"
   ]
  },
  {
   "cell_type": "code",
   "execution_count": 6,
   "id": "1b54ee96",
   "metadata": {},
   "outputs": [
    {
     "name": "stdout",
     "output_type": "stream",
     "text": [
      "Estamos en: \n",
      "Clase Python - funcion imprimir, argumento y:  6\n"
     ]
    }
   ],
   "source": [
    "# con argumento\n",
    "Clase1.imprimir(6)"
   ]
  },
  {
   "cell_type": "code",
   "execution_count": 7,
   "id": "3a0371b7",
   "metadata": {},
   "outputs": [
    {
     "name": "stdout",
     "output_type": "stream",
     "text": [
      "La suma de 1 más 3 es 4\n"
     ]
    }
   ],
   "source": [
    "# sin argumento\n",
    "Clase1.funcion_suma()"
   ]
  },
  {
   "cell_type": "markdown",
   "id": "70c9d888",
   "metadata": {},
   "source": [
    "**Ejemplo 2**"
   ]
  },
  {
   "cell_type": "code",
   "execution_count": 8,
   "id": "a38dc930",
   "metadata": {},
   "outputs": [],
   "source": [
    "class Clase1:\n",
    "    \n",
    "    def funcion1():\n",
    "        print(\"Estamos en: Clase1 - Funcion1\")\n",
    "    \n",
    "    def funcion2():\n",
    "        print(\"Estamos en: Clase1 - Funcion2\")\n",
    "        print(\"\\n\")\n",
    "        funcion1() # No accede a la función se necesita declarar la clase"
   ]
  },
  {
   "cell_type": "code",
   "execution_count": 9,
   "id": "8b644cdc",
   "metadata": {},
   "outputs": [
    {
     "name": "stdout",
     "output_type": "stream",
     "text": [
      "Estamos en: Clase1 - Funcion1\n"
     ]
    }
   ],
   "source": [
    "Clase1.funcion1()"
   ]
  },
  {
   "cell_type": "code",
   "execution_count": 10,
   "id": "adcf801a",
   "metadata": {},
   "outputs": [
    {
     "name": "stdout",
     "output_type": "stream",
     "text": [
      "Estamos en: Clase1 - Funcion2\n",
      "\n",
      "\n"
     ]
    },
    {
     "ename": "NameError",
     "evalue": "name 'funcion1' is not defined",
     "output_type": "error",
     "traceback": [
      "\u001b[0;31m---------------------------------------------------------------------------\u001b[0m",
      "\u001b[0;31mNameError\u001b[0m                                 Traceback (most recent call last)",
      "Cell \u001b[0;32mIn[10], line 1\u001b[0m\n\u001b[0;32m----> 1\u001b[0m \u001b[43mClase1\u001b[49m\u001b[38;5;241;43m.\u001b[39;49m\u001b[43mfuncion2\u001b[49m\u001b[43m(\u001b[49m\u001b[43m)\u001b[49m\n",
      "Cell \u001b[0;32mIn[8], line 9\u001b[0m, in \u001b[0;36mClase1.funcion2\u001b[0;34m()\u001b[0m\n\u001b[1;32m      7\u001b[0m \u001b[38;5;28mprint\u001b[39m(\u001b[38;5;124m\"\u001b[39m\u001b[38;5;124mEstamos en: Clase1 - Funcion2\u001b[39m\u001b[38;5;124m\"\u001b[39m)\n\u001b[1;32m      8\u001b[0m \u001b[38;5;28mprint\u001b[39m(\u001b[38;5;124m\"\u001b[39m\u001b[38;5;130;01m\\n\u001b[39;00m\u001b[38;5;124m\"\u001b[39m)\n\u001b[0;32m----> 9\u001b[0m \u001b[43mfuncion1\u001b[49m()\n",
      "\u001b[0;31mNameError\u001b[0m: name 'funcion1' is not defined"
     ]
    }
   ],
   "source": [
    "Clase1.funcion2()"
   ]
  },
  {
   "cell_type": "code",
   "execution_count": 11,
   "id": "d5083a97",
   "metadata": {},
   "outputs": [],
   "source": [
    "class Clase1:\n",
    "    \n",
    "    def funcion1():\n",
    "        print(\"Estamos en: Clase1 - Funcion1\")\n",
    "    \n",
    "    def funcion2():\n",
    "        print(\"Estamos en: Clase1 - Funcion2\")\n",
    "        print(\"\\n\")\n",
    "        Clase1.funcion1()"
   ]
  },
  {
   "cell_type": "code",
   "execution_count": 12,
   "id": "5bb18417",
   "metadata": {},
   "outputs": [
    {
     "name": "stdout",
     "output_type": "stream",
     "text": [
      "Estamos en: Clase1 - Funcion2\n",
      "\n",
      "\n",
      "Estamos en: Clase1 - Funcion1\n"
     ]
    }
   ],
   "source": [
    "Clase1.funcion2()"
   ]
  },
  {
   "cell_type": "markdown",
   "id": "17aaf7b5",
   "metadata": {},
   "source": [
    "**Ejemplo 3**"
   ]
  },
  {
   "cell_type": "code",
   "execution_count": 13,
   "id": "f4af3046",
   "metadata": {},
   "outputs": [],
   "source": [
    "class Clase1:\n",
    "    \n",
    "    def imprimir(y):\n",
    "        print(\"Estamos en: \")\n",
    "        print(\"Clase Python - funcion imprimir, argumento y: \", y)\n",
    "    \n",
    "    def funcion_suma():\n",
    "        x = 1\n",
    "        z = 3\n",
    "        y = x + z\n",
    "        \n",
    "        Clase1.imprimir(y)"
   ]
  },
  {
   "cell_type": "code",
   "execution_count": 14,
   "id": "95f59d0b",
   "metadata": {},
   "outputs": [
    {
     "name": "stdout",
     "output_type": "stream",
     "text": [
      "Estamos en: \n",
      "Clase Python - funcion imprimir, argumento y:  4\n"
     ]
    }
   ],
   "source": [
    "Clase1.funcion_suma()"
   ]
  },
  {
   "cell_type": "code",
   "execution_count": 15,
   "id": "0dbc74a5",
   "metadata": {},
   "outputs": [
    {
     "name": "stdout",
     "output_type": "stream",
     "text": [
      "Estamos en: \n",
      "Clase Python - funcion imprimir, argumento y:  10\n"
     ]
    }
   ],
   "source": [
    "\n",
    "\n",
    "Clase1.imprimir(10)"
   ]
  },
  {
   "cell_type": "markdown",
   "id": "a6642658",
   "metadata": {},
   "source": [
    "### 2 Clases con la misma función"
   ]
  },
  {
   "cell_type": "markdown",
   "id": "5f7bc8b3",
   "metadata": {},
   "source": [
    "* Una misma función puede estar en varias clases diferentes"
   ]
  },
  {
   "cell_type": "markdown",
   "id": "7e2cb733",
   "metadata": {},
   "source": [
    "Dado que tenemos que llamar previamente a la clase..."
   ]
  },
  {
   "cell_type": "markdown",
   "id": "ec0888b3",
   "metadata": {},
   "source": [
    "entonces:\n",
    "* Sólo se ejecutará la funcion dentro de la clase"
   ]
  },
  {
   "cell_type": "code",
   "execution_count": 16,
   "id": "dc3edf07",
   "metadata": {},
   "outputs": [],
   "source": [
    "class Clase1:\n",
    "    \n",
    "    def funcion1():\n",
    "        print(\"Estamos en: Clase1 - Funcion1\")\n",
    "\n",
    "class Clase2:\n",
    "    \n",
    "    def funcion1():\n",
    "        print(\"Estamos en: Clase2 - Funcion1\")"
   ]
  },
  {
   "cell_type": "code",
   "execution_count": 17,
   "id": "f2ea3e07",
   "metadata": {},
   "outputs": [
    {
     "name": "stdout",
     "output_type": "stream",
     "text": [
      "Estamos en: Clase1 - Funcion1\n"
     ]
    }
   ],
   "source": [
    "Clase1.funcion1()"
   ]
  },
  {
   "cell_type": "code",
   "execution_count": 18,
   "id": "fb5f477f",
   "metadata": {},
   "outputs": [
    {
     "name": "stdout",
     "output_type": "stream",
     "text": [
      "Estamos en: Clase2 - Funcion1\n"
     ]
    }
   ],
   "source": [
    "Clase2.funcion1()"
   ]
  },
  {
   "cell_type": "markdown",
   "id": "f7816ca2",
   "metadata": {},
   "source": [
    "**Ejemplo**"
   ]
  },
  {
   "cell_type": "code",
   "execution_count": 19,
   "id": "f2bbc738",
   "metadata": {},
   "outputs": [],
   "source": [
    "class Frutas:\n",
    "    def suma(x, y):\n",
    "        suma = x + y\n",
    "        print(\"la suma de frutas que tenemos es: \", suma)\n",
    "\n",
    "class Verduras:\n",
    "    def suma(x, y):\n",
    "        suma = x + y\n",
    "        print(\"la suma de verduras que tenemos es: \", suma)"
   ]
  },
  {
   "cell_type": "code",
   "execution_count": 20,
   "id": "657ea833",
   "metadata": {},
   "outputs": [
    {
     "name": "stdout",
     "output_type": "stream",
     "text": [
      "la suma de frutas que tenemos es:  5\n"
     ]
    }
   ],
   "source": [
    "Frutas.suma(3, 2)"
   ]
  },
  {
   "cell_type": "code",
   "execution_count": 21,
   "id": "ba2d98cb",
   "metadata": {},
   "outputs": [
    {
     "name": "stdout",
     "output_type": "stream",
     "text": [
      "la suma de verduras que tenemos es:  8\n"
     ]
    }
   ],
   "source": [
    "\n",
    "\n",
    "Verduras.suma(6, 2)"
   ]
  },
  {
   "cell_type": "markdown",
   "id": "82a2608b",
   "metadata": {},
   "source": [
    "### 1 clase que recibe otra clase"
   ]
  },
  {
   "cell_type": "code",
   "execution_count": 22,
   "id": "7aacabaf",
   "metadata": {},
   "outputs": [],
   "source": [
    "class Clase1:\n",
    "    def funcion1():\n",
    "        print(\"Estamos en: Clase1 - Funcion1\")\n",
    "\n",
    "class Clase2(Clase1):\n",
    "    def funcion2():\n",
    "        print(\"Estamos en: Clase2 - Funcion2\")\n",
    "    \n",
    "    # def funcion1():\n",
    "        # print(\"Estamos en: Clase1 - Funcion1\")"
   ]
  },
  {
   "cell_type": "code",
   "execution_count": 23,
   "id": "dcc2dcb8",
   "metadata": {},
   "outputs": [
    {
     "name": "stdout",
     "output_type": "stream",
     "text": [
      "Estamos en: Clase1 - Funcion1\n"
     ]
    }
   ],
   "source": [
    "Clase1.funcion1()"
   ]
  },
  {
   "cell_type": "code",
   "execution_count": 24,
   "id": "96c2ad71",
   "metadata": {},
   "outputs": [
    {
     "name": "stdout",
     "output_type": "stream",
     "text": [
      "Estamos en: Clase2 - Funcion2\n"
     ]
    }
   ],
   "source": [
    "Clase2.funcion2()"
   ]
  },
  {
   "cell_type": "code",
   "execution_count": 25,
   "id": "c805e08d",
   "metadata": {},
   "outputs": [
    {
     "name": "stdout",
     "output_type": "stream",
     "text": [
      "Estamos en: Clase1 - Funcion1\n"
     ]
    }
   ],
   "source": [
    "# heredado con la clase --> HERENCIA\n",
    "Clase2.funcion1()"
   ]
  },
  {
   "cell_type": "markdown",
   "id": "729b85df",
   "metadata": {},
   "source": [
    "**Ejemplo práctico**"
   ]
  },
  {
   "cell_type": "code",
   "execution_count": 26,
   "id": "60296193",
   "metadata": {},
   "outputs": [],
   "source": [
    "class Frutas:\n",
    "    def manzanas():\n",
    "        suma_manzanas = 6\n",
    "        return suma_manzanas\n",
    "\n",
    "class Alimentos(Frutas):\n",
    "    def peras():\n",
    "        suma_peras = 7\n",
    "        return suma_peras\n",
    "    #def manzanas():\n",
    "    #    suma_manzanas = 6\n",
    "    #    return suma_manzanas"
   ]
  },
  {
   "cell_type": "code",
   "execution_count": 27,
   "id": "d3741364",
   "metadata": {},
   "outputs": [
    {
     "data": {
      "text/plain": [
       "6"
      ]
     },
     "execution_count": 27,
     "metadata": {},
     "output_type": "execute_result"
    }
   ],
   "source": [
    "Frutas.manzanas()"
   ]
  },
  {
   "cell_type": "code",
   "execution_count": 28,
   "id": "cc1781ca",
   "metadata": {},
   "outputs": [
    {
     "data": {
      "text/plain": [
       "7"
      ]
     },
     "execution_count": 28,
     "metadata": {},
     "output_type": "execute_result"
    }
   ],
   "source": [
    "Alimentos.peras()"
   ]
  },
  {
   "cell_type": "code",
   "execution_count": 29,
   "id": "9b6d87d2",
   "metadata": {},
   "outputs": [
    {
     "data": {
      "text/plain": [
       "6"
      ]
     },
     "execution_count": 29,
     "metadata": {},
     "output_type": "execute_result"
    }
   ],
   "source": [
    "Alimentos.manzanas()"
   ]
  },
  {
   "cell_type": "markdown",
   "id": "3f0e8ca5",
   "metadata": {},
   "source": [
    "**También podemos \"llamar\" variables**"
   ]
  },
  {
   "cell_type": "code",
   "execution_count": 30,
   "id": "cd304ce9",
   "metadata": {},
   "outputs": [],
   "source": [
    "class Clase1:\n",
    "    x = 5\n",
    "\n",
    "class Clase2:\n",
    "    def funcion():\n",
    "        print(\"Estamos en la Clase2\")\n",
    "        print(\"\\n\")\n",
    "        print(\"Ahora llamamos a la variable de la Clase1\")\n",
    "        print(\"Valor: \", Clase1.x)\n",
    "        # print(\"Valor: \", x) # Necesario añadir la clase, sino error de variable No definida\n",
    "        "
   ]
  },
  {
   "cell_type": "code",
   "execution_count": 31,
   "id": "8f498203",
   "metadata": {},
   "outputs": [
    {
     "name": "stdout",
     "output_type": "stream",
     "text": [
      "Estamos en la Clase2\n",
      "\n",
      "\n",
      "Ahora llamamos a la variable de la Clase1\n",
      "Valor:  5\n"
     ]
    }
   ],
   "source": [
    "Clase2.funcion()"
   ]
  },
  {
   "cell_type": "code",
   "execution_count": 32,
   "id": "b0c7097e",
   "metadata": {},
   "outputs": [],
   "source": [
    "class Clase1:\n",
    "    x = 5\n",
    "\n",
    "class Clase2:\n",
    "    def funcion():\n",
    "        x = 6\n",
    "        print(\"Estamos en la Clase2\")\n",
    "        print(\"\\n\")\n",
    "        print(\"Ahora llamamos a la variable de la Clase1\")\n",
    "        print(\"Valor: \", Clase1.x)\n",
    "        print(\"Valor: \", x) # Necesario añadir la clase, sino error de variable No definida\n",
    "        "
   ]
  },
  {
   "cell_type": "code",
   "execution_count": 33,
   "id": "7746caee",
   "metadata": {},
   "outputs": [
    {
     "name": "stdout",
     "output_type": "stream",
     "text": [
      "Estamos en la Clase2\n",
      "\n",
      "\n",
      "Ahora llamamos a la variable de la Clase1\n",
      "Valor:  5\n",
      "Valor:  6\n"
     ]
    }
   ],
   "source": [
    "Clase2.funcion()"
   ]
  },
  {
   "cell_type": "code",
   "execution_count": 34,
   "id": "db9c72d6",
   "metadata": {},
   "outputs": [],
   "source": [
    "class Clase1:\n",
    "    x = 6\n",
    "    def funcion1(x):\n",
    "        return x"
   ]
  },
  {
   "cell_type": "code",
   "execution_count": 35,
   "id": "463c6321",
   "metadata": {},
   "outputs": [
    {
     "data": {
      "text/plain": [
       "6"
      ]
     },
     "execution_count": 35,
     "metadata": {},
     "output_type": "execute_result"
    }
   ],
   "source": [
    "Clase1.funcion1(Clase1.x)"
   ]
  },
  {
   "cell_type": "code",
   "execution_count": 36,
   "id": "5154718a",
   "metadata": {},
   "outputs": [],
   "source": [
    "class Clase1:\n",
    "    y = 6\n",
    "    def funcion1(y):\n",
    "        return y"
   ]
  },
  {
   "cell_type": "code",
   "execution_count": 37,
   "id": "04ab43a9",
   "metadata": {},
   "outputs": [
    {
     "ename": "NameError",
     "evalue": "name 'y' is not defined",
     "output_type": "error",
     "traceback": [
      "\u001b[0;31m---------------------------------------------------------------------------\u001b[0m",
      "\u001b[0;31mNameError\u001b[0m                                 Traceback (most recent call last)",
      "Cell \u001b[0;32mIn[37], line 1\u001b[0m\n\u001b[0;32m----> 1\u001b[0m Clase1\u001b[38;5;241m.\u001b[39mfuncion1(\u001b[43my\u001b[49m)\n",
      "\u001b[0;31mNameError\u001b[0m: name 'y' is not defined"
     ]
    }
   ],
   "source": [
    "Clase1.funcion1(y)"
   ]
  },
  {
   "cell_type": "code",
   "execution_count": 38,
   "id": "2ad7702e",
   "metadata": {},
   "outputs": [],
   "source": [
    "x = 6\n",
    "def funcion1(x):\n",
    "    return x"
   ]
  },
  {
   "cell_type": "code",
   "execution_count": 39,
   "id": "15f0c4e6",
   "metadata": {},
   "outputs": [
    {
     "data": {
      "text/plain": [
       "6"
      ]
     },
     "execution_count": 39,
     "metadata": {},
     "output_type": "execute_result"
    }
   ],
   "source": [
    "funcion1(x)"
   ]
  },
  {
   "cell_type": "markdown",
   "id": "a0689b3d",
   "metadata": {},
   "source": [
    "# Decoradores"
   ]
  },
  {
   "cell_type": "markdown",
   "id": "dcc0410d-ac3e-4d34-81a8-ab9c4c6300ed",
   "metadata": {},
   "source": [
    "## Cierres/Closures\n",
    "\n",
    "Cierres es una técnica que permite almacenar valores a pesar de que el contexto en el que se crearon ya no existe."
   ]
  },
  {
   "cell_type": "code",
   "execution_count": 40,
   "id": "cebaf2eb",
   "metadata": {},
   "outputs": [
    {
     "name": "stdout",
     "output_type": "stream",
     "text": [
      "1\n"
     ]
    },
    {
     "ename": "NameError",
     "evalue": "name 'loc' is not defined",
     "output_type": "error",
     "traceback": [
      "\u001b[0;31m---------------------------------------------------------------------------\u001b[0m",
      "\u001b[0;31mNameError\u001b[0m                                 Traceback (most recent call last)",
      "Cell \u001b[0;32mIn[40], line 9\u001b[0m\n\u001b[1;32m      6\u001b[0m outer(var)\n\u001b[1;32m      8\u001b[0m \u001b[38;5;28mprint\u001b[39m(var)\n\u001b[0;32m----> 9\u001b[0m \u001b[38;5;28mprint\u001b[39m(\u001b[43mloc\u001b[49m)\n",
      "\u001b[0;31mNameError\u001b[0m: name 'loc' is not defined"
     ]
    }
   ],
   "source": [
    "def outer(par):\n",
    "    loc = par\n",
    "\n",
    "\n",
    "var = 1\n",
    "outer(var)\n",
    "\n",
    "print(var)\n",
    "print(loc)"
   ]
  },
  {
   "cell_type": "markdown",
   "id": "8bac4167-faa5-4277-a8ff-c1ef9e7f9c54",
   "metadata": {},
   "source": [
    "Las dos últimas líneas provocarán una excepción NameError - ni par ni loc son accesibles fuera de la función. Ambas variables existen cuando y solo cuando la función exterior() esta siendo ejecutada."
   ]
  },
  {
   "cell_type": "code",
   "execution_count": 41,
   "id": "ba2df3ef-093a-4d9d-9fb4-d761909c86eb",
   "metadata": {},
   "outputs": [
    {
     "name": "stdout",
     "output_type": "stream",
     "text": [
      "1\n"
     ]
    }
   ],
   "source": [
    "def outer(par):\n",
    "    loc = par\n",
    "\n",
    "    def inner():\n",
    "        return loc\n",
    "    return inner\n",
    "\n",
    "\n",
    "var = 1\n",
    "fun = outer(var)\n",
    "print(fun())"
   ]
  },
  {
   "cell_type": "markdown",
   "id": "d090f8f1-1af2-4c98-bb3c-1e5bf4f37f5a",
   "metadata": {},
   "source": [
    "Hay un elemento completamente nuevo - una función (llamada inner) dentro de otra función (llamada outer).\n",
    "\n",
    "¿Cómo funciona? Como cualquier otra función excepto por el hecho de que inner() solo se puede invocar desde dentro de outer(). Podemos decir que inner() es una herramienta privada de outer(), ninguna otra parte del código la puede acceder.\n",
    "\n",
    "Observa cuidadosamente:\n",
    "\n",
    "La función inner() devuelve el valor de la variable accesible dentro de su alcance, ya que interior() puede utilizar cualquiera de las entidades a disposición de outer().\n",
    "La función outer() devuelve la función inner() por si misma; mejor dicho, devuelve una copia de la función inner() al momento de la invocación de la función outer(); la función congelada contiene su entorno completo, incluido el estado de todas las variables locales, lo que también significa que el valor de loc se retiene con éxito, aunque outer() ya ha dejado de existir.\n",
    "\n",
    "La función devuelta durante la invocación de outer() es un cierre.\n",
    "\n",
    "Un cierre se debe invocar exactamente de la misma manera en que se ha declarado."
   ]
  },
  {
   "cell_type": "code",
   "execution_count": 42,
   "id": "571d7c65-cd82-499b-b337-72abb4124cd3",
   "metadata": {},
   "outputs": [
    {
     "name": "stdout",
     "output_type": "stream",
     "text": [
      "1\n"
     ]
    }
   ],
   "source": [
    "def outer(par):\n",
    "    loc = par\n",
    "\n",
    "    def inner():\n",
    "        return loc\n",
    "    return inner # La función inner() no tenía parámetros, por lo que tuvimos que invocarla sin argumentos.\n",
    "\n",
    "\n",
    "var = 1\n",
    "fun = outer(var)\n",
    "print(fun())"
   ]
  },
  {
   "cell_type": "code",
   "execution_count": 43,
   "id": "3ebceada-6880-46db-9fb2-32c37f485dc7",
   "metadata": {},
   "outputs": [
    {
     "name": "stdout",
     "output_type": "stream",
     "text": [
      "valor de loc:  2\n",
      "valor de loc:  3\n",
      "valor de p:  0\n",
      "valor de p:  0\n",
      "0 0 0\n",
      "valor de p:  1\n",
      "valor de p:  1\n",
      "1 1 1\n",
      "valor de p:  2\n",
      "valor de p:  2\n",
      "2 4 8\n",
      "valor de p:  3\n",
      "valor de p:  3\n",
      "3 9 27\n",
      "valor de p:  4\n",
      "valor de p:  4\n",
      "4 16 64\n"
     ]
    }
   ],
   "source": [
    "def make_closure(par):\n",
    "    loc = par\n",
    "    print('valor de loc: ', loc)\n",
    "\n",
    "    def power(p):\n",
    "        print('valor de p: ', p)        \n",
    "        return p ** loc\n",
    "    return power\n",
    "\n",
    "\n",
    "fsqr = make_closure(2)\n",
    "fcub = make_closure(3)\n",
    "\n",
    "for i in range(5):\n",
    "    print(i, fsqr(i), fcub(i))"
   ]
  },
  {
   "cell_type": "markdown",
   "id": "74b17ffc-e4a3-44dc-802a-45adc257aabe",
   "metadata": {},
   "source": [
    "Es totalmente posible declarar un cierre equipado con un número arbitrario de parámetros, por ejemplo, al igual que la función power().\n",
    "\n",
    "Esto significa que el cierre no solo utiliza el ambiente congelado, sino que también puede modificar su comportamiento utilizando valores tomados del exterior.\n",
    "\n",
    "Este ejemplo muestra una circunstancia más interesante: puedes crear tantos cierres como quieras usando el mismo código. Esto se hace con una función llamada make_closure(). Nota:\n",
    "\n",
    "* El primer cierre obtenido de make_closure() define una herramienta que eleva al cuadrado su argumento.\n",
    "* El segundo está diseñado para elevar el argumento al cubo."
   ]
  },
  {
   "cell_type": "markdown",
   "id": "6817525f-62a8-4e9d-b9fc-f24362401326",
   "metadata": {},
   "source": [
    "## Decoradores"
   ]
  },
  {
   "cell_type": "markdown",
   "id": "ecea4f4c-dde2-4940-8b58-edf652c69c99",
   "metadata": {},
   "source": [
    "Los decoradores permiten reducir las líneas de código duplicadas, hacer que nuestro código sea legible, fácil de testear, fácil de mantener.\n",
    "\n",
    "Lo primero que decir que una función se puede asignar como una variable, como vemos en el siguiente ejemplo:"
   ]
  },
  {
   "cell_type": "code",
   "execution_count": 44,
   "id": "89f90339-83c2-4c0c-a929-653d058caadd",
   "metadata": {},
   "outputs": [
    {
     "name": "stdout",
     "output_type": "stream",
     "text": [
      "Hola soy una función\n"
     ]
    }
   ],
   "source": [
    "def hola(): \n",
    "    print('Hola soy una función') \n",
    "\n",
    "def super_fun(funcion): \n",
    "    funcion() \n",
    "\n",
    "funcion = hola  # Asignamos la función a una variable!\n",
    "\n",
    "super_fun(funcion)    "
   ]
  },
  {
   "cell_type": "markdown",
   "id": "9becbf07-d53c-409a-8bcd-6dddc4573539",
   "metadata": {},
   "source": [
    "Un decorador no es más que una función la cual toma como input una función y asu vez retorna otra función.\n",
    "\n",
    "Al momento de implementar un decorador estaremos trabajando, con por lo menos, 3 funciones. El input, el output y la función principal. Para que nos quede más en claro a mi me gusta nombrar a las funciones como: a, b y c.\n",
    "\n",
    "Donde 'a' recibe como parámetro 'b' para dar como salida a 'c'. Esta es una pequeña \"formula\" la cual me gusta mucho mencionar.\n",
    "\n",
    "a(b) -> c\n",
    "\n",
    "Veamos un ejemplo de como crear un decorador en Python."
   ]
  },
  {
   "cell_type": "code",
   "execution_count": 45,
   "id": "a6594fee-3651-441b-8aa6-17ec35c73e32",
   "metadata": {},
   "outputs": [],
   "source": [
    "def funcion_a(funcion_b):\n",
    "    def funcion_c():\n",
    "        print('Antes de la ejecución de la función a decorar')\n",
    "        funcion_b()\n",
    "        print('Después de la ejecución de la función a decorar')\n",
    "\n",
    "    return funcion_c"
   ]
  },
  {
   "cell_type": "markdown",
   "id": "836510a4-a2c3-40d6-b572-d50f602f453c",
   "metadata": {},
   "source": [
    "Ya tenemos el decorador creado, ahora lo que nos hace falta es decorar una función. Al nosotros utilizar la palabra decorar estamos indicando que queremos modificar el comportamiento de una función ya existente, pero sin tener que modificar su código.\n",
    "\n",
    "Para decorar una función basta con colocar, en su parte superior de dicha función, el decorador con el prefijo @."
   ]
  },
  {
   "cell_type": "code",
   "execution_count": 46,
   "id": "ce3f1620-0ede-47a2-8aa3-9cf9beb55908",
   "metadata": {},
   "outputs": [
    {
     "name": "stdout",
     "output_type": "stream",
     "text": [
      "Antes de la ejecución de la función a decorar\n",
      "Hola mundo!!\n",
      "Después de la ejecución de la función a decorar\n"
     ]
    }
   ],
   "source": [
    "@funcion_a\n",
    "def hola():\n",
    "    print('Hola mundo!!')\n",
    "\n",
    "hola()"
   ]
  },
  {
   "cell_type": "markdown",
   "id": "eb6c5d34-d22b-4276-8b60-07a54ff0b85d",
   "metadata": {},
   "source": [
    "Ahora usaremos el ejemplo usada en los cierres para realizar un ejemplo más complejo de decorador, en este ejemplo vamos a crar un listado de números elevados al cuadrado o al cubo cada uno de ellos:\n",
    "- Se declara la función make_closure que recoge las variables para elevar al cuadrado o al cubo cada uno de los valores, recoge los valores de elevado y el valor a elevar.\n",
    "- la función function que retorna los valores con los que tiene que trabajar la función make_closure.\n",
    "\n",
    "Observemos el ejemplo:"
   ]
  },
  {
   "cell_type": "code",
   "execution_count": 47,
   "id": "ad226695-2756-445c-8ef4-739869333856",
   "metadata": {},
   "outputs": [
    {
     "name": "stdout",
     "output_type": "stream",
     "text": [
      "listas de números al cuadrado:  [0, 1, 4, 9, 16]\n",
      "\n",
      "\n",
      "lista de numeros al cubo:  [0, 1, 8, 27, 64]\n"
     ]
    }
   ],
   "source": [
    "num = 5\n",
    "\n",
    "def make_closure(func):\n",
    "    def power(*args, **kwargs):\n",
    "        loc = args[0]\n",
    "        p = args[1]\n",
    "        # print('valor de loc: ', loc)\n",
    "        # print('valor de p: ', p)        \n",
    "        return p ** loc\n",
    "    return power\n",
    "    \n",
    "@make_closure\n",
    "def function(par, p):\n",
    "    return par, p\n",
    "\n",
    "range_sqr = [function(2, i) for i in range(num)]\n",
    "\n",
    "print('listas de números al cuadrado: ', range_sqr)\n",
    "print('\\n')\n",
    "\n",
    "range_cub = [function(3, i) for i in range(num)]\n",
    "\n",
    "print('lista de numeros al cubo: ', range_cub)"
   ]
  },
  {
   "cell_type": "code",
   "execution_count": 48,
   "id": "8e05696c-c7d9-4b85-8e45-5e81ff602e8a",
   "metadata": {},
   "outputs": [
    {
     "name": "stdout",
     "output_type": "stream",
     "text": [
      "listas de números al cuadrado:  [0, 1, 4, 9, 16]\n"
     ]
    }
   ],
   "source": [
    "#  Usando map:\n",
    "\n",
    "num = 5\n",
    "\n",
    "def make_closure(func):\n",
    "    def power(*args, **kwargs):\n",
    "        loc = args[0]\n",
    "        p = args[1]\n",
    "        # print('valor de loc: ', loc)\n",
    "        # print('valor de p: ', p)        \n",
    "        return p ** loc\n",
    "    return power\n",
    "\n",
    "    \n",
    "@make_closure\n",
    "def function(par, p):\n",
    "    return par, p\n",
    "\n",
    "def range_sqr(i):\n",
    "    return function(2, i)\n",
    "\n",
    "range_list = range(num)\n",
    "values_list = list(map(range_sqr, range_list))\n",
    "\n",
    "print('listas de números al cuadrado: ', values_list)"
   ]
  },
  {
   "cell_type": "markdown",
   "id": "76b17572",
   "metadata": {},
   "source": [
    "*Creado por:*\n",
    "\n",
    "*Isabel Maniega*"
   ]
  }
 ],
 "metadata": {
  "kernelspec": {
   "display_name": "Python 3 (ipykernel)",
   "language": "python",
   "name": "python3"
  },
  "language_info": {
   "codemirror_mode": {
    "name": "ipython",
    "version": 3
   },
   "file_extension": ".py",
   "mimetype": "text/x-python",
   "name": "python",
   "nbconvert_exporter": "python",
   "pygments_lexer": "ipython3",
   "version": "3.8.18"
  }
 },
 "nbformat": 4,
 "nbformat_minor": 5
}
