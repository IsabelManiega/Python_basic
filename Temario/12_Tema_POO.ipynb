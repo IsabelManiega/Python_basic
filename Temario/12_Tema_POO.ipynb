{
 "cells": [
  {
   "cell_type": "markdown",
   "id": "b3e14e74-fae3-40dc-9dba-207ca914bc60",
   "metadata": {},
   "source": [
    "*Creado por:*\n",
    "\n",
    "*Isabel Maniega*"
   ]
  },
  {
   "cell_type": "markdown",
   "id": "5777c2cc-6a64-4a7d-9447-3ed15b6b4dbc",
   "metadata": {},
   "source": [
    "1) [Objeto](#Objeto)\n",
    "2) [SELF](#SELF)\n",
    "3) [INIT](#INIT)\n",
    "4) [DICT](#DICT)\n",
    "5) [Herencia](#Herencia)\n",
    "    1) [Herencia Múltiple](#Herencia-Multiple)\n",
    "    2) [Jerarquías de clases](#Jerarquías-de-clases)\n",
    "    3) [Orden de Resolución de Métodos -ORM-](#Orden-de-Resolución-de-Métodos)"
   ]
  },
  {
   "cell_type": "markdown",
   "id": "7cd004e6-0dbc-4967-a68c-ff6049c37192",
   "metadata": {},
   "source": [
    "# POO (Programación Orientada a Objetos)"
   ]
  },
  {
   "cell_type": "markdown",
   "id": "7ae4e0dd-68e4-457a-b7d0-ec96927ff3dd",
   "metadata": {},
   "source": [
    "**Objeto**\n",
    "\n",
    "Una clase (entre otras definiciones) es un conjunto de objetos. Un objeto es un ser perteneciente a una clase.\n",
    "\n",
    "Un objeto es una encarnación de los requisitos, rasgos y cualidades asignados a una clase específica. Esto puede sonar simple, pero ten en cuenta las siguientes circunstancias importantes. Las clases forman una jerarquía."
   ]
  },
  {
   "cell_type": "markdown",
   "id": "c70f560f-e37d-4fc4-b0ba-304fce9bd89b",
   "metadata": {},
   "source": [
    "**Herencia**\n",
    "\n",
    "Cualquier objeto vinculado a un nivel específico de una jerarquía de clases hereda todos los rasgos (así como los requisitos y cualidades) definidos dentro de cualquiera de las superclases."
   ]
  },
  {
   "cell_type": "markdown",
   "id": "e4abd274-8f2c-4005-81ec-a59ed408384f",
   "metadata": {},
   "source": [
    "****"
   ]
  },
  {
   "cell_type": "markdown",
   "id": "1d2fb98f-c276-4eca-acf6-da2aec564955",
   "metadata": {},
   "source": [
    "### Objeto"
   ]
  },
  {
   "cell_type": "markdown",
   "id": "a225fde2-3202-4837-92fb-abdd809d5d9b",
   "metadata": {},
   "source": [
    "La programación orientada a objetos supone que cada objeto existente puede estar equipado con tres grupos de atributos:\n",
    "\n",
    "* Un objeto tiene un nombre que lo identifica de forma exclusiva dentro de su namespace (aunque también puede haber algunos objetos anónimos).\n",
    "* Un objeto tiene un conjunto de propiedades individuales que lo hacen original, único o sobresaliente (aunque es posible que algunos objetos no tengan propiedades).\n",
    "* Un objeto tiene un conjunto de habilidades para realizar actividades específicas, capaz de cambiar el objeto en sí, o algunos de los otros objetos."
   ]
  },
  {
   "cell_type": "code",
   "execution_count": 1,
   "id": "3dab5152-4212-4c7d-84dd-9d6aefaf2f43",
   "metadata": {},
   "outputs": [],
   "source": [
    "# Definir una clase\n",
    "# usar la palabra reservada class + nombre_clase\n",
    "\n",
    "class TheSimplestClass:\n",
    "    pass"
   ]
  },
  {
   "cell_type": "code",
   "execution_count": 2,
   "id": "8fe23eb9-a101-4cfd-aa20-f81ff811ba5e",
   "metadata": {},
   "outputs": [],
   "source": [
    "# crear un objeto de esa clase\n",
    "\n",
    "my_first_object = TheSimplestClass()"
   ]
  },
  {
   "cell_type": "markdown",
   "id": "f849a9a9-047d-49c8-9e78-e9a47e3f691e",
   "metadata": {},
   "source": [
    "**Nota:**\n",
    "\n",
    "* El nombre de la clase intenta fingir que es una función, ¿puedes ver esto? Lo discutiremos pronto.\n",
    "* El objeto recién creado está equipado con todo lo que trae la clase. Como esta clase está completamente vacía, el objeto también está vacío.\n",
    "\n",
    "El acto de crear un objeto de la clase seleccionada también se llama **instanciación** (ya que el objeto se convierte en una instancia de la clase)."
   ]
  },
  {
   "cell_type": "markdown",
   "id": "4ee4d6f2-389b-46b9-b0cb-11328343d59a",
   "metadata": {},
   "source": [
    "****"
   ]
  },
  {
   "cell_type": "markdown",
   "id": "642dc5d5-12a4-40bc-8c67-332ffc28d622",
   "metadata": {},
   "source": [
    "## SELF"
   ]
  },
  {
   "cell_type": "markdown",
   "id": "836cfec8-5f0e-43ee-8896-de7f549f3de7",
   "metadata": {},
   "source": [
    "Un método es una función que está dentro de una clase.\n",
    "\n",
    "Existe un requisito fundamental: un método está obligado a tener al menos un parámetro (no existen métodos sin parámetros; un método puede invocarse sin un argumento, pero no puede declararse sin parámetros).\n",
    "\n",
    "El primer (o único) parámetro generalmente se denomina self. Te sugerimos que lo sigas nombrando de esta manera, darle otros nombres puede causar sorpresas inesperadas.\n",
    "\n",
    "El nombre self sugiere el propósito del parámetro: identifica el objeto para el cual se invoca el método.\n",
    "\n",
    "Si deseas que el método acepte parámetros distintos a self, debes:\n",
    "\n",
    "Colocarlos después de self en la definición del método.\n",
    "Pasarlos como argumentos durante la invocación sin especificar self."
   ]
  },
  {
   "cell_type": "code",
   "execution_count": 1,
   "id": "20a53d45-3528-4b9a-b99c-9da35ee10854",
   "metadata": {},
   "outputs": [
    {
     "name": "stdout",
     "output_type": "stream",
     "text": [
      "método: 1\n",
      "método: 2\n",
      "método: 3\n"
     ]
    }
   ],
   "source": [
    "class Classy:\n",
    "    def method(self, par):\n",
    "        print(\"método:\", par)\n",
    "\n",
    "\n",
    "obj = Classy()\n",
    "obj.method(1)\n",
    "obj.method(2)\n",
    "obj.method(3)"
   ]
  },
  {
   "cell_type": "code",
   "execution_count": 2,
   "id": "4b8e1e60-789b-432a-b77c-3e1d69a70074",
   "metadata": {},
   "outputs": [
    {
     "name": "stdout",
     "output_type": "stream",
     "text": [
      "método\n"
     ]
    }
   ],
   "source": [
    "class Classy:\n",
    "    def method(self):\n",
    "        print(\"método\")\n",
    "\n",
    "\n",
    "obj = Classy()\n",
    "obj.method()"
   ]
  },
  {
   "cell_type": "markdown",
   "id": "0b6febfc-d619-430f-af56-2c28d6ecaa29",
   "metadata": {},
   "source": [
    "El parámetro self es usado para obtener acceso a la instancia del objeto y las variables de clase."
   ]
  },
  {
   "cell_type": "code",
   "execution_count": 3,
   "id": "f36c57fb-596f-40ce-a664-266d898daf99",
   "metadata": {},
   "outputs": [
    {
     "name": "stdout",
     "output_type": "stream",
     "text": [
      "2 3\n"
     ]
    }
   ],
   "source": [
    "class Classy:\n",
    "    varia = 2\n",
    "    def method(self):\n",
    "        print(self.varia, self.var)\n",
    "\n",
    "\n",
    "obj = Classy()\n",
    "obj.var = 3\n",
    "obj.method()"
   ]
  },
  {
   "cell_type": "markdown",
   "id": "6ca1cbe7-a725-4210-ae3c-e07fd69337c3",
   "metadata": {},
   "source": [
    "El parámetro self también se usa para invocar otros métodos desde dentro de la clase."
   ]
  },
  {
   "cell_type": "code",
   "execution_count": 4,
   "id": "39eab1e1-d1ad-4ac6-96b1-8b9111bdb983",
   "metadata": {},
   "outputs": [
    {
     "name": "stdout",
     "output_type": "stream",
     "text": [
      "método\n",
      "otro\n"
     ]
    }
   ],
   "source": [
    "class Classy:\n",
    "    def other(self):\n",
    "        print(\"otro\")\n",
    "\n",
    "    def method(self):\n",
    "        print(\"método\")\n",
    "        self.other()\n",
    "\n",
    "\n",
    "obj = Classy()\n",
    "obj.method()"
   ]
  },
  {
   "cell_type": "markdown",
   "id": "00d52f43-7dd8-46dd-aeca-845521452af5",
   "metadata": {},
   "source": [
    "****"
   ]
  },
  {
   "cell_type": "markdown",
   "id": "b8854f45-36da-429b-89fe-2890990083ba",
   "metadata": {},
   "source": [
    "## INIT"
   ]
  },
  {
   "cell_type": "markdown",
   "id": "e6ec8787-1bf0-4aab-b398-e2978ea4e5ec",
   "metadata": {},
   "source": [
    "Si se nombra un método de esta manera: __ init __, no será un método regular, será un constructor.\n",
    "\n",
    "Si una clase tiene un constructor, este se invoca automática e implícitamente cuando se instancia el objeto de la clase.\n",
    "\n",
    "El constructor:\n",
    "\n",
    "* Esta obligado a tener el parámetro self (se configura automáticamente).\n",
    "* Pudiera (pero no necesariamente) tener mas parámetros que solo self; si esto sucede, la forma en que se usa el nombre de la clase para crear el objeto debe tener la definición __ init __.\n",
    "* Se puede utilizar para configurar el objeto, es decir, inicializa adecuadamente su estado interno, crea variables de instancia, crea instancias de cualquier otro objeto si es necesario, etc.\n",
    "\n",
    "Ten en cuenta que el constructor:\n",
    "\n",
    "* No puede retornar un valor, ya que está diseñado para devolver un objeto recién creado y nada más.\n",
    "* No se puede invocar directamente desde el objeto o desde dentro de la clase (puedes invocar un constructor desde cualquiera de las superclases del objeto, pero discutiremos esto más adelante)."
   ]
  },
  {
   "cell_type": "code",
   "execution_count": 5,
   "id": "f8b73460-72ca-47c5-afaa-9f334b1521c1",
   "metadata": {},
   "outputs": [
    {
     "name": "stdout",
     "output_type": "stream",
     "text": [
      "objeto\n"
     ]
    }
   ],
   "source": [
    "class Classy:\n",
    "    def __init__(self, value):\n",
    "        self.var = value\n",
    "\n",
    "\n",
    "obj_1 = Classy(\"objeto\")\n",
    "\n",
    "print(obj_1.var)"
   ]
  },
  {
   "cell_type": "code",
   "execution_count": 6,
   "id": "68046fd9-8120-4f67-a54a-1851e608faea",
   "metadata": {},
   "outputs": [
    {
     "name": "stdout",
     "output_type": "stream",
     "text": [
      "visible\n",
      "fallido\n",
      "oculto\n"
     ]
    }
   ],
   "source": [
    "class Classy:\n",
    "    def visible(self):\n",
    "        print(\"visible\")\n",
    "    \n",
    "    def __hidden(self): # Método privado\n",
    "        print(\"oculto\")\n",
    "\n",
    "\n",
    "obj = Classy()\n",
    "obj.visible()\n",
    "\n",
    "try:\n",
    "    obj.__hidden() # no puede acceder sin especificar la clase\n",
    "except:\n",
    "    print(\"fallido\")\n",
    "\n",
    "obj._Classy__hidden() # accede especificando la clase"
   ]
  },
  {
   "cell_type": "markdown",
   "id": "75e51487-dfcf-496f-9fab-f6702d40d1ae",
   "metadata": {},
   "source": [
    "****"
   ]
  },
  {
   "cell_type": "markdown",
   "id": "3f1b17ab-51fd-43d4-9223-2bfd7497f494",
   "metadata": {},
   "source": [
    "## DICT"
   ]
  },
  {
   "cell_type": "markdown",
   "id": "cc4fdb85-7a73-4d6c-9e4a-13431c14757e",
   "metadata": {},
   "source": [
    "Encuentra todos los métodos y atributos definidos. Localiza el contexto en el que existen: dentro del objeto o dentro de la clase."
   ]
  },
  {
   "cell_type": "code",
   "execution_count": 7,
   "id": "beee67a7-2ed0-48b6-961d-327cfbea57a4",
   "metadata": {},
   "outputs": [
    {
     "name": "stdout",
     "output_type": "stream",
     "text": [
      "{'var': 2}\n",
      "{'__module__': '__main__', 'varia': 1, '__init__': <function Classy.__init__ at 0x7fae985a7430>, 'method': <function Classy.method at 0x7fae985a74c0>, '_Classy__hidden': <function Classy.__hidden at 0x7fae985a7550>, '__dict__': <attribute '__dict__' of 'Classy' objects>, '__weakref__': <attribute '__weakref__' of 'Classy' objects>, '__doc__': None}\n"
     ]
    }
   ],
   "source": [
    "class Classy:\n",
    "    varia = 1\n",
    "    def __init__(self):\n",
    "        self.var = 2\n",
    "\n",
    "    def method(self):\n",
    "        pass\n",
    "\n",
    "    def __hidden(self):\n",
    "        pass\n",
    "\n",
    "\n",
    "obj = Classy()\n",
    "\n",
    "print(obj.__dict__)\n",
    "print(Classy.__dict__)"
   ]
  },
  {
   "cell_type": "markdown",
   "id": "e3a47cb3-d002-4119-b6da-6fb73b49c293",
   "metadata": {},
   "source": [
    "__ dict __ es un diccionario. Otra propiedad incorporada que vale la pena mencionar es una cadena llamada __ name __.\n",
    "\n",
    "La propiedad contiene el nombre de la clase. No es nada emocionante, es solo una cadena.\n",
    "\n",
    "Nota: el atributo __ name __ está ausente del objeto, existe solo dentro de las clases.\n",
    "\n",
    "\n",
    "Si deseas encontrar la clase de un objeto en particular, puedes usar una función llamada type(), la cual es capaz (entre otras cosas) de encontrar una clase que se haya utilizado para crear instancias de cualquier objeto."
   ]
  },
  {
   "cell_type": "code",
   "execution_count": 8,
   "id": "95444cf7-6879-4c40-8303-ca877abaa833",
   "metadata": {},
   "outputs": [
    {
     "name": "stdout",
     "output_type": "stream",
     "text": [
      "Classy\n",
      "Classy\n"
     ]
    }
   ],
   "source": [
    "class Classy:\n",
    "    pass\n",
    "\n",
    "\n",
    "print(Classy.__name__)\n",
    "obj = Classy()\n",
    "print(type(obj).__name__)"
   ]
  },
  {
   "cell_type": "markdown",
   "id": "b67c9b15-1618-45da-b441-3725c0f28cb2",
   "metadata": {},
   "source": [
    "__ module __ es una cadena, también almacena el nombre del módulo que contiene la definición de la clase.\n",
    "\n",
    "Como sabes, cualquier módulo llamado __ main __ en realidad no es un módulo, sino es el archivo actualmente en ejecución."
   ]
  },
  {
   "cell_type": "code",
   "execution_count": 9,
   "id": "cd0454d5-24df-43a0-a32e-ab08c14ba6fb",
   "metadata": {},
   "outputs": [
    {
     "name": "stdout",
     "output_type": "stream",
     "text": [
      "__main__\n",
      "__main__\n"
     ]
    }
   ],
   "source": [
    "class Classy:\n",
    "    pass\n",
    "\n",
    "\n",
    "print(Classy.__module__)\n",
    "obj = Classy()\n",
    "print(obj.__module__)"
   ]
  },
  {
   "cell_type": "markdown",
   "id": "4f70f58f-4d48-4cb9-ad5b-2450347ac659",
   "metadata": {},
   "source": [
    "__ bases __ es una tupla. La tupla contiene clases (no nombres de clases) que son superclases directas de la clase.\n",
    "\n",
    "El orden es el mismo que el utilizado dentro de la definición de clase.\n",
    "\n",
    "Te mostraremos solo un ejemplo muy básico, ya que queremos resaltar cómo funciona la herencia.\n",
    "\n",
    "Además, te mostraremos cómo usar este atributo cuando discutamos los aspectos orientados a objetos de las excepciones.\n",
    "\n",
    "**Nota:** solo las clases tienen este atributo, los objetos no.\n",
    "\n",
    "Hemos definido una función llamada printBases(), diseñada para presentar claramente el contenido de la tupla."
   ]
  },
  {
   "cell_type": "code",
   "execution_count": 10,
   "id": "de296ff1-da36-428e-8c96-d358fbc47eb7",
   "metadata": {},
   "outputs": [
    {
     "name": "stdout",
     "output_type": "stream",
     "text": [
      "( object )\n",
      "( object )\n",
      "( SuperOne SuperTwo )\n"
     ]
    }
   ],
   "source": [
    "class SuperOne:\n",
    "    pass\n",
    "\n",
    "\n",
    "class SuperTwo:\n",
    "    pass\n",
    "\n",
    "\n",
    "class Sub(SuperOne, SuperTwo):\n",
    "    pass\n",
    "\n",
    "\n",
    "def printBases(cls):\n",
    "    print('( ', end='')\n",
    "\n",
    "    for x in cls.__bases__:\n",
    "        print(x.__name__, end=' ')\n",
    "    print(')')\n",
    "\n",
    "\n",
    "printBases(SuperOne)\n",
    "printBases(SuperTwo)\n",
    "printBases(Sub)"
   ]
  },
  {
   "cell_type": "markdown",
   "id": "480ede33-bd83-49c0-be59-c205f648835e",
   "metadata": {},
   "source": [
    "**Reflexión e introspección**\n",
    "\n",
    "Todo esto permite que el programador de Python realice dos actividades importantes específicas para muchos lenguajes objetivos. Las cuales son:\n",
    "\n",
    "* Introspección, que es la capacidad de un programa para examinar el tipo o las propiedades de un objeto en tiempo de ejecución.\n",
    "* Reflexión, que va un paso más allá, y es la capacidad de un programa para manipular los valores, propiedades y/o funciones de un objeto en tiempo de ejecución.\n",
    "\n",
    "En otras palabras, no tienes que conocer la definición completa de clase/objeto para manipular el objeto, ya que el objeto y/o su clase contienen los metadatos que te permiten reconocer sus características durante la ejecución del programa."
   ]
  },
  {
   "cell_type": "code",
   "execution_count": 11,
   "id": "65560023-f56e-47e8-a795-d6f47d2eb155",
   "metadata": {},
   "outputs": [
    {
     "name": "stdout",
     "output_type": "stream",
     "text": [
      "{'a': 1, 'b': 2, 'i': 3, 'ireal': 3.5, 'integer': 4, 'z': 5}\n",
      "{'a': 1, 'b': 2, 'i': 4, 'ireal': 3.5, 'integer': 5, 'z': 5}\n"
     ]
    }
   ],
   "source": [
    "class MyClass:\n",
    "    pass\n",
    "\n",
    "\n",
    "obj = MyClass()\n",
    "obj.a = 1\n",
    "obj.b = 2\n",
    "obj.i = 3\n",
    "obj.ireal = 3.5\n",
    "obj.integer = 4\n",
    "obj.z = 5\n",
    "\n",
    "\n",
    "def incIntsI(obj):\n",
    "    for name in obj.__dict__.keys():\n",
    "        if name.startswith('i'):\n",
    "            val = getattr(obj, name)\n",
    "            if isinstance(val, int):\n",
    "                setattr(obj, name, val + 1)\n",
    "\n",
    "\n",
    "print(obj.__dict__)\n",
    "incIntsI(obj)\n",
    "print(obj.__dict__)"
   ]
  },
  {
   "cell_type": "markdown",
   "id": "3d6602ea-7693-40c2-ad1c-1037c70947fc",
   "metadata": {},
   "source": [
    "La línea 1: define una clase muy simple...\n",
    "\n",
    "Las líneas 3 a la 10: ... la llenan con algunos atributos.\n",
    "\n",
    "La línea 12: ¡esta es nuestra función!\n",
    "\n",
    "La línea 13: escanea el atributo __ dict__, buscando todos los nombres de atributos.\n",
    "\n",
    "La línea 14: si un nombre comienza con i...\n",
    "\n",
    "La línea 15: ... utiliza la función getattr() para obtener su valor actual; nota: getattr() toma dos argumentos: un objeto y su nombre de propiedad (como una cadena) y devuelve el valor del atributo actual.\n",
    "\n",
    "La línea 16: comprueba si el valor es de tipo entero, emplea la función isinstance() para este propósito (discutiremos esto más adelante).\n",
    "\n",
    "La línea 17: si la comprobación sale bien, incrementa el valor de la propiedad haciendo uso de la función setattr(); la función toma tres argumentos: un objeto, el nombre de la propiedad (como una cadena) y el nuevo valor de la propiedad."
   ]
  },
  {
   "cell_type": "markdown",
   "id": "afa4a6f3-c25a-46fd-8b42-c86a3e8fc529",
   "metadata": {},
   "source": [
    "****"
   ]
  },
  {
   "cell_type": "markdown",
   "id": "e4395d94-db4a-4156-a001-272737f20ab9",
   "metadata": {},
   "source": [
    "## Herencia"
   ]
  },
  {
   "cell_type": "code",
   "execution_count": 13,
   "id": "96ae6bb5-7d2f-4379-8267-3666869cced5",
   "metadata": {},
   "outputs": [
    {
     "name": "stdout",
     "output_type": "stream",
     "text": [
      "<__main__.Star object at 0x7fae985e8af0>\n"
     ]
    }
   ],
   "source": [
    "class Star:\n",
    "    def __init__(self, name, galaxy):\n",
    "        self.name = name\n",
    "        self.galaxy = galaxy\n",
    "\n",
    "\n",
    "sun = Star(\"Sol\", \"Vía Láctea\")\n",
    "print(sun)"
   ]
  },
  {
   "cell_type": "markdown",
   "id": "7ec053e5-db0d-4cbb-a33b-a9810e35f4bc",
   "metadata": {},
   "source": [
    "El número hexadecimal (la subcadena que comienza con 0x) será diferente, ya que es solo un identificador de objeto interno utilizado por Python, y es poco probable que aparezca igual cuando se ejecuta el mismo código en un entorno diferente."
   ]
  },
  {
   "cell_type": "code",
   "execution_count": 14,
   "id": "d37e3349-062f-4f6b-9072-79d59e95572d",
   "metadata": {},
   "outputs": [
    {
     "name": "stdout",
     "output_type": "stream",
     "text": [
      "Sol en Vía Láctea\n"
     ]
    }
   ],
   "source": [
    "class Star:\n",
    "    def __init__(self, name, galaxy):\n",
    "        self.name = name\n",
    "        self.galaxy = galaxy\n",
    "\n",
    "    def __str__(self):\n",
    "        return self.name + ' en ' + self.galaxy\n",
    "\n",
    "\n",
    "sun = Star(\"Sol\", \"Vía Láctea\")\n",
    "print(sun)"
   ]
  },
  {
   "cell_type": "markdown",
   "id": "f4b67a29-8b64-4194-a928-cefbdecfcbad",
   "metadata": {},
   "source": [
    "Python necesita que alguna clase u objeto deba ser presentado como una cadena (es recomendable colocar el objeto como argumento en la invocación de la función print()), intenta invocar un método llamado __ str __() del objeto y emplear la cadena que devuelve.\n",
    "\n",
    "El método por default __ str __() devuelve la cadena anterior: fea y poco informativa. Puedes cambiarlo definiendo tu propio método.\n",
    "\n",
    "El método nuevo __ str __() genera una cadena que consiste en los nombres de la estrella y la galaxia, nada especial, pero los resultados de impresión se ven mejor ahora."
   ]
  },
  {
   "cell_type": "markdown",
   "id": "7c15a186-f730-42d8-bb91-f5cb57153a8b",
   "metadata": {},
   "source": [
    "### Herencia\n",
    "\n",
    "La **herencia** es una práctica común (en la programación de objetos) de pasar atributos y métodos de la superclase (definida y existente) a una clase recién creada, llamada subclase.\n",
    "\n",
    "En otras palabras, la herencia es una forma de construir una nueva clase, no desde cero, sino utilizando un repertorio de rasgos ya definido. La nueva clase hereda (y esta es la clave) todo el equipamiento ya existente, pero puedes agregar algo nuevo si es necesario.\n",
    "\n",
    "Gracias a eso, es posible construir clases más especializadas (más concretas) utilizando algunos conjuntos de reglas y comportamientos generales predefinidos."
   ]
  },
  {
   "cell_type": "code",
   "execution_count": 1,
   "id": "813bba9a-c022-4c9d-9bd4-1431003fd1f9",
   "metadata": {},
   "outputs": [],
   "source": [
    "class Vehicle:\n",
    "    pass\n",
    "\n",
    "\n",
    "class LandVehicle(Vehicle):\n",
    "    pass\n",
    "\n",
    "\n",
    "class TrackedVehicle(LandVehicle):\n",
    "    pass"
   ]
  },
  {
   "cell_type": "markdown",
   "id": "5824835f-d020-4830-9daa-e236824afbc8",
   "metadata": {},
   "source": [
    "Podemos decir que:\n",
    "\n",
    "* La clase Vehicle es la superclase para clases LandVehicle y TrackedVehicle.\n",
    "* La clase LandVehicle es una subclase de Vehicle y la superclase de TrackedVehicle al mismo tiempo.\n",
    "* La clase TrackedVehicle es una subclase tanto de Vehicle y LandVehicle.\n",
    "\n",
    "El conocimiento anterior proviene de la lectura del código (en otras palabras, lo sabemos porque podemos verlo).\n",
    "\n",
    "Python ofrece una función que es capaz de identificar una relación entre dos clases, y aunque su diagnóstico no es complejo, puede verificar si una clase particular es una subclase de cualquier otra clase.\n",
    "\n",
    "**issubclass():** La función devuelve True si ClassOne es una subclase de ClassTwo, y False de lo contrario.\n",
    "\n",
    "Hay dos bucles anidados. Su propósito es verificar todos los pares de clases ordenadas posibles y que imprima los resultados de la verificación para determinar si el par coincide con la relación subclase-superclase:\n"
   ]
  },
  {
   "cell_type": "code",
   "execution_count": 2,
   "id": "e5bb5bf8-b964-4798-97e5-ea24dc8d5499",
   "metadata": {},
   "outputs": [
    {
     "name": "stdout",
     "output_type": "stream",
     "text": [
      "True\tFalse\tFalse\t\n",
      "True\tTrue\tFalse\t\n",
      "True\tTrue\tTrue\t\n"
     ]
    }
   ],
   "source": [
    "class Vehicle:\n",
    "    pass\n",
    "\n",
    "\n",
    "class LandVehicle(Vehicle):\n",
    "    pass\n",
    "\n",
    "\n",
    "class TrackedVehicle(LandVehicle):\n",
    "    pass\n",
    "\n",
    "\n",
    "for cls1 in [Vehicle, LandVehicle, TrackedVehicle]:\n",
    "    for cls2 in [Vehicle, LandVehicle, TrackedVehicle]:\n",
    "        print(issubclass(cls1, cls2), end=\"\\t\")\n",
    "    print()\n"
   ]
  },
  {
   "cell_type": "markdown",
   "id": "29d33bf5-6d45-470d-855e-f55b69ce0db8",
   "metadata": {},
   "source": [
    "**isinstance():** La función devuelve True si el objeto es una instancia de la clase, o False de lo contrario.\n",
    "\n",
    "Hemos creado tres objetos, uno para cada una de las clases. Luego, usando dos bucles anidados, verificamos todos los pares posibles de clase de objeto para averiguar si los objetos son instancias de las clases."
   ]
  },
  {
   "cell_type": "code",
   "execution_count": 3,
   "id": "5d8279bd-255d-4e06-9e68-2b75db38ba57",
   "metadata": {},
   "outputs": [
    {
     "name": "stdout",
     "output_type": "stream",
     "text": [
      "True\tFalse\tFalse\t\n",
      "True\tTrue\tFalse\t\n",
      "True\tTrue\tTrue\t\n"
     ]
    }
   ],
   "source": [
    "class Vehicle:\n",
    "    pass\n",
    "\n",
    "\n",
    "class LandVehicle(Vehicle):\n",
    "    pass\n",
    "\n",
    "\n",
    "class TrackedVehicle(LandVehicle):\n",
    "    pass\n",
    "\n",
    "\n",
    "my_vehicle = Vehicle()\n",
    "my_land_vehicle = LandVehicle()\n",
    "my_tracked_vehicle = TrackedVehicle()\n",
    "\n",
    "for obj in [my_vehicle, my_land_vehicle, my_tracked_vehicle]:\n",
    "    for cls in [Vehicle, LandVehicle, TrackedVehicle]:\n",
    "        print(isinstance(obj, cls), end=\"\\t\")\n",
    "    print()"
   ]
  },
  {
   "cell_type": "markdown",
   "id": "a5bd9d61-37b6-46f1-98c2-e5e021aa21dc",
   "metadata": {},
   "source": [
    "**is:** El operador 'is' verifica si dos variables, en este caso (object_one y object_two) se refieren al mismo objeto.\n",
    "\n",
    "No olvides que las variables no almacenan los objetos en sí, sino solo los identificadores que apuntan a la memoria interna de Python.\n",
    "\n",
    "Asignar un valor de una variable de objeto a otra variable no copia el objeto, sino solo su identificador. Es por ello que un operador como is puede ser muy útil en ciertas circunstancias.\n",
    "\n",
    "Echa un vistazo al código en el editor. Analicémoslo:\n",
    "\n",
    "* Existe una clase muy simple equipada con un constructor simple, que crea una sola propiedad. La clase se usa para instanciar dos objetos. El primero se asigna a otra variable, y su propiedad val se incrementa en uno.\n",
    "* Luego, el operador 'is' se aplica tres veces para verificar todos los pares de objetos posibles, y todos los valores de la propiedad val son mostrados en pantalla.\n",
    "* La última parte del código lleva a cabo otro experimento. Después de tres tareas, ambas cadenas contienen los mismos textos, pero estos textos se almacenan en diferentes objetos."
   ]
  },
  {
   "cell_type": "code",
   "execution_count": 4,
   "id": "3ed0a50b-6c6b-4fe9-8d45-b3221204317e",
   "metadata": {},
   "outputs": [
    {
     "name": "stdout",
     "output_type": "stream",
     "text": [
      "False\n",
      "False\n",
      "True\n",
      "1 2 1\n",
      "True False\n"
     ]
    }
   ],
   "source": [
    "class SampleClass:\n",
    "    def __init__(self, val):\n",
    "        self.val = val\n",
    "\n",
    "\n",
    "object_1 = SampleClass(0)\n",
    "object_2 = SampleClass(2)\n",
    "object_3 = object_1\n",
    "object_3.val += 1\n",
    "\n",
    "print(object_1 is object_2)\n",
    "print(object_2 is object_3)\n",
    "print(object_3 is object_1)\n",
    "print(object_1.val, object_2.val, object_3.val)\n",
    "\n",
    "string_1 = \"Mary tenía un \"\n",
    "string_2 = \"Mary tenía un corderito\"\n",
    "string_1 += \"corderito\"\n",
    "\n",
    "print(string_1 == string_2, string_1 is string_2)\n"
   ]
  },
  {
   "cell_type": "markdown",
   "id": "9c32333c-1c76-4605-8e0f-f0f8bc49d952",
   "metadata": {},
   "source": [
    "Los resultados prueban que object_1 y object_3 son en realidad los mismos objetos, mientras que string_1 y string_2 no lo son, a pesar de que su contenido sea el mismo."
   ]
  },
  {
   "cell_type": "code",
   "execution_count": 5,
   "id": "f17059c0-6d5a-4175-8b2b-c9faf0c63e8a",
   "metadata": {},
   "outputs": [
    {
     "name": "stdout",
     "output_type": "stream",
     "text": [
      "Mi nombre es Andy.\n"
     ]
    }
   ],
   "source": [
    "class Super:\n",
    "    def __init__(self, name):\n",
    "        self.name = name\n",
    "\n",
    "    def __str__(self):\n",
    "        return \"Mi nombre es \" + self.name + \".\"\n",
    "\n",
    "\n",
    "class Sub(Super):\n",
    "    def __init__(self, name):\n",
    "        Super.__init__(self, name)\n",
    "\n",
    "\n",
    "obj = Sub(\"Andy\")\n",
    "\n",
    "print(obj)"
   ]
  },
  {
   "cell_type": "markdown",
   "id": "3d8a577f-fe4f-47ff-aa38-e9723df60ea9",
   "metadata": {},
   "source": [
    "* Existe una clase llamada Super, que define su propio constructor utilizado para asignar la propiedad del objeto, llamada name.\n",
    "* La clase también define el método __ str __(), lo que permite que la clase pueda presentar su identidad en forma de texto.\n",
    "* La clase se usa luego como base para crear una subclase llamadaSub. La clase Sub define su propio constructor, que invoca el de la superclase. Toma nota de como lo hemos hecho: Super.__ init __(self, name).\n",
    "* Hemos nombrado explícitamente la superclase y hemos apuntado al método para invocar a __ init __(), proporcionando todos los argumentos necesarios.\n",
    "* Hemos instanciado un objeto de la clase Sub y lo hemos impreso."
   ]
  },
  {
   "cell_type": "code",
   "execution_count": 6,
   "id": "d60ff012-88d4-4f81-bfa5-0d884190764e",
   "metadata": {},
   "outputs": [
    {
     "name": "stdout",
     "output_type": "stream",
     "text": [
      "Mi nombre es Andy.\n"
     ]
    }
   ],
   "source": [
    "class Super:\n",
    "    def __init__(self, name):\n",
    "        self.name = name\n",
    "\n",
    "    def __str__(self):\n",
    "        return \"Mi nombre es \" + self.name + \".\"\n",
    "\n",
    "\n",
    "class Sub(Super):\n",
    "    def __init__(self, name):\n",
    "        super().__init__(name)\n",
    "\n",
    "\n",
    "obj = Sub(\"Andy\")\n",
    "\n",
    "print(obj)"
   ]
  },
  {
   "cell_type": "markdown",
   "id": "867688b2-c681-4238-adee-08d543940c5f",
   "metadata": {},
   "source": [
    "La función super() accede a la superclase sin necesidad de conocer su nombre.\n",
    "\n",
    "La función super() crea un contexto en el que no tiene que (además, no debe) pasar el argumento propio al método que se invoca; es por eso que es posible activar el constructor de la superclase utilizando solo un argumento.\n",
    "\n",
    "Nota: puedes usar este mecanismo no solo para invocar al constructor de la superclase, pero también para obtener acceso a cualquiera de los recursos disponibles dentro de la superclase."
   ]
  },
  {
   "cell_type": "code",
   "execution_count": 7,
   "id": "a15e6e8c-3427-4639-aea1-677e37856a9c",
   "metadata": {},
   "outputs": [
    {
     "name": "stdout",
     "output_type": "stream",
     "text": [
      "2\n",
      "1\n"
     ]
    }
   ],
   "source": [
    "class Super:\n",
    "    supVar = 1\n",
    "\n",
    "\n",
    "class Sub(Super):\n",
    "    subVar = 2\n",
    "\n",
    "\n",
    "obj = Sub()\n",
    "\n",
    "print(obj.subVar)\n",
    "print(obj.supVar)"
   ]
  },
  {
   "cell_type": "markdown",
   "id": "f0b17de7-8952-48bb-85d4-cd70a53a1577",
   "metadata": {},
   "source": [
    "La clase Super define una variable de clase llamada supVar, y la clase Sub define una variable llamada subVar. Ambas variables son visibles dentro del objeto de clase Sub."
   ]
  },
  {
   "cell_type": "code",
   "execution_count": 11,
   "id": "f6af905b-0eb4-4111-bff6-28579e63a7a9",
   "metadata": {},
   "outputs": [
    {
     "name": "stdout",
     "output_type": "stream",
     "text": [
      "12\n",
      "11\n"
     ]
    }
   ],
   "source": [
    "class Super:\n",
    "    def __init__(self):\n",
    "        self.supVar = 11\n",
    "\n",
    "\n",
    "class Sub(Super):\n",
    "    def __init__(self):\n",
    "        super().__init__()\n",
    "        self.subVar = 12\n",
    "\n",
    "\n",
    "obj = Sub()\n",
    "\n",
    "print(obj.subVar)\n",
    "print(obj.supVar)"
   ]
  },
  {
   "cell_type": "markdown",
   "id": "4378b744-44c7-4169-98ca-07e22388be7d",
   "metadata": {},
   "source": [
    "El constructor de la clase Sub crea una variable de instancia llamada subVar, mientras que el constructor de Super hace lo mismo con una variable de nombre supVar. Al igual que el ejemplo anterior, ambas variables son accesibles desde el objeto de clase Sub.\n",
    "\n",
    "Nota: La existencia de la variable supVar obviamente está condicionada por la invocación del constructor de la clase Super. Omitirlo daría como resultado la ausencia de la variable en el objeto creado (pruébalo tu mismo)."
   ]
  },
  {
   "cell_type": "markdown",
   "id": "97cbf0cd-767e-4e92-b2eb-62d1c9770162",
   "metadata": {},
   "source": [
    "****"
   ]
  },
  {
   "cell_type": "markdown",
   "id": "1364b182-b0ea-4fe3-8675-2d7a79f43364",
   "metadata": {},
   "source": [
    "### Herencia Multiple\n",
    "\n",
    "La herencia múltiple ocurre cuando una clase tiene más de una superclase."
   ]
  },
  {
   "cell_type": "code",
   "execution_count": 12,
   "id": "dff1ad2f-aa52-475e-be3a-4488577b441c",
   "metadata": {},
   "outputs": [
    {
     "name": "stdout",
     "output_type": "stream",
     "text": [
      "10 11\n",
      "20 21\n"
     ]
    }
   ],
   "source": [
    "class SuperA:\n",
    "    var_a = 10\n",
    "    def fun_a(self):\n",
    "        return 11\n",
    "\n",
    "\n",
    "class SuperB:\n",
    "    var_b = 20\n",
    "    def fun_b(self):\n",
    "        return 21\n",
    "\n",
    "\n",
    "class Sub(SuperA, SuperB):\n",
    "    pass\n",
    "\n",
    "\n",
    "obj = Sub()\n",
    "\n",
    "print(obj.var_a, obj.fun_a())\n",
    "print(obj.var_b, obj.fun_b())"
   ]
  },
  {
   "cell_type": "markdown",
   "id": "a44e3c0e-3306-4313-a08d-d2b5860a976d",
   "metadata": {},
   "source": [
    "La clase Sub tiene dos superclases: SuperA y SuperB. Esto significa que la clase Sub hereda todos los bienes ofrecidos por ambas clases SuperA y SuperB."
   ]
  },
  {
   "cell_type": "code",
   "execution_count": 13,
   "id": "ce814a9f-9c2a-4d18-a439-331f28ffa202",
   "metadata": {},
   "outputs": [
    {
     "name": "stdout",
     "output_type": "stream",
     "text": [
      "200 201\n"
     ]
    }
   ],
   "source": [
    "class Level1:\n",
    "    var = 100\n",
    "    def fun(self):\n",
    "        return 101\n",
    "\n",
    "\n",
    "class Level2(Level1):\n",
    "    var = 200\n",
    "    def fun(self):\n",
    "        return 201\n",
    "\n",
    "\n",
    "class Level3(Level2):\n",
    "    pass\n",
    "\n",
    "\n",
    "obj = Level3()\n",
    "\n",
    "print(obj.var, obj.fun())\n"
   ]
  },
  {
   "cell_type": "markdown",
   "id": "e641ec1e-a117-400f-96b6-6adc62a4e505",
   "metadata": {},
   "source": [
    "Tanto la clase, Level1 y Level2 definen un método llamado fun() y una propiedad llamada var. ¿Significará esto el objeto de la claseLevel3 podrá acceder a dos copias de cada entidad? De ningún modo.\n",
    "\n",
    "La entidad definida después (en el sentido de herencia) anula la misma entidad definida anteriormente.\n",
    "\n",
    "Como puedes ver, la variable de clase var y el método fun() de la clase Level2 anula las entidades de los mismos nombres derivados de la clase Level1.\n",
    "\n",
    "Esta característica se puede usar intencionalmente para modificar el comportamiento predeterminado de las clases (o definido previamente) cuando cualquiera de tus clases necesite actuar de manera diferente a su ancestro."
   ]
  },
  {
   "cell_type": "code",
   "execution_count": 14,
   "id": "3ba13daa-5491-454e-97f1-cbc16e47c569",
   "metadata": {},
   "outputs": [
    {
     "name": "stdout",
     "output_type": "stream",
     "text": [
      "L LL RR Left\n"
     ]
    }
   ],
   "source": [
    "class Left:\n",
    "    var = \"L\"\n",
    "    var_left = \"LL\"\n",
    "    def fun(self):\n",
    "        return \"Left\"\n",
    "\n",
    "\n",
    "class Right:\n",
    "    var = \"R\"\n",
    "    var_right = \"RR\"\n",
    "    def fun(self):\n",
    "        return \"Right\"\n",
    "\n",
    "\n",
    "class Sub(Left, Right):\n",
    "    pass\n",
    "\n",
    "\n",
    "obj = Sub()\n",
    "\n",
    "print(obj.var, obj.var_left, obj.var_right, obj.fun())"
   ]
  },
  {
   "cell_type": "markdown",
   "id": "1d314448-3002-4a10-acd1-2b6abedb286d",
   "metadata": {},
   "source": [
    "La clase Sub hereda todos los bienes de dos superclases Left y Right (estos nombres están destinados a ser significativos).\n",
    "\n",
    "No hay duda de que la variable de clase var_right proviene de la clase Right, y var_left proviene de la clase Left respectivamente.\n",
    "\n",
    "Esto es claro. Pero, ¿De donde proviene la variable var? ¿Es posible adivinarlo? El mismo problema se encuentra con el método fun() - ¿Será invocada desde Left o desde Right? \n",
    "\n",
    "Esto prueba que ambos casos poco claros tienen una solución dentro de la clase Left.\n",
    "\n",
    "Podemos decir que Python busca componentes de objetos en el siguiente orden:\n",
    "\n",
    "* Dentro del objeto mismo.\n",
    "* En sus superclases, de abajo hacia arriba.\n",
    "* Si hay más de una clase en una ruta de herencia, Python las escanea de izquierda a derecha."
   ]
  },
  {
   "cell_type": "code",
   "execution_count": 15,
   "id": "de71affa-c907-42f8-a17e-edba1ff45934",
   "metadata": {},
   "outputs": [
    {
     "name": "stdout",
     "output_type": "stream",
     "text": [
      "R LL RR Right\n"
     ]
    }
   ],
   "source": [
    "class Left:\n",
    "    var = \"L\"\n",
    "    var_left = \"LL\"\n",
    "    def fun(self):\n",
    "        return \"Left\"\n",
    "\n",
    "\n",
    "class Right:\n",
    "    var = \"R\"\n",
    "    var_right = \"RR\"\n",
    "    def fun(self):\n",
    "        return \"Right\"\n",
    "\n",
    "\n",
    "class Sub(Right, Left): # modificamos las posisciones de Right y left\n",
    "    pass\n",
    "\n",
    "\n",
    "obj = Sub()\n",
    "\n",
    "print(obj.var, obj.var_left, obj.var_right, obj.fun())"
   ]
  },
  {
   "cell_type": "markdown",
   "id": "d9a19288-5b5c-4760-9dee-378a15f9bee1",
   "metadata": {},
   "source": [
    "Se observa que los valores de var y fun() provienen de la primera clase.\n",
    "\n",
    "### Jerarquías de clases"
   ]
  },
  {
   "cell_type": "code",
   "execution_count": 16,
   "id": "9ea8fa64-f2cb-4faf-9bc7-c64684b6abd0",
   "metadata": {},
   "outputs": [
    {
     "name": "stdout",
     "output_type": "stream",
     "text": [
      "do_it de One\n",
      "do_it de Two\n"
     ]
    }
   ],
   "source": [
    "class One:\n",
    "    def do_it(self):\n",
    "        print(\"do_it de One\")\n",
    "\n",
    "    def doanything(self):\n",
    "        self.do_it()\n",
    "\n",
    "\n",
    "class Two(One):\n",
    "    def do_it(self):\n",
    "        print(\"do_it de Two\")\n",
    "\n",
    "\n",
    "one = One()\n",
    "two = Two()\n",
    "\n",
    "one.doanything()\n",
    "two.doanything()"
   ]
  },
  {
   "cell_type": "markdown",
   "id": "8fc053ad-121a-45c9-b5a8-509839e3258e",
   "metadata": {},
   "source": [
    "Si divides un problema entre las clases y decides cual de ellas debe ubicarse en la parte superior y cual debe ubicarse en la parte inferior de la jerarquía, debes analizar cuidadosamente el problema, pero antes de mostrarte como hacerlo (y como no hacerlo), queremos resaltar un efecto interesante. No es nada extraordinario (es solo una consecuencia de las reglas generales presentadas anteriormente), pero recordarlo puede ser clave para comprender como funcionan algunos códigos y cómo se puede usar este efecto para construir un conjunto flexible de clases.\n",
    "\n",
    "Echa un vistazo al código en el editor. Analicémoslo:\n",
    "\n",
    "* Existen dos clases llamadas One y Two, se entiende que Two es derivada de One. Nada especial. Sin embargo, algo es notable: el método do_it().\n",
    "* El método do_it() está definido dos veces: originalmente dentro de One posteriormente dentro de Two. La esencia del ejemplo radica en el hecho de que es invocado solo una vez dentro de One.\n",
    "\n",
    "La primera invocación parece ser simple, el invocar el método doanything() del objeto llamado one obviamente activará el primero de los métodos.\n",
    "\n",
    "La segunda invocación necesita algo de atención. También es simple si tienes en cuenta cómo Python encuentra los componentes de la clase. La segunda invocación ejecutará el método do_it() en la forma existente dentro de la clase Two, independientemente del hecho de que la invocación se lleva a cabo dentro de la clase One.\n",
    "\n",
    "Nota: la situación en la cual la subclase puede modificar el comportamiento de su superclase (como en el ejemplo) se llama poliformismo. La palabra proviene del griego (polys: \"muchos, mucho\" y morphe, \"forma, forma\"), lo que significa que una misma clase puede tomar varias formas dependiendo de las redefiniciones realizadas por cualquiera de sus subclases.\n",
    "\n",
    "El método, redefinido en cualquiera de las superclases, que cambia el comportamiento de la superclase, se llama virtual.\n",
    "\n",
    "En otras palabras, ninguna clase se da por hecho. El comportamiento de cada clase puede ser modificado en cualquier momento por cualquiera de sus subclases."
   ]
  },
  {
   "cell_type": "code",
   "execution_count": 17,
   "id": "ee98b223-a9a6-42b8-aa3d-5ef13dfd7a36",
   "metadata": {},
   "outputs": [],
   "source": [
    "import time\n",
    "\n",
    "class TrackedVehicle:\n",
    "    def control_track(left, stop):\n",
    "        pass\n",
    "\n",
    "    def turn(left):\n",
    "        control_track(left, True)\n",
    "        time.sleep(0.25)\n",
    "        control_track(left, False)\n",
    "\n",
    "\n",
    "class WheeledVehicle:\n",
    "    def turn_front_wheels(left, on):\n",
    "        pass\n",
    "\n",
    "    def turn(left):\n",
    "        turn_front_wheels(left, True)\n",
    "        time.sleep(0.25)\n",
    "        turn_front_wheels(left, False)"
   ]
  },
  {
   "cell_type": "markdown",
   "id": "0c2d80a8-38da-4e48-8351-e853b2d5766a",
   "metadata": {},
   "source": [
    "* Un vehículo oruga realiza un giro deteniéndose y moviéndose en una de sus pistas (esto lo hace el método control_track() el cual se implementará más tarde).\n",
    "* Un vehículo con ruedas gira cuando sus ruedas delanteras giran (esto lo hace el método turn_front_wheels()).\n",
    "* El método turn() utiliza el método adecuado para cada vehículo en particular.\n",
    "\n",
    "Hay un error los métodos turn()son muy similares como para dejarlos en esta forma..."
   ]
  },
  {
   "cell_type": "code",
   "execution_count": 18,
   "id": "f76a6c1d-b7fc-4095-8cec-9a99f666d68a",
   "metadata": {},
   "outputs": [],
   "source": [
    "import time\n",
    "\n",
    "class Vehicle:\n",
    "    def change_direction(left, on):\n",
    "        pass\n",
    "\n",
    "    def turn(left):\n",
    "        change_direction(left, True)\n",
    "        time.sleep(0.25)\n",
    "        change_direction(left, False)\n",
    "\n",
    "\n",
    "class TrackedVehicle(Vehicle):\n",
    "    def control_track(left, stop):\n",
    "        pass\n",
    "\n",
    "    def change_direction(left, on):\n",
    "        control_track(left, on)\n",
    "\n",
    "\n",
    "class WheeledVehicle(Vehicle):\n",
    "    def turn_front_wheels(left, on):\n",
    "        pass\n",
    "\n",
    "    def change_direction(left, on):\n",
    "        turn_front_wheels(left, on)"
   ]
  },
  {
   "cell_type": "markdown",
   "id": "936deb83-740b-46a3-a8fb-be7e653471bf",
   "metadata": {},
   "source": [
    "* Definimos una superclase llamada Vehicle, la cual utiliza el método turn() para implementar un esquema para poder girar, mientras que el giro en si es realizado por change_direction(); nota: dicho método está vacío, ya que vamos a poner todos los detalles en la subclase (dicho método a menudo se denomina método abstracto, ya que solo demuestra alguna posibilidad que será instanciada más tarde).\n",
    "* Definimos una subclase llamada TrackedVehicle (nota: es derivada de la clase Vehicle) la cual instancia el método change_direction() utilizando el método denominado control_track().\n",
    "* Respectivamente, la subclase llamada WheeledVehicle hace lo mismo, pero usa el método turn_front_wheels() para obligar al vehículo a girar.\n",
    "\n",
    "La ventaja más importante (omitiendo los problemas de legibilidad) es que esta forma de código te permite implementar un nuevo algoritmo de giro simplemente modificando el método turn(), lo cual se puede hacer en un solo lugar, ya que todos los vehículos lo obedecerán.\n",
    "\n",
    "Así es como el el poliformismo ayuda al desarrollador a mantener el código limpio y consistente."
   ]
  },
  {
   "cell_type": "code",
   "execution_count": 19,
   "id": "d129d5cf-444b-4020-a829-dadf996aaec7",
   "metadata": {},
   "outputs": [
    {
     "name": "stdout",
     "output_type": "stream",
     "text": [
      "ruedas:  True True\n",
      "ruedas:  True False\n",
      "pistas:  False True\n",
      "pistas:  False False\n"
     ]
    }
   ],
   "source": [
    "import time\n",
    "\n",
    "class Tracks:\n",
    "    def change_direction(self, left, on):\n",
    "        print(\"pistas: \", left, on)\n",
    "\n",
    "\n",
    "class Wheels:\n",
    "    def change_direction(self, left, on):\n",
    "        print(\"ruedas: \", left, on)\n",
    "\n",
    "\n",
    "class Vehicle:\n",
    "    def __init__(self, controller):\n",
    "        self.controller = controller\n",
    "\n",
    "    def turn(self, left):\n",
    "        self.controller.change_direction(left, True)\n",
    "        time.sleep(0.25)\n",
    "        self.controller.change_direction(left, False)\n",
    "\n",
    "\n",
    "wheeled = Vehicle(Wheels())\n",
    "tracked = Vehicle(Tracks())\n",
    "\n",
    "wheeled.turn(True)\n",
    "tracked.turn(False)"
   ]
  },
  {
   "cell_type": "markdown",
   "id": "b32a017e-7b36-4050-9a2b-1aa28734adbb",
   "metadata": {},
   "source": [
    "Permítenos ilustrar la diferencia usando los vehículos previamente definidos. El enfoque anterior nos condujo a una jerarquía de clases en la que la clase más alta conocía las reglas generales utilizadas para girar el vehículo, pero no sabía cómo controlar los componentes apropiados (ruedas o pistas).\n",
    "\n",
    "Las subclases implementaron esta capacidad mediante la introducción de mecanismos especializados. Hagamos (casi) lo mismo, pero usando composición. La clase, como en el ejemplo anterior, sabe cómo girar el vehículo, pero el giro real lo realiza un objeto especializado almacenado en una propiedad llamada controlador. El controlador es capaz de controlar el vehículo manipulando las partes relevantes del vehículo.\n",
    "\n",
    "Existen dos clases llamadas Tracks y Wheels, ellas saben como controlar la dirección del vehículo. También hay una clase llamada Vehicle que puede usar cualquiera de los controladores disponibles (los dos ya definidos o cualquier otro definido en el futuro): el controlador se pasa a la clase durante la inicialización.\n",
    "\n",
    "De esta manera, la capacidad de giro del vehículo se compone de un objeto externo, no implementado dentro de la clase Vehicle.\n",
    "\n",
    "En otras palabras, tenemos un vehículo universal y podemos instalar pistas o ruedas en él."
   ]
  },
  {
   "cell_type": "markdown",
   "id": "b552ff68-7a52-4e38-84f3-e1443a3d513c",
   "metadata": {},
   "source": [
    "### Orden de Resolución de Métodos\n",
    "\n",
    "MRO, en general, es una forma (puedes llamarlo una estrategia) en la que un lenguaje de programación en particular escanea la parte superior de la jerarquía de una clase para encontrar el método que necesita actualmente"
   ]
  },
  {
   "cell_type": "code",
   "execution_count": 21,
   "id": "1349bcc3-d5d6-4c89-9a4c-cc9adc09d6f3",
   "metadata": {},
   "outputs": [
    {
     "name": "stdout",
     "output_type": "stream",
     "text": [
      "bottom\n",
      "middle\n",
      "top\n"
     ]
    }
   ],
   "source": [
    "class Top:\n",
    "    def m_top(self):\n",
    "        print(\"top\")\n",
    "\n",
    "\n",
    "class Middle(Top):\n",
    "    def m_middle(self):\n",
    "        print(\"middle\")\n",
    "\n",
    "\n",
    "class Bottom(Middle):\n",
    "    def m_bottom(self):\n",
    "        print(\"bottom\")\n",
    "\n",
    "\n",
    "object = Bottom()\n",
    "object.m_bottom()\n",
    "object.m_middle()\n",
    "object.m_top()"
   ]
  },
  {
   "cell_type": "code",
   "execution_count": 22,
   "id": "7ae83dd6-5e41-46ff-a2c7-c7e1149b03c3",
   "metadata": {},
   "outputs": [
    {
     "name": "stdout",
     "output_type": "stream",
     "text": [
      "bottom\n",
      "middle\n",
      "top\n"
     ]
    }
   ],
   "source": [
    "class Top:\n",
    "    def m_top(self):\n",
    "        print(\"top\")\n",
    "\n",
    "\n",
    "class Middle(Top):\n",
    "    def m_middle(self):\n",
    "        print(\"middle\")\n",
    "\n",
    "\n",
    "class Bottom(Middle, Top): # herencia múltiple\n",
    "    def m_bottom(self):\n",
    "        print(\"bottom\")\n",
    "\n",
    "\n",
    "object = Bottom()\n",
    "object.m_bottom()\n",
    "object.m_middle()\n",
    "object.m_top()"
   ]
  },
  {
   "cell_type": "markdown",
   "id": "8b41ee76-6e75-49e8-8604-14657d1a4a38",
   "metadata": {},
   "source": [
    "Como puedes ver, el orden en el que se enumeran las dos superclases entre paréntesis cumple con la estructura del código: la clase Middle precede a la clase Top, justo como en la ruta de herencia real.\n",
    "\n",
    "A pesar de su rareza, la muestra es correcta y funciona como se esperaba, pero debe indicarse que esta notación no aporta ninguna funcionalidad nueva ni significado adicional."
   ]
  },
  {
   "cell_type": "markdown",
   "id": "5a0ac59f-91a4-4c9c-88e6-3c3a5678961d",
   "metadata": {},
   "source": [
    "Modifiquemos el código una vez más; ahora intercambiaremos ambos nombres de superclase en la definición de clase Bottom"
   ]
  },
  {
   "cell_type": "code",
   "execution_count": 23,
   "id": "e0308be4-c61c-4366-999e-d9abb343bd9c",
   "metadata": {},
   "outputs": [
    {
     "ename": "TypeError",
     "evalue": "Cannot create a consistent method resolution\norder (MRO) for bases Top, Middle",
     "output_type": "error",
     "traceback": [
      "\u001b[0;31m---------------------------------------------------------------------------\u001b[0m",
      "\u001b[0;31mTypeError\u001b[0m                                 Traceback (most recent call last)",
      "Cell \u001b[0;32mIn[23], line 11\u001b[0m\n\u001b[1;32m      7\u001b[0m     \u001b[38;5;28;01mdef\u001b[39;00m \u001b[38;5;21mm_middle\u001b[39m(\u001b[38;5;28mself\u001b[39m):\n\u001b[1;32m      8\u001b[0m         \u001b[38;5;28mprint\u001b[39m(\u001b[38;5;124m\"\u001b[39m\u001b[38;5;124mmiddle\u001b[39m\u001b[38;5;124m\"\u001b[39m)\n\u001b[0;32m---> 11\u001b[0m \u001b[38;5;28;01mclass\u001b[39;00m \u001b[38;5;21;01mBottom\u001b[39;00m(Top, Middle):\n\u001b[1;32m     12\u001b[0m     \u001b[38;5;28;01mdef\u001b[39;00m \u001b[38;5;21mm_bottom\u001b[39m(\u001b[38;5;28mself\u001b[39m):\n\u001b[1;32m     13\u001b[0m         \u001b[38;5;28mprint\u001b[39m(\u001b[38;5;124m\"\u001b[39m\u001b[38;5;124mbottom\u001b[39m\u001b[38;5;124m\"\u001b[39m)\n",
      "\u001b[0;31mTypeError\u001b[0m: Cannot create a consistent method resolution\norder (MRO) for bases Top, Middle"
     ]
    }
   ],
   "source": [
    "class Top:\n",
    "    def m_top(self):\n",
    "        print(\"top\")\n",
    "\n",
    "\n",
    "class Middle(Top):\n",
    "    def m_middle(self):\n",
    "        print(\"middle\")\n",
    "\n",
    "\n",
    "class Bottom(Top, Middle): # Modificación del orden!!!\n",
    "    def m_bottom(self):\n",
    "        print(\"bottom\")\n",
    "\n",
    "\n",
    "object = Bottom()\n",
    "object.m_bottom()\n",
    "object.m_middle()\n",
    "object.m_top()"
   ]
  },
  {
   "cell_type": "markdown",
   "id": "20abde95-399e-4748-b059-4785e1f3fefc",
   "metadata": {},
   "source": [
    "El orden que intentamos forzar (Top, Middle) es incompatible con la ruta de herencia que se deriva de la estructura del código. A Python no le gustará. "
   ]
  },
  {
   "cell_type": "markdown",
   "id": "3729c9d4-57eb-4cd0-805e-18fea4e80021",
   "metadata": {},
   "source": [
    "*Creado por:*\n",
    "\n",
    "*Isabel Maniega*"
   ]
  }
 ],
 "metadata": {
  "kernelspec": {
   "display_name": "Python 3 (ipykernel)",
   "language": "python",
   "name": "python3"
  },
  "language_info": {
   "codemirror_mode": {
    "name": "ipython",
    "version": 3
   },
   "file_extension": ".py",
   "mimetype": "text/x-python",
   "name": "python",
   "nbconvert_exporter": "python",
   "pygments_lexer": "ipython3",
   "version": "3.8.18"
  }
 },
 "nbformat": 4,
 "nbformat_minor": 5
}
