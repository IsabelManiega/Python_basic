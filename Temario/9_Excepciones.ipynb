{
 "cells": [
  {
   "cell_type": "markdown",
   "metadata": {},
   "source": [
    "*Contenido creado por: Isabel Maniega*\n"
   ]
  },
  {
   "cell_type": "markdown",
   "metadata": {},
   "source": [
    "****"
   ]
  },
  {
   "cell_type": "markdown",
   "metadata": {},
   "source": [
    "# -1- Excepciones: en la web de Python"
   ]
  },
  {
   "cell_type": "code",
   "execution_count": 1,
   "metadata": {},
   "outputs": [],
   "source": [
    "# https://docs.python.org/3/library/exceptions.html"
   ]
  },
  {
   "cell_type": "markdown",
   "metadata": {},
   "source": [
    "****"
   ]
  },
  {
   "cell_type": "markdown",
   "metadata": {},
   "source": [
    "# -2- Ejemplo básico try-except"
   ]
  },
  {
   "cell_type": "code",
   "execution_count": 2,
   "metadata": {},
   "outputs": [],
   "source": [
    "# Imagina que tenemos 2 variables"
   ]
  },
  {
   "cell_type": "code",
   "execution_count": 3,
   "metadata": {},
   "outputs": [],
   "source": [
    "x = 5\n",
    "# 'y' no la tenemos definida"
   ]
  },
  {
   "cell_type": "code",
   "execution_count": 4,
   "metadata": {},
   "outputs": [
    {
     "name": "stdout",
     "output_type": "stream",
     "text": [
      "5\n"
     ]
    }
   ],
   "source": [
    "print(x)"
   ]
  },
  {
   "cell_type": "code",
   "execution_count": 6,
   "metadata": {},
   "outputs": [],
   "source": [
    "# print(y)\n",
    "# NameError: name 'y' is not defined\n",
    "# OBVIAMENTE DA ERROR, AL NO TENERLA DEFINIDA"
   ]
  },
  {
   "cell_type": "code",
   "execution_count": 7,
   "metadata": {},
   "outputs": [
    {
     "name": "stdout",
     "output_type": "stream",
     "text": [
      "5\n"
     ]
    }
   ],
   "source": [
    "try:\n",
    "    print(x)\n",
    "except:\n",
    "    print(\"No tenemos definida la variable:\")"
   ]
  },
  {
   "cell_type": "code",
   "execution_count": 8,
   "metadata": {},
   "outputs": [
    {
     "name": "stdout",
     "output_type": "stream",
     "text": [
      "No tenemos definida la variable:\n"
     ]
    }
   ],
   "source": [
    "try:\n",
    "    print(y)\n",
    "except:\n",
    "    print(\"No tenemos definida la variable:\")"
   ]
  },
  {
   "cell_type": "code",
   "execution_count": 9,
   "metadata": {},
   "outputs": [],
   "source": [
    "# De esta forma podemos conseguir que un código funcione saltando un error.\n",
    "\n",
    "# Pero OJO! en donde colocamos este Try-Except. Porque si es algo crítico estamos creando un problema.\n",
    "\n",
    "# Solo sirve cuando es algo que necesitamos saltar, \n",
    "\n",
    "# (para que el código ejecute en un momento que sabemos que algo no va)"
   ]
  },
  {
   "cell_type": "markdown",
   "metadata": {},
   "source": [
    "****"
   ]
  },
  {
   "cell_type": "markdown",
   "metadata": {},
   "source": [
    "# -3- Forma básica de crear una excepción"
   ]
  },
  {
   "cell_type": "markdown",
   "metadata": {},
   "source": [
    "## -3.1- En la División por cero"
   ]
  },
  {
   "cell_type": "code",
   "execution_count": 11,
   "metadata": {},
   "outputs": [],
   "source": [
    "a = 5\n",
    "b = 0\n",
    "# a/b\n",
    "# Si descomentamos \"a/b\" nos sale:\n",
    "# ZeroDivisionError: division by zero\n",
    "\n",
    "# No es posible dividir un número por cero. (Daria infinito)"
   ]
  },
  {
   "cell_type": "markdown",
   "metadata": {},
   "source": [
    "**Podemos hacer lo siguiente, sin excepciones**"
   ]
  },
  {
   "cell_type": "code",
   "execution_count": 12,
   "metadata": {},
   "outputs": [],
   "source": [
    "def funcion_dividir_1(a, b):\n",
    "    if b != 0:\n",
    "        print(a / b)\n",
    "    else:    # b = 0  -> no puede dividir\n",
    "        print(\"el denominador es 0, no podemos dividir\")"
   ]
  },
  {
   "cell_type": "code",
   "execution_count": 13,
   "metadata": {},
   "outputs": [
    {
     "name": "stdout",
     "output_type": "stream",
     "text": [
      "0.6666666666666666\n"
     ]
    }
   ],
   "source": [
    "funcion_dividir_1(2,3)"
   ]
  },
  {
   "cell_type": "code",
   "execution_count": 14,
   "metadata": {},
   "outputs": [
    {
     "name": "stdout",
     "output_type": "stream",
     "text": [
      "el denominador es 0, no podemos dividir\n"
     ]
    }
   ],
   "source": [
    "funcion_dividir_1(2,0)"
   ]
  },
  {
   "cell_type": "markdown",
   "metadata": {},
   "source": [
    "**el mismo ejercicio cambiando el operador**"
   ]
  },
  {
   "cell_type": "code",
   "execution_count": 15,
   "metadata": {},
   "outputs": [],
   "source": [
    "def funcion_dividir_1(a, b):\n",
    "    if b == 0:\n",
    "        print(\"el denominador es 0, no podemos dividir\")\n",
    "    else:      # b es distinto de 0\n",
    "        print(a/b)"
   ]
  },
  {
   "cell_type": "code",
   "execution_count": 16,
   "metadata": {},
   "outputs": [
    {
     "name": "stdout",
     "output_type": "stream",
     "text": [
      "0.6666666666666666\n"
     ]
    }
   ],
   "source": [
    "funcion_dividir_1(2,3)"
   ]
  },
  {
   "cell_type": "code",
   "execution_count": 17,
   "metadata": {},
   "outputs": [
    {
     "name": "stdout",
     "output_type": "stream",
     "text": [
      "el denominador es 0, no podemos dividir\n"
     ]
    }
   ],
   "source": [
    "funcion_dividir_1(2,0)"
   ]
  },
  {
   "cell_type": "markdown",
   "metadata": {},
   "source": [
    "****"
   ]
  },
  {
   "cell_type": "markdown",
   "metadata": {},
   "source": [
    "# -4- Uso de raise"
   ]
  },
  {
   "cell_type": "code",
   "execution_count": 18,
   "metadata": {},
   "outputs": [],
   "source": [
    "# Podemos lanzar excepciones, no lo usaremos"
   ]
  },
  {
   "cell_type": "markdown",
   "metadata": {},
   "source": [
    "****"
   ]
  },
  {
   "cell_type": "markdown",
   "metadata": {},
   "source": [
    "# -5- Try-Except-Else"
   ]
  },
  {
   "cell_type": "code",
   "execution_count": 19,
   "metadata": {},
   "outputs": [],
   "source": [
    "# me creo una función para comprobar más casos.\n",
    "\n",
    "def funcion_division(a,b):\n",
    "    try:\n",
    "        division = a / b\n",
    "        print('estamos en try y hemos calculado a/b')\n",
    "    except ZeroDivisionError:\n",
    "        print(\"Un número dividido por 0 sale infinito\")\n",
    "        print(\"No pongas un 0 en el deniminador!\")\n",
    "    else:\n",
    "        print('estamos en el else')\n",
    "        print('valor de la división:', division)   "
   ]
  },
  {
   "cell_type": "code",
   "execution_count": 20,
   "metadata": {},
   "outputs": [
    {
     "name": "stdout",
     "output_type": "stream",
     "text": [
      "Un número dividido por 0 sale infinito\n",
      "No pongas un 0 en el deniminador!\n"
     ]
    }
   ],
   "source": [
    "funcion_division(1,0)"
   ]
  },
  {
   "cell_type": "code",
   "execution_count": 21,
   "metadata": {},
   "outputs": [
    {
     "name": "stdout",
     "output_type": "stream",
     "text": [
      "estamos en try y hemos calculado a/b\n",
      "estamos en el else\n",
      "valor de la división: 0.5\n"
     ]
    }
   ],
   "source": [
    "funcion_division(1,2)"
   ]
  },
  {
   "cell_type": "markdown",
   "metadata": {},
   "source": [
    "****"
   ]
  },
  {
   "cell_type": "markdown",
   "metadata": {},
   "source": [
    "# -6- try-except-else con archivos"
   ]
  },
  {
   "cell_type": "markdown",
   "metadata": {},
   "source": [
    "**Un archivo que no existe**\n",
    "\n",
    "(o no se encuentra en ese lugar)"
   ]
  },
  {
   "cell_type": "code",
   "execution_count": 22,
   "metadata": {},
   "outputs": [
    {
     "name": "stdout",
     "output_type": "stream",
     "text": [
      "¡El fichero no existe!\n"
     ]
    }
   ],
   "source": [
    "try:\n",
    "    f = open('archivo_excepciones.txt')  # El fichero no existe\n",
    "except FileNotFoundError:\n",
    "    print('¡El fichero no existe!')\n",
    "else:\n",
    "    print(f.read())"
   ]
  },
  {
   "cell_type": "code",
   "execution_count": 23,
   "metadata": {},
   "outputs": [],
   "source": [
    "# lo cerramos, si esta abierto\n",
    "# f.close()"
   ]
  },
  {
   "cell_type": "markdown",
   "metadata": {},
   "source": [
    "**Un archivo que SI existe**\n",
    "\n",
    "(y lo encuentra en esa ubicación)"
   ]
  },
  {
   "cell_type": "code",
   "execution_count": 24,
   "metadata": {},
   "outputs": [
    {
     "name": "stdout",
     "output_type": "stream",
     "text": [
      "¡ Hola Mundo!\n",
      "\n"
     ]
    }
   ],
   "source": [
    "try:\n",
    "    f = open('archivo_excepciones_2.txt')  # El fichero si existe\n",
    "except FileNotFoundError:\n",
    "    print('¡El fichero no existe!')\n",
    "else:\n",
    "    print(f.read())\n",
    "    f.close()     "
   ]
  },
  {
   "cell_type": "markdown",
   "metadata": {},
   "source": [
    "****"
   ]
  },
  {
   "cell_type": "markdown",
   "metadata": {},
   "source": [
    "# -7- Errores cuando sumamos strings en vez de números"
   ]
  },
  {
   "cell_type": "code",
   "execution_count": 25,
   "metadata": {},
   "outputs": [],
   "source": [
    "# print(2+\"2\")\n",
    "# TypeError: unsupported operand type(s) for +: 'int' and 'str'\n",
    "\n",
    "# al hacer esa operación nos devuelve un error"
   ]
  },
  {
   "cell_type": "code",
   "execution_count": 26,
   "metadata": {},
   "outputs": [
    {
     "data": {
      "text/plain": [
       "3"
      ]
     },
     "execution_count": 26,
     "metadata": {},
     "output_type": "execute_result"
    }
   ],
   "source": [
    "3"
   ]
  },
  {
   "cell_type": "code",
   "execution_count": 27,
   "metadata": {},
   "outputs": [
    {
     "data": {
      "text/plain": [
       "int"
      ]
     },
     "execution_count": 27,
     "metadata": {},
     "output_type": "execute_result"
    }
   ],
   "source": [
    "type(3)"
   ]
  },
  {
   "cell_type": "code",
   "execution_count": 28,
   "metadata": {},
   "outputs": [
    {
     "data": {
      "text/plain": [
       "'3'"
      ]
     },
     "execution_count": 28,
     "metadata": {},
     "output_type": "execute_result"
    }
   ],
   "source": [
    "str(3)"
   ]
  },
  {
   "cell_type": "code",
   "execution_count": 29,
   "metadata": {},
   "outputs": [
    {
     "data": {
      "text/plain": [
       "'3'"
      ]
     },
     "execution_count": 29,
     "metadata": {},
     "output_type": "execute_result"
    }
   ],
   "source": [
    "'3'"
   ]
  },
  {
   "cell_type": "code",
   "execution_count": 30,
   "metadata": {},
   "outputs": [
    {
     "data": {
      "text/plain": [
       "str"
      ]
     },
     "execution_count": 30,
     "metadata": {},
     "output_type": "execute_result"
    }
   ],
   "source": [
    "type('3')"
   ]
  },
  {
   "cell_type": "code",
   "execution_count": 31,
   "metadata": {},
   "outputs": [],
   "source": [
    "def funcion_formatos_diferentes(a,b):\n",
    "    try:\n",
    "        suma = a + b\n",
    "        print(suma)\n",
    "    except TypeError:\n",
    "        print(\"revisa el formato de los números, porque no es correcto\")"
   ]
  },
  {
   "cell_type": "code",
   "execution_count": 35,
   "metadata": {},
   "outputs": [
    {
     "name": "stdout",
     "output_type": "stream",
     "text": [
      "revisa el formato de los números, porque no es correcto\n"
     ]
    }
   ],
   "source": [
    "funcion_formatos_diferentes(2,\"3\")"
   ]
  },
  {
   "cell_type": "code",
   "execution_count": 33,
   "metadata": {},
   "outputs": [
    {
     "name": "stdout",
     "output_type": "stream",
     "text": [
      "5\n"
     ]
    }
   ],
   "source": [
    "funcion_formatos_diferentes(2,3)"
   ]
  },
  {
   "cell_type": "markdown",
   "metadata": {},
   "source": [
    "****"
   ]
  },
  {
   "cell_type": "markdown",
   "metadata": {},
   "source": [
    "# -8- except Exception"
   ]
  },
  {
   "cell_type": "raw",
   "metadata": {},
   "source": [
    "Otra forma si no sabes que excepción puede saltar, \n",
    "\n",
    "puedes usar la clase genérica Exception. \n",
    "\n",
    "Sirve para cualquier tipo de excepción. \n",
    "\n",
    "De hecho todas las excepciones heredan de Exception"
   ]
  },
  {
   "cell_type": "markdown",
   "metadata": {},
   "source": [
    "**except Exception: Ejemplo 1**"
   ]
  },
  {
   "cell_type": "code",
   "execution_count": 36,
   "metadata": {},
   "outputs": [],
   "source": [
    "def funcion_suma_2(a,b):\n",
    "    try:\n",
    "        suma = a + b\n",
    "        print(\"la suma es: \", suma)\n",
    "    except Exception:\n",
    "        print(\"Ha habido una excepción\")"
   ]
  },
  {
   "cell_type": "code",
   "execution_count": 37,
   "metadata": {},
   "outputs": [
    {
     "name": "stdout",
     "output_type": "stream",
     "text": [
      "la suma es:  2\n"
     ]
    }
   ],
   "source": [
    "funcion_suma_2(2,0)"
   ]
  },
  {
   "cell_type": "code",
   "execution_count": 38,
   "metadata": {},
   "outputs": [
    {
     "name": "stdout",
     "output_type": "stream",
     "text": [
      "Ha habido una excepción\n"
     ]
    }
   ],
   "source": [
    "funcion_suma_2(2,\"2\")"
   ]
  },
  {
   "cell_type": "markdown",
   "metadata": {},
   "source": [
    "**except Exception: Ejemplo 2**"
   ]
  },
  {
   "cell_type": "code",
   "execution_count": 39,
   "metadata": {},
   "outputs": [],
   "source": [
    "def funcion_division_3(a,b):\n",
    "    try:\n",
    "        division = a / b\n",
    "        print(\"la division es: \", division)\n",
    "    except Exception:\n",
    "        print(\"Ha habido una excepción\")"
   ]
  },
  {
   "cell_type": "code",
   "execution_count": 40,
   "metadata": {},
   "outputs": [
    {
     "name": "stdout",
     "output_type": "stream",
     "text": [
      "la division es:  0.3333333333333333\n"
     ]
    }
   ],
   "source": [
    "funcion_division_3(1,3)"
   ]
  },
  {
   "cell_type": "code",
   "execution_count": 41,
   "metadata": {},
   "outputs": [
    {
     "name": "stdout",
     "output_type": "stream",
     "text": [
      "Ha habido una excepción\n"
     ]
    }
   ],
   "source": [
    "funcion_division_3(2,0)"
   ]
  },
  {
   "cell_type": "code",
   "execution_count": 42,
   "metadata": {},
   "outputs": [
    {
     "name": "stdout",
     "output_type": "stream",
     "text": [
      "Ha habido una excepción\n"
     ]
    }
   ],
   "source": [
    "funcion_division_3(2,\"2\")"
   ]
  },
  {
   "cell_type": "markdown",
   "metadata": {},
   "source": [
    "****"
   ]
  },
  {
   "cell_type": "markdown",
   "metadata": {},
   "source": [
    "# -9- except Exception as e (una de las mejores opciones)"
   ]
  },
  {
   "cell_type": "code",
   "execution_count": 43,
   "metadata": {},
   "outputs": [],
   "source": [
    "def funcion_division_4(a,b):\n",
    "    try:\n",
    "        division = a / b\n",
    "        print(\"la division es: \", division)\n",
    "    except Exception as e:\n",
    "        print(\"Ha habido una excepción\")\n",
    "        print(\"tipo del error: \", type(e))\n",
    "        print('str(e):', str(e))"
   ]
  },
  {
   "cell_type": "code",
   "execution_count": 44,
   "metadata": {},
   "outputs": [
    {
     "name": "stdout",
     "output_type": "stream",
     "text": [
      "la division es:  0.3333333333333333\n"
     ]
    }
   ],
   "source": [
    "funcion_division_4(1,3)"
   ]
  },
  {
   "cell_type": "code",
   "execution_count": 45,
   "metadata": {},
   "outputs": [
    {
     "name": "stdout",
     "output_type": "stream",
     "text": [
      "Ha habido una excepción\n",
      "tipo del error:  <class 'ZeroDivisionError'>\n",
      "str(e): division by zero\n"
     ]
    }
   ],
   "source": [
    "funcion_division_4(2,0)"
   ]
  },
  {
   "cell_type": "code",
   "execution_count": 46,
   "metadata": {},
   "outputs": [
    {
     "name": "stdout",
     "output_type": "stream",
     "text": [
      "Ha habido una excepción\n",
      "tipo del error:  <class 'TypeError'>\n",
      "str(e): unsupported operand type(s) for /: 'int' and 'str'\n"
     ]
    }
   ],
   "source": [
    "funcion_division_4(2,\"2\")"
   ]
  },
  {
   "cell_type": "markdown",
   "metadata": {},
   "source": [
    "****"
   ]
  },
  {
   "cell_type": "markdown",
   "metadata": {},
   "source": [
    "# -10- except Exception as e (otra posibilidad: try-except-else)"
   ]
  },
  {
   "cell_type": "code",
   "execution_count": 49,
   "metadata": {},
   "outputs": [],
   "source": [
    "def funcion_division_5(a,b):\n",
    "    try:\n",
    "        division = a / b\n",
    "        print(\"la division es: \", division)\n",
    "    except Exception as e:\n",
    "        print(\"Ha habido una excepción\")\n",
    "        print(\"tipo del error: \", type(e))\n",
    "    else:\n",
    "        print(\"estamos en else, no hubo excepciones\")"
   ]
  },
  {
   "cell_type": "code",
   "execution_count": 48,
   "metadata": {},
   "outputs": [
    {
     "name": "stdout",
     "output_type": "stream",
     "text": [
      "la division es:  0.3333333333333333\n",
      "estamos en else, no hubo excepciones\n"
     ]
    }
   ],
   "source": [
    "funcion_division_5(1,3)"
   ]
  },
  {
   "cell_type": "code",
   "execution_count": 50,
   "metadata": {},
   "outputs": [
    {
     "name": "stdout",
     "output_type": "stream",
     "text": [
      "Ha habido una excepción\n",
      "tipo del error:  <class 'ZeroDivisionError'>\n"
     ]
    }
   ],
   "source": [
    "funcion_division_5(2,0)"
   ]
  },
  {
   "cell_type": "code",
   "execution_count": 51,
   "metadata": {},
   "outputs": [
    {
     "name": "stdout",
     "output_type": "stream",
     "text": [
      "Ha habido una excepción\n",
      "tipo del error:  <class 'TypeError'>\n"
     ]
    }
   ],
   "source": [
    "funcion_division_5(2,\"2\")"
   ]
  },
  {
   "cell_type": "markdown",
   "metadata": {},
   "source": [
    "****"
   ]
  },
  {
   "cell_type": "markdown",
   "metadata": {},
   "source": [
    "# -11- except Exception as e (otra posibilidad: try-except-finally)"
   ]
  },
  {
   "cell_type": "markdown",
   "metadata": {},
   "source": [
    "Este bloque se suele usar si queremos ejecutar algún tipo de acción de limpieza. \n",
    "\n",
    "Si por ejemplo estamos escribiendo datos en un fichero pero ocurre una excepción, \n",
    "\n",
    "tal vez queramos borrar el contenido que hemos escrito con anterioridad, \n",
    "\n",
    "para no dejar datos inconsistenes en el fichero."
   ]
  },
  {
   "cell_type": "code",
   "execution_count": 52,
   "metadata": {},
   "outputs": [],
   "source": [
    "def funcion_division_6(a,b):\n",
    "    try:\n",
    "        division = a / b\n",
    "        print(\"la division es: \", division)\n",
    "        print(\"\\n\")\n",
    "    except Exception as e:\n",
    "        print(\"Ha habido una excepción\")\n",
    "        print(\"tipo del error: \", type(e))\n",
    "        print(\"\\n\")\n",
    "    finally:\n",
    "        print(\"estamos en finally\")\n",
    "        print(\"esto se ejecuta SIEMPRE haya o no excepciones\")"
   ]
  },
  {
   "cell_type": "code",
   "execution_count": 53,
   "metadata": {},
   "outputs": [
    {
     "name": "stdout",
     "output_type": "stream",
     "text": [
      "la division es:  0.3333333333333333\n",
      "\n",
      "\n",
      "estamos en finally\n",
      "esto se ejecuta SIEMPRE haya o no excepciones\n"
     ]
    }
   ],
   "source": [
    "funcion_division_6(1,3)"
   ]
  },
  {
   "cell_type": "code",
   "execution_count": 54,
   "metadata": {},
   "outputs": [
    {
     "name": "stdout",
     "output_type": "stream",
     "text": [
      "Ha habido una excepción\n",
      "tipo del error:  <class 'ZeroDivisionError'>\n",
      "\n",
      "\n",
      "estamos en finally\n",
      "esto se ejecuta SIEMPRE haya o no excepciones\n"
     ]
    }
   ],
   "source": [
    "funcion_division_6(2,0)"
   ]
  },
  {
   "cell_type": "code",
   "execution_count": 55,
   "metadata": {},
   "outputs": [
    {
     "name": "stdout",
     "output_type": "stream",
     "text": [
      "Ha habido una excepción\n",
      "tipo del error:  <class 'TypeError'>\n",
      "\n",
      "\n",
      "estamos en finally\n",
      "esto se ejecuta SIEMPRE haya o no excepciones\n"
     ]
    }
   ],
   "source": [
    "funcion_division_6(2,\"2\")"
   ]
  },
  {
   "cell_type": "markdown",
   "metadata": {},
   "source": [
    "****"
   ]
  },
  {
   "cell_type": "markdown",
   "metadata": {},
   "source": [
    "# -12- Ejemplo de excepciones con archivos"
   ]
  },
  {
   "cell_type": "code",
   "execution_count": 56,
   "metadata": {},
   "outputs": [],
   "source": [
    "def funcion_lectura(archivo):\n",
    "    try:\n",
    "        with open(archivo) as file:\n",
    "            lectura_archivo = file.read()\n",
    "    except Exception as e:\n",
    "        print(\"no se pudo abrir\")\n",
    "        print(\"Tipo de error:\", type(e))\n",
    "        print(str(e))"
   ]
  },
  {
   "cell_type": "code",
   "execution_count": 57,
   "metadata": {},
   "outputs": [
    {
     "name": "stdout",
     "output_type": "stream",
     "text": [
      "no se pudo abrir\n",
      "Tipo de error: <class 'FileNotFoundError'>\n",
      "[Errno 2] No such file or directory: 'archivo_excepciones_1.txt'\n"
     ]
    }
   ],
   "source": [
    "funcion_lectura('archivo_excepciones_1.txt')  # no lo encuentra"
   ]
  },
  {
   "cell_type": "code",
   "execution_count": 58,
   "metadata": {},
   "outputs": [],
   "source": [
    "funcion_lectura('archivo_excepciones_2.txt') # si lo encuentra \n",
    "\n",
    "# (si lo coloco yo previamente este archivo)\n",
    "# SE ENCUENTRA EN LA MISMA RUTA"
   ]
  },
  {
   "cell_type": "markdown",
   "metadata": {},
   "source": [
    "****"
   ]
  },
  {
   "cell_type": "markdown",
   "metadata": {},
   "source": [
    "# Más sobre Excepciones..."
   ]
  },
  {
   "cell_type": "markdown",
   "metadata": {},
   "source": [
    "Ordenadas las excepciones por orden de preferencia:"
   ]
  },
  {
   "cell_type": "code",
   "execution_count": null,
   "metadata": {},
   "outputs": [],
   "source": [
    "\"\"\"\n",
    "BaseException\n",
    "├── BaseExceptionGroup\n",
    "├── GeneratorExit\n",
    "├── KeyboardInterrupt\n",
    "├── SystemExit\n",
    "└── Exception\n",
    "  ├── ArithmeticError\n",
    "  │    ├── FloatingPointError\n",
    "  │    ├── OverflowError\n",
    "  │    └── ZeroDivisionError\n",
    "  ├── AssertionError\n",
    "  ├── AttributeError\n",
    "  ├── BufferError\n",
    "  ├── EOFError\n",
    "  ├── ExceptionGroup [BaseExceptionGroup]\n",
    "  ├── ImportError\n",
    "  │    └── ModuleNotFoundError\n",
    "  ├── LookupError\n",
    "  │    ├── IndexError\n",
    "  │    └── KeyError\n",
    "  ├── MemoryError\n",
    "  ├── NameError\n",
    "  │    └── UnboundLocalError\n",
    "  ├── OSError\n",
    "  │    ├── BlockingIOError\n",
    "  │    ├── ChildProcessError\n",
    "  │    ├── ConnectionError\n",
    "  │    │    ├── BrokenPipeError\n",
    "  │    │    ├── ConnectionAbortedError\n",
    "  │    │    ├── ConnectionRefusedError\n",
    "  │    │    └── ConnectionResetError\n",
    "  │    ├── FileExistsError\n",
    "  │    ├── FileNotFoundError\n",
    "  │    ├── InterruptedError\n",
    "  │    ├── IsADirectoryError\n",
    "  │    ├── NotADirectoryError\n",
    "  │    ├── PermissionError\n",
    "  │    ├── ProcessLookupError\n",
    "  │    └── TimeoutError\n",
    "  ├── ReferenceError\n",
    "  ├── RuntimeError\n",
    "  │    ├── NotImplementedError\n",
    "  │    └── RecursionError\n",
    "  ├── StopAsyncIteration\n",
    "  ├── StopIteration\n",
    "  ├── SyntaxError\n",
    "  │    └── IndentationError\n",
    "  │         └── TabError\n",
    "  ├── SystemError\n",
    "  ├── TypeError\n",
    "  ├── ValueError\n",
    "  │    └── UnicodeError\n",
    "  │         ├── UnicodeDecodeError\n",
    "  │         ├── UnicodeEncodeError\n",
    "  │         └── UnicodeTranslateError\n",
    "  └── Warning\n",
    "       ├── BytesWarning\n",
    "       ├── DeprecationWarning\n",
    "       ├── EncodingWarning\n",
    "       ├── FutureWarning\n",
    "       ├── ImportWarning\n",
    "       ├── PendingDeprecationWarning\n",
    "       ├── ResourceWarning\n",
    "       ├── RuntimeWarning\n",
    "       ├── SyntaxWarning\n",
    "       ├── UnicodeWarning\n",
    "       └── UserWarning\n",
    "\"\"\""
   ]
  },
  {
   "cell_type": "markdown",
   "metadata": {},
   "source": [
    "## Tipos de excepciones más relevantes"
   ]
  },
  {
   "cell_type": "markdown",
   "metadata": {},
   "source": [
    "Para capturar cualquier excepción podemos usar Exception o BaseException:"
   ]
  },
  {
   "cell_type": "code",
   "execution_count": 59,
   "metadata": {},
   "outputs": [
    {
     "name": "stdout",
     "output_type": "stream",
     "text": [
      "Error division by zero\n"
     ]
    }
   ],
   "source": [
    "try:\n",
    "    30* (2/0)\n",
    "except BaseException as e:\n",
    "    print('Error %s' % str(e))"
   ]
  },
  {
   "cell_type": "code",
   "execution_count": 60,
   "metadata": {},
   "outputs": [
    {
     "name": "stdout",
     "output_type": "stream",
     "text": [
      "Error division by zero\n"
     ]
    }
   ],
   "source": [
    "try:\n",
    "    30* (2/0)\n",
    "except Exception as e:\n",
    "    print('Error %s' % str(e))"
   ]
  },
  {
   "cell_type": "markdown",
   "metadata": {},
   "source": [
    "### ArithmeticError"
   ]
  },
  {
   "cell_type": "markdown",
   "metadata": {},
   "source": [
    "* Division entre 0: **ZeroDivisionError**"
   ]
  },
  {
   "cell_type": "code",
   "execution_count": 61,
   "metadata": {},
   "outputs": [
    {
     "ename": "ZeroDivisionError",
     "evalue": "division by zero",
     "output_type": "error",
     "traceback": [
      "\u001b[0;31m---------------------------------------------------------------------------\u001b[0m",
      "\u001b[0;31mZeroDivisionError\u001b[0m                         Traceback (most recent call last)",
      "Cell \u001b[0;32mIn[61], line 1\u001b[0m\n\u001b[0;32m----> 1\u001b[0m \u001b[38;5;241m30\u001b[39m \u001b[38;5;241m*\u001b[39m (\u001b[38;5;241;43m2\u001b[39;49m\u001b[38;5;241;43m/\u001b[39;49m\u001b[38;5;241;43m0\u001b[39;49m)\n",
      "\u001b[0;31mZeroDivisionError\u001b[0m: division by zero"
     ]
    }
   ],
   "source": [
    "30 * (2/0)"
   ]
  },
  {
   "cell_type": "code",
   "execution_count": 62,
   "metadata": {},
   "outputs": [
    {
     "name": "stdout",
     "output_type": "stream",
     "text": [
      "Error division by zero\n"
     ]
    }
   ],
   "source": [
    "try:\n",
    "    30* (2/0)\n",
    "except ZeroDivisionError as e:\n",
    "    print('Error %s' % str(e))"
   ]
  },
  {
   "cell_type": "markdown",
   "metadata": {},
   "source": [
    "### AttributeError"
   ]
  },
  {
   "cell_type": "markdown",
   "metadata": {},
   "source": [
    "* Error en el uso: **AttributeError**"
   ]
  },
  {
   "cell_type": "code",
   "execution_count": 63,
   "metadata": {},
   "outputs": [
    {
     "ename": "AttributeError",
     "evalue": "'int' object has no attribute 'append'",
     "output_type": "error",
     "traceback": [
      "\u001b[0;31m---------------------------------------------------------------------------\u001b[0m",
      "\u001b[0;31mAttributeError\u001b[0m                            Traceback (most recent call last)",
      "Cell \u001b[0;32mIn[63], line 2\u001b[0m\n\u001b[1;32m      1\u001b[0m num\u001b[38;5;241m=\u001b[39m \u001b[38;5;241m10\u001b[39m\n\u001b[0;32m----> 2\u001b[0m \u001b[43mnum\u001b[49m\u001b[38;5;241;43m.\u001b[39;49m\u001b[43mappend\u001b[49m(\u001b[38;5;241m6\u001b[39m)\n\u001b[1;32m      3\u001b[0m \u001b[38;5;28mprint\u001b[39m(num)\n",
      "\u001b[0;31mAttributeError\u001b[0m: 'int' object has no attribute 'append'"
     ]
    }
   ],
   "source": [
    "num= 10\n",
    "num.append(6)\n",
    "print(num)"
   ]
  },
  {
   "cell_type": "code",
   "execution_count": 64,
   "metadata": {},
   "outputs": [
    {
     "name": "stdout",
     "output_type": "stream",
     "text": [
      "Error 'int' object has no attribute 'append'\n"
     ]
    }
   ],
   "source": [
    "try:\n",
    "    num= 10\n",
    "    num.append(6)\n",
    "    print(num)\n",
    "except AttributeError as e:\n",
    "    print('Error %s' % str(e))"
   ]
  },
  {
   "cell_type": "markdown",
   "metadata": {},
   "source": [
    "### ImportError"
   ]
  },
  {
   "cell_type": "markdown",
   "metadata": {},
   "source": [
    "* Error al importar un módulo: **ImportError**"
   ]
  },
  {
   "cell_type": "code",
   "execution_count": 65,
   "metadata": {},
   "outputs": [
    {
     "ename": "ImportError",
     "evalue": "cannot import name 'hola' from 'pandas' (/home/isabelmaniega/Documentos/PCEP/env/lib/python3.8/site-packages/pandas/__init__.py)",
     "output_type": "error",
     "traceback": [
      "\u001b[0;31m---------------------------------------------------------------------------\u001b[0m",
      "\u001b[0;31mImportError\u001b[0m                               Traceback (most recent call last)",
      "Cell \u001b[0;32mIn[65], line 1\u001b[0m\n\u001b[0;32m----> 1\u001b[0m \u001b[38;5;28;01mfrom\u001b[39;00m \u001b[38;5;21;01mpandas\u001b[39;00m \u001b[38;5;28;01mimport\u001b[39;00m hola\n",
      "\u001b[0;31mImportError\u001b[0m: cannot import name 'hola' from 'pandas' (/home/isabelmaniega/Documentos/PCEP/env/lib/python3.8/site-packages/pandas/__init__.py)"
     ]
    }
   ],
   "source": [
    "from pandas import hola"
   ]
  },
  {
   "cell_type": "code",
   "execution_count": 66,
   "metadata": {},
   "outputs": [
    {
     "name": "stdout",
     "output_type": "stream",
     "text": [
      "Error cannot import name 'hola' from 'pandas' (/home/isabelmaniega/Documentos/PCEP/env/lib/python3.8/site-packages/pandas/__init__.py)\n"
     ]
    }
   ],
   "source": [
    "try:\n",
    "    from pandas import hola\n",
    "except ImportError as e:\n",
    "    print('Error %s' % str(e))"
   ]
  },
  {
   "cell_type": "markdown",
   "metadata": {},
   "source": [
    "Error en importar un modulo será: **ModuleNotFoundError**"
   ]
  },
  {
   "cell_type": "code",
   "execution_count": 67,
   "metadata": {},
   "outputs": [
    {
     "name": "stdout",
     "output_type": "stream",
     "text": [
      "Error No module named 'hola'\n"
     ]
    }
   ],
   "source": [
    "try:\n",
    "    import hola\n",
    "except ModuleNotFoundError as e:\n",
    "    print('Error %s' % str(e))"
   ]
  },
  {
   "cell_type": "markdown",
   "metadata": {},
   "source": [
    "### LookupError"
   ]
  },
  {
   "cell_type": "markdown",
   "metadata": {},
   "source": [
    "* Error de índice: **IndexError**"
   ]
  },
  {
   "cell_type": "code",
   "execution_count": 68,
   "metadata": {},
   "outputs": [
    {
     "ename": "IndexError",
     "evalue": "list index out of range",
     "output_type": "error",
     "traceback": [
      "\u001b[0;31m---------------------------------------------------------------------------\u001b[0m",
      "\u001b[0;31mIndexError\u001b[0m                                Traceback (most recent call last)",
      "Cell \u001b[0;32mIn[68], line 2\u001b[0m\n\u001b[1;32m      1\u001b[0m L \u001b[38;5;241m=\u001b[39m [\u001b[38;5;241m10\u001b[39m, \u001b[38;5;241m50\u001b[39m, \u001b[38;5;241m60\u001b[39m]\n\u001b[0;32m----> 2\u001b[0m \u001b[43mL\u001b[49m\u001b[43m[\u001b[49m\u001b[38;5;241;43m3\u001b[39;49m\u001b[43m]\u001b[49m\n",
      "\u001b[0;31mIndexError\u001b[0m: list index out of range"
     ]
    }
   ],
   "source": [
    "L = [10, 50, 60]\n",
    "L[3]"
   ]
  },
  {
   "cell_type": "code",
   "execution_count": 69,
   "metadata": {},
   "outputs": [
    {
     "name": "stdout",
     "output_type": "stream",
     "text": [
      "Error list index out of range\n"
     ]
    }
   ],
   "source": [
    "try:\n",
    "    L = [10, 50, 60]\n",
    "    L[3]\n",
    "except IndexError as e:\n",
    "    print('Error %s' % str(e))"
   ]
  },
  {
   "cell_type": "markdown",
   "metadata": {},
   "source": [
    "Si en vez de poner un número entero ponemos un string el error sería de tipo:"
   ]
  },
  {
   "cell_type": "code",
   "execution_count": 70,
   "metadata": {},
   "outputs": [
    {
     "name": "stdout",
     "output_type": "stream",
     "text": [
      "Error TypeError list indices must be integers or slices, not str\n"
     ]
    }
   ],
   "source": [
    "try:\n",
    "    L = [10, 50, 60]\n",
    "    L['3']\n",
    "except IndexError as e:\n",
    "    print('Error Index %s' % str(e))\n",
    "except TypeError as e:\n",
    "    print('Error TypeError %s' % str(e))"
   ]
  },
  {
   "cell_type": "markdown",
   "metadata": {},
   "source": [
    "* Error de clave en un diccionario: **KeyError**"
   ]
  },
  {
   "cell_type": "code",
   "execution_count": 71,
   "metadata": {},
   "outputs": [
    {
     "ename": "KeyError",
     "evalue": "'Maria'",
     "output_type": "error",
     "traceback": [
      "\u001b[0;31m---------------------------------------------------------------------------\u001b[0m",
      "\u001b[0;31mKeyError\u001b[0m                                  Traceback (most recent call last)",
      "Cell \u001b[0;32mIn[71], line 2\u001b[0m\n\u001b[1;32m      1\u001b[0m ages \u001b[38;5;241m=\u001b[39m {\u001b[38;5;124m'\u001b[39m\u001b[38;5;124mJuan\u001b[39m\u001b[38;5;124m'\u001b[39m: \u001b[38;5;241m25\u001b[39m, \u001b[38;5;124m'\u001b[39m\u001b[38;5;124mLuis\u001b[39m\u001b[38;5;124m'\u001b[39m:\u001b[38;5;241m36\u001b[39m, \u001b[38;5;124m'\u001b[39m\u001b[38;5;124mPedro\u001b[39m\u001b[38;5;124m'\u001b[39m:\u001b[38;5;241m41\u001b[39m}\n\u001b[0;32m----> 2\u001b[0m \u001b[43mages\u001b[49m\u001b[43m[\u001b[49m\u001b[38;5;124;43m'\u001b[39;49m\u001b[38;5;124;43mMaria\u001b[39;49m\u001b[38;5;124;43m'\u001b[39;49m\u001b[43m]\u001b[49m\n",
      "\u001b[0;31mKeyError\u001b[0m: 'Maria'"
     ]
    }
   ],
   "source": [
    "ages = {'Juan': 25, 'Luis':36, 'Pedro':41}\n",
    "ages['Maria']"
   ]
  },
  {
   "cell_type": "code",
   "execution_count": 72,
   "metadata": {},
   "outputs": [
    {
     "name": "stdout",
     "output_type": "stream",
     "text": [
      "Error 'Maria'\n"
     ]
    }
   ],
   "source": [
    "try:\n",
    "    ages = {'Juan': 25, 'Luis':36, 'Pedro':41}\n",
    "    ages['Maria']\n",
    "except KeyError as e:\n",
    "    print('Error %s' % str(e))"
   ]
  },
  {
   "cell_type": "markdown",
   "metadata": {},
   "source": [
    "### NameError"
   ]
  },
  {
   "cell_type": "markdown",
   "metadata": {},
   "source": [
    "* Nombre no definido: **NameError**"
   ]
  },
  {
   "cell_type": "code",
   "execution_count": 75,
   "metadata": {},
   "outputs": [
    {
     "ename": "NameError",
     "evalue": "name 'w' is not defined",
     "output_type": "error",
     "traceback": [
      "\u001b[0;31m---------------------------------------------------------------------------\u001b[0m",
      "\u001b[0;31mNameError\u001b[0m                                 Traceback (most recent call last)",
      "Cell \u001b[0;32mIn[75], line 1\u001b[0m\n\u001b[0;32m----> 1\u001b[0m \u001b[38;5;241m4\u001b[39m \u001b[38;5;241m+\u001b[39m \u001b[43mw\u001b[49m\u001b[38;5;241m*\u001b[39m\u001b[38;5;241m3\u001b[39m\n",
      "\u001b[0;31mNameError\u001b[0m: name 'w' is not defined"
     ]
    }
   ],
   "source": [
    "4 + w*3"
   ]
  },
  {
   "cell_type": "code",
   "execution_count": 76,
   "metadata": {},
   "outputs": [
    {
     "name": "stdout",
     "output_type": "stream",
     "text": [
      "Error name 'w' is not defined\n"
     ]
    }
   ],
   "source": [
    "try:\n",
    "    4 + w*3\n",
    "except NameError as e:\n",
    "    print('Error %s' % str(e))"
   ]
  },
  {
   "cell_type": "markdown",
   "metadata": {},
   "source": [
    "### OSError"
   ]
  },
  {
   "cell_type": "markdown",
   "metadata": {},
   "source": [
    "* Archivo no encontrado: **FileNotFoundError**"
   ]
  },
  {
   "cell_type": "code",
   "execution_count": 77,
   "metadata": {},
   "outputs": [
    {
     "name": "stdout",
     "output_type": "stream",
     "text": [
      "Error [Errno 2] No such file or directory: 'data.csv'\n"
     ]
    }
   ],
   "source": [
    "try:\n",
    "    file = open('data.csv')\n",
    "except FileNotFoundError as e:\n",
    "    print('Error %s' % str(e))"
   ]
  },
  {
   "cell_type": "markdown",
   "metadata": {},
   "source": [
    "* Archivo no encontrado: **NotADirectoryError**"
   ]
  },
  {
   "cell_type": "code",
   "execution_count": 78,
   "metadata": {},
   "outputs": [
    {
     "ename": "FileNotFoundError",
     "evalue": "[Errno 2] No such file or directory: './solucion'",
     "output_type": "error",
     "traceback": [
      "\u001b[0;31m---------------------------------------------------------------------------\u001b[0m",
      "\u001b[0;31mFileNotFoundError\u001b[0m                         Traceback (most recent call last)",
      "Cell \u001b[0;32mIn[78], line 3\u001b[0m\n\u001b[1;32m      1\u001b[0m \u001b[38;5;28;01mtry\u001b[39;00m:\n\u001b[1;32m      2\u001b[0m     \u001b[38;5;66;03m# crear una carpeta vacia llamada \"solucion\" al lado del archivo Excepciones.ipynb\u001b[39;00m\n\u001b[0;32m----> 3\u001b[0m     file \u001b[38;5;241m=\u001b[39m \u001b[38;5;28;43mopen\u001b[39;49m\u001b[43m(\u001b[49m\u001b[38;5;124;43m'\u001b[39;49m\u001b[38;5;124;43m./solucion\u001b[39;49m\u001b[38;5;124;43m'\u001b[39;49m\u001b[43m)\u001b[49m\n\u001b[1;32m      4\u001b[0m \u001b[38;5;28;01mexcept\u001b[39;00m \u001b[38;5;167;01mIsADirectoryError\u001b[39;00m \u001b[38;5;28;01mas\u001b[39;00m e:\n\u001b[1;32m      5\u001b[0m     \u001b[38;5;28mprint\u001b[39m(\u001b[38;5;124m'\u001b[39m\u001b[38;5;124mError \u001b[39m\u001b[38;5;132;01m%s\u001b[39;00m\u001b[38;5;124m'\u001b[39m \u001b[38;5;241m%\u001b[39m \u001b[38;5;28mstr\u001b[39m(e))\n",
      "File \u001b[0;32m~/Documentos/PCEP/env/lib/python3.8/site-packages/IPython/core/interactiveshell.py:284\u001b[0m, in \u001b[0;36m_modified_open\u001b[0;34m(file, *args, **kwargs)\u001b[0m\n\u001b[1;32m    277\u001b[0m \u001b[38;5;28;01mif\u001b[39;00m file \u001b[38;5;129;01min\u001b[39;00m {\u001b[38;5;241m0\u001b[39m, \u001b[38;5;241m1\u001b[39m, \u001b[38;5;241m2\u001b[39m}:\n\u001b[1;32m    278\u001b[0m     \u001b[38;5;28;01mraise\u001b[39;00m \u001b[38;5;167;01mValueError\u001b[39;00m(\n\u001b[1;32m    279\u001b[0m         \u001b[38;5;124mf\u001b[39m\u001b[38;5;124m\"\u001b[39m\u001b[38;5;124mIPython won\u001b[39m\u001b[38;5;124m'\u001b[39m\u001b[38;5;124mt let you open fd=\u001b[39m\u001b[38;5;132;01m{\u001b[39;00mfile\u001b[38;5;132;01m}\u001b[39;00m\u001b[38;5;124m by default \u001b[39m\u001b[38;5;124m\"\u001b[39m\n\u001b[1;32m    280\u001b[0m         \u001b[38;5;124m\"\u001b[39m\u001b[38;5;124mas it is likely to crash IPython. If you know what you are doing, \u001b[39m\u001b[38;5;124m\"\u001b[39m\n\u001b[1;32m    281\u001b[0m         \u001b[38;5;124m\"\u001b[39m\u001b[38;5;124myou can use builtins\u001b[39m\u001b[38;5;124m'\u001b[39m\u001b[38;5;124m open.\u001b[39m\u001b[38;5;124m\"\u001b[39m\n\u001b[1;32m    282\u001b[0m     )\n\u001b[0;32m--> 284\u001b[0m \u001b[38;5;28;01mreturn\u001b[39;00m \u001b[43mio_open\u001b[49m\u001b[43m(\u001b[49m\u001b[43mfile\u001b[49m\u001b[43m,\u001b[49m\u001b[43m \u001b[49m\u001b[38;5;241;43m*\u001b[39;49m\u001b[43margs\u001b[49m\u001b[43m,\u001b[49m\u001b[43m \u001b[49m\u001b[38;5;241;43m*\u001b[39;49m\u001b[38;5;241;43m*\u001b[39;49m\u001b[43mkwargs\u001b[49m\u001b[43m)\u001b[49m\n",
      "\u001b[0;31mFileNotFoundError\u001b[0m: [Errno 2] No such file or directory: './solucion'"
     ]
    }
   ],
   "source": [
    "try:\n",
    "    # crear una carpeta vacia llamada \"solucion\" al lado del archivo Excepciones.ipynb\n",
    "    file = open('./solucion')\n",
    "except IsADirectoryError as e:\n",
    "    print('Error %s' % str(e))"
   ]
  },
  {
   "cell_type": "markdown",
   "metadata": {},
   "source": [
    "### SyntaxError"
   ]
  },
  {
   "cell_type": "markdown",
   "metadata": {},
   "source": [
    "* Error en la identación o sintaxis: **SyntaxError**"
   ]
  },
  {
   "cell_type": "markdown",
   "metadata": {},
   "source": [
    "**IndentationError**"
   ]
  },
  {
   "cell_type": "code",
   "execution_count": 79,
   "metadata": {},
   "outputs": [
    {
     "ename": "IndentationError",
     "evalue": "expected an indented block (1564941808.py, line 4)",
     "output_type": "error",
     "traceback": [
      "\u001b[0;36m  Cell \u001b[0;32mIn[79], line 4\u001b[0;36m\u001b[0m\n\u001b[0;31m    print('El nombre es Pepe')\u001b[0m\n\u001b[0m    ^\u001b[0m\n\u001b[0;31mIndentationError\u001b[0m\u001b[0;31m:\u001b[0m expected an indented block\n"
     ]
    }
   ],
   "source": [
    "name = 'Pepe'\n",
    "\n",
    "if name == 'Pepe':\n",
    "print('El nombre es Pepe')"
   ]
  },
  {
   "cell_type": "code",
   "execution_count": 80,
   "metadata": {},
   "outputs": [
    {
     "ename": "IndentationError",
     "evalue": "expected an indented block (4052337148.py, line 5)",
     "output_type": "error",
     "traceback": [
      "\u001b[0;36m  Cell \u001b[0;32mIn[80], line 5\u001b[0;36m\u001b[0m\n\u001b[0;31m    print('El nombre es Pepe')\u001b[0m\n\u001b[0m    ^\u001b[0m\n\u001b[0;31mIndentationError\u001b[0m\u001b[0;31m:\u001b[0m expected an indented block\n"
     ]
    }
   ],
   "source": [
    "name = 'Pepe'\n",
    "\n",
    "try:\n",
    "    if name == 'Pepe':\n",
    "    print('El nombre es Pepe')\n",
    "except IndentationError as e:\n",
    "    print('Error %s' % str(e))"
   ]
  },
  {
   "cell_type": "markdown",
   "metadata": {},
   "source": [
    "Este no se puede capturar, solo si se realiza con dos scripts y se importa uno en otro, podremos realizar la excepción"
   ]
  },
  {
   "cell_type": "code",
   "execution_count": null,
   "metadata": {},
   "outputs": [],
   "source": [
    "# test1.py\n",
    "try:\n",
    "    import test2\n",
    "except IndentationError as ex:\n",
    "    print(ex)\n",
    "\n",
    "# test2.py\n",
    "def f():\n",
    "    pass\n",
    "        pass # error"
   ]
  },
  {
   "cell_type": "markdown",
   "metadata": {},
   "source": [
    "**SyntaxError**"
   ]
  },
  {
   "cell_type": "markdown",
   "metadata": {},
   "source": [
    "Por ejemplo si definimos mal un string, lista, etc se nos olvida el cierre"
   ]
  },
  {
   "cell_type": "code",
   "execution_count": 81,
   "metadata": {},
   "outputs": [
    {
     "ename": "SyntaxError",
     "evalue": "EOL while scanning string literal (1315412320.py, line 1)",
     "output_type": "error",
     "traceback": [
      "\u001b[0;36m  Cell \u001b[0;32mIn[81], line 1\u001b[0;36m\u001b[0m\n\u001b[0;31m    name = 'Pepe\u001b[0m\n\u001b[0m                ^\u001b[0m\n\u001b[0;31mSyntaxError\u001b[0m\u001b[0;31m:\u001b[0m EOL while scanning string literal\n"
     ]
    }
   ],
   "source": [
    "name = 'Pepe"
   ]
  },
  {
   "cell_type": "code",
   "execution_count": 82,
   "metadata": {},
   "outputs": [
    {
     "ename": "SyntaxError",
     "evalue": "EOL while scanning string literal (4171566014.py, line 2)",
     "output_type": "error",
     "traceback": [
      "\u001b[0;36m  Cell \u001b[0;32mIn[82], line 2\u001b[0;36m\u001b[0m\n\u001b[0;31m    name = 'Pepe\u001b[0m\n\u001b[0m                ^\u001b[0m\n\u001b[0;31mSyntaxError\u001b[0m\u001b[0;31m:\u001b[0m EOL while scanning string literal\n"
     ]
    }
   ],
   "source": [
    "try:\n",
    "    name = 'Pepe\n",
    "except SyntaxError as e:\n",
    "    print('Error %s' str(e))"
   ]
  },
  {
   "cell_type": "markdown",
   "metadata": {},
   "source": [
    "Pasa lo mismo que con la identación, no se puede capturar."
   ]
  },
  {
   "cell_type": "markdown",
   "metadata": {},
   "source": [
    "### TypeError"
   ]
  },
  {
   "cell_type": "markdown",
   "metadata": {},
   "source": [
    "* Error de tipo de variable: **TypeError**"
   ]
  },
  {
   "cell_type": "code",
   "execution_count": 83,
   "metadata": {},
   "outputs": [
    {
     "ename": "TypeError",
     "evalue": "can only concatenate str (not \"int\") to str",
     "output_type": "error",
     "traceback": [
      "\u001b[0;31m---------------------------------------------------------------------------\u001b[0m",
      "\u001b[0;31mTypeError\u001b[0m                                 Traceback (most recent call last)",
      "Cell \u001b[0;32mIn[83], line 1\u001b[0m\n\u001b[0;32m----> 1\u001b[0m \u001b[38;5;124;43m'\u001b[39;49m\u001b[38;5;124;43m4\u001b[39;49m\u001b[38;5;124;43m'\u001b[39;49m\u001b[43m \u001b[49m\u001b[38;5;241;43m+\u001b[39;49m\u001b[43m \u001b[49m\u001b[38;5;241;43m2\u001b[39;49m\n",
      "\u001b[0;31mTypeError\u001b[0m: can only concatenate str (not \"int\") to str"
     ]
    }
   ],
   "source": [
    "'4' + 2"
   ]
  },
  {
   "cell_type": "code",
   "execution_count": 84,
   "metadata": {},
   "outputs": [
    {
     "name": "stdout",
     "output_type": "stream",
     "text": [
      "Error can only concatenate str (not \"int\") to str\n"
     ]
    }
   ],
   "source": [
    "try:\n",
    "    '4' + 2\n",
    "except TypeError as e:\n",
    "    print('Error %s' % str(e))"
   ]
  },
  {
   "cell_type": "markdown",
   "metadata": {},
   "source": [
    "### ValueError"
   ]
  },
  {
   "cell_type": "markdown",
   "metadata": {},
   "source": [
    "* Error al recibir un error de tipo o de valor inapropiado: **ValueError**"
   ]
  },
  {
   "cell_type": "code",
   "execution_count": 85,
   "metadata": {},
   "outputs": [
    {
     "ename": "ValueError",
     "evalue": "math domain error",
     "output_type": "error",
     "traceback": [
      "\u001b[0;31m---------------------------------------------------------------------------\u001b[0m",
      "\u001b[0;31mValueError\u001b[0m                                Traceback (most recent call last)",
      "Cell \u001b[0;32mIn[85], line 5\u001b[0m\n\u001b[1;32m      1\u001b[0m \u001b[38;5;28;01mimport\u001b[39;00m \u001b[38;5;21;01mmath\u001b[39;00m\n\u001b[1;32m      3\u001b[0m x \u001b[38;5;241m=\u001b[39m \u001b[38;5;241m-\u001b[39m\u001b[38;5;241m3\u001b[39m\n\u001b[0;32m----> 5\u001b[0m \u001b[38;5;28mprint\u001b[39m(\u001b[38;5;124mf\u001b[39m\u001b[38;5;124m'\u001b[39m\u001b[38;5;124mSquare Root of \u001b[39m\u001b[38;5;132;01m{\u001b[39;00mx\u001b[38;5;132;01m}\u001b[39;00m\u001b[38;5;124m is \u001b[39m\u001b[38;5;132;01m{\u001b[39;00mmath\u001b[38;5;241m.\u001b[39msqrt(x)\u001b[38;5;132;01m}\u001b[39;00m\u001b[38;5;124m'\u001b[39m)\n",
      "\u001b[0;31mValueError\u001b[0m: math domain error"
     ]
    }
   ],
   "source": [
    "import math\n",
    "\n",
    "x = -3\n",
    "\n",
    "print(f'Square Root of {x} is {math.sqrt(x)}')"
   ]
  },
  {
   "cell_type": "code",
   "execution_count": 86,
   "metadata": {},
   "outputs": [
    {
     "name": "stdout",
     "output_type": "stream",
     "text": [
      "You entered -3, which is not a positive number.\n",
      "Error math domain error\n"
     ]
    }
   ],
   "source": [
    "x = -3\n",
    "\n",
    "try:\n",
    "    print(f'Square Root of {x} is {math.sqrt(x)}')\n",
    "except ValueError as ve:\n",
    "    print(f'You entered {x}, which is not a positive number.')\n",
    "    print('Error %s' % str(ve))"
   ]
  },
  {
   "cell_type": "markdown",
   "metadata": {},
   "source": [
    "### Múltiples excepciones"
   ]
  },
  {
   "cell_type": "markdown",
   "metadata": {},
   "source": [
    "En el caso de declarar multiples excepciones se tomarán por orden de preferencia según la primera tabla al ser detectados, para declararlos se pone except y entre paréntesis las excepciones:"
   ]
  },
  {
   "cell_type": "code",
   "execution_count": 88,
   "metadata": {},
   "outputs": [
    {
     "name": "stdin",
     "output_type": "stream",
     "text": [
      "Inserte un número:  'hola'\n"
     ]
    },
    {
     "name": "stdout",
     "output_type": "stream",
     "text": [
      "Error invalid literal for int() with base 10: \"'hola'\"\n"
     ]
    }
   ],
   "source": [
    "try:\n",
    "    # Error al pulsar enter sin insertar dato o insertar un texto, error de TypeError\n",
    "    value = input('Inserte un número: ')\n",
    "    result = 25/int(value)\n",
    "    print(f'El resultado es: {result}')\n",
    "    print(f'Square Root of {x} is {math.sqrt(int(value))}')\n",
    "    L = [10, 5, 6]\n",
    "    print(f'El valor en la lista es: {L[value]}')\n",
    "except (IndexError, TypeError, ValueError) as e:\n",
    "    print('Error %s' % str(e))"
   ]
  },
  {
   "cell_type": "code",
   "execution_count": 89,
   "metadata": {},
   "outputs": [
    {
     "name": "stdin",
     "output_type": "stream",
     "text": [
      "Inserte un número:  6\n"
     ]
    },
    {
     "name": "stdout",
     "output_type": "stream",
     "text": [
      "El resultado es: 4.166666666666667\n",
      "Square Root of -3 is 2.449489742783178\n",
      "Error list indices must be integers or slices, not str\n"
     ]
    }
   ],
   "source": [
    "try:\n",
    "    # Error al poner un número. el index es un string\n",
    "    value = input('Inserte un número: ')\n",
    "    result = 25/int(value)\n",
    "    print(f'El resultado es: {result}')\n",
    "    print(f'Square Root of {x} is {math.sqrt(int(value))}')\n",
    "    L = [10, 5, 6]\n",
    "    print(f'El valor en la lista es: {L[value]}')\n",
    "except (IndexError, TypeError, ValueError) as e:\n",
    "    print('Error %s' % str(e))"
   ]
  },
  {
   "cell_type": "code",
   "execution_count": 90,
   "metadata": {},
   "outputs": [
    {
     "name": "stdin",
     "output_type": "stream",
     "text": [
      "Inserte un número:  -3\n"
     ]
    },
    {
     "name": "stdout",
     "output_type": "stream",
     "text": [
      "El resultado es: -8.333333333333334\n",
      "Error math domain error\n"
     ]
    }
   ],
   "source": [
    "try:\n",
    "    # Error al poner un número negativo\n",
    "    value = input('Inserte un número: ')\n",
    "    result = 25/int(value)\n",
    "    print(f'El resultado es: {result}')\n",
    "    print(f'Square Root of {x} is {math.sqrt(int(value))}')\n",
    "    L = [10, 5, 6]\n",
    "    print(f'El valor en la lista es: {L[value]}')\n",
    "except (IndexError, TypeError, ValueError) as e:\n",
    "    print('Error %s' % str(e))"
   ]
  },
  {
   "cell_type": "markdown",
   "metadata": {},
   "source": [
    "### Raise"
   ]
  },
  {
   "cell_type": "markdown",
   "metadata": {},
   "source": [
    "También se puede usar raise directamente con las excepciones:"
   ]
  },
  {
   "cell_type": "code",
   "execution_count": 92,
   "metadata": {},
   "outputs": [
    {
     "name": "stdin",
     "output_type": "stream",
     "text": [
      "Inserte un número:  -6\n"
     ]
    },
    {
     "ename": "TypeError",
     "evalue": "Error en el index",
     "output_type": "error",
     "traceback": [
      "\u001b[0;31m---------------------------------------------------------------------------\u001b[0m",
      "\u001b[0;31mTypeError\u001b[0m                                 Traceback (most recent call last)",
      "Cell \u001b[0;32mIn[92], line 5\u001b[0m\n\u001b[1;32m      2\u001b[0m value \u001b[38;5;241m=\u001b[39m \u001b[38;5;28minput\u001b[39m(\u001b[38;5;124m'\u001b[39m\u001b[38;5;124mInserte un número: \u001b[39m\u001b[38;5;124m'\u001b[39m)\n\u001b[1;32m      4\u001b[0m \u001b[38;5;28;01mif\u001b[39;00m \u001b[38;5;129;01mnot\u001b[39;00m \u001b[38;5;28mtype\u001b[39m(value) \u001b[38;5;129;01mis\u001b[39;00m \u001b[38;5;28mint\u001b[39m:\n\u001b[0;32m----> 5\u001b[0m     \u001b[38;5;28;01mraise\u001b[39;00m \u001b[38;5;167;01mTypeError\u001b[39;00m(\u001b[38;5;124m'\u001b[39m\u001b[38;5;124mError en el index\u001b[39m\u001b[38;5;124m'\u001b[39m)\n",
      "\u001b[0;31mTypeError\u001b[0m: Error en el index"
     ]
    }
   ],
   "source": [
    "\n",
    "# Error al poner un número un número negativo\n",
    "value = input('Inserte un número: ')\n",
    "\n",
    "if not type(value) is int:\n",
    "    raise TypeError('Error en el index')"
   ]
  },
  {
   "cell_type": "markdown",
   "metadata": {},
   "source": [
    "****"
   ]
  },
  {
   "cell_type": "markdown",
   "metadata": {},
   "source": [
    "# -14- EJERCICIOS"
   ]
  },
  {
   "cell_type": "markdown",
   "metadata": {},
   "source": [
    "**Ejemplo con try except** \n",
    "\n",
    "(el primero es el de examen)"
   ]
  },
  {
   "cell_type": "code",
   "execution_count": 94,
   "metadata": {},
   "outputs": [
    {
     "data": {
      "text/plain": [
       "'\\ntry:\\n    print(5/0)\\n    break\\nexcept:\\n    print(\"Sorry, something went wrong...\")\\nexcept (ValueError, ZeroDivisionError):\\n    print(\"Too bad...\")\\n'"
      ]
     },
     "execution_count": 94,
     "metadata": {},
     "output_type": "execute_result"
    }
   ],
   "source": [
    "\"\"\"\n",
    "try:\n",
    "    print(5/0)\n",
    "    break\n",
    "except:\n",
    "    print(\"Sorry, something went wrong...\")\n",
    "except (ValueError, ZeroDivisionError):\n",
    "    print(\"Too bad...\")\n",
    "\"\"\"\n",
    "    \n",
    "# SyntaxError: 'break' outside loop"
   ]
  },
  {
   "cell_type": "code",
   "execution_count": null,
   "metadata": {},
   "outputs": [],
   "source": [
    "# ejemplo 2 de este tipo (este si funciona)\n",
    "\n",
    "# se ha intentado que ejecute la parte de ZeroDivisionError"
   ]
  },
  {
   "cell_type": "code",
   "execution_count": 95,
   "metadata": {},
   "outputs": [
    {
     "name": "stdout",
     "output_type": "stream",
     "text": [
      "Too bad...\n"
     ]
    }
   ],
   "source": [
    "try:\n",
    "    print(5/0)\n",
    "except (ValueError, ZeroDivisionError):\n",
    "    print(\"Too bad...\")\n",
    "except:\n",
    "    print(\"Sorry, something went wrong...\")"
   ]
  },
  {
   "cell_type": "code",
   "execution_count": 96,
   "metadata": {},
   "outputs": [
    {
     "name": "stdout",
     "output_type": "stream",
     "text": [
      "Sorry, something went wrong...\n"
     ]
    }
   ],
   "source": [
    "try:\n",
    "    print(5/0)\n",
    "except (ValueError):\n",
    "    print(\"Too bad...\")\n",
    "except:\n",
    "    print(\"Sorry, something went wrong...\")"
   ]
  },
  {
   "cell_type": "code",
   "execution_count": 97,
   "metadata": {},
   "outputs": [
    {
     "name": "stdout",
     "output_type": "stream",
     "text": [
      "Sorry, something went wrong...\n"
     ]
    }
   ],
   "source": [
    "try:\n",
    "    print(5/0)\n",
    "except ValueError:\n",
    "    print(\"Too bad...\")\n",
    "except:\n",
    "    print(\"Sorry, something went wrong...\")"
   ]
  },
  {
   "cell_type": "markdown",
   "metadata": {},
   "source": [
    "**UNA POSIBILIDAD**"
   ]
  },
  {
   "cell_type": "code",
   "execution_count": 98,
   "metadata": {},
   "outputs": [
    {
     "name": "stdout",
     "output_type": "stream",
     "text": [
      "<class 'ZeroDivisionError'>\n",
      "division by zero\n"
     ]
    }
   ],
   "source": [
    "try:\n",
    "    print(5/0)\n",
    "except Exception as e:\n",
    "    print(type(e))\n",
    "    print(str(e))"
   ]
  },
  {
   "cell_type": "code",
   "execution_count": 100,
   "metadata": {},
   "outputs": [
    {
     "data": {
      "text/plain": [
       "'try:\\n    print(5/0)\\nexcept:\\n    print(\"Sorry, something went wrong...\")\\nexcept (ValueError, ZeroDivisionError):\\n    print(\"Too bad...\")'"
      ]
     },
     "execution_count": 100,
     "metadata": {},
     "output_type": "execute_result"
    }
   ],
   "source": [
    "\"\"\"try:\n",
    "    print(5/0)\n",
    "except:\n",
    "    print(\"Sorry, something went wrong...\")\n",
    "except (ValueError, ZeroDivisionError):\n",
    "    print(\"Too bad...\")\"\"\"\n",
    "    \n",
    "# SyntaxError: 'break' outside loop"
   ]
  },
  {
   "cell_type": "markdown",
   "metadata": {},
   "source": [
    "****"
   ]
  },
  {
   "cell_type": "markdown",
   "metadata": {},
   "source": [
    "*Gracias por la atención*\n",
    "\n",
    "*Isabel Maniega*"
   ]
  }
 ],
 "metadata": {
  "kernelspec": {
   "display_name": "Python 3 (ipykernel)",
   "language": "python",
   "name": "python3"
  },
  "language_info": {
   "codemirror_mode": {
    "name": "ipython",
    "version": 3
   },
   "file_extension": ".py",
   "mimetype": "text/x-python",
   "name": "python",
   "nbconvert_exporter": "python",
   "pygments_lexer": "ipython3",
   "version": "3.8.18"
  }
 },
 "nbformat": 4,
 "nbformat_minor": 4
}
