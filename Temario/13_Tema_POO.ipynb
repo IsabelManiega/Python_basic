{
 "cells": [
  {
   "cell_type": "markdown",
   "id": "841fdf3a",
   "metadata": {},
   "source": [
    "*Creado por*\n",
    "\n",
    "*Isabel Maniega*"
   ]
  },
  {
   "cell_type": "markdown",
   "id": "6593ea09",
   "metadata": {},
   "source": [
    "# Polimorfismo"
   ]
  },
  {
   "cell_type": "markdown",
   "id": "ced93fe8",
   "metadata": {},
   "source": [
    "La misma función puede estar en diferentes clases"
   ]
  },
  {
   "cell_type": "markdown",
   "id": "f462879f",
   "metadata": {},
   "source": [
    "* Ejemplo que ya le habíamos visto"
   ]
  },
  {
   "cell_type": "code",
   "execution_count": null,
   "id": "ef41a697",
   "metadata": {},
   "outputs": [],
   "source": [
    "class Clase1:\n",
    "    def funcion1():\n",
    "        print(\"Estamos en Clase1 - funcion1\")\n",
    "\n",
    "class Clase2:\n",
    "    def funcion1():\n",
    "        print(\"Estamos en Clase2 - funcion1\")\n",
    "\n",
    "class Clase3:\n",
    "    def funcion1():\n",
    "        print(\"Estamos en Clase3 - funcion1\")"
   ]
  },
  {
   "cell_type": "code",
   "execution_count": null,
   "id": "2ff489a3",
   "metadata": {},
   "outputs": [],
   "source": [
    "Clase1.funcion1()"
   ]
  },
  {
   "cell_type": "code",
   "execution_count": null,
   "id": "a11d353e",
   "metadata": {},
   "outputs": [],
   "source": [
    "Clase2.funcion1()"
   ]
  },
  {
   "cell_type": "code",
   "execution_count": null,
   "id": "d00903e0",
   "metadata": {},
   "outputs": [],
   "source": [
    "Clase3.funcion1()"
   ]
  },
  {
   "cell_type": "markdown",
   "id": "a0449cee",
   "metadata": {},
   "source": [
    "# En POO es lo mismo"
   ]
  },
  {
   "cell_type": "code",
   "execution_count": null,
   "id": "ebe3375b",
   "metadata": {},
   "outputs": [],
   "source": [
    "class Clase1:\n",
    "    def metodo1(self):\n",
    "        print(\"Estamos en: Clase1 - metodo1\")\n",
    "\n",
    "class Clase2:\n",
    "    def metodo1(self):\n",
    "        print(\"Estamos en: Clase2 - metodo1\")\n",
    "\n",
    "class Clase3:\n",
    "    def metodo1(self):\n",
    "        print(\"Estamos en: Clase3 - metodo1\")"
   ]
  },
  {
   "cell_type": "code",
   "execution_count": null,
   "id": "11a710d2",
   "metadata": {},
   "outputs": [],
   "source": [
    "clase_1 = Clase1()\n",
    "clase_2 = Clase2()\n",
    "clase_3 = Clase3()"
   ]
  },
  {
   "cell_type": "code",
   "execution_count": null,
   "id": "cda6d445",
   "metadata": {},
   "outputs": [],
   "source": [
    "clase_1.metodo1()"
   ]
  },
  {
   "cell_type": "code",
   "execution_count": null,
   "id": "2686a73f",
   "metadata": {},
   "outputs": [],
   "source": [
    "clase_2.metodo1()"
   ]
  },
  {
   "cell_type": "code",
   "execution_count": null,
   "id": "1a5e820b",
   "metadata": {},
   "outputs": [],
   "source": [
    "clase_3.metodo1()"
   ]
  },
  {
   "cell_type": "markdown",
   "id": "2fe88b89",
   "metadata": {},
   "source": [
    "*Creado por*\n",
    "\n",
    "*Isabel Maniega*"
   ]
  }
 ],
 "metadata": {
  "kernelspec": {
   "display_name": "Python 3 (ipykernel)",
   "language": "python",
   "name": "python3"
  },
  "language_info": {
   "codemirror_mode": {
    "name": "ipython",
    "version": 3
   },
   "file_extension": ".py",
   "mimetype": "text/x-python",
   "name": "python",
   "nbconvert_exporter": "python",
   "pygments_lexer": "ipython3",
   "version": "3.8.18"
  }
 },
 "nbformat": 4,
 "nbformat_minor": 5
}
