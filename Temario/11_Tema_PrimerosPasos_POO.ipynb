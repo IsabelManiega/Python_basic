{
 "cells": [
  {
   "cell_type": "markdown",
   "id": "e34940b0",
   "metadata": {},
   "source": [
    "*Creado por:*\n",
    "\n",
    "*Isabel Maniega*"
   ]
  },
  {
   "cell_type": "markdown",
   "id": "b89bb24d",
   "metadata": {},
   "source": [
    "# Explicación general"
   ]
  },
  {
   "cell_type": "markdown",
   "id": "50e8caba",
   "metadata": {},
   "source": [
    "* La clase es una plantilla\n",
    "* CON ESA PLANTILLA...creamos **OBJETOS**\n",
    "* UN OBJETO...ES la **instancia de esa clase**\n",
    "* los **atributos** son las **variables**\n",
    "* los **métodos** son las **funciones**"
   ]
  },
  {
   "cell_type": "markdown",
   "id": "7b610f6d",
   "metadata": {},
   "source": [
    "## Ejemplo - Introduccion I"
   ]
  },
  {
   "cell_type": "code",
   "execution_count": 1,
   "id": "81e8e91b",
   "metadata": {},
   "outputs": [],
   "source": [
    "class Empleado:\n",
    "    # funciones se les llama MÉTODOS\n",
    "    # variables se les atributos\n",
    "    def __init__(self, Id, Name, Age, Role):\n",
    "        self.Id = Id\n",
    "        self.Name = Name\n",
    "        self.Age = Age\n",
    "        self.Role = Role\n",
    "# Instancia \n",
    "# genero tantos clientes/empleado como quiera de esta forma\n",
    "# empleado1 es el objeto1\n",
    "\n",
    "empleado1 = Empleado(1, \"Ana\", 30, \"ingeniera\")\n",
    "empleado2 = Empleado(2, \"Pedro\", 45, \"arquitecto\")\n",
    "empleado3 = Empleado(3, \"Andrea\", 25, \"abogada\")     "
   ]
  },
  {
   "cell_type": "code",
   "execution_count": 2,
   "id": "03099bc2",
   "metadata": {},
   "outputs": [
    {
     "data": {
      "text/plain": [
       "30"
      ]
     },
     "execution_count": 2,
     "metadata": {},
     "output_type": "execute_result"
    }
   ],
   "source": [
    "empleado1.Age"
   ]
  },
  {
   "cell_type": "code",
   "execution_count": 3,
   "id": "512b4088",
   "metadata": {},
   "outputs": [
    {
     "data": {
      "text/plain": [
       "45"
      ]
     },
     "execution_count": 3,
     "metadata": {},
     "output_type": "execute_result"
    }
   ],
   "source": [
    "empleado2.Age"
   ]
  },
  {
   "cell_type": "code",
   "execution_count": 4,
   "id": "ced2805c",
   "metadata": {},
   "outputs": [
    {
     "data": {
      "text/plain": [
       "25"
      ]
     },
     "execution_count": 4,
     "metadata": {},
     "output_type": "execute_result"
    }
   ],
   "source": [
    "empleado3.Age"
   ]
  },
  {
   "cell_type": "code",
   "execution_count": 5,
   "id": "5e56ad04",
   "metadata": {},
   "outputs": [
    {
     "data": {
      "text/plain": [
       "'ingeniera'"
      ]
     },
     "execution_count": 5,
     "metadata": {},
     "output_type": "execute_result"
    }
   ],
   "source": [
    "empleado1.Role"
   ]
  },
  {
   "cell_type": "code",
   "execution_count": 6,
   "id": "fdc9915b",
   "metadata": {},
   "outputs": [
    {
     "data": {
      "text/plain": [
       "'Andrea'"
      ]
     },
     "execution_count": 6,
     "metadata": {},
     "output_type": "execute_result"
    }
   ],
   "source": [
    "empleado3.Name"
   ]
  },
  {
   "cell_type": "code",
   "execution_count": 7,
   "id": "bff0278f",
   "metadata": {},
   "outputs": [
    {
     "data": {
      "text/plain": [
       "2"
      ]
     },
     "execution_count": 7,
     "metadata": {},
     "output_type": "execute_result"
    }
   ],
   "source": [
    "empleado2.Id"
   ]
  },
  {
   "cell_type": "markdown",
   "id": "9b490aef",
   "metadata": {},
   "source": [
    "## Ejemplo - Introducción II"
   ]
  },
  {
   "cell_type": "code",
   "execution_count": 9,
   "id": "59410ccc",
   "metadata": {},
   "outputs": [],
   "source": [
    "# creamos la clase\n",
    "class Cliente:\n",
    "    # creamos la primera clase para inicializar el atributo nombre:\n",
    "    def inicializar(self, nombre):\n",
    "        self.nombre = nombre\n",
    "        \n",
    "    # creamos el segundo método\n",
    "    def imprimir(self):\n",
    "        print(\"Nombre: \", self.nombre)    "
   ]
  },
  {
   "cell_type": "code",
   "execution_count": 10,
   "id": "0efa093f",
   "metadata": {},
   "outputs": [
    {
     "name": "stdout",
     "output_type": "stream",
     "text": [
      "Nombre:  María\n"
     ]
    }
   ],
   "source": [
    "# bloque principal\n",
    "# creamos una instancia de la clase Cliente\n",
    "# (primer objeto)\n",
    "cliente1 = Cliente()\n",
    "\n",
    "# era: NombreClase.NombreFuncion\n",
    "# entonces: NombreInstancia.NombreMétodo\n",
    "cliente1.inicializar(\"María\")\n",
    "# el otro método\n",
    "cliente1.imprimir()"
   ]
  },
  {
   "cell_type": "code",
   "execution_count": 11,
   "id": "991f86a0",
   "metadata": {},
   "outputs": [
    {
     "name": "stdout",
     "output_type": "stream",
     "text": [
      "Nombre:  Luis\n"
     ]
    }
   ],
   "source": [
    "# segundo objeto\n",
    "cliente2 = Cliente()\n",
    "cliente2.inicializar(\"Luis\")\n",
    "cliente2.imprimir()"
   ]
  },
  {
   "cell_type": "markdown",
   "id": "f9b76669",
   "metadata": {},
   "source": [
    "*Creado por:*\n",
    "\n",
    "*Isabel Maniega*"
   ]
  }
 ],
 "metadata": {
  "kernelspec": {
   "display_name": "Python 3 (ipykernel)",
   "language": "python",
   "name": "python3"
  },
  "language_info": {
   "codemirror_mode": {
    "name": "ipython",
    "version": 3
   },
   "file_extension": ".py",
   "mimetype": "text/x-python",
   "name": "python",
   "nbconvert_exporter": "python",
   "pygments_lexer": "ipython3",
   "version": "3.8.18"
  }
 },
 "nbformat": 4,
 "nbformat_minor": 5
}
