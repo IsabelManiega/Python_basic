{
 "cells": [
  {
   "cell_type": "markdown",
   "id": "93d9367e",
   "metadata": {},
   "source": [
    "*Creado por:*\n",
    "\n",
    "*Isabel Maniega*"
   ]
  },
  {
   "cell_type": "markdown",
   "id": "ac8fc426",
   "metadata": {},
   "source": [
    "# -0- Importamos nuestras dependencias"
   ]
  },
  {
   "cell_type": "code",
   "execution_count": null,
   "id": "912a8b2d",
   "metadata": {},
   "outputs": [],
   "source": [
    "# pip install pandas"
   ]
  },
  {
   "cell_type": "code",
   "execution_count": null,
   "id": "51bc111e",
   "metadata": {},
   "outputs": [],
   "source": [
    "# !pip install pandas"
   ]
  },
  {
   "cell_type": "code",
   "execution_count": null,
   "id": "6301907b-68e7-4d5e-9888-f7abfe96920f",
   "metadata": {},
   "outputs": [],
   "source": [
    "# pip install matplotlib"
   ]
  },
  {
   "cell_type": "code",
   "execution_count": null,
   "id": "5dc0147f",
   "metadata": {},
   "outputs": [],
   "source": [
    "import pandas as pd\n",
    "import numpy as np\n",
    "import matplotlib.pyplot as plt"
   ]
  },
  {
   "cell_type": "markdown",
   "id": "e1896113",
   "metadata": {},
   "source": [
    "# ----------- Introducción a Python -------------------"
   ]
  },
  {
   "cell_type": "markdown",
   "id": "f8ba84d3",
   "metadata": {},
   "source": [
    "## -1- Variables en Python"
   ]
  },
  {
   "cell_type": "code",
   "execution_count": null,
   "id": "dfebc16d",
   "metadata": {},
   "outputs": [],
   "source": [
    "info = \"Hola Mundo\"\n",
    "info"
   ]
  },
  {
   "cell_type": "code",
   "execution_count": null,
   "id": "9ddfe827",
   "metadata": {},
   "outputs": [],
   "source": [
    "info = 'Hola Mundo'\n",
    "info"
   ]
  },
  {
   "cell_type": "code",
   "execution_count": null,
   "id": "736f0e75",
   "metadata": {},
   "outputs": [],
   "source": [
    "info = 10\n",
    "info"
   ]
  },
  {
   "cell_type": "markdown",
   "id": "b4e8e758",
   "metadata": {},
   "source": [
    "## -2- Print en Python"
   ]
  },
  {
   "cell_type": "markdown",
   "id": "9a43b47d",
   "metadata": {},
   "source": [
    "### -2.1- print con Jupyter --> No es necesario poner print"
   ]
  },
  {
   "cell_type": "code",
   "execution_count": null,
   "id": "c8c48ea7",
   "metadata": {},
   "outputs": [],
   "source": [
    "var1 = 1000"
   ]
  },
  {
   "cell_type": "code",
   "execution_count": null,
   "id": "8d46ecd1",
   "metadata": {},
   "outputs": [],
   "source": [
    "var1"
   ]
  },
  {
   "cell_type": "markdown",
   "id": "a6f28c18",
   "metadata": {},
   "source": [
    "### -2.2- print con VSC --> Es necesario poner print"
   ]
  },
  {
   "cell_type": "code",
   "execution_count": null,
   "id": "269abc53",
   "metadata": {},
   "outputs": [],
   "source": [
    "print(var1)"
   ]
  },
  {
   "cell_type": "markdown",
   "id": "5d8ed2b8",
   "metadata": {},
   "source": [
    "### -2.3- Formas de imprimir"
   ]
  },
  {
   "cell_type": "code",
   "execution_count": null,
   "id": "dbef9dd6",
   "metadata": {},
   "outputs": [],
   "source": [
    "x = 2\n",
    "y = 3\n",
    "z = y + x\n",
    "z"
   ]
  },
  {
   "cell_type": "code",
   "execution_count": null,
   "id": "5ae050bf",
   "metadata": {},
   "outputs": [],
   "source": [
    "print(\"LA SUMA DE: \", x, \"y\", y, \"es igual a:\", z)"
   ]
  },
  {
   "cell_type": "code",
   "execution_count": null,
   "id": "aeaa2577",
   "metadata": {},
   "outputs": [],
   "source": [
    "print(\"La suma de: \" + str(x) + \" + \" + str(y) + \" es igual a: \" + str(z))"
   ]
  },
  {
   "cell_type": "code",
   "execution_count": null,
   "id": "04632f7d",
   "metadata": {},
   "outputs": [],
   "source": [
    "print(f\"La suma de: {x} y {y} es igual a: {z}\")"
   ]
  },
  {
   "cell_type": "code",
   "execution_count": null,
   "id": "6c57f33c",
   "metadata": {},
   "outputs": [],
   "source": [
    "print(\"La suma de: %s y %s es igual a: %s\" %(x,y,z))"
   ]
  },
  {
   "cell_type": "code",
   "execution_count": null,
   "id": "0469ca88",
   "metadata": {},
   "outputs": [],
   "source": [
    "print(\"La suma de: x y y es igual a: z\")"
   ]
  },
  {
   "cell_type": "raw",
   "id": "8551f999-ffde-41db-a6d5-586fa2214830",
   "metadata": {},
   "source": [
    "Signo Scape (\"\\\") + newline (n)"
   ]
  },
  {
   "cell_type": "code",
   "execution_count": null,
   "id": "60dfa4c6",
   "metadata": {},
   "outputs": [],
   "source": [
    "print(\"Hola \\nMundo\")"
   ]
  },
  {
   "cell_type": "code",
   "execution_count": null,
   "id": "3c52a17c",
   "metadata": {},
   "outputs": [],
   "source": [
    "print(\"Hola\")\n",
    "print(\"\\\\\")\n",
    "print(\"Mundo\")"
   ]
  },
  {
   "cell_type": "code",
   "execution_count": null,
   "id": "c76fbbf8",
   "metadata": {},
   "outputs": [],
   "source": [
    "print(\"Hola\")\n",
    "print(\"\\\")\n",
    "print(\"Mundo\")"
   ]
  },
  {
   "cell_type": "code",
   "execution_count": null,
   "id": "86e645b6",
   "metadata": {},
   "outputs": [],
   "source": [
    "print(f\"La suma de: {x} y {y}\", end=\" \")\n",
    "print(f\"es igual a: {z}\")"
   ]
  },
  {
   "cell_type": "code",
   "execution_count": null,
   "id": "e4830ef0",
   "metadata": {},
   "outputs": [],
   "source": [
    "print(f\"La suma de: {x} y {y} \", f\" es igual a: {z}\", sep=\"-\")"
   ]
  },
  {
   "cell_type": "code",
   "execution_count": null,
   "id": "057a1e34-3a36-4db8-b613-2d9ef5b96028",
   "metadata": {},
   "outputs": [],
   "source": [
    "print(\"Hola\", \"Mundo\", \"PCEP\", sep='-')"
   ]
  },
  {
   "cell_type": "code",
   "execution_count": null,
   "id": "43db646d-9386-45c3-a50c-778330ffe658",
   "metadata": {},
   "outputs": [],
   "source": [
    "print(\"Hola Mundo\", \"PCEP\", sep='-')"
   ]
  },
  {
   "cell_type": "code",
   "execution_count": null,
   "id": "0bf59de6-0589-4cbc-a05e-707cc31fa00b",
   "metadata": {},
   "outputs": [],
   "source": [
    "print(1, 2, 3, sep='*')"
   ]
  },
  {
   "cell_type": "markdown",
   "id": "ddd945be",
   "metadata": {},
   "source": [
    "## -3- String Python"
   ]
  },
  {
   "cell_type": "code",
   "execution_count": null,
   "id": "4c21bb3c",
   "metadata": {},
   "outputs": [],
   "source": [
    "info = \"Hola Mundo\"\n",
    "info"
   ]
  },
  {
   "cell_type": "code",
   "execution_count": null,
   "id": "c0359f30",
   "metadata": {},
   "outputs": [],
   "source": [
    "info = 'Hola Mundo'\n",
    "info"
   ]
  },
  {
   "cell_type": "code",
   "execution_count": null,
   "id": "639c78de",
   "metadata": {},
   "outputs": [],
   "source": [
    "# Dos comillas dobles: invalid syntax\n",
    "info = \"Hola \"Mundo\"\"\n",
    "info"
   ]
  },
  {
   "cell_type": "code",
   "execution_count": null,
   "id": "1da403fc",
   "metadata": {},
   "outputs": [],
   "source": [
    "# Comillas dobles y comillas simples:\n",
    "info = \"Hola 'Mundo'\"\n",
    "info"
   ]
  },
  {
   "cell_type": "markdown",
   "id": "0e0a45e5",
   "metadata": {},
   "source": [
    "### -3.1- Concatenación"
   ]
  },
  {
   "cell_type": "code",
   "execution_count": null,
   "id": "a5fdfbdd",
   "metadata": {},
   "outputs": [],
   "source": [
    "info = \"Hola \" + \"Mundo\"\n",
    "info"
   ]
  },
  {
   "cell_type": "code",
   "execution_count": null,
   "id": "c98f29da",
   "metadata": {},
   "outputs": [],
   "source": [
    "info = \"Hola\" + \" \" + \"Mundo\"\n",
    "info"
   ]
  },
  {
   "cell_type": "code",
   "execution_count": null,
   "id": "9c9ce95c",
   "metadata": {},
   "outputs": [],
   "source": [
    "print(type(info))\n",
    "info = 10\n",
    "print(type(info))"
   ]
  },
  {
   "cell_type": "markdown",
   "id": "6bc9e85f",
   "metadata": {},
   "source": [
    "### -3.2- Métodos upper(), lower() y title()"
   ]
  },
  {
   "cell_type": "code",
   "execution_count": null,
   "id": "5aba9c76",
   "metadata": {},
   "outputs": [],
   "source": [
    "info = \"hola mundo\"\n",
    "info = info.title()\n",
    "info"
   ]
  },
  {
   "cell_type": "code",
   "execution_count": null,
   "id": "f318135f",
   "metadata": {},
   "outputs": [],
   "source": [
    "info = \"hola mundo\".title()\n",
    "info"
   ]
  },
  {
   "cell_type": "code",
   "execution_count": null,
   "id": "04388767",
   "metadata": {},
   "outputs": [],
   "source": [
    "info = \"hola mundo\"\n",
    "info = info.upper()\n",
    "info"
   ]
  },
  {
   "cell_type": "code",
   "execution_count": null,
   "id": "60262fed",
   "metadata": {},
   "outputs": [],
   "source": [
    "info = info.lower()\n",
    "info"
   ]
  },
  {
   "cell_type": "markdown",
   "id": "9e60d0b2",
   "metadata": {},
   "source": [
    "## -4- Suma, restas, multiplicaciones y divisiones en Python"
   ]
  },
  {
   "cell_type": "code",
   "execution_count": null,
   "id": "cf737f8c",
   "metadata": {},
   "outputs": [],
   "source": [
    "# SUMA\n",
    "# Pondremos la asignacion de una variable y después los datos que queremos sumar con signo (+)\n",
    "suma = 1 + 3\n",
    "suma"
   ]
  },
  {
   "cell_type": "code",
   "execution_count": null,
   "id": "845f14e8",
   "metadata": {},
   "outputs": [],
   "source": [
    "x = 0\n",
    "\n",
    "x = x + 1\n",
    "x"
   ]
  },
  {
   "cell_type": "code",
   "execution_count": null,
   "id": "b735c36c",
   "metadata": {},
   "outputs": [],
   "source": [
    "# Abreviada:\n",
    "x = 0\n",
    "x += 1\n",
    "x"
   ]
  },
  {
   "cell_type": "code",
   "execution_count": null,
   "id": "d57cc602",
   "metadata": {},
   "outputs": [],
   "source": [
    "# RESTAS\n",
    "# Pondremos la asignacion de una variable y después los datos que queremos restar con signo (-)\n",
    "resta = 5 - 2\n",
    "resta"
   ]
  },
  {
   "cell_type": "code",
   "execution_count": null,
   "id": "b7780f42",
   "metadata": {},
   "outputs": [],
   "source": [
    "# MULTIPLICACIÓN\n",
    "# Pondremos la asignacion de una variable y después los datos que queremos multiplicacion con signo (*)\n",
    "multiplicacion = 3 * 5\n",
    "multiplicacion"
   ]
  },
  {
   "cell_type": "code",
   "execution_count": null,
   "id": "491cfb07",
   "metadata": {},
   "outputs": [],
   "source": [
    "# DIVISIÓN\n",
    "# Pondremos la asignacion de una variable y después los datos que queremos división con signo (/)\n",
    "division = 15 / 5\n",
    "division"
   ]
  },
  {
   "cell_type": "code",
   "execution_count": null,
   "id": "321259bd",
   "metadata": {},
   "outputs": [],
   "source": [
    "# Cociente de una división\n",
    "# Pondremos la asignacion de una variable y después los datos que queremos división con signo (//)\n",
    "division = 15 // 5\n",
    "division"
   ]
  },
  {
   "cell_type": "code",
   "execution_count": null,
   "id": "2c689b33",
   "metadata": {},
   "outputs": [],
   "source": [
    "# Resto de una división\n",
    "# Pondremos la asignacion de una variable y después los datos que queremos división con signo (%)\n",
    "division = 17 % 5\n",
    "division"
   ]
  },
  {
   "cell_type": "code",
   "execution_count": null,
   "id": "e3dac172",
   "metadata": {},
   "outputs": [],
   "source": [
    "# OPERACIÓN\n",
    "# Pondremos la asignacion de una variable y después los datos que queremos operar con signo\n",
    "operar = 20 - 8 * 6 / 3 + 10\n",
    "operar"
   ]
  },
  {
   "cell_type": "code",
   "execution_count": null,
   "id": "ff25ae2a",
   "metadata": {},
   "outputs": [],
   "source": [
    "# OPERACIÓN\n",
    "# ASIGNACIÓN DE PRIORIDAD: paréntesis\n",
    "operar = (20 - 8) * 6 / 3 + 10\n",
    "operar"
   ]
  },
  {
   "cell_type": "markdown",
   "id": "05cdf14f",
   "metadata": {},
   "source": [
    "### -4.1- Exponente"
   ]
  },
  {
   "cell_type": "code",
   "execution_count": null,
   "id": "9dc094ca",
   "metadata": {},
   "outputs": [],
   "source": [
    "# Exponente\n",
    "# Pondremos la asignacion de una variable y después el dato elevado (**) al valor \n",
    "elevado = 20 ** 3\n",
    "elevado"
   ]
  },
  {
   "cell_type": "markdown",
   "id": "d2d7a633",
   "metadata": {},
   "source": [
    "### -4.2- Decimales"
   ]
  },
  {
   "cell_type": "code",
   "execution_count": null,
   "id": "4730d906",
   "metadata": {},
   "outputs": [],
   "source": [
    "# En el caso de los decimales se pone (.), NUNCA (,)\n",
    "number = 2,4\n",
    "number"
   ]
  },
  {
   "cell_type": "code",
   "execution_count": null,
   "id": "6bdd7568",
   "metadata": {},
   "outputs": [],
   "source": [
    "type(number)"
   ]
  },
  {
   "cell_type": "code",
   "execution_count": null,
   "id": "378595a6",
   "metadata": {},
   "outputs": [],
   "source": [
    "# En el caso de los decimales se pone (.), NUNCA (,)\n",
    "number = 2.4\n",
    "number"
   ]
  },
  {
   "cell_type": "code",
   "execution_count": null,
   "id": "5c94c660",
   "metadata": {},
   "outputs": [],
   "source": [
    "type(number)"
   ]
  },
  {
   "cell_type": "code",
   "execution_count": null,
   "id": "7b06f22e",
   "metadata": {},
   "outputs": [],
   "source": [
    "# Si sólo ponemos punto lo interpreta como 0.5\n",
    "number = .5\n",
    "number"
   ]
  },
  {
   "cell_type": "code",
   "execution_count": null,
   "id": "e74b78fa",
   "metadata": {},
   "outputs": [],
   "source": [
    "# Redondear: round(numero, numero de decimales)\n",
    "number = round(0.3555, 2)\n",
    "number"
   ]
  },
  {
   "cell_type": "markdown",
   "id": "cb2ba363",
   "metadata": {},
   "source": [
    "### -4.3- Tipos de datos"
   ]
  },
  {
   "cell_type": "code",
   "execution_count": null,
   "id": "22fa030c",
   "metadata": {},
   "outputs": [],
   "source": [
    "number = 0.2365\n",
    "type(number)"
   ]
  },
  {
   "cell_type": "code",
   "execution_count": null,
   "id": "d7c5c763",
   "metadata": {},
   "outputs": [],
   "source": [
    "number = 25\n",
    "type(number)"
   ]
  },
  {
   "cell_type": "code",
   "execution_count": null,
   "id": "455dd981",
   "metadata": {},
   "outputs": [],
   "source": [
    "text = \"Hola Mundo\"\n",
    "type(text)"
   ]
  },
  {
   "cell_type": "markdown",
   "id": "b188b208",
   "metadata": {},
   "source": [
    "### -4.4- Max, Min, Absoluto, suma"
   ]
  },
  {
   "cell_type": "code",
   "execution_count": null,
   "id": "75c617b3",
   "metadata": {},
   "outputs": [],
   "source": [
    "# Valor absoluto\n",
    "absoluto = abs(-6)\n",
    "absoluto"
   ]
  },
  {
   "cell_type": "code",
   "execution_count": null,
   "id": "4e15bb02",
   "metadata": {},
   "outputs": [],
   "source": [
    "# Maximo de una serie de números\n",
    "maximo = max(6, -3, 8.56, -40, 25)\n",
    "maximo"
   ]
  },
  {
   "cell_type": "code",
   "execution_count": null,
   "id": "e1043093",
   "metadata": {},
   "outputs": [],
   "source": [
    "# Mínimo de una serie de números\n",
    "minimo = min(6, -3, 8.56, -40, 25)\n",
    "minimo"
   ]
  },
  {
   "cell_type": "code",
   "execution_count": null,
   "id": "d2b610c9",
   "metadata": {},
   "outputs": [],
   "source": [
    "suma_lista = sum([2, 2, 6])\n",
    "suma_lista"
   ]
  },
  {
   "cell_type": "markdown",
   "id": "61af2155",
   "metadata": {},
   "source": [
    "# -5- Estructura de datos Básicos"
   ]
  },
  {
   "cell_type": "markdown",
   "id": "5717a1fd",
   "metadata": {},
   "source": [
    "### -5.1- Tuplas"
   ]
  },
  {
   "cell_type": "code",
   "execution_count": null,
   "id": "6cacef27",
   "metadata": {},
   "outputs": [],
   "source": [
    "# Tuplas o arrays\n",
    "A = (10, 20, 30, 40) # 0,1,2,3\n",
    "A"
   ]
  },
  {
   "cell_type": "code",
   "execution_count": null,
   "id": "0768ea54",
   "metadata": {},
   "outputs": [],
   "source": [
    "A[0]"
   ]
  },
  {
   "cell_type": "code",
   "execution_count": null,
   "id": "84ff6eba",
   "metadata": {},
   "outputs": [],
   "source": [
    "A[1]"
   ]
  },
  {
   "cell_type": "code",
   "execution_count": null,
   "id": "7d15927d",
   "metadata": {},
   "outputs": [],
   "source": [
    "# Imprimir todos juntos\n",
    "A[0], A[1], A[2], A[3]"
   ]
  },
  {
   "cell_type": "code",
   "execution_count": null,
   "id": "4a5f1de4",
   "metadata": {},
   "outputs": [],
   "source": [
    "A"
   ]
  },
  {
   "cell_type": "code",
   "execution_count": null,
   "id": "857feba6",
   "metadata": {},
   "outputs": [],
   "source": [
    "# última posición\n",
    "A[-1]"
   ]
  },
  {
   "cell_type": "markdown",
   "id": "f9a214f9",
   "metadata": {},
   "source": [
    "**¿Apendizar en tuplas?**"
   ]
  },
  {
   "cell_type": "code",
   "execution_count": null,
   "id": "5d7837a2",
   "metadata": {},
   "outputs": [],
   "source": [
    "# Listado2.append(numero)\n",
    "# Listado2 --> es el nombre de la lista la cual quiero apendizar\n",
    "# .append(numero) --> Añadir un valor en la serie de numeros\n",
    "A.append(50)"
   ]
  },
  {
   "cell_type": "markdown",
   "id": "11ebd40a",
   "metadata": {},
   "source": [
    "No es posible!!!"
   ]
  },
  {
   "cell_type": "markdown",
   "id": "59e795a5",
   "metadata": {},
   "source": [
    "**Modificar valores en la tupla**"
   ]
  },
  {
   "cell_type": "code",
   "execution_count": null,
   "id": "710a74e8",
   "metadata": {},
   "outputs": [],
   "source": [
    "# Listado[0] = 200\n",
    "A[0] = 200"
   ]
  },
  {
   "cell_type": "markdown",
   "id": "300c65e2",
   "metadata": {},
   "source": [
    "No nos permite!!!"
   ]
  },
  {
   "cell_type": "markdown",
   "id": "4ca40581",
   "metadata": {},
   "source": [
    "Conclusión:\n",
    "   * Las tuplas no permiten apendizar elementos\n",
    "   * Las tuplas no permiten modificar elementos"
   ]
  },
  {
   "cell_type": "markdown",
   "id": "7f22d3ff",
   "metadata": {},
   "source": [
    "### -5.2- Arrays"
   ]
  },
  {
   "cell_type": "code",
   "execution_count": null,
   "id": "ece32fea",
   "metadata": {},
   "outputs": [],
   "source": [
    "import numpy as np"
   ]
  },
  {
   "cell_type": "code",
   "execution_count": null,
   "id": "486da59a",
   "metadata": {},
   "outputs": [],
   "source": [
    "B = np.array([10, 20, 30, 40])\n",
    "B"
   ]
  },
  {
   "cell_type": "code",
   "execution_count": null,
   "id": "70653dd2",
   "metadata": {},
   "outputs": [],
   "source": [
    "B[0]"
   ]
  },
  {
   "cell_type": "code",
   "execution_count": null,
   "id": "108ba39c",
   "metadata": {},
   "outputs": [],
   "source": [
    "B[-1]"
   ]
  },
  {
   "cell_type": "code",
   "execution_count": null,
   "id": "4027ef61",
   "metadata": {},
   "outputs": [],
   "source": [
    "B"
   ]
  },
  {
   "cell_type": "markdown",
   "id": "56151b61",
   "metadata": {},
   "source": [
    "**Transformar a lista apartir de un np.array()**"
   ]
  },
  {
   "cell_type": "markdown",
   "id": "2925cc06",
   "metadata": {},
   "source": [
    "**NombreArray.tolist()**"
   ]
  },
  {
   "cell_type": "code",
   "execution_count": null,
   "id": "fc1aa805",
   "metadata": {},
   "outputs": [],
   "source": [
    "Listado_B = B.tolist()\n",
    "Listado_B"
   ]
  },
  {
   "cell_type": "markdown",
   "id": "c1cb2ada",
   "metadata": {},
   "source": [
    "**lista a array (nuevamente)**"
   ]
  },
  {
   "cell_type": "code",
   "execution_count": null,
   "id": "707a8b3a",
   "metadata": {},
   "outputs": [],
   "source": [
    "array_listado_B = np.array(Listado_B)\n",
    "array_listado_B"
   ]
  },
  {
   "cell_type": "markdown",
   "id": "858d22f5",
   "metadata": {},
   "source": [
    "**¿Es posible apendizar elementos a un np.array?**"
   ]
  },
  {
   "cell_type": "code",
   "execution_count": null,
   "id": "5b1521db",
   "metadata": {},
   "outputs": [],
   "source": [
    "B.append(50) #--> No Funciona\n",
    "B"
   ]
  },
  {
   "cell_type": "code",
   "execution_count": null,
   "id": "b780249a",
   "metadata": {},
   "outputs": [],
   "source": [
    "B"
   ]
  },
  {
   "cell_type": "code",
   "execution_count": null,
   "id": "fdf7b830",
   "metadata": {},
   "outputs": [],
   "source": [
    "c = np.append(B, 50)\n",
    "c"
   ]
  },
  {
   "cell_type": "markdown",
   "id": "5ddb6bbd",
   "metadata": {},
   "source": [
    "Si es posible pero usando la librería numpy (np.append)"
   ]
  },
  {
   "cell_type": "markdown",
   "id": "435d447b",
   "metadata": {},
   "source": [
    "**¿Es posible modificar elementos a un np.array?**"
   ]
  },
  {
   "cell_type": "code",
   "execution_count": null,
   "id": "ed5c0d2e",
   "metadata": {},
   "outputs": [],
   "source": [
    "B[0] = 100\n",
    "B"
   ]
  },
  {
   "cell_type": "code",
   "execution_count": null,
   "id": "e9a91f8e",
   "metadata": {},
   "outputs": [],
   "source": [
    "c[0], c[-1]"
   ]
  },
  {
   "cell_type": "markdown",
   "id": "18474bfd",
   "metadata": {},
   "source": [
    "Si es posible modificar datos"
   ]
  },
  {
   "cell_type": "markdown",
   "id": "ca5187bf",
   "metadata": {},
   "source": [
    "### -5.3- Listas"
   ]
  },
  {
   "cell_type": "code",
   "execution_count": null,
   "id": "878d241e",
   "metadata": {},
   "outputs": [],
   "source": [
    "C = [10, 20, 30, 40]\n",
    "C"
   ]
  },
  {
   "cell_type": "code",
   "execution_count": null,
   "id": "070527fa",
   "metadata": {},
   "outputs": [],
   "source": [
    "type(C)"
   ]
  },
  {
   "cell_type": "code",
   "execution_count": null,
   "id": "09bceab1-597a-40cb-8aec-04b7706b732a",
   "metadata": {},
   "outputs": [],
   "source": [
    "test = (10, 20, 30, 40)\n",
    "list_test = list(test)\n",
    "list_test"
   ]
  },
  {
   "cell_type": "code",
   "execution_count": null,
   "id": "10f21df7",
   "metadata": {},
   "outputs": [],
   "source": [
    "B = list((10, 20, 30, 40))\n",
    "B"
   ]
  },
  {
   "cell_type": "code",
   "execution_count": null,
   "id": "3c62a8c5",
   "metadata": {},
   "outputs": [],
   "source": [
    "type(B)"
   ]
  },
  {
   "cell_type": "code",
   "execution_count": null,
   "id": "238501a6",
   "metadata": {},
   "outputs": [],
   "source": [
    "B[2]"
   ]
  },
  {
   "cell_type": "markdown",
   "id": "7cfedace",
   "metadata": {},
   "source": [
    "**¿Es posible apendizar elementos a una lista?**"
   ]
  },
  {
   "cell_type": "code",
   "execution_count": null,
   "id": "6f8b7922",
   "metadata": {},
   "outputs": [],
   "source": [
    "B.append(100)\n",
    "B"
   ]
  },
  {
   "cell_type": "markdown",
   "id": "bc3b3f75",
   "metadata": {},
   "source": [
    "**¿Es posible modificar elementos a una lista?**"
   ]
  },
  {
   "cell_type": "code",
   "execution_count": null,
   "id": "6924219e",
   "metadata": {},
   "outputs": [],
   "source": [
    "B[0] = 500\n",
    "B"
   ]
  },
  {
   "cell_type": "markdown",
   "id": "b6aab580",
   "metadata": {},
   "source": [
    "Conclusión:\n",
    "   * Es posible apendizar \n",
    "   * Es posible modificar"
   ]
  },
  {
   "cell_type": "markdown",
   "id": "5c9a21fe",
   "metadata": {},
   "source": [
    "### -5.4- Mínimos y Máximos en estructura de datos"
   ]
  },
  {
   "cell_type": "code",
   "execution_count": null,
   "id": "4fd46e2a",
   "metadata": {},
   "outputs": [],
   "source": [
    "listado = [300, 100, 700, 400]\n",
    "listado"
   ]
  },
  {
   "cell_type": "code",
   "execution_count": null,
   "id": "575fae1f",
   "metadata": {},
   "outputs": [],
   "source": [
    "min(listado)"
   ]
  },
  {
   "cell_type": "code",
   "execution_count": null,
   "id": "57028bf3",
   "metadata": {},
   "outputs": [],
   "source": [
    "max(listado)"
   ]
  },
  {
   "cell_type": "markdown",
   "id": "58b453d0",
   "metadata": {},
   "source": [
    "### -5.5- Recomendaciones"
   ]
  },
  {
   "cell_type": "code",
   "execution_count": null,
   "id": "15fd5e45",
   "metadata": {},
   "outputs": [],
   "source": [
    "L = [120, 230, 340, 400, 450, 500, 550, 600, 650, 700, 750, 800]\n",
    "L"
   ]
  },
  {
   "cell_type": "code",
   "execution_count": null,
   "id": "419ea112",
   "metadata": {},
   "outputs": [],
   "source": [
    "# Pero mejor de esta forma..."
   ]
  },
  {
   "cell_type": "code",
   "execution_count": null,
   "id": "51c571ed",
   "metadata": {},
   "outputs": [],
   "source": [
    "L = [\n",
    "     120, 230, 340,\n",
    "     400, 450, 500,\n",
    "     550, 600, 650,\n",
    "     700, 750, 800\n",
    "]\n",
    "# mejor\n",
    "L"
   ]
  },
  {
   "cell_type": "code",
   "execution_count": null,
   "id": "da08c501",
   "metadata": {},
   "outputs": [],
   "source": [
    "# Matrices con Numpy\n",
    "a = np.array([\n",
    "     [120, 230, 340],\n",
    "     [400, 450, 500],\n",
    "     [550, 600, 650],\n",
    "     [700, 750, 800]])\n",
    "a"
   ]
  },
  {
   "cell_type": "markdown",
   "id": "b40fd3ce",
   "metadata": {},
   "source": [
    "### -5.6- Dataframes"
   ]
  },
  {
   "cell_type": "code",
   "execution_count": null,
   "id": "4a68f99e",
   "metadata": {},
   "outputs": [],
   "source": [
    "# Usamos comillas dobles para los nombres de los estudiantes (E)\n",
    "E = [\"Andres\", \"Marcos\", \"Eva\", \"María\"]\n",
    "E"
   ]
  },
  {
   "cell_type": "code",
   "execution_count": null,
   "id": "e43518a7",
   "metadata": {},
   "outputs": [],
   "source": [
    "# Notas de los exámenes (N), de 0 a 10, siendo 10 la nota más alta\n",
    "N = [9, 7, 8, 6]\n",
    "N"
   ]
  },
  {
   "cell_type": "code",
   "execution_count": null,
   "id": "558ae13d",
   "metadata": {},
   "outputs": [],
   "source": [
    "# Edades de cada uno de los alumnos (M)\n",
    "M = [21, 23, 25, 27]\n",
    "M"
   ]
  },
  {
   "cell_type": "code",
   "execution_count": null,
   "id": "76db1e9a",
   "metadata": {},
   "outputs": [],
   "source": [
    "# pip install pandas"
   ]
  },
  {
   "cell_type": "code",
   "execution_count": null,
   "id": "4b74d098",
   "metadata": {},
   "outputs": [],
   "source": [
    "import pandas as pd"
   ]
  },
  {
   "cell_type": "code",
   "execution_count": null,
   "id": "45246f38",
   "metadata": {},
   "outputs": [],
   "source": [
    "# Crear el dataframe con pandas\n",
    "df = pd.DataFrame(E, columns=[\"Estudiante\"])\n",
    "df"
   ]
  },
  {
   "cell_type": "code",
   "execution_count": null,
   "id": "3a5d02e4",
   "metadata": {},
   "outputs": [],
   "source": [
    "df['Notas'] = N\n",
    "df"
   ]
  },
  {
   "cell_type": "code",
   "execution_count": null,
   "id": "cec1f0c4",
   "metadata": {},
   "outputs": [],
   "source": [
    "df['Edad'] = M\n",
    "df"
   ]
  },
  {
   "cell_type": "code",
   "execution_count": null,
   "id": "d2db93f5",
   "metadata": {},
   "outputs": [],
   "source": [
    "df.head(2)"
   ]
  },
  {
   "cell_type": "code",
   "execution_count": null,
   "id": "ec1bf2a7",
   "metadata": {},
   "outputs": [],
   "source": [
    "df.tail(2)"
   ]
  },
  {
   "cell_type": "code",
   "execution_count": null,
   "id": "33989e0f",
   "metadata": {},
   "outputs": [],
   "source": [
    "df.Notas"
   ]
  },
  {
   "cell_type": "code",
   "execution_count": null,
   "id": "f3630fcc",
   "metadata": {},
   "outputs": [],
   "source": [
    "df['Notas']"
   ]
  },
  {
   "cell_type": "code",
   "execution_count": null,
   "id": "052dd6ab",
   "metadata": {},
   "outputs": [],
   "source": [
    "df[['Notas']]"
   ]
  },
  {
   "cell_type": "markdown",
   "id": "304bedf2",
   "metadata": {},
   "source": [
    "# Enteros: números octales y hexadecimales"
   ]
  },
  {
   "cell_type": "markdown",
   "id": "195f6359",
   "metadata": {},
   "source": [
    "Existen dos convenciones adicionales en Python que no son conocidas en el mundo de las matemáticas. El primero nos permite utilizar un número en su representación octal.\n",
    "\n",
    "Si un número entero esta precedido por un código 0O o 0o (cero-o), el número será tratado como un valor octal. Esto significa que el número debe contener dígitos en el rango del [0..7] únicamente.\n",
    "\n",
    "0o123 es un número octal con un valor (decimal) igual a 83."
   ]
  },
  {
   "cell_type": "code",
   "execution_count": null,
   "id": "ec05f608",
   "metadata": {},
   "outputs": [],
   "source": [
    "print(0o123)"
   ]
  },
  {
   "cell_type": "markdown",
   "id": "7a37b900",
   "metadata": {},
   "source": [
    "La segunda convención nos permite utilizar números en hexadecimal. Dichos números deben ser precedidos por el prefijo 0x o 0X (cero-x).\n",
    "\n",
    "0x123 es un número hexadecimal con un valor (decimal) igual a 291. "
   ]
  },
  {
   "cell_type": "code",
   "execution_count": null,
   "id": "23ef0ada",
   "metadata": {},
   "outputs": [],
   "source": [
    "print(0x123)"
   ]
  },
  {
   "cell_type": "markdown",
   "id": "2e2300b1",
   "metadata": {},
   "source": [
    "*Creado por:*\n",
    "\n",
    "*Isabel Maniega*    "
   ]
  }
 ],
 "metadata": {
  "kernelspec": {
   "display_name": "Python 3 (ipykernel)",
   "language": "python",
   "name": "python3"
  },
  "language_info": {
   "codemirror_mode": {
    "name": "ipython",
    "version": 3
   },
   "file_extension": ".py",
   "mimetype": "text/x-python",
   "name": "python",
   "nbconvert_exporter": "python",
   "pygments_lexer": "ipython3",
   "version": "3.8.18"
  }
 },
 "nbformat": 4,
 "nbformat_minor": 5
}
