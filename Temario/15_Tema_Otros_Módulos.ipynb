{
 "cells": [
  {
   "cell_type": "markdown",
   "id": "7e037f75-88fb-4949-bb6d-95d447d35f41",
   "metadata": {},
   "source": [
    "*Creado por:*\n",
    "\n",
    "*Isabel Maniega*"
   ]
  },
  {
   "cell_type": "markdown",
   "id": "6fd92dec-4dd1-4252-a286-5e9bf2ffed7f",
   "metadata": {},
   "source": [
    "# Index\n",
    "\n",
    "1) [Socket](#Socket)\n",
    "2) [Threads](#Threads)\n",
    "3) [Serialización de objetos](#Serialización-de-objetos)\n",
    "4) [Bases de datos](#Bases-de-datos)\n",
    "5) [Documentación con Sphinx](#Documentación-con-Sphinx)\n",
    "6) [Pruebas con Pytest](#Pruebas-con-Pytest)"
   ]
  },
  {
   "cell_type": "markdown",
   "id": "02fa2489-4bfd-4bf8-b26c-7de7e3d2fba1",
   "metadata": {},
   "source": [
    "# Socket"
   ]
  },
  {
   "cell_type": "markdown",
   "id": "96eec1ae-4882-40d7-8da7-1a0929c3627a",
   "metadata": {},
   "source": [
    "Es una conexión cliente/servidor utilizando el módulo Socket en Python, que no es más que un canal de comunicación que permite conectar dos equipos a través de la red (normalmente cliente-servidor). La separación entre cliente servidor en estas conexiones es de tipo lógico. Esto significa que no es necesario tener corriendo el servidor en una única máquina, sino que puede estar en varias, e incluso en varios programas.\n",
    "\n",
    "Socket es un módulo estándar del lenguaje de programación Python (y de otros muchos) que proporciona una interfaz de bajo nivel que permite conexiones TCP/IP y UDP.\n",
    "\n",
    "Crearemos dos Script y los lanzaremos con Visual Studio Code:\n",
    "\n",
    "- Script server.py\n",
    "- Script client.py"
   ]
  },
  {
   "cell_type": "code",
   "execution_count": null,
   "id": "c3e92149-0329-494d-8f9d-b2fa14e0bfd6",
   "metadata": {},
   "outputs": [],
   "source": [
    "# server.py\n",
    "\n",
    "import socket\n",
    " \n",
    "#instanciamos un objeto para trabajar con el socket\n",
    "ser = socket.socket(socket.AF_INET, socket.SOCK_STREAM)\n",
    " \n",
    "#Puerto y servidor que debe escuchar\n",
    "ser.bind((\"\", 8050))\n",
    " \n",
    "#Aceptamos conexiones entrantes con el metodo listen. Por parámetro las conexiones simutáneas.\n",
    "ser.listen(1)\n",
    " \n",
    "#Instanciamos un objeto cli (socket cliente) para recibir datos\n",
    "cli, addr = ser.accept()\n",
    "\n",
    "while True:\n",
    "    #Recibimos el mensaje, con el metodo recv recibimos datos. \n",
    "    # Por parametro la cantidad de bytes para recibir\n",
    "    data = cli.recv(1024)\n",
    "    # Imprimimos el mensaje que en nos envia el cliente.\n",
    "    print(data)\n",
    "    # Si no hay datos que se pare el servidor\n",
    "    if not data: \n",
    "        #Cerramos la instancia del socket cliente y servidor\n",
    "        cli.close()\n",
    "        ser.close()        \n",
    "        print(\"Conexiones cerradas\")\n",
    "    # Devolvemos el mensaje al cliente\n",
    "    cli.sendall(b'mensaje recibido')"
   ]
  },
  {
   "cell_type": "code",
   "execution_count": null,
   "id": "56258f8f-1b62-4216-980b-dadebf0edd23",
   "metadata": {},
   "outputs": [],
   "source": [
    "#  client.py\n",
    "\n",
    "#Se importa el módulo\n",
    "import socket\n",
    "from time import sleep\n",
    "\n",
    "#Variables\n",
    "host = '127.0.0.1'\n",
    "port = 8050\n",
    " \n",
    "#Creación de un objeto socket (lado cliente)\n",
    "obj = socket.socket()\n",
    " \n",
    "#Conexión con el servidor. Parametros: IP (puede ser del tipo 192.168.1.1 o localhost), Puerto\n",
    "obj.connect((host, port))\n",
    "print(\"Conectado al servidor\")\n",
    " \n",
    "#Creamos un bucle para detener la conexion a los 10 envios:\n",
    "n = 0\n",
    "while n < 10:\n",
    "    obj.sendall(b\"Mensaje desde Cliente a Servidor >> \")\n",
    "    data = obj.recv(1024)\n",
    "    print('Received', repr(data))\n",
    "\n",
    "    # Paramos el envio 5 segundos\n",
    "    sleep(5)\n",
    "    n += 1\n",
    "\n",
    "#Cerramos la instancia del objeto servidor\n",
    "obj.close()\n",
    "\n",
    "#Imprimimos la palabra Adios para cuando se cierre la conexion\n",
    "print(\"Conexión cerrada\")"
   ]
  },
  {
   "cell_type": "markdown",
   "id": "d4015bfd-da20-4edb-8b3e-d6b78ac554ab",
   "metadata": {},
   "source": [
    "A tener en cuenta:\n",
    "\n",
    "- En el servidor, si trabajar en un servidor Apache como XAML en tu local, deberás poner localhost. Si trabajas con IPS, no olvides cambiarla.\n",
    "- La misma consideración hay que tener en cuenta para el puerto, debemos cambiarlo a nuestro puerto (creo que por defecto es 9999 o 9998).\n",
    "- Si utilizas Windows y falla la conexión, revisa el Firewall de Windows y añade Python como excepción.\n",
    "- Los dos ficheros (tanto cliente como servidor) deben tener extensión .py\n",
    "- Recuerda que debes ejecutar el código en dos ventanas SSH diferentes para que se puedan comunicar entre ellas.\n",
    "\n",
    "**Nota:** Puedes ampliar más conceptos en: https://docs.python.org/es/3.10/library/socket.html"
   ]
  },
  {
   "cell_type": "markdown",
   "id": "cd0f2a79-0440-46c6-9266-ab91bb0f1803",
   "metadata": {},
   "source": [
    "# Threads"
   ]
  },
  {
   "cell_type": "markdown",
   "id": "e5a44fda-a86f-4356-b00e-38619258bba7",
   "metadata": {},
   "source": [
    "Paralelismo basado en hilos.\n",
    "\n",
    "**Thread** es una unidad de ejecución que forma parte de un proceso. Un proceso puede tener varios subprocesos y todos ejecutarse al mismo tiempo. Es una unidad de ejecución en programación concurrente. Un hilo es liviano y un programador puede administrarlo de forma independiente. Le ayuda a mejorar el rendimiento de la aplicación mediante el paralelismo.\n",
    "\n",
    "**Diferencia entre proceso y Threads (hilos):**\n",
    "\n",
    "- Proceso significa que un programa está en ejecución, mientras que hilo significa un segmento de un proceso.\n",
    "- Un proceso no es liviano, mientras que los subprocesos son livianos.\n",
    "- Un proceso tarda más en finalizar y el hilo tarda menos en finalizar.\n",
    "- El proceso requiere más tiempo para su creación, mientras que Thread requiere menos tiempo para su creación.\n",
    "- Es probable que el proceso requiera más tiempo para el cambio de contexto, mientras que Threads requiere menos tiempo para el cambio de contexto.\n",
    "- Un proceso está mayoritariamente aislado, mientras que los subprocesos comparten memoria.\n",
    "- El proceso no comparte datos y los subprocesos comparten datos entre sí.\n",
    "\n",
    "La forma más sencilla de usar un Thread es crear una instancia con un función de destino y llamar a start() para que comience a funcionar."
   ]
  },
  {
   "cell_type": "code",
   "execution_count": null,
   "id": "240febaa-ea96-4b20-9b8e-b0a958c9bbfa",
   "metadata": {},
   "outputs": [],
   "source": [
    "# Importamos la librería threading\n",
    "import threading\n",
    "\n",
    "\n",
    "def worker():\n",
    "    \"\"\"\n",
    "        Función con la actividad \n",
    "        que debe realizar el hilo\n",
    "    \"\"\"\n",
    "    print('Worker')\n",
    "\n",
    "# listado de hilos creados\n",
    "threads = []\n",
    "for i in range(5):\n",
    "    # Creamos 5 subprocesos distintos y pasamos la función que deben realizar:\n",
    "    t = threading.Thread(target=worker)\n",
    "    threads.append(t)\n",
    "    # Iniciamos el subproceso\n",
    "    t.start()\n",
    "print(threads)"
   ]
  },
  {
   "cell_type": "markdown",
   "id": "9d6aab47-647c-4b0b-b5b6-acd7ba0055ab",
   "metadata": {},
   "source": [
    "La salida son cinco líneas con \"Worker\" en cada una.\n",
    "\n",
    "Es útil poder generar un hilo y pasarle argumentos para decirle que trabajo hacer. Cualquier tipo de objeto puede ser pasado como argumento al hilo. Este ejemplo pasa un número, que luego el hilo imprime."
   ]
  },
  {
   "cell_type": "code",
   "execution_count": null,
   "id": "87f2dbe1-824b-41c6-9b57-58f0b9c36c09",
   "metadata": {},
   "outputs": [],
   "source": [
    "# Importamos la librería threading\n",
    "import threading\n",
    "\n",
    "\n",
    "def worker(num):\n",
    "    \"\"\"\n",
    "        Función con la actividad \n",
    "        que debe realizar el hilo\n",
    "        num: int\n",
    "    \"\"\"\n",
    "    print('Worker: %s' % num)\n",
    "\n",
    "# listado de hilos creados\n",
    "threads = []\n",
    "for i in range(5):\n",
    "    \"\"\"\n",
    "        Creamos 5 subprocesos distintos y \n",
    "        pasamos la función que deben realizar,\n",
    "        además los argumentos de la función (args) \n",
    "    \"\"\"    \n",
    "    t = threading.Thread(target=worker, args=(i,))\n",
    "    threads.append(t)\n",
    "    # Iniciamos el subproceso\n",
    "    t.start()\n",
    "print(threads)"
   ]
  },
  {
   "cell_type": "markdown",
   "id": "4ac0954c-0705-44e6-8a47-36ab1d0016d1",
   "metadata": {},
   "source": [
    "El argumento entero ahora está incluido en el mensaje impreso por cada hilo.\n",
    "\n",
    "**Determinar el hilo actual**\n",
    "\n",
    "Usar argumentos para identificar o nombrar el hilo es engorroso e innecesario. Cada instancia Thread tiene un nombre con un valor predeterminado que se puede cambiar cuando se crea el hilo. Nombrar hilos es útil en procesos de servidor con múltiples hilos de servicio manejando diferentes operaciones."
   ]
  },
  {
   "cell_type": "code",
   "execution_count": null,
   "id": "1de60711-67cf-4260-8362-2ce2e5fba029",
   "metadata": {},
   "outputs": [],
   "source": [
    "import threading\n",
    "import time\n",
    "\n",
    "\n",
    "def worker():\n",
    "    \"\"\"\n",
    "        Imprimimos el nombre del actual subproceso\n",
    "        que esta ejecutándose:\n",
    "        threading.current_thread().getName()\n",
    "    \"\"\"\n",
    "    print(threading.current_thread().getName(), 'Starting')\n",
    "    time.sleep(0.2)\n",
    "    print(threading.current_thread().getName(), 'Exiting')\n",
    "\n",
    "\n",
    "def my_service():\n",
    "    \"\"\"\n",
    "        Imprimimos el nombre del actual subproceso\n",
    "        que esta ejecutándose:\n",
    "        threading.current_thread().getName()\n",
    "    \"\"\"\n",
    "    print(threading.current_thread().getName(), 'Starting')\n",
    "    time.sleep(0.3)\n",
    "    print(threading.current_thread().getName(), 'Exiting')\n",
    "\n",
    "# El argumento name nos permite nombrar el hilo\n",
    "# Creamos dos subprocesos con funciones distintas\n",
    "t = threading.Thread(name='my_service', target=my_service)\n",
    "w = threading.Thread(name='worker', target=worker)\n",
    "# Subproceso creado con nombre por defecto\n",
    "w2 = threading.Thread(target=worker)  \n",
    "\n",
    "w.start()\n",
    "w2.start()\n",
    "t.start()"
   ]
  },
  {
   "cell_type": "markdown",
   "id": "bbe8f7d6-0812-49fe-bd58-25d6aeac3e18",
   "metadata": {},
   "source": [
    "La salida de depuración incluye el nombre del hilo actual en cada línea. Las líneas con \"Thread-X\" en la columna de nombre de hilo corresponden al hilo sin nombre w2.\n",
    "\n",
    "**Hilos de Daemon vs. No-Daemon**\n",
    "\n",
    "Hasta este punto, los programas de ejemplo han esperado implícitamente para salir hasta que todos los hilos hayan completado su trabajo. A veces los programas generan un hilo como un demonio que se ejecuta sin bloquear el programa principal de salir. El uso de hilos de demonio es útil para servicios donde puede que no haya una manera fácil de interrumpir el hilo, o donde dejar que el el hilo muera en medio de su trabajo, no pierde ni corrompe los datos (por ejemplo, un hilo que genera «latidos del corazón» para una herramienta de monitoreo de servicio). Para marcar un hilo como demonio, pasa daemon=True al construirlo o llama a su método set_daemon() con True. El valor predeterminado es que los subprocesos no sean demonios."
   ]
  },
  {
   "cell_type": "code",
   "execution_count": null,
   "id": "962bd692-a3f9-494f-aeb4-c0bd3cfaaaa1",
   "metadata": {},
   "outputs": [],
   "source": [
    "import threading\n",
    "import time\n",
    "\n",
    "\n",
    "def daemon():\n",
    "    print(threading.current_thread().getName(), 'Starting')\n",
    "    time.sleep(0.2)\n",
    "    print(threading.current_thread().getName(), 'Exiting')\n",
    "\n",
    "\n",
    "def non_daemon():\n",
    "    print(threading.current_thread().getName(), 'Starting')\n",
    "    print(threading.current_thread().getName(), 'Exiting')\n",
    "\n",
    "\"\"\"\n",
    "    Iniciamos dos subprocesos:\n",
    "    - name 'daemon' como demonio a True\n",
    "    - name non_daemon como demonio a False\n",
    "\"\"\"\n",
    "d = threading.Thread(name='daemon', target=daemon, daemon=True)\n",
    "t = threading.Thread(name='non-daemon', target=non_daemon)\n",
    "\n",
    "d.start()\n",
    "t.start()"
   ]
  },
  {
   "cell_type": "markdown",
   "id": "081fbf24-32ec-48e1-b99a-f787f72b1314",
   "metadata": {},
   "source": [
    "La salida no incluye el mensaje \"Exiting\" del hilo demonio, ya que todos los hilos no demonio (incluyendo el hilo principal) terminan antes de que el hilo demonio se despierte de la llamada sleep().\n",
    "\n",
    "Para esperar hasta que un subproceso demonio haya completado su trabajo, usa el método join()."
   ]
  },
  {
   "cell_type": "code",
   "execution_count": null,
   "id": "4edf5743-6057-4fbc-bfa5-55c93c746441",
   "metadata": {},
   "outputs": [],
   "source": [
    "import threading\n",
    "import time\n",
    "\n",
    "\n",
    "def daemon():\n",
    "    print(threading.current_thread().getName(), 'Starting')\n",
    "    time.sleep(0.2)\n",
    "    print(threading.current_thread().getName(), 'Exiting')\n",
    "\n",
    "\n",
    "def non_daemon():\n",
    "    print(threading.current_thread().getName(), 'Starting')\n",
    "    print(threading.current_thread().getName(), 'Exiting')\n",
    "\n",
    "\"\"\"\n",
    "    Iniciamos dos subprocesos:\n",
    "    - name 'daemon' como demonio a True\n",
    "    - name non_daemon como demonio a False\n",
    "\"\"\"\n",
    "d = threading.Thread(name='daemon', target=daemon, daemon=True)\n",
    "t = threading.Thread(name='non-daemon', target=non_daemon)\n",
    "\n",
    "d.start()\n",
    "t.start()\n",
    "\n",
    "d.join()\n",
    "t.join()"
   ]
  },
  {
   "cell_type": "markdown",
   "id": "31f5c412-7871-48f7-9dc4-3a607a80acb8",
   "metadata": {},
   "source": [
    "Por defecto, join() bloquea indefinidamente. También es posible pasar un valor flotante que represente el número de segundos a esperar por el hilo para convertirse en inactivo. Si el hilo no se completa dentro del período de tiempo de espera, join() retorna de todos modos."
   ]
  },
  {
   "cell_type": "code",
   "execution_count": null,
   "id": "34836f1b-e6a4-488f-9f04-f0f7d5aaf1dc",
   "metadata": {},
   "outputs": [],
   "source": [
    "import threading\n",
    "import time\n",
    "\n",
    "\n",
    "def daemon():\n",
    "    print(threading.current_thread().getName(), 'Starting')\n",
    "    time.sleep(0.2)\n",
    "    print(threading.current_thread().getName(), 'Exiting')\n",
    "\n",
    "\n",
    "def non_daemon():\n",
    "    print(threading.current_thread().getName(), 'Starting')\n",
    "    print(threading.current_thread().getName(), 'Exiting')\n",
    "\n",
    "\"\"\"\n",
    "    Iniciamos dos subprocesos:\n",
    "    - name 'daemon' como demonio a True\n",
    "    - name non_daemon como demonio a False\n",
    "\"\"\"\n",
    "d = threading.Thread(name='daemon', target=daemon, daemon=True)\n",
    "t = threading.Thread(name='non-daemon', target=non_daemon)\n",
    "\n",
    "d.start()\n",
    "t.start()\n",
    "\n",
    "d.join(0.1)\n",
    "print('d.is_alive()', d.is_alive())\n",
    "t.join()"
   ]
  },
  {
   "cell_type": "markdown",
   "id": "0cab280c-eab5-4ac9-aa41-fa4df6457d6c",
   "metadata": {},
   "source": [
    "Dado que el tiempo de espera transcurrido es menor que la cantidad de tiempo que el hilo demonio duerme, el hilo sigue «vivo» después de join() retorna.\n",
    "\n",
    "**Señalización Entre Hilos**\n",
    "\n",
    "Aunque el punto de usar múltiples hilos es ejecutar separadamente operaciones al mismo tiempo, hay momentos en que es importante ser capaz de sincronizar las operaciones en dos o más hilos. Los objetos evento son una forma sencilla de comunicarse entre hilos de forma segura. Un Event gestiona una bandera interna que las personas que llaman pueden controlar con los métodos set() y clear(). Otros hilos pueden usar wait() para pausar hasta que se establezca la bandera, bloqueando efectivamente el avance hasta que se permita continuar."
   ]
  },
  {
   "cell_type": "code",
   "execution_count": null,
   "id": "1f721f4a-b7a8-4d46-a98d-ce97e7b25b92",
   "metadata": {},
   "outputs": [],
   "source": [
    "import threading\n",
    "import time\n",
    "\n",
    "\n",
    "def wait_for_event(e):\n",
    "    \"\"\"Wait for the event to be set before doing anything\"\"\"\n",
    "    print(f'({threading.current_thread().getName()} ) wait_for_event starting')\n",
    "    event_is_set = e.wait()\n",
    "    print(threading.current_thread().getName(), f'event set: {event_is_set}')\n",
    "\n",
    "\n",
    "def wait_for_event_timeout(e, t):\n",
    "    \"\"\"Wait t seconds and then timeout\"\"\"\n",
    "    while not e.is_set():\n",
    "        print(f'({threading.current_thread().getName()} ) wait_for_event_timeout starting')\n",
    "        event_is_set = e.wait(t)\n",
    "        print(threading.current_thread().getName(), f'event set: {event_is_set}')\n",
    "        if event_is_set:\n",
    "             print(f'({threading.current_thread().getName()} ) processing event')\n",
    "        else:\n",
    "            print(f'({threading.current_thread().getName()} ) doing other work')\n",
    "\n",
    "e = threading.Event()\n",
    "t1 = threading.Thread(name='block', target=wait_for_event, args=(e,),)\n",
    "t1.start()\n",
    "\n",
    "t2 = threading.Thread(name='nonblock', target=wait_for_event_timeout, args=(e, 2),)\n",
    "t2.start()\n",
    "\n",
    "print(f'({threading.current_thread().getName()} ) Waiting before calling Event.set()')\n",
    "time.sleep(0.3)\n",
    "e.set()\n",
    "print(f'({threading.current_thread().getName()} ) Event is set')"
   ]
  },
  {
   "cell_type": "markdown",
   "id": "209e209e-f57f-498c-abd6-065cbd3c1a2f",
   "metadata": {},
   "source": [
    "El método wait_for_event_timeout() toma un argumento que representa el número de segundos que el evento espera antes de que se agote el tiempo de espera. Devuelve un booleano indicando si el evento está configurado o no, para que la persona que llama sepa por qué wait() regresó. El método is_set() puede ser usado por separado en el evento sin miedo a bloquear.\n",
    "\n",
    "En este ejemplo, wait_for_event_timeout() comprueba el estatus del evento sin bloqueo indefinido. El wait_for_event() bloquea en la llamada a wait(), que no regresa hasta que el estado del evento cambie.\n",
    "\n",
    "**Sincronizar hilos**\n",
    "\n",
    "Además de usar Events, otra forma de sincronizar los hilos son a través del uso de un objeto Condition. Porque Condition utiliza un Lock, se puede vincular a un recurso compartido, permitiendo que múltiples hilos esperen a que el recurso sea actualizado. En este ejemplo, los hilos consumer() esperan el Condition que se establezca antes de continuar. El hilo producer() es responsable de establecer la condición y notificar a los otros hilos que pueden continuar."
   ]
  },
  {
   "cell_type": "code",
   "execution_count": null,
   "id": "596a1716-bee2-449e-8be2-ee110f1ce061",
   "metadata": {},
   "outputs": [],
   "source": [
    "import threading\n",
    "import time\n",
    "\n",
    "\n",
    "def consumer(cond):\n",
    "    \"\"\"wait for the condition and use the resource\"\"\"\n",
    "    print(f'({threading.current_thread().getName()} ) Starting consumer thread')\n",
    "    with cond:\n",
    "        cond.wait()\n",
    "        print(f'({threading.current_thread().getName()} ) Resource is available to consumer')\n",
    "\n",
    "\n",
    "def producer(cond):\n",
    "    \"\"\"set up the resource to be used by the consumer\"\"\"\n",
    "    print(f'({threading.current_thread().getName()} ) Starting producer thread')\n",
    "    with cond:\n",
    "        print(f'({threading.current_thread().getName()} ) Making resource available')\n",
    "        cond.notifyAll()\n",
    "\n",
    "\n",
    "condition = threading.Condition()\n",
    "c1 = threading.Thread(name='c1', target=consumer, args=(condition,))\n",
    "c2 = threading.Thread(name='c2', target=consumer, args=(condition,))\n",
    "p = threading.Thread(name='p', target=producer, args=(condition,))\n",
    "\n",
    "c1.start()\n",
    "time.sleep(0.2)\n",
    "c2.start()\n",
    "time.sleep(0.2)\n",
    "p.start()"
   ]
  },
  {
   "cell_type": "markdown",
   "id": "bcfd4d6c-be2f-4977-82bc-e3995aa35433",
   "metadata": {},
   "source": [
    "Los hilos usan with para adquirir el bloqueo asociado con la Condition. Usando los métodos capture() y release() explícitamente también funcionan.\n",
    "\n",
    "Las barreras son otro mecanismo de sincronización de hilos. Una Barrier establece un punto de control y todos los hilos participantes bloquean hasta que todas las «partes» participantes hayan alcanzado ese punto. Permite que los hilos se inicien por separado y luego se pause hasta que todos están listos para continuar."
   ]
  },
  {
   "cell_type": "code",
   "execution_count": null,
   "id": "46b28627-6fc1-4d97-8318-8fafb7f58be9",
   "metadata": {},
   "outputs": [],
   "source": [
    "import threading\n",
    "import time\n",
    "\n",
    "\n",
    "def worker(barrier):\n",
    "    print(threading.current_thread().name, 'waiting for barrier with {} others'.format(barrier.n_waiting))\n",
    "    worker_id = barrier.wait()\n",
    "    print(threading.current_thread().name, 'after barrier', worker_id)\n",
    "\n",
    "\n",
    "NUM_THREADS = 3\n",
    "\n",
    "barrier = threading.Barrier(NUM_THREADS)\n",
    "\n",
    "threads = [threading.Thread(name='worker-%s' % i, target=worker, args=(barrier,),) \n",
    "           for i in range(NUM_THREADS)]\n",
    "\n",
    "for t in threads:\n",
    "    print(t.name, 'starting')\n",
    "    t.start()\n",
    "    time.sleep(0.1)\n",
    "\n",
    "for t in threads:\n",
    "    t.join()"
   ]
  },
  {
   "cell_type": "markdown",
   "id": "64f520fc-576f-4ea5-883c-1e4f36677891",
   "metadata": {},
   "source": [
    "En este ejemplo, la Barrier está configurada para bloquear hasta que tres hilos estén esperando. Cuando se cumple la condición, todos los los hilos se liberan más allá del punto de control al mismo tiempo. Los valores de retorno de wait() indica el número de la parte que está siendo liberada, y puede usarse para limitar algunos subprocesos de realizar una acción como limpiar un recurso compartido.\n",
    "\n",
    "**Colas o Queue (FIFO)**\n",
    "\n",
    "FIFO: primero en entrar, primero en salir"
   ]
  },
  {
   "cell_type": "code",
   "execution_count": null,
   "id": "b4a659ad-9ed7-4fde-aa5c-c7cdadfd4265",
   "metadata": {},
   "outputs": [],
   "source": [
    "import queue\n",
    "\n",
    "q1 = queue.Queue(5)\n",
    "q1.put(1)\n",
    "q1.put(2)\n",
    "q1.put(3)\n",
    "q1.__dict__"
   ]
  },
  {
   "cell_type": "code",
   "execution_count": null,
   "id": "b83d8b62-f35d-4552-b81c-00879812529e",
   "metadata": {},
   "outputs": [],
   "source": [
    "q1.get()"
   ]
  },
  {
   "cell_type": "code",
   "execution_count": null,
   "id": "01ff18e5-3fb3-4b77-a750-8e1ee34581f3",
   "metadata": {},
   "outputs": [],
   "source": [
    "q1.get()"
   ]
  },
  {
   "cell_type": "code",
   "execution_count": null,
   "id": "7a92c9df-43ab-4f41-a41a-be7c04f7528a",
   "metadata": {},
   "outputs": [],
   "source": [
    "q1.__dict__"
   ]
  },
  {
   "cell_type": "markdown",
   "id": "3a8bf6b8-d5e7-48e3-b3f5-a7d225101afc",
   "metadata": {},
   "source": [
    "**Compartir datos entre threads**"
   ]
  },
  {
   "cell_type": "code",
   "execution_count": null,
   "id": "fff3b349-d099-4c60-89da-291fa5578c93",
   "metadata": {},
   "outputs": [],
   "source": [
    "import threading\n",
    "import queue\n",
    "\n",
    "\n",
    "def busqueda1(num,cola):\n",
    "    for i in range(5):\n",
    "        if num == i:\n",
    "            cola.put(\"Busqueda1 confirmó el número\")\n",
    "\n",
    "def busqueda2(num,cola):\n",
    "    for i in range(5,10):\n",
    "        if(num == i):\n",
    "            cola.put(\"Busqueda2 confirmó el número\")\n",
    "numero = 3\n",
    "cola = queue.Queue()\n",
    "\n",
    "thread1 = threading.Thread(target=busqueda1,args=(numero,cola))\n",
    "thread2 = threading.Thread(target=busqueda2,args=(numero,cola))\n",
    "\n",
    "thread1.start()\n",
    "thread2.start()\n",
    "\n",
    "thread1.join()\n",
    "thread2.join()\n",
    "\n",
    "print('Resultado: ', cola.get())"
   ]
  },
  {
   "cell_type": "code",
   "execution_count": null,
   "id": "8eb81a9d-1df3-4821-9b79-47695a6de015",
   "metadata": {},
   "outputs": [],
   "source": [
    "import queue\n",
    "import random\n",
    "import threading\n",
    "import time\n",
    "\n",
    "def producer(queue, event):\n",
    "    \"\"\"Pretend we're getting a number from the network.\"\"\"\n",
    "    while not event.is_set():\n",
    "        message = random.randint(1, 10)\n",
    "        print(\"%s got message: %s\" % (threading.current_thread().name, message))\n",
    "        queue.put(message)\n",
    "        event.wait()\n",
    "\n",
    "    print(f\"{threading.current_thread().name} received event. Exiting\")\n",
    "\n",
    "def consumer(queue, event):\n",
    "    \"\"\"Pretend we're saving a number in the database.\"\"\"\n",
    "    print('Valores en la cola: ', list(queue.queue))\n",
    "    while not event.is_set() or not queue.empty():\n",
    "        message = queue.get()\n",
    "        print(\"%s storing message: %s (size=%d)\" % (threading.current_thread().name, \n",
    "                                                    message, queue.qsize()))\n",
    "        event.wait()\n",
    "\n",
    "    print(f\"{threading.current_thread().name} received event. Exiting\")\n",
    "\n",
    "cola = queue.Queue()\n",
    "event = threading.Event()\n",
    "\n",
    "thread1 = threading.Thread(name='Producer1', target=producer,args=(cola, event))\n",
    "thread3 = threading.Thread(name='Producer2', target=producer,args=(cola, event))\n",
    "thread2 = threading.Thread(name='Consumer1',target=consumer,args=(cola, event))\n",
    "thread4 = threading.Thread(name='Consumer2',target=consumer,args=(cola, event))\n",
    "\n",
    "thread1.start()\n",
    "thread3.start()\n",
    "thread2.start()\n",
    "thread4.start()\n",
    "\n",
    "time.sleep(0.1)\n",
    "print(\"Main: about to set event\")\n",
    "event.set()"
   ]
  },
  {
   "cell_type": "markdown",
   "id": "eae1a7e0-d367-4786-b0ff-219703cf28b8",
   "metadata": {},
   "source": [
    "# Serialización de objetos"
   ]
  },
  {
   "cell_type": "markdown",
   "id": "ea70d1b2-09bd-4e08-93fa-55a68457e667",
   "metadata": {},
   "source": [
    "**Módulo Json**"
   ]
  },
  {
   "cell_type": "markdown",
   "id": "f5e7c0ab-5e2b-4bb9-a0da-5ec2584b1ebd",
   "metadata": {},
   "source": [
    "JSON se ha convertido en el estándar por defecto para el intercambio de información. \n",
    "Sus usos son:\n",
    "\n",
    "- Transportar datos Tal vez esté\n",
    "- Recopilando información a través de una API\n",
    "- Almacenando sus datos en una base de datos de documentos.\n",
    "\n",
    "Ejemplo de Json:\n",
    "\n",
    "{\n",
    "    \n",
    "    \"firstName\": \"Jasmine\",\n",
    "    \n",
    "    \"lastName\": \"Doe\",\n",
    "    \n",
    "    \"hobbies\": [\"running\", \"cooking\", \"singing\"],\n",
    "    \n",
    "    \"age\": 35,\n",
    "    \n",
    "    \"children\": [\n",
    "    \n",
    "        {\n",
    "            \"firstName\": \"Alice\",\n",
    "            \n",
    "            \"age\": 6\n",
    "        },\n",
    "        {\n",
    "            \"firstName\": \"Bob\",\n",
    "            \n",
    "            \"age\": 8\n",
    "        }\n",
    "    ]\n",
    "}\n",
    "\n",
    "Esto nos recuerda a los diccionarios de Python, por lo tanto, ya sabemos que lo podemos recorrer como clave: valor.\n",
    "\n",
    "Para poder manejar estos datos usaremos el paquete **json**\n",
    "\n",
    "Concepto básico:\n",
    "\n",
    "- **Serialización:** Consiste en convertir un objeto de Python (normalmente una lista o diccionario) en un string.\n",
    "- **Deserialización:** Consiste en convertir un string en un objeto de Python (normalmente una lista o diccionario)."
   ]
  },
  {
   "cell_type": "code",
   "execution_count": null,
   "id": "80bf81cf-3c91-4f9e-a228-e9fe718ffed5",
   "metadata": {},
   "outputs": [],
   "source": [
    "# Ejemplo de serialización\n",
    "\n",
    "import json\n",
    "\n",
    "data = {\n",
    "    \"presidente\": {\n",
    "        \"nombre\": \"Zaphod Beeblebrox\",\n",
    "        \"especie\": \"Betelgeusian\"\n",
    "    }\n",
    "}\n",
    "\n",
    "json_string = json.dumps(data)\n",
    "json_string"
   ]
  },
  {
   "cell_type": "code",
   "execution_count": null,
   "id": "8efa7e91-3338-47ae-8d7d-4e5a7ea77b73",
   "metadata": {},
   "outputs": [],
   "source": [
    "type(json_string)"
   ]
  },
  {
   "cell_type": "code",
   "execution_count": null,
   "id": "96ced537-186a-4708-9167-31460b643941",
   "metadata": {},
   "outputs": [],
   "source": [
    "json_string[\"presidente\"]\n",
    "\n",
    "# TypeError: string indices must be integers\n",
    "# No podemos recorrerlo para ello será necesario decodificarlo"
   ]
  },
  {
   "cell_type": "code",
   "execution_count": null,
   "id": "d6f7456b-d185-4ddc-aa46-cbd8a651cb6d",
   "metadata": {},
   "outputs": [],
   "source": [
    "# La opción de dumps nos sirve para escribirlo en un archivo de formato Json:\n",
    "\n",
    "with open(\"archivo_data.json\", \"w\") as write_file:\n",
    "    json.dump(data, write_file)"
   ]
  },
  {
   "cell_type": "code",
   "execution_count": null,
   "id": "b31af06d-e831-4321-ae5b-69d5399ccdac",
   "metadata": {},
   "outputs": [],
   "source": [
    "# Indent nos permite añadir un salto a cada componente del Json:\n",
    "\n",
    "with open(\"archivo_data.json\", \"w\") as write_file:\n",
    "    json.dump(data, write_file, indent=2)"
   ]
  },
  {
   "cell_type": "code",
   "execution_count": null,
   "id": "0f9eda26-ebcf-41f4-857e-ab94e4eaf52d",
   "metadata": {},
   "outputs": [],
   "source": [
    "# sort_keys= True: la salida de los diccionarios se ordenará por clave:\n",
    "# Salida esperada: {\"age\": 30, \"city\": \"New York\", \"name\": \"John\"}\n",
    "\n",
    "data = {\n",
    "  \"name\": \"John\",\n",
    "  \"age\": 30,\n",
    "  \"city\": \"New York\"\n",
    "}\n",
    "\n",
    "with open(\"archivo_data.json\", \"w\") as write_file:\n",
    "    json.dump(data, write_file, indent=2, sort_keys=True)"
   ]
  },
  {
   "cell_type": "code",
   "execution_count": null,
   "id": "c57a08f0-1a0b-4ae4-9f9a-d5a752a50a3b",
   "metadata": {},
   "outputs": [],
   "source": [
    "# Ejemplo de deserialización\n",
    "# Convertir datos codificados en JSON en objetos de Python.\n",
    "\n",
    "json_decoded = json.loads(json_string)\n",
    "json_decoded"
   ]
  },
  {
   "cell_type": "code",
   "execution_count": null,
   "id": "58cc0158-2d36-4239-af14-88ef6e0d5920",
   "metadata": {},
   "outputs": [],
   "source": [
    "type(json_decoded)\n",
    "\n",
    "# Con loads podemos recorrer el diccionario y extraer la información."
   ]
  },
  {
   "cell_type": "code",
   "execution_count": null,
   "id": "5be02d7c-a0af-487f-b738-f30d61d50880",
   "metadata": {},
   "outputs": [],
   "source": [
    "json_decoded['presidente']"
   ]
  },
  {
   "cell_type": "code",
   "execution_count": null,
   "id": "e639dd4a-e0a1-433b-8db9-d3a4206eaaf2",
   "metadata": {},
   "outputs": [],
   "source": [
    "json_decoded['presidente']['nombre']"
   ]
  },
  {
   "cell_type": "raw",
   "id": "aaeb4ab4-11da-4860-ae63-b706cd3cd6a6",
   "metadata": {},
   "source": [
    "    Python\t               JSON\n",
    "      dic\t              object\n",
    "  list o tupla\t          array\n",
    "      str\t              string\n",
    "  int y float\t          number\n",
    "      True\t               true\n",
    "      False\t              false\n",
    "      None\t               null"
   ]
  },
  {
   "cell_type": "markdown",
   "id": "65e83272-fcaa-463a-a40d-6b3279ca33e5",
   "metadata": {},
   "source": [
    "# Bases de datos"
   ]
  },
  {
   "cell_type": "markdown",
   "id": "82923fa4-b6d3-4ab0-93d9-fd406e642a78",
   "metadata": {},
   "source": [
    "**SQlite**\n",
    "\n",
    "SQLite también es un gestor de bases de datos relacional pero con objetivos muy diferentes a MySQL, SQLServer, Oracle etc.\n",
    "Este gestor de base de datos tiene por objetivo ser parte de la misma aplicación con la que colabora, es decir no cumple los conceptos de cliente y servidor.\n",
    "\n",
    "Para entender sus usos podemos dar algunos ejemplos donde se utiliza el gestor SQLite:\n",
    "\n",
    "- Firefox usa SQLite para almacenar los favoritos, el historial, las cookies etc.\n",
    "- También el navegador Opera usa SQLite.\n",
    "- La aplicación de comunicaciones Skype de Microsoft utiliza SQLite\n",
    "- Los sistemas operativos Android y iOS adoptan SQLite para permitir el almacenamiento y recuperación de datos.\n",
    "\n",
    "SQLite es Open Source y se ha instalado por defecto con Python, es decir forma parte de la biblioteca estándar, no tenemos que instalar ningún módulo con pip.\n",
    "\n",
    "Si nuestra aplicación necesita almacenar gran cantidad de información local con cierta estructura el empleo de SQLite es nuestra principal opción.\n",
    "\n",
    "Creamos una tabla llamada Articulos donde tiene 3 columnas:\n",
    "- Código que será la clave primaria para relacionar con otras tablas, es de tipo entero.\n",
    "- Descripción de tipo texto\n",
    "- Precio de tipo número."
   ]
  },
  {
   "cell_type": "raw",
   "id": "2b7bc19b-fbd1-4210-8c8d-3ea5e256be10",
   "metadata": {},
   "source": [
    "        articulos\n",
    "\n",
    "codigo   descripcion    precio\n",
    "------------------------------\n",
    "1        boligrafo       1.2\n",
    "2        libro           20\n",
    "3        lapicero        0.85"
   ]
  },
  {
   "cell_type": "markdown",
   "id": "5d53955f-5394-4d1e-8c4d-8591e979ab89",
   "metadata": {},
   "source": [
    "Realizaremos el CRUB (Create Read Update Delete):"
   ]
  },
  {
   "cell_type": "code",
   "execution_count": null,
   "id": "b7a75567-dcce-4d6d-bfbd-8fc3f22ec39a",
   "metadata": {},
   "outputs": [],
   "source": [
    "# Importamos las librería sqlite3:\n",
    "import sqlite3\n",
    "\n",
    "# Creamos un archivo como extensión .db donde se almacenará la información, si no existe se crea:\n",
    "conexion=sqlite3.connect(\"database.db\")\n",
    "try:\n",
    "    # Creamos la tabla anteriormente explicada:\n",
    "    conexion.execute(\"\"\"CREATE TABLE articulos (codigo integer primary key autoincrement, \n",
    "                        descripcion text, precio real)\"\"\")\n",
    "    print(\"se creo la tabla articulos\")                        \n",
    "except sqlite3.OperationalError:\n",
    "    # si ocurre un error al crear la tabla nos mostrará el siguiente error:\n",
    "    print(\"La tabla articulos ya existe\")                    \n",
    "conexion.close()"
   ]
  },
  {
   "cell_type": "code",
   "execution_count": null,
   "id": "7b908da0-4591-4cd6-a056-24fa995c1f23",
   "metadata": {},
   "outputs": [],
   "source": [
    "# Crear:\n",
    "# Insertamos información en la tabla creada anteriormente de articulos:\n",
    "\n",
    "conexion=sqlite3.connect(\"database.db\")\n",
    "conexion.execute(\"INSERT INTO articulos(descripcion,precio) VALUES (?,?)\", (\"boligrafo\", 1.2))\n",
    "conexion.execute(\"INSERT INTO articulos(descripcion,precio) VALUES (?,?)\", (\"libro\", 20))\n",
    "conexion.execute(\"INSERT INTO articulos(descripcion,precio) VALUES (?,?)\", (\"lapicero\", 0.85))\n",
    "conexion.commit()\n",
    "conexion.close()"
   ]
  },
  {
   "cell_type": "code",
   "execution_count": null,
   "id": "165b3139-1cc3-4c3e-9f88-5d850a1d74d4",
   "metadata": {},
   "outputs": [],
   "source": [
    "# Read\n",
    "# Leer todos los datos de la tabla:\n",
    "\n",
    "conexion = sqlite3.connect(\"database.db\")\n",
    "cursor = conexion.execute(\"SELECT codigo,descripcion,precio FROM articulos\")\n",
    "for fila in cursor:\n",
    "    print(fila)\n",
    "conexion.close()"
   ]
  },
  {
   "cell_type": "code",
   "execution_count": null,
   "id": "e6579a18-e27c-46a9-8bb1-0116eca07dee",
   "metadata": {},
   "outputs": [],
   "source": [
    "# Read\n",
    "# Leer sólo un dato:\n",
    "\n",
    "conexion = sqlite3.connect(\"database.db\")\n",
    "\n",
    "# Recogemos el código que el usario quiere buscar:\n",
    "codigo = int(input(\"Ingrese el código de un artículo:\"))\n",
    "\n",
    "# filtramos por el código y que nos muestre la descripción y precio:\n",
    "cursor = conexion.execute(\"SELECT descripcion,precio FROM articulos WHERE codigo=?\", (codigo, ))\n",
    "# El método fechone de la clase Cursor retorna una tupla \n",
    "# con la fila de la tabla que coincide con el código ingresado o retorna 'None':\n",
    "fila = cursor.fetchone()\n",
    "\n",
    "if fila != None:\n",
    "    print(fila)\n",
    "else:\n",
    "    print(\"No existe un artículo con dicho código.\")\n",
    "conexion.close()"
   ]
  },
  {
   "cell_type": "code",
   "execution_count": null,
   "id": "146e5904-6ab1-4a0d-8b87-f7896db22e63",
   "metadata": {},
   "outputs": [],
   "source": [
    "# Recuperar varias filas con una coincidencia en este caso por precio:\n",
    "\n",
    "conexion = sqlite3.connect(\"database.db\")\n",
    "\n",
    "# Filtrar los datos por el precio que elija el usuario:\n",
    "precio = float(input(\"Ingrese un precio:\"))\n",
    "\n",
    "# Filtrar por dicho valor que sea inferior:\n",
    "cursor = conexion.execute(\"SELECT descripcion FROM articulos WHERE precio<?\", (precio, ))\n",
    "\n",
    "# Llamamos al método 'fetchall' de la clase Cursor y\n",
    "# nos retorna una lista con todas las filas de la tabla \n",
    "# que cumplen la condición de tener un precio inferior al ingresado:\n",
    "filas=cursor.fetchall()\n",
    "\n",
    "if len(filas)>0:\n",
    "    for fila in filas:\n",
    "        print(fila)\n",
    "else:\n",
    "    print(\"No existen artículos con un precio menor al ingresado.\")\n",
    "conexion.close()"
   ]
  },
  {
   "cell_type": "code",
   "execution_count": null,
   "id": "7104cf7f-9e78-4425-9f9e-511db02673f9",
   "metadata": {},
   "outputs": [],
   "source": [
    "# Update\n",
    "# Actualizar alguno de los datos buscando por el código\n",
    "\n",
    "conexion = sqlite3.connect(\"database.db\")\n",
    "\n",
    "# Buscar el código y añadir el precio por el usuario:\n",
    "codigo = int(input(\"Ingrese un código:\"))\n",
    "precio = float(input(\"Ingresa un precio:\"))\n",
    "\n",
    "# Actualizar el precio por codigo :\n",
    "try:\n",
    "    cursor = conexion.execute(\"UPDATE articulos SET precio=? WHERE codigo=?;\", (precio, codigo, ))\n",
    "    # Para que se realize el cambio añadimos .commit\n",
    "    conexion.commit()\n",
    "except Exception as e:\n",
    "    print('Error %s: ' % str(e))\n",
    "\n",
    "conexion.close()"
   ]
  },
  {
   "cell_type": "code",
   "execution_count": null,
   "id": "6c206908-e76d-442c-bc5e-b56036b73a70",
   "metadata": {},
   "outputs": [],
   "source": [
    "# Delete\n",
    "# Eliminar un determinado dato\n",
    "\n",
    "conexion = sqlite3.connect(\"database.db\")\n",
    "\n",
    "# Eliminar el código que el usuario quiera.\n",
    "codigo = int(input(\"Ingrese un código:\"))\n",
    "\n",
    "# Eliminar la fila por el codigo:\n",
    "try:\n",
    "    cursor = conexion.execute(\"DELETE FROM articulos WHERE codigo=?;\", (codigo, ))\n",
    "    #  Para que se realize el cambio añadimos .commit\n",
    "    conexion.commit()\n",
    "except Exception as e:\n",
    "    print('Error %s: ' % str(e))\n",
    "\n",
    "conexion.close()"
   ]
  },
  {
   "cell_type": "markdown",
   "id": "7bfd1fcf-ec80-4232-9ec3-628306444643",
   "metadata": {},
   "source": [
    "# Documentación con Sphinx"
   ]
  },
  {
   "cell_type": "markdown",
   "id": "f39a2632-f053-47a5-8a41-aff42ba0cd2c",
   "metadata": {},
   "source": [
    "Para documentar nuestro código apropiadamente, vamos a usar la herramienta adecuada. Sphinx es un paquete que se encargará del trabajo pesado de organizar la información, extraerla de los lugares adecuados, y presentarla en un bonito HTML o PDF (o en algún otro formato). Esto te permitirá concentrarte más en el contenido que en el formato. Sphinx es, además, el estándar para elaborar la documentación técnica en Python."
   ]
  },
  {
   "cell_type": "code",
   "execution_count": null,
   "id": "876df0a9-8b71-40e3-b1b0-b964432c25ae",
   "metadata": {},
   "outputs": [],
   "source": [
    "# pip install sphinx"
   ]
  },
  {
   "cell_type": "code",
   "execution_count": null,
   "id": "f734bb54-95e4-4fc8-9d69-4466d4e0b5b0",
   "metadata": {},
   "outputs": [],
   "source": [
    "# pip install sphinx_rtd_theme"
   ]
  },
  {
   "cell_type": "markdown",
   "id": "01ba4a3e-69ab-4d3b-a6fd-5254020ec266",
   "metadata": {},
   "source": [
    "sphinx_rtd_theme nos permite mostrar la vista como documentación de Python.\n",
    "\n",
    "Creamos la carpeta de nuestro proyecto Documentation para este fin, ahora nos iremos a la consola:\n",
    "\n",
    "1) Crea la carpeta doc: mkdir docs\n",
    "2) Entra en la carpeta doc: cd docs\n",
    "3) Vemos el contenido de la carpeta: ls (Linux) ó dir (Windows), observamos que está vacio.\n",
    "4) Ejecutamos el siguiente comando: sphinx-quickstart\n",
    "   \n",
    "**Nota:** Fijarse que estamos dentro del entorno virtual y comprobar con pip list que tenemos instalado Sphinx.\n",
    "\n",
    "5) Daremos por defecto los campos que nos pide excepto el nombre del proyecto, autor y versión:"
   ]
  },
  {
   "cell_type": "code",
   "execution_count": null,
   "id": "5baef747-71f2-40b9-97dd-47eaa7ac9dc8",
   "metadata": {},
   "outputs": [],
   "source": [
    "from IPython import display\n",
    "display.Image(\"images/sphinx_1.png\")"
   ]
  },
  {
   "cell_type": "code",
   "execution_count": null,
   "id": "881e80eb-f6a4-4a07-8c65-3a095e0c393b",
   "metadata": {},
   "outputs": [],
   "source": [
    "display.Image('images/sphinx_2.png')"
   ]
  },
  {
   "cell_type": "markdown",
   "id": "d97a86e1-fb87-4c01-a0e4-429a2bd0f015",
   "metadata": {},
   "source": [
    "Observamos que se nos han creado varios archivos:"
   ]
  },
  {
   "cell_type": "code",
   "execution_count": null,
   "id": "0c95b067-daf8-401d-9d7f-bbc141cedbca",
   "metadata": {},
   "outputs": [],
   "source": [
    "display.Image('images/sphinx_3.png')"
   ]
  },
  {
   "cell_type": "markdown",
   "id": "2d12db27-4284-431b-a737-a7aa11abacf3",
   "metadata": {},
   "source": [
    "Podemos modificar el diseño de la página de documentación, aqui puedes encontrar los distintos aspectos:\n",
    "\n",
    "- https://sphinx-themes.org/#themes\n",
    "\n",
    "- https://www.writethedocs.org/guide/tools/sphinx-themes/\n",
    "\n",
    "Para ello vamos a usar el aspecto 'Read the Docs', modificamos en la carpeta source/conf.py la línea:\n",
    "\n",
    "línea 27: \n",
    "\n",
    "html_theme = 'alabaster'\n",
    "\n",
    "por:\n",
    "\n",
    "html_theme = 'sphinx_rtd_theme'\n",
    "\n",
    "Sphinx utiliza como source archivos tipo .rst creados con un lenguaje de marcas denominado reStructuredText (o simplemente reST). Se trata de un tipo de formato similar a markdown, pero con una serie de marcas ampliadas especialmente diseñadas para facilitar el trabajo de documentación automática de código. Puedes encontrar más información en la documentación de Sphinx. \n",
    "\n",
    "https://www.sphinx-doc.org/en/master/usage/restructuredtext/basics.html\n",
    "\n",
    "Creamos un archivo Installation.rst:"
   ]
  },
  {
   "cell_type": "code",
   "execution_count": null,
   "id": "a42d1a85-1077-44ad-83db-a6ebc1e2098d",
   "metadata": {},
   "outputs": [],
   "source": [
    "# Installation\n",
    "# ============\n",
    "\n",
    "# rst file example\n",
    "# ----------------\n",
    "\n",
    "# Esto es un ejemplo de rst.\n",
    "\n",
    "# Para ejecutar nuestro projecto pondremos: \n",
    "\n",
    "# ``python <nombre archivo>.py``\n",
    "\n",
    "# **Esto está en negrita** y *esto está en cursiva*\n",
    "  \n",
    "# El código se marca así:\n",
    "\n",
    "# ``import sphinx``\n",
    "\n",
    "# +------------+-----------+\n",
    "# | Columna 1  | Columna 2 |\n",
    "# +============+===========+\n",
    "# | Dato 1     | Dato A    |\n",
    "# +------------+-----------+\n",
    "# | Dato 2     | Dato B    |\n",
    "# +------------+-----------+\n",
    "# | Dato 3     | Dato C    |\n",
    "# +------------+-----------+\n",
    "\n",
    "# Tabla 1\n",
    "\n",
    "# * Esto es una lista con viñetas\n",
    "# * Si tiene dos items, el segundo\n",
    "#   item usa dos líneas.\n",
    "\n",
    "# 1. Esto es una lista numerda.\n",
    "# 2. Este es el segundo item de la lista numerada."
   ]
  },
  {
   "cell_type": "code",
   "execution_count": null,
   "id": "1e4180a4-303b-436f-a568-4968d1b3053e",
   "metadata": {},
   "outputs": [],
   "source": [
    "display.Image('./images/rst.png')"
   ]
  },
  {
   "cell_type": "markdown",
   "id": "5d7e29bf-8b2d-4ad5-a849-6d74df456c8c",
   "metadata": {},
   "source": [
    "Una vez creado el archivo debemos añadirlo al archivo index.rst para que nos lo agregue al menú:"
   ]
  },
  {
   "cell_type": "code",
   "execution_count": null,
   "id": "22950088-8c2a-4f33-877f-3391a2e628a5",
   "metadata": {},
   "outputs": [],
   "source": [
    "# .. Example_sphinx documentation master file, created by\n",
    "#    sphinx-quickstart on Tue Jan 23 14:47:58 2024.\n",
    "#    You can adapt this file completely to your liking, but it should at least\n",
    "#    contain the root `toctree` directive.\n",
    "\n",
    "# Welcome to Example_sphinx's documentation!\n",
    "# ==========================================\n",
    "\n",
    "# .. toctree::\n",
    "#    :maxdepth: 2\n",
    "#    :caption: Contents:\n",
    "\n",
    "#    Installation  # Añadimos el archivo .rst anteriormente creado\n",
    "\n",
    "\n",
    "\n",
    "# Indices and tables\n",
    "# ==================\n",
    "\n",
    "# * :ref:`genindex`\n",
    "# * :ref:`modindex`\n",
    "# * :ref:`search`"
   ]
  },
  {
   "cell_type": "markdown",
   "id": "71931de1-36db-4ce4-b49c-8e4eea8e2840",
   "metadata": {},
   "source": [
    "Volvemos a la carpeta docs y ejecutamos: \n",
    "\n",
    "make html"
   ]
  },
  {
   "cell_type": "code",
   "execution_count": null,
   "id": "7984c57f-7dbc-4ff1-aa13-59e8c2b1ef8a",
   "metadata": {},
   "outputs": [],
   "source": [
    "display.Image('./images/sphinx_4.png')"
   ]
  },
  {
   "cell_type": "markdown",
   "id": "4668cdc8-0b9b-44f7-9f17-536f7d508182",
   "metadata": {},
   "source": [
    "Vamos hasta la carpeta docs/build/html hacemos click sobre el archivo index.html, nos muestra la documentación que hemos agregado a nuestro manual:"
   ]
  },
  {
   "cell_type": "code",
   "execution_count": null,
   "id": "4a56d4ce-8d12-4bdd-a10a-e7cda3efdd22",
   "metadata": {},
   "outputs": [],
   "source": [
    "display.Image('./images/sphinx_5.png')"
   ]
  },
  {
   "cell_type": "markdown",
   "id": "e7fc8d62-d3c1-4878-962c-4c094e0494b1",
   "metadata": {},
   "source": [
    "Vemos que la información que hemos creado anteriormente se visualiza en contenido, si seleccionamos la instalación, nos muestra la información creada en el archivo Installation.rst:m"
   ]
  },
  {
   "cell_type": "code",
   "execution_count": null,
   "id": "1ee0870e-c4b3-4bf5-8198-f3156b4979a1",
   "metadata": {},
   "outputs": [],
   "source": [
    "display.Image('./images/sphinx_6.png')"
   ]
  },
  {
   "cell_type": "markdown",
   "id": "70e9b5ba-ae27-465d-a0ee-069a60b33287",
   "metadata": {},
   "source": [
    "Para más información: https://www.sphinx-doc.org/en/master/index.html"
   ]
  },
  {
   "cell_type": "markdown",
   "id": "011e70bc-b92a-4e03-b7ff-009569935558",
   "metadata": {},
   "source": [
    "# Pruebas con Pytest"
   ]
  },
  {
   "cell_type": "markdown",
   "id": "d3db874d-2dd1-4e02-b691-43457b5404d0",
   "metadata": {},
   "source": [
    "Testear el código puedes obtener una amplia variedad de beneficios. Aumenta la confianza, que el código funcione como se espera, y garantizar que los cambios en el código no provocarán regresiones. Escribir y mantener pruebas es un trabajo duro, por lo que debes aprovechar todas las herramientas a tu disposición para hacerlo lo menos complicado posible. pytest es una de las mejores herramientas que puede utilizar para aumentar la productividad de sus pruebas.\n",
    "\n",
    "Qué beneficios ofrece pytest:\n",
    "\n",
    "- Puede ejecutar varias pruebas en paralelo, lo que reduce el tiempo de ejecución del conjunto de pruebas.\n",
    "\n",
    "- Tiene su propia forma de detectar el archivo de prueba y las funciones de prueba automáticamente, si no se menciona explícitamente.\n",
    "\n",
    "- Nos permite omitir un subconjunto de pruebas durante la ejecución.\n",
    "\n",
    "- Nos permite ejecutar un subconjunto de todo el conjunto de pruebas.\n",
    "\n",
    "- Es gratuito y de código abierto.\n",
    "\n",
    "- Debido a su sintaxis simple, es muy fácil comenzar con pytest."
   ]
  },
  {
   "cell_type": "code",
   "execution_count": null,
   "id": "e46c3990-92b1-414f-92c1-d8c51c2a3a56",
   "metadata": {},
   "outputs": [],
   "source": [
    "# pip install pytest"
   ]
  },
  {
   "cell_type": "markdown",
   "id": "a1db0cd9-444a-4a88-88b6-369aae9d8689",
   "metadata": {},
   "source": [
    "Creamos dentro de la carpeta de Documentación creada en la parte de Sphinx, una carpeta llamada test:"
   ]
  },
  {
   "cell_type": "code",
   "execution_count": null,
   "id": "d33d1a5b-fd94-43c4-92e6-33e21a1789ed",
   "metadata": {},
   "outputs": [],
   "source": [
    "display.Image('./images/test_1.png')"
   ]
  },
  {
   "cell_type": "markdown",
   "id": "80ec7e63-5423-4ba2-8126-c11dc364d58f",
   "metadata": {},
   "source": [
    "Pytest le permite escribir funciones de prueba utilizando declaraciones estándar de afirmación de Python, lo que hace que sus pruebas sean limpias y legibles. Para crear una prueba, simplemente defina una función con un nombre que comience con test_ y use aserciones para verificar si se cumple el comportamiento esperado. Aquí hay un ejemplo simple:"
   ]
  },
  {
   "cell_type": "code",
   "execution_count": null,
   "id": "34ce53e2-7809-4c40-9606-30ddf25fbf23",
   "metadata": {},
   "outputs": [],
   "source": [
    "# # test.py\n",
    "\n",
    "# def result(a, b): \n",
    "#     return a * b \n",
    "     \n",
    "# def test_result(): \n",
    "#     assert result(2, 3) == 6 \n",
    "#     assert result(-1, 5) == -5 \n",
    "#     assert result(0, 0) == 0"
   ]
  },
  {
   "cell_type": "markdown",
   "id": "f5e3fb0b-9659-4840-9df8-797f81564886",
   "metadata": {},
   "source": [
    "Ejecutamos en la consola el script con py.test, como se ve en la imagen siguiente:"
   ]
  },
  {
   "cell_type": "code",
   "execution_count": null,
   "id": "6c97141d-8e91-4522-b1bc-b9d3d765e82f",
   "metadata": {},
   "outputs": [],
   "source": [
    "display.Image('./images/test_2.png')"
   ]
  },
  {
   "cell_type": "markdown",
   "id": "bc605431-2c06-4d88-86ff-a70776fbaff1",
   "metadata": {},
   "source": [
    "Observamos que todas las pruebas que hemos realizado pasan el test sin ningún error.\n",
    "\n",
    "**Accesorios Pytest**\n",
    "\n",
    "Los accesorios en pytest brindan una forma conveniente de configurar y eliminar recursos reutilizables, como conexiones de bases de datos, archivos temporales o datos de prueba. Le ayudan a mantener un conjunto de pruebas limpio y modular. Para crear un accesorio, use el decorador @pytest.fixture que se muestra en el ejemplo a continuación."
   ]
  },
  {
   "cell_type": "code",
   "execution_count": null,
   "id": "d0aaf832-b843-4407-91c7-eb364f036e78",
   "metadata": {},
   "outputs": [],
   "source": [
    "# test_2.py\n",
    "\n",
    "# import pytest \n",
    "\n",
    "# @pytest.fixture\n",
    "# def sample_data(): \n",
    "#     return {\"name\": \"Isabel Maniega\", \"age\": 100}\n",
    "\n",
    "\n",
    "# def test_sample_data(sample_data): \n",
    "#     assert sample_data[\"name\"] == \"Isabel Maniega\"\n",
    "#     assert sample_data[\"age\"] == 100"
   ]
  },
  {
   "cell_type": "code",
   "execution_count": null,
   "id": "e2a22d0c-3893-4c9c-ae3f-0d59bea5f138",
   "metadata": {},
   "outputs": [],
   "source": [
    "display.Image('./images/test_3.png')"
   ]
  },
  {
   "cell_type": "markdown",
   "id": "7ab817fe-fb0d-4d1b-8247-117d2d35be04",
   "metadata": {},
   "source": [
    "En el ejemplo anterior, el accesorio sample_data se pasa automáticamente a cualquier función de prueba que lo solicite como parámetro, lo que garantiza datos de prueba coherentes en todo el conjunto de pruebas.\n",
    "\n",
    "Observamos que todos los archivos nombrados con test_ son ejecutados con el comando py.test y nos avisan si hay algún error, en ellos.\n",
    "\n",
    "Vamos a ver un ejemplo donde esperamos que el test no pase:"
   ]
  },
  {
   "cell_type": "code",
   "execution_count": null,
   "id": "10bf6dde-b5e0-40b6-870c-987c948dd45f",
   "metadata": {},
   "outputs": [],
   "source": [
    "# # test_3.py\n",
    "\n",
    "# import pytest\n",
    "\n",
    "# def division(x, y):\n",
    "#     result = x / y\n",
    "#     return result\n",
    "\n",
    "# def test_zero_division():\n",
    "#     assert division(3, 1) == 3\n",
    "#     assert division(3, 0) == 0"
   ]
  },
  {
   "cell_type": "code",
   "execution_count": null,
   "id": "7659fdef-2a68-484e-9063-05d992a43c66",
   "metadata": {},
   "outputs": [],
   "source": [
    "display.Image('./images/test_4.png')"
   ]
  },
  {
   "cell_type": "markdown",
   "id": "01fbd996-add0-4d0f-8435-ab8b45c368bd",
   "metadata": {},
   "source": [
    "Se observa con el test_3.py nos pone una F de test erroneo (Fracaso), ya que la división entre 0 nos da un error de Zero Division, por lo tanto el test falla. \n",
    "\n",
    "Si usamos el modulo de pytest.raises() para capturar este error, ya identificado:"
   ]
  },
  {
   "cell_type": "code",
   "execution_count": null,
   "id": "a5478f94-4d43-40ec-9398-6250776d273f",
   "metadata": {},
   "outputs": [],
   "source": [
    "# # test_3.py\n",
    "\n",
    "# import pytest\n",
    "\n",
    "# def division(x, y):\n",
    "#     result = x / y\n",
    "#     return result\n",
    "\n",
    "# def test_zero_division():\n",
    "#     with pytest.raises(ZeroDivisionError):\n",
    "#         division(3, 1)\n",
    "#         division(3, 0)"
   ]
  },
  {
   "cell_type": "code",
   "execution_count": null,
   "id": "a68369a6-8c4a-4563-b7c2-196b5629db8a",
   "metadata": {},
   "outputs": [],
   "source": [
    "display.Image('./images/test_5.png')"
   ]
  },
  {
   "cell_type": "markdown",
   "id": "4f48269b-0178-45f7-9e80-38e96d9be6c2",
   "metadata": {},
   "source": [
    "Observamos que pasa el test, ya que lo hemos capturado.\n",
    "\n",
    "Otra forma es poner es probar que da un error de ZeroDivision, en el asset capturando la respuesta, esto pasará igualemente el test:"
   ]
  },
  {
   "cell_type": "code",
   "execution_count": null,
   "id": "d1d9562e-88f2-4ecb-8b9c-ad6e5f2a069f",
   "metadata": {},
   "outputs": [],
   "source": [
    "# test_3.py\n",
    "\n",
    "# import pytest\n",
    "\n",
    "# def division(x, y):\n",
    "#     result = x / y\n",
    "#     return result\n",
    "\n",
    "# def test_zero_division():\n",
    "#     with pytest.raises(ZeroDivisionError) as excinfo:\n",
    "#         division(3, 1)\n",
    "#         division(3, 0)\n",
    "#     assert \"division by zero\" in str(excinfo.value)"
   ]
  },
  {
   "cell_type": "markdown",
   "id": "eca03e10-fc7c-44a8-8a35-92b22ff5b6e5",
   "metadata": {},
   "source": [
    "Vamos a usar otra forma de capturar el error como es el decorador: @pytest.mark.xfail"
   ]
  },
  {
   "cell_type": "code",
   "execution_count": null,
   "id": "70179b3f-8ede-4358-b5bf-7feddce2ffc0",
   "metadata": {},
   "outputs": [],
   "source": [
    "# # test_3.py\n",
    "\n",
    "# import pytest\n",
    "\n",
    "# def division(x, y):\n",
    "#     result = x / y\n",
    "#     return result\n",
    "\n",
    "# @pytest.mark.xfail(raises=ZeroDivisionError)\n",
    "# def test_zero_division():\n",
    "#         division(3, 1)\n",
    "#         division(3, 0)"
   ]
  },
  {
   "cell_type": "code",
   "execution_count": null,
   "id": "165791dd-d2b7-47a1-9a88-2683bfd2a0c9",
   "metadata": {},
   "outputs": [],
   "source": [
    "display.Image('./images/test_6.png')"
   ]
  },
  {
   "cell_type": "markdown",
   "id": "d64e147d-26c8-4f95-b061-d8689f0823f6",
   "metadata": {},
   "source": [
    "En este caso falla el test por que detecta un error que hemos tenido en cuenta.\n",
    "\n",
    "Es probable que usar pytest.raises sea mejor para los casos en los que está probando excepciones que su propio código genera deliberadamente, mientras que usar @pytest.mark.xfail con una función de verificación probablemente sea mejor para algo como documentar errores no corregidos (donde la prueba describe qué \"debería\" suceder) o errores en las dependencias.\n",
    "\n",
    "Otra manera de ejecutar es usar el comando *pytest -v*, nos dará algo más de información:"
   ]
  },
  {
   "cell_type": "code",
   "execution_count": null,
   "id": "e6f791ae-1396-4216-8fa3-2e037c4bc19d",
   "metadata": {},
   "outputs": [],
   "source": [
    "display.Image('./images/test_7.png')"
   ]
  },
  {
   "cell_type": "markdown",
   "id": "2c33202d-d862-427d-9013-2e26d7642d2a",
   "metadata": {},
   "source": [
    "*Creado por:*\n",
    "\n",
    "*Isabel Maniega*"
   ]
  }
 ],
 "metadata": {
  "kernelspec": {
   "display_name": "Python 3 (ipykernel)",
   "language": "python",
   "name": "python3"
  },
  "language_info": {
   "codemirror_mode": {
    "name": "ipython",
    "version": 3
   },
   "file_extension": ".py",
   "mimetype": "text/x-python",
   "name": "python",
   "nbconvert_exporter": "python",
   "pygments_lexer": "ipython3",
   "version": "3.8.18"
  }
 },
 "nbformat": 4,
 "nbformat_minor": 5
}
