{
 "cells": [
  {
   "cell_type": "markdown",
   "id": "9dd88659",
   "metadata": {},
   "source": [
    "*Creado por:*\n",
    "    \n",
    "*Isabel Maniega*"
   ]
  },
  {
   "cell_type": "markdown",
   "id": "38282c2b",
   "metadata": {},
   "source": [
    "# Encapsulamiento"
   ]
  },
  {
   "cell_type": "markdown",
   "id": "a4a6d722",
   "metadata": {},
   "source": [
    "## ¿Qué es?"
   ]
  },
  {
   "cell_type": "markdown",
   "id": "60562ef0",
   "metadata": {},
   "source": [
    "Sirve para proteger a las variables de modificaciones no deseadas."
   ]
  },
  {
   "cell_type": "markdown",
   "id": "3a8ec28a",
   "metadata": {},
   "source": [
    "VARIABLES PRIVADAS / MÉTODOS PRIVADOS"
   ]
  },
  {
   "cell_type": "markdown",
   "id": "5158da13",
   "metadata": {},
   "source": [
    "= SOLO ACCESIBLES DESDE LA CLASE DONDE SE ENCUENTREN"
   ]
  },
  {
   "cell_type": "markdown",
   "id": "06c13741",
   "metadata": {},
   "source": [
    "en java y c++ se consigue la encapsulación de otra manera\n",
    "en python se hace con:\n",
    "    \n",
    "  * (__nombre)\n",
    "\n",
    "\n",
    "  * Doble barra baja antes de la variable (atributo)\n",
    "  * Doble barra baja antes de la función (método)"
   ]
  },
  {
   "cell_type": "markdown",
   "id": "110b6fac",
   "metadata": {},
   "source": [
    "# Ejemplo 1"
   ]
  },
  {
   "cell_type": "code",
   "execution_count": 1,
   "id": "527c73b0",
   "metadata": {},
   "outputs": [],
   "source": [
    "class Clase1:\n",
    "    def __metodo1(self):\n",
    "        print(\"Estamos en método1\")\n",
    "class Clase2:\n",
    "    def metodo2():\n",
    "        print(\"estamos en metodo2\")"
   ]
  },
  {
   "cell_type": "code",
   "execution_count": null,
   "id": "76ee309d",
   "metadata": {},
   "outputs": [],
   "source": [
    "# AttributeError: type object 'Clase1' has no attribute '__metodo1'\n",
    "# Clase1.__metodo1()"
   ]
  },
  {
   "cell_type": "code",
   "execution_count": null,
   "id": "49248ae0",
   "metadata": {},
   "outputs": [],
   "source": [
    "# AttributeError: type object 'Clase1' has no attribute 'metodo1'\n",
    "# Clase1.metodo1()"
   ]
  },
  {
   "cell_type": "code",
   "execution_count": 2,
   "id": "f9f84c59-32a4-4ab5-9be7-f9d74437c8b7",
   "metadata": {},
   "outputs": [
    {
     "name": "stdout",
     "output_type": "stream",
     "text": [
      "Estamos en método1\n"
     ]
    }
   ],
   "source": [
    "obj = Clase1()\n",
    "\n",
    "obj._Clase1__metodo1()"
   ]
  },
  {
   "cell_type": "code",
   "execution_count": 3,
   "id": "2d4770fd",
   "metadata": {},
   "outputs": [
    {
     "name": "stdout",
     "output_type": "stream",
     "text": [
      "estamos en metodo2\n"
     ]
    }
   ],
   "source": [
    "Clase2.metodo2()"
   ]
  },
  {
   "cell_type": "code",
   "execution_count": 4,
   "id": "5f56ce4c",
   "metadata": {},
   "outputs": [],
   "source": [
    "class Clase1:\n",
    "    def __metodo1():\n",
    "        print(\"Estamos en método1\")\n",
    "    # __metodo1() # Si lo declaramos dentro de la clase podemos hacer al metodo, fuera NO.\n",
    "\n",
    "class Clase2:\n",
    "    def metodo2():\n",
    "        print(\"estamos en metodo2\")"
   ]
  },
  {
   "cell_type": "markdown",
   "id": "091fbac1",
   "metadata": {},
   "source": [
    "# Ejemplo 2"
   ]
  },
  {
   "cell_type": "code",
   "execution_count": 5,
   "id": "5b50a9fc",
   "metadata": {},
   "outputs": [],
   "source": [
    "class Clase1:\n",
    "    def __metodo1():\n",
    "        print(\"Estamos en método1\")\n",
    "        print(\"llamada a: metodo2\")\n",
    "        Clase2.metodo2()\n",
    "\n",
    "class Clase2:\n",
    "    def metodo2():\n",
    "        print(\"estamos en metodo2\")\n",
    "        print(\"llamada a: -metodo1-\")\n",
    "        Clase1._Clase1__metodo1()"
   ]
  },
  {
   "cell_type": "code",
   "execution_count": null,
   "id": "bac92c47",
   "metadata": {},
   "outputs": [],
   "source": [
    "# Clase1.__metodo1()\n",
    "\n",
    "# AttributeError: type object 'Clase1' has no attribute '__metodo1'"
   ]
  },
  {
   "cell_type": "code",
   "execution_count": null,
   "id": "96866b3c",
   "metadata": {},
   "outputs": [],
   "source": [
    "# Clase1.metodo1()\n",
    "\n",
    "# AttributeError: type object 'Clase1' has no attribute '__metodo1'"
   ]
  },
  {
   "cell_type": "code",
   "execution_count": 7,
   "id": "414c82f6",
   "metadata": {},
   "outputs": [],
   "source": [
    "# Clase2.metodo2()\n",
    "\n",
    "# AttributeError: type object 'Clase1' has no attribute '_Clase2__metodo1'"
   ]
  },
  {
   "cell_type": "markdown",
   "id": "21dfce0d",
   "metadata": {},
   "source": [
    "# Ejemplo 3"
   ]
  },
  {
   "cell_type": "markdown",
   "id": "e88fd5e3",
   "metadata": {},
   "source": [
    "## 1ª Parte"
   ]
  },
  {
   "cell_type": "code",
   "execution_count": 8,
   "id": "bf3bf34f",
   "metadata": {},
   "outputs": [],
   "source": [
    "class Fecha_albaran:\n",
    "    def __init__(self, dia, mes, año):\n",
    "        self.dia = dia\n",
    "        self.mes = mes\n",
    "        self.año = año\n",
    "albaran1 = Fecha_albaran(15, 1, 2015)"
   ]
  },
  {
   "cell_type": "code",
   "execution_count": 9,
   "id": "2951ac79",
   "metadata": {},
   "outputs": [
    {
     "data": {
      "text/plain": [
       "15"
      ]
     },
     "execution_count": 9,
     "metadata": {},
     "output_type": "execute_result"
    }
   ],
   "source": [
    "albaran1.dia"
   ]
  },
  {
   "cell_type": "code",
   "execution_count": 10,
   "id": "3cd5587c",
   "metadata": {},
   "outputs": [
    {
     "data": {
      "text/plain": [
       "1"
      ]
     },
     "execution_count": 10,
     "metadata": {},
     "output_type": "execute_result"
    }
   ],
   "source": [
    "albaran1.mes"
   ]
  },
  {
   "cell_type": "code",
   "execution_count": 11,
   "id": "574c4499",
   "metadata": {},
   "outputs": [
    {
     "data": {
      "text/plain": [
       "2015"
      ]
     },
     "execution_count": 11,
     "metadata": {},
     "output_type": "execute_result"
    }
   ],
   "source": [
    "albaran1.año"
   ]
  },
  {
   "cell_type": "markdown",
   "id": "151e6acc",
   "metadata": {},
   "source": [
    "## 2ª Parte"
   ]
  },
  {
   "cell_type": "code",
   "execution_count": 12,
   "id": "b8f74cb9",
   "metadata": {},
   "outputs": [],
   "source": [
    "class Fecha_albaran:\n",
    "    def __init__(self, dia, mes, año):\n",
    "        self.__dia = dia # atributo privado\n",
    "        self.mes = mes\n",
    "        self.año = año\n",
    "albaran1 = Fecha_albaran(15, 1, 2015)"
   ]
  },
  {
   "cell_type": "code",
   "execution_count": 13,
   "id": "6fe6e497",
   "metadata": {},
   "outputs": [
    {
     "data": {
      "text/plain": [
       "1"
      ]
     },
     "execution_count": 13,
     "metadata": {},
     "output_type": "execute_result"
    }
   ],
   "source": [
    "albaran1.mes"
   ]
  },
  {
   "cell_type": "code",
   "execution_count": 14,
   "id": "37d74941",
   "metadata": {},
   "outputs": [
    {
     "data": {
      "text/plain": [
       "2015"
      ]
     },
     "execution_count": 14,
     "metadata": {},
     "output_type": "execute_result"
    }
   ],
   "source": [
    "albaran1.año"
   ]
  },
  {
   "cell_type": "code",
   "execution_count": 16,
   "id": "90f180bc",
   "metadata": {},
   "outputs": [],
   "source": [
    "# albaran1.dia\n",
    "\n",
    "# AttributeError: 'Fecha_albaran' object has no attribute 'dia'"
   ]
  },
  {
   "cell_type": "code",
   "execution_count": null,
   "id": "a8caac1e",
   "metadata": {},
   "outputs": [],
   "source": [
    "# albaran1.__dia\n",
    "\n",
    "# AttributeError: 'Fecha_albaran' object has no attribute 'dia'"
   ]
  },
  {
   "cell_type": "markdown",
   "id": "f4dec507",
   "metadata": {},
   "source": [
    "## 3ª Parte"
   ]
  },
  {
   "cell_type": "code",
   "execution_count": 17,
   "id": "28eb59f8",
   "metadata": {},
   "outputs": [],
   "source": [
    "class Fecha_albaran:\n",
    "    def __init__(self):\n",
    "        self.__dia = 15 # atributo privado\n",
    "        self.__mes = 4\n",
    "        self.__año = 2015\n",
    "    \n",
    "    def setMes(self, mes):\n",
    "        if mes > 0 and mes < 13:\n",
    "            self.__mes = mes\n",
    "        else:\n",
    "            print(\"mes no valido - No está entre Enero y Diciembre\")\n",
    "    \n",
    "    def getMes(self):\n",
    "        return self.__mes\n",
    "\n",
    "albaran1 = Fecha_albaran()"
   ]
  },
  {
   "cell_type": "code",
   "execution_count": 18,
   "id": "54fe6b29",
   "metadata": {},
   "outputs": [
    {
     "name": "stdout",
     "output_type": "stream",
     "text": [
      "mes no valido - No está entre Enero y Diciembre\n"
     ]
    }
   ],
   "source": [
    "albaran1.setMes(45)"
   ]
  },
  {
   "cell_type": "code",
   "execution_count": 19,
   "id": "edff324f",
   "metadata": {},
   "outputs": [
    {
     "data": {
      "text/plain": [
       "4"
      ]
     },
     "execution_count": 19,
     "metadata": {},
     "output_type": "execute_result"
    }
   ],
   "source": [
    "albaran1.getMes()"
   ]
  },
  {
   "cell_type": "code",
   "execution_count": 20,
   "id": "5a618632",
   "metadata": {},
   "outputs": [],
   "source": [
    "albaran1.setMes(6)"
   ]
  },
  {
   "cell_type": "code",
   "execution_count": 21,
   "id": "8c6db4fa",
   "metadata": {},
   "outputs": [
    {
     "data": {
      "text/plain": [
       "6"
      ]
     },
     "execution_count": 21,
     "metadata": {},
     "output_type": "execute_result"
    }
   ],
   "source": [
    "albaran1.getMes()"
   ]
  },
  {
   "cell_type": "markdown",
   "id": "e2d5ff4c",
   "metadata": {},
   "source": [
    "# Ejemplo 4"
   ]
  },
  {
   "cell_type": "code",
   "execution_count": 22,
   "id": "7baf88a0",
   "metadata": {},
   "outputs": [],
   "source": [
    "class Clase:\n",
    "    \"\"\" \n",
    "        Clase para diferenciar variables y métodos\n",
    "        publicos y privados\n",
    "    \"\"\"\n",
    "    # Variables de clase (atributos en este caso)\n",
    "    x = 10 # Atributo ACCESIBLE\n",
    "    __y = 20 # SOLO ES ACCESIBLE DENTRO DE LA CLASE\n",
    "    \n",
    "    # MÉTODO ACCESIBLE\n",
    "    def metodoPublico(self):\n",
    "        # SE PUEDE ACCEDER A SU INFORMACIÓN\n",
    "        print(\"el método es público\")\n",
    "    \n",
    "    # MÉTODO SÓLO ACCESIBLE EN LA CLASE\n",
    "    def __metodoPrivado(self):\n",
    "        print(\"Este método es privado\")        "
   ]
  },
  {
   "cell_type": "code",
   "execution_count": 23,
   "id": "d38cc930",
   "metadata": {},
   "outputs": [],
   "source": [
    "# objeto\n",
    "clase1 = Clase()"
   ]
  },
  {
   "cell_type": "code",
   "execution_count": null,
   "id": "b1a81301",
   "metadata": {},
   "outputs": [],
   "source": [
    "# Acceso a elementos PÙBLICOS"
   ]
  },
  {
   "cell_type": "code",
   "execution_count": 24,
   "id": "0db6b364",
   "metadata": {},
   "outputs": [
    {
     "data": {
      "text/plain": [
       "10"
      ]
     },
     "execution_count": 24,
     "metadata": {},
     "output_type": "execute_result"
    }
   ],
   "source": [
    "clase1.x"
   ]
  },
  {
   "cell_type": "code",
   "execution_count": 25,
   "id": "353530f5",
   "metadata": {},
   "outputs": [
    {
     "name": "stdout",
     "output_type": "stream",
     "text": [
      "el método es público\n"
     ]
    }
   ],
   "source": [
    "clase1.metodoPublico()"
   ]
  },
  {
   "cell_type": "code",
   "execution_count": null,
   "id": "25de3070",
   "metadata": {},
   "outputs": [],
   "source": [
    "# Acceso a los elementos PRIVADOS"
   ]
  },
  {
   "cell_type": "code",
   "execution_count": 27,
   "id": "4db5327d",
   "metadata": {},
   "outputs": [],
   "source": [
    "# Clase.y\n",
    "\n",
    "# AttributeError: type object 'Clase' has no attribute 'y'"
   ]
  },
  {
   "cell_type": "code",
   "execution_count": null,
   "id": "e6848977",
   "metadata": {},
   "outputs": [],
   "source": [
    "# Clase.__metodoPrivado()\n",
    "\n",
    "# AttributeError: type object 'Clase' has no attribute '__metodoPrivado'"
   ]
  },
  {
   "cell_type": "code",
   "execution_count": 28,
   "id": "2334630b",
   "metadata": {},
   "outputs": [
    {
     "name": "stdout",
     "output_type": "stream",
     "text": [
      "Este método es privado\n",
      "el valor de x es :  10\n"
     ]
    }
   ],
   "source": [
    "class Clase:\n",
    "    # Variables de clase (atributos en este caso)\n",
    "    x = 10 # Atributo ACCESIBLE\n",
    "    __y = 20 # SOLO ES ACCESIBLE DENTRO DE LA CLASE\n",
    "    \n",
    "    # MÉTODO ACCESIBLE\n",
    "    def metodoPublico(y):\n",
    "        # SE PUEDE ACCEDER A SU INFORMACIÓN\n",
    "        print(\"el método es público\")\n",
    "        print(\"el valor de y es \", y)\n",
    "        \n",
    "    \n",
    "    # MÉTODO SÓLO ACCESIBLE EN LA CLASE\n",
    "    def __metodoPrivado(x):\n",
    "        print(\"Este método es privado\")  \n",
    "        print(\"el valor de x es : \", x)\n",
    "        \n",
    "    __metodoPrivado(x)\n",
    "    # metodoPublico(__y)"
   ]
  },
  {
   "cell_type": "code",
   "execution_count": 29,
   "id": "0abc84e6",
   "metadata": {},
   "outputs": [
    {
     "name": "stdout",
     "output_type": "stream",
     "text": [
      "el método es público\n",
      "el valor de y es  20\n"
     ]
    }
   ],
   "source": [
    "class Clase:\n",
    "    \"\"\" \n",
    "        Clase para diferenciar variables y métodos\n",
    "        publicos y privados\n",
    "    \"\"\"\n",
    "    # Variables de clase (atributos en este caso)\n",
    "    x = 10 # Atributo ACCESIBLE\n",
    "    __y = 20 # SOLO ES ACCESIBLE DENTRO DE LA CLASE\n",
    "    \n",
    "    # MÉTODO ACCESIBLE\n",
    "    def metodoPublico(y):\n",
    "        # SE PUEDE ACCEDER A SU INFORMACIÓN\n",
    "        print(\"el método es público\")\n",
    "        print(\"el valor de y es \", y)\n",
    "        \n",
    "    \n",
    "    # MÉTODO SÓLO ACCESIBLE EN LA CLASE\n",
    "    def __metodoPrivado(x):\n",
    "        print(\"Este método es privado\")  \n",
    "        print(\"el valor de x es : \", x)\n",
    "        \n",
    "    # __metodoPrivado(x)\n",
    "    metodoPublico(__y)"
   ]
  },
  {
   "cell_type": "markdown",
   "id": "49a3225a",
   "metadata": {},
   "source": [
    "****"
   ]
  },
  {
   "cell_type": "markdown",
   "id": "a5c16e50",
   "metadata": {},
   "source": [
    "# DIR"
   ]
  },
  {
   "cell_type": "code",
   "execution_count": 30,
   "id": "7f9b0108",
   "metadata": {},
   "outputs": [],
   "source": [
    "import numpy as np"
   ]
  },
  {
   "cell_type": "code",
   "execution_count": 31,
   "id": "adb1294b",
   "metadata": {},
   "outputs": [
    {
     "name": "stdout",
     "output_type": "stream",
     "text": [
      "['_Clase__metodoPrivado' '_Clase__y' '__class__' '__delattr__' '__dict__'\n",
      " '__dir__' '__doc__' '__eq__' '__format__' '__ge__' '__getattribute__'\n",
      " '__gt__' '__hash__' '__init__' '__init_subclass__' '__le__' '__lt__'\n",
      " '__module__' '__ne__' '__new__' '__reduce__' '__reduce_ex__' '__repr__'\n",
      " '__setattr__' '__sizeof__' '__str__' '__subclasshook__' '__weakref__'\n",
      " 'metodoPublico' 'x']\n"
     ]
    }
   ],
   "source": [
    "print(np.array(dir(clase1)))"
   ]
  },
  {
   "cell_type": "code",
   "execution_count": 32,
   "id": "e000eca1-7515-4bc0-b99b-9b7ff6898958",
   "metadata": {},
   "outputs": [
    {
     "data": {
      "text/plain": [
       "['__module__',\n",
       " '__doc__',\n",
       " 'x',\n",
       " '_Clase__y',\n",
       " 'metodoPublico',\n",
       " '_Clase__metodoPrivado',\n",
       " '__dict__',\n",
       " '__weakref__',\n",
       " '__repr__',\n",
       " '__hash__',\n",
       " '__str__',\n",
       " '__getattribute__',\n",
       " '__setattr__',\n",
       " '__delattr__',\n",
       " '__lt__',\n",
       " '__le__',\n",
       " '__eq__',\n",
       " '__ne__',\n",
       " '__gt__',\n",
       " '__ge__',\n",
       " '__init__',\n",
       " '__new__',\n",
       " '__reduce_ex__',\n",
       " '__reduce__',\n",
       " '__subclasshook__',\n",
       " '__init_subclass__',\n",
       " '__format__',\n",
       " '__sizeof__',\n",
       " '__dir__',\n",
       " '__class__']"
      ]
     },
     "execution_count": 32,
     "metadata": {},
     "output_type": "execute_result"
    }
   ],
   "source": [
    "clase1.__dir__()"
   ]
  },
  {
   "cell_type": "code",
   "execution_count": null,
   "id": "1eeaab29",
   "metadata": {},
   "outputs": [],
   "source": [
    "# '_Clase__metodoPrivado'\n",
    "\n",
    "# Veíamos que está ahi, pero no es accesible\n",
    "\n",
    "# pero...\n",
    "\n",
    "# SE PUEDE IMPRIMIR ASI:"
   ]
  },
  {
   "cell_type": "code",
   "execution_count": 33,
   "id": "3c49cb91",
   "metadata": {},
   "outputs": [
    {
     "data": {
      "text/plain": [
       "10"
      ]
     },
     "execution_count": 33,
     "metadata": {},
     "output_type": "execute_result"
    }
   ],
   "source": [
    "clase1.x"
   ]
  },
  {
   "cell_type": "code",
   "execution_count": 34,
   "id": "72116cc0",
   "metadata": {},
   "outputs": [
    {
     "data": {
      "text/plain": [
       "20"
      ]
     },
     "execution_count": 34,
     "metadata": {},
     "output_type": "execute_result"
    }
   ],
   "source": [
    "clase1._Clase__y"
   ]
  },
  {
   "cell_type": "code",
   "execution_count": 35,
   "id": "8bebadb7",
   "metadata": {},
   "outputs": [
    {
     "name": "stdout",
     "output_type": "stream",
     "text": [
      "el método es público\n"
     ]
    }
   ],
   "source": [
    "clase1.metodoPublico()"
   ]
  },
  {
   "cell_type": "code",
   "execution_count": 36,
   "id": "ef79364e",
   "metadata": {},
   "outputs": [
    {
     "name": "stdout",
     "output_type": "stream",
     "text": [
      "Este método es privado\n"
     ]
    }
   ],
   "source": [
    "clase1._Clase__metodoPrivado()"
   ]
  },
  {
   "cell_type": "code",
   "execution_count": 37,
   "id": "53b2e3f9-2519-4be7-96ad-e964df6210ad",
   "metadata": {},
   "outputs": [
    {
     "data": {
      "text/plain": [
       "{'_Fecha_albaran__dia': 15,\n",
       " '_Fecha_albaran__mes': 6,\n",
       " '_Fecha_albaran__año': 2015}"
      ]
     },
     "execution_count": 37,
     "metadata": {},
     "output_type": "execute_result"
    }
   ],
   "source": [
    "albaran1.__dict__"
   ]
  },
  {
   "cell_type": "code",
   "execution_count": 38,
   "id": "b0eebae5",
   "metadata": {},
   "outputs": [
    {
     "data": {
      "text/plain": [
       "{'_Fecha_albaran__dia': 15,\n",
       " '_Fecha_albaran__mes': 6,\n",
       " '_Fecha_albaran__año': 2015}"
      ]
     },
     "execution_count": 38,
     "metadata": {},
     "output_type": "execute_result"
    }
   ],
   "source": [
    "# visualizar el contenido del objeto\n",
    "vars(albaran1)"
   ]
  },
  {
   "cell_type": "markdown",
   "id": "e3aa2691",
   "metadata": {},
   "source": [
    "*Creado por:*\n",
    "    \n",
    "*Isabel Maniega*"
   ]
  }
 ],
 "metadata": {
  "kernelspec": {
   "display_name": "Python 3 (ipykernel)",
   "language": "python",
   "name": "python3"
  },
  "language_info": {
   "codemirror_mode": {
    "name": "ipython",
    "version": 3
   },
   "file_extension": ".py",
   "mimetype": "text/x-python",
   "name": "python",
   "nbconvert_exporter": "python",
   "pygments_lexer": "ipython3",
   "version": "3.8.20"
  }
 },
 "nbformat": 4,
 "nbformat_minor": 5
}
