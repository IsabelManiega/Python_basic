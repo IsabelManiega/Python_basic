{
 "cells": [
  {
   "cell_type": "markdown",
   "id": "9dd88659",
   "metadata": {},
   "source": [
    "*Creado por:*\n",
    "    \n",
    "*Isabel Maniega*"
   ]
  },
  {
   "cell_type": "markdown",
   "id": "38282c2b",
   "metadata": {},
   "source": [
    "# Encapsulamiento"
   ]
  },
  {
   "cell_type": "markdown",
   "id": "a4a6d722",
   "metadata": {},
   "source": [
    "## ¿Qué es?"
   ]
  },
  {
   "cell_type": "markdown",
   "id": "60562ef0",
   "metadata": {},
   "source": [
    "Sirve para proteger a las variables de modificaciones no deseadas."
   ]
  },
  {
   "cell_type": "markdown",
   "id": "3a8ec28a",
   "metadata": {},
   "source": [
    "VARIABLES PRIVADAS / MÉTODOS PRIVADOS"
   ]
  },
  {
   "cell_type": "markdown",
   "id": "5158da13",
   "metadata": {},
   "source": [
    "= SOLO ACCESIBLES DESDE LA CLASE DONDE SE ENCUENTREN"
   ]
  },
  {
   "cell_type": "markdown",
   "id": "06c13741",
   "metadata": {},
   "source": [
    "en java y c++ se consigue la encapsulación de otra manera\n",
    "en python se hace con:\n",
    "    \n",
    "  * (__nombre)\n",
    "\n",
    "\n",
    "  * Doble barra baja antes de la variable (atributo)\n",
    "  * Doble barra baja antes de la función (método)"
   ]
  },
  {
   "cell_type": "markdown",
   "id": "110b6fac",
   "metadata": {},
   "source": [
    "# Ejemplo 1"
   ]
  },
  {
   "cell_type": "code",
   "execution_count": null,
   "id": "527c73b0",
   "metadata": {},
   "outputs": [],
   "source": [
    "class Clase1:\n",
    "    def __metodo1():\n",
    "        print(\"Estamos en método1\")\n",
    "class Clase2:\n",
    "    def metodo2():\n",
    "        print(\"estamos en metodo2\")"
   ]
  },
  {
   "cell_type": "code",
   "execution_count": null,
   "id": "76ee309d",
   "metadata": {},
   "outputs": [],
   "source": [
    "# AttributeError: type object 'Clase1' has no attribute '__metodo1'\n",
    "# Clase1.__metodo1()"
   ]
  },
  {
   "cell_type": "code",
   "execution_count": null,
   "id": "49248ae0",
   "metadata": {},
   "outputs": [],
   "source": [
    "# AttributeError: type object 'Clase1' has no attribute 'metodo1'\n",
    "# Clase1.metodo1()"
   ]
  },
  {
   "cell_type": "code",
   "execution_count": null,
   "id": "2d4770fd",
   "metadata": {},
   "outputs": [],
   "source": [
    "Clase2.metodo2()"
   ]
  },
  {
   "cell_type": "code",
   "execution_count": null,
   "id": "5f56ce4c",
   "metadata": {},
   "outputs": [],
   "source": [
    "class Clase1:\n",
    "    def __metodo1():\n",
    "        print(\"Estamos en método1\")\n",
    "    # __metodo1() # Si lo declaramos dentro de la clase podemos hacer al metodo, fuera NO.\n",
    "\n",
    "class Clase2:\n",
    "    def metodo2():\n",
    "        print(\"estamos en metodo2\")"
   ]
  },
  {
   "cell_type": "markdown",
   "id": "091fbac1",
   "metadata": {},
   "source": [
    "# Ejemplo 2"
   ]
  },
  {
   "cell_type": "code",
   "execution_count": null,
   "id": "5b50a9fc",
   "metadata": {},
   "outputs": [],
   "source": [
    "class Clase1:\n",
    "    def __metodo1():\n",
    "        print(\"Estamos en método1\")\n",
    "        print(\"llamada a: metodo2\")\n",
    "        Clase2.metodo2()\n",
    "\n",
    "class Clase2:\n",
    "    def metodo2():\n",
    "        print(\"estamos en metodo2\")\n",
    "        print(\"llamada a: -metodo1-\")\n",
    "        Clase1.__metodo1()"
   ]
  },
  {
   "cell_type": "code",
   "execution_count": null,
   "id": "bac92c47",
   "metadata": {},
   "outputs": [],
   "source": [
    "# Clase1.__metodo1()\n",
    "\n",
    "# AttributeError: type object 'Clase1' has no attribute '__metodo1'"
   ]
  },
  {
   "cell_type": "code",
   "execution_count": null,
   "id": "96866b3c",
   "metadata": {},
   "outputs": [],
   "source": [
    "# Clase1.metodo1()\n",
    "\n",
    "# AttributeError: type object 'Clase1' has no attribute '__metodo1'"
   ]
  },
  {
   "cell_type": "code",
   "execution_count": null,
   "id": "414c82f6",
   "metadata": {},
   "outputs": [],
   "source": [
    "# Clase2.metodo2()\n",
    "\n",
    "# AttributeError: type object 'Clase1' has no attribute '_Clase2__metodo1'"
   ]
  },
  {
   "cell_type": "markdown",
   "id": "21dfce0d",
   "metadata": {},
   "source": [
    "# Ejemplo 3"
   ]
  },
  {
   "cell_type": "markdown",
   "id": "e88fd5e3",
   "metadata": {},
   "source": [
    "## 1ª Parte"
   ]
  },
  {
   "cell_type": "code",
   "execution_count": null,
   "id": "bf3bf34f",
   "metadata": {},
   "outputs": [],
   "source": [
    "class Fecha_albaran:\n",
    "    def __init__(self, dia, mes, año):\n",
    "        self.dia = dia\n",
    "        self.mes = mes\n",
    "        self.año = año\n",
    "albaran1 = Fecha_albaran(15, 1, 2015)"
   ]
  },
  {
   "cell_type": "code",
   "execution_count": null,
   "id": "2951ac79",
   "metadata": {},
   "outputs": [],
   "source": [
    "albaran1.dia"
   ]
  },
  {
   "cell_type": "code",
   "execution_count": null,
   "id": "3cd5587c",
   "metadata": {},
   "outputs": [],
   "source": [
    "albaran1.mes"
   ]
  },
  {
   "cell_type": "code",
   "execution_count": null,
   "id": "574c4499",
   "metadata": {},
   "outputs": [],
   "source": [
    "albaran1.año"
   ]
  },
  {
   "cell_type": "markdown",
   "id": "151e6acc",
   "metadata": {},
   "source": [
    "## 2ª Parte"
   ]
  },
  {
   "cell_type": "code",
   "execution_count": null,
   "id": "b8f74cb9",
   "metadata": {},
   "outputs": [],
   "source": [
    "class Fecha_albaran:\n",
    "    def __init__(self, dia, mes, año):\n",
    "        self.__dia = dia # atributo privado\n",
    "        self.mes = mes\n",
    "        self.año = año\n",
    "albaran1 = Fecha_albaran(15, 1, 2015)"
   ]
  },
  {
   "cell_type": "code",
   "execution_count": null,
   "id": "6fe6e497",
   "metadata": {},
   "outputs": [],
   "source": [
    "albaran1.mes"
   ]
  },
  {
   "cell_type": "code",
   "execution_count": null,
   "id": "37d74941",
   "metadata": {},
   "outputs": [],
   "source": [
    "albaran1.año"
   ]
  },
  {
   "cell_type": "code",
   "execution_count": null,
   "id": "90f180bc",
   "metadata": {},
   "outputs": [],
   "source": [
    "# albaran1.dia\n",
    "\n",
    "# AttributeError: 'Fecha_albaran' object has no attribute 'dia'"
   ]
  },
  {
   "cell_type": "code",
   "execution_count": null,
   "id": "a8caac1e",
   "metadata": {},
   "outputs": [],
   "source": [
    "# albaran1.__dia\n",
    "\n",
    "# AttributeError: 'Fecha_albaran' object has no attribute 'dia'"
   ]
  },
  {
   "cell_type": "markdown",
   "id": "f4dec507",
   "metadata": {},
   "source": [
    "## 3ª Parte"
   ]
  },
  {
   "cell_type": "code",
   "execution_count": null,
   "id": "28eb59f8",
   "metadata": {},
   "outputs": [],
   "source": [
    "class Fecha_albaran:\n",
    "    def __init__(self):\n",
    "        self.__dia = 15 # atributo privado\n",
    "        self.__mes = 4\n",
    "        self.__año = 2015\n",
    "    \n",
    "    def setMes(self, mes):\n",
    "        if mes > 0 and mes < 13:\n",
    "            self.__mes = mes\n",
    "        else:\n",
    "            print(\"mes no valido - No está entre Enero y Diciembre\")\n",
    "    \n",
    "    def getMes(self):\n",
    "        return self.__mes\n",
    "\n",
    "albaran1 = Fecha_albaran()"
   ]
  },
  {
   "cell_type": "code",
   "execution_count": null,
   "id": "54fe6b29",
   "metadata": {},
   "outputs": [],
   "source": [
    "albaran1.setMes(45)"
   ]
  },
  {
   "cell_type": "code",
   "execution_count": null,
   "id": "edff324f",
   "metadata": {},
   "outputs": [],
   "source": [
    "albaran1.getMes()"
   ]
  },
  {
   "cell_type": "code",
   "execution_count": null,
   "id": "5a618632",
   "metadata": {},
   "outputs": [],
   "source": [
    "albaran1.setMes(6)"
   ]
  },
  {
   "cell_type": "code",
   "execution_count": null,
   "id": "8c6db4fa",
   "metadata": {},
   "outputs": [],
   "source": [
    "albaran1.getMes()"
   ]
  },
  {
   "cell_type": "markdown",
   "id": "e2d5ff4c",
   "metadata": {},
   "source": [
    "# Ejemplo 4"
   ]
  },
  {
   "cell_type": "code",
   "execution_count": null,
   "id": "7baf88a0",
   "metadata": {},
   "outputs": [],
   "source": [
    "class Clase:\n",
    "    # Variables de clase (atributos en este caso)\n",
    "    x = 10 # Atributo ACCESIBLE\n",
    "    __y = 20 # SOLO ES ACCESIBLE DENTRO DE LA CLASE\n",
    "    \n",
    "    # MÉTODO ACCESIBLE\n",
    "    def metodoPublico():\n",
    "        # SE PUEDE ACCEDER A SU INFORMACIÓN\n",
    "        print(\"el método es público\")\n",
    "    \n",
    "    # MÉTODO SÓLO ACCESIBLE EN LA CLASE\n",
    "    def __metodoPrivado():\n",
    "        print(\"Este método es privado\")        "
   ]
  },
  {
   "cell_type": "code",
   "execution_count": null,
   "id": "d38cc930",
   "metadata": {},
   "outputs": [],
   "source": [
    "# objeto\n",
    "clase1 = Clase()"
   ]
  },
  {
   "cell_type": "code",
   "execution_count": null,
   "id": "b1a81301",
   "metadata": {},
   "outputs": [],
   "source": [
    "# Acceso a elementos PÙBLICOS"
   ]
  },
  {
   "cell_type": "code",
   "execution_count": null,
   "id": "0db6b364",
   "metadata": {},
   "outputs": [],
   "source": [
    "clase1.x"
   ]
  },
  {
   "cell_type": "code",
   "execution_count": null,
   "id": "353530f5",
   "metadata": {},
   "outputs": [],
   "source": [
    "clase1.metodoPublico()"
   ]
  },
  {
   "cell_type": "code",
   "execution_count": null,
   "id": "25de3070",
   "metadata": {},
   "outputs": [],
   "source": [
    "# Acceso a los elementos PRIVADOS"
   ]
  },
  {
   "cell_type": "code",
   "execution_count": null,
   "id": "4db5327d",
   "metadata": {},
   "outputs": [],
   "source": [
    "# Clase.y\n",
    "\n",
    "# AttributeError: type object 'Clase' has no attribute 'y'"
   ]
  },
  {
   "cell_type": "code",
   "execution_count": null,
   "id": "e6848977",
   "metadata": {},
   "outputs": [],
   "source": [
    "# Clase.__metodoPrivado()\n",
    "\n",
    "# AttributeError: type object 'Clase' has no attribute '__metodoPrivado'"
   ]
  },
  {
   "cell_type": "code",
   "execution_count": null,
   "id": "2334630b",
   "metadata": {},
   "outputs": [],
   "source": [
    "class Clase:\n",
    "    # Variables de clase (atributos en este caso)\n",
    "    x = 10 # Atributo ACCESIBLE\n",
    "    __y = 20 # SOLO ES ACCESIBLE DENTRO DE LA CLASE\n",
    "    \n",
    "    # MÉTODO ACCESIBLE\n",
    "    def metodoPublico(y):\n",
    "        # SE PUEDE ACCEDER A SU INFORMACIÓN\n",
    "        print(\"el método es público\")\n",
    "        print(\"el valor de y es \", y)\n",
    "        \n",
    "    \n",
    "    # MÉTODO SÓLO ACCESIBLE EN LA CLASE\n",
    "    def __metodoPrivado(x):\n",
    "        print(\"Este método es privado\")  \n",
    "        print(\"el valor de x es : \", x)\n",
    "        \n",
    "    __metodoPrivado(x)\n",
    "    # metodoPublico(__y)"
   ]
  },
  {
   "cell_type": "code",
   "execution_count": null,
   "id": "0abc84e6",
   "metadata": {},
   "outputs": [],
   "source": [
    "class Clase:\n",
    "    # Variables de clase (atributos en este caso)\n",
    "    x = 10 # Atributo ACCESIBLE\n",
    "    __y = 20 # SOLO ES ACCESIBLE DENTRO DE LA CLASE\n",
    "    \n",
    "    # MÉTODO ACCESIBLE\n",
    "    def metodoPublico(y):\n",
    "        # SE PUEDE ACCEDER A SU INFORMACIÓN\n",
    "        print(\"el método es público\")\n",
    "        print(\"el valor de y es \", y)\n",
    "        \n",
    "    \n",
    "    # MÉTODO SÓLO ACCESIBLE EN LA CLASE\n",
    "    def __metodoPrivado(x):\n",
    "        print(\"Este método es privado\")  \n",
    "        print(\"el valor de x es : \", x)\n",
    "        \n",
    "    # __metodoPrivado(x)\n",
    "    metodoPublico(__y)"
   ]
  },
  {
   "cell_type": "markdown",
   "id": "49a3225a",
   "metadata": {},
   "source": [
    "****"
   ]
  },
  {
   "cell_type": "markdown",
   "id": "a5c16e50",
   "metadata": {},
   "source": [
    "# DIR"
   ]
  },
  {
   "cell_type": "code",
   "execution_count": null,
   "id": "7f9b0108",
   "metadata": {},
   "outputs": [],
   "source": [
    "import numpy as np"
   ]
  },
  {
   "cell_type": "code",
   "execution_count": null,
   "id": "adb1294b",
   "metadata": {},
   "outputs": [],
   "source": [
    "print(np.array(dir(clase1)))"
   ]
  },
  {
   "cell_type": "code",
   "execution_count": null,
   "id": "1eeaab29",
   "metadata": {},
   "outputs": [],
   "source": [
    "# '_Clase__metodoPrivado'\n",
    "\n",
    "# Veíamos que está ahi, pero no es accesible\n",
    "\n",
    "# pero...\n",
    "\n",
    "# SE PUEDE IMPRIMIR ASI:"
   ]
  },
  {
   "cell_type": "code",
   "execution_count": null,
   "id": "3c49cb91",
   "metadata": {},
   "outputs": [],
   "source": [
    "clase1.x"
   ]
  },
  {
   "cell_type": "code",
   "execution_count": null,
   "id": "72116cc0",
   "metadata": {},
   "outputs": [],
   "source": [
    "clase1._Clase__y"
   ]
  },
  {
   "cell_type": "code",
   "execution_count": null,
   "id": "8bebadb7",
   "metadata": {},
   "outputs": [],
   "source": [
    "clase1.metodoPublico()"
   ]
  },
  {
   "cell_type": "code",
   "execution_count": null,
   "id": "ef79364e",
   "metadata": {},
   "outputs": [],
   "source": [
    "clase1._Clase__metodoPrivado()"
   ]
  },
  {
   "cell_type": "code",
   "execution_count": null,
   "id": "b0eebae5",
   "metadata": {},
   "outputs": [],
   "source": [
    "# visualizar el contenido del objeto\n",
    "vars(albaran1)"
   ]
  },
  {
   "cell_type": "markdown",
   "id": "e3aa2691",
   "metadata": {},
   "source": [
    "*Creado por:*\n",
    "    \n",
    "*Isabel Maniega*"
   ]
  }
 ],
 "metadata": {
  "kernelspec": {
   "display_name": "Python 3 (ipykernel)",
   "language": "python",
   "name": "python3"
  },
  "language_info": {
   "codemirror_mode": {
    "name": "ipython",
    "version": 3
   },
   "file_extension": ".py",
   "mimetype": "text/x-python",
   "name": "python",
   "nbconvert_exporter": "python",
   "pygments_lexer": "ipython3",
   "version": "3.8.18"
  }
 },
 "nbformat": 4,
 "nbformat_minor": 5
}
