{
 "cells": [
  {
   "cell_type": "markdown",
   "id": "13150eb1",
   "metadata": {},
   "source": [
    "*Creado por:*\n",
    "    \n",
    "*Isabel Maniega*"
   ]
  },
  {
   "cell_type": "markdown",
   "id": "afd02500",
   "metadata": {},
   "source": [
    "# Diccionarios"
   ]
  },
  {
   "cell_type": "markdown",
   "id": "ec7bdd2f",
   "metadata": {},
   "source": [
    "Los diccionarios se usan en:\n",
    "* Machine learning\n",
    "* Base de datos: NoSQL como es MongoDB\n",
    "* en JSON, etc"
   ]
  },
  {
   "cell_type": "markdown",
   "id": "1b000534",
   "metadata": {},
   "source": [
    "## Parte 1"
   ]
  },
  {
   "cell_type": "code",
   "execution_count": null,
   "id": "288582c8",
   "metadata": {},
   "outputs": [],
   "source": [
    "# clave-valor\n",
    "# \"key\": \"value\"\n",
    "# { \"key\": \"value\"}\n",
    "# { \"key\": \"value\", \"key2\": \"value2\", \"key3\": \"value3\", ...}"
   ]
  },
  {
   "cell_type": "code",
   "execution_count": null,
   "id": "80d9dcc6",
   "metadata": {},
   "outputs": [],
   "source": [
    "diccionario = {\"A\": 10, \"B\": 2, \"C\": 35}\n",
    "diccionario"
   ]
  },
  {
   "cell_type": "code",
   "execution_count": null,
   "id": "13460ffa",
   "metadata": {},
   "outputs": [],
   "source": [
    "diccionario[\"A\"]"
   ]
  },
  {
   "cell_type": "code",
   "execution_count": null,
   "id": "fbcb7bd4",
   "metadata": {},
   "outputs": [],
   "source": [
    "diccionario[\"B\"]"
   ]
  },
  {
   "cell_type": "code",
   "execution_count": null,
   "id": "e2dd40b5",
   "metadata": {},
   "outputs": [],
   "source": [
    "diccionario[\"C\"]"
   ]
  },
  {
   "cell_type": "code",
   "execution_count": null,
   "id": "ac5eaa50",
   "metadata": {},
   "outputs": [],
   "source": [
    "len(diccionario)"
   ]
  },
  {
   "cell_type": "markdown",
   "id": "7bf5fd53",
   "metadata": {},
   "source": [
    "## Parte 2"
   ]
  },
  {
   "cell_type": "code",
   "execution_count": null,
   "id": "32e535f4",
   "metadata": {},
   "outputs": [],
   "source": [
    "diccionario1 = {\"clave1\": 1, \"clave2\": 2, \"clave3\": 3}\n",
    "diccionario1"
   ]
  },
  {
   "cell_type": "code",
   "execution_count": null,
   "id": "ef7c8547",
   "metadata": {},
   "outputs": [],
   "source": [
    "diccionario1.keys()"
   ]
  },
  {
   "cell_type": "code",
   "execution_count": null,
   "id": "8ee12240",
   "metadata": {},
   "outputs": [],
   "source": [
    "diccionario1.values()"
   ]
  },
  {
   "cell_type": "code",
   "execution_count": null,
   "id": "fe8d7de7",
   "metadata": {},
   "outputs": [],
   "source": [
    "type(diccionario1.values())"
   ]
  },
  {
   "cell_type": "code",
   "execution_count": null,
   "id": "bfde4148",
   "metadata": {},
   "outputs": [],
   "source": [
    "# Obtener los valores de Keys/claves\n",
    "for key in diccionario1.keys():\n",
    "    print(key)"
   ]
  },
  {
   "cell_type": "code",
   "execution_count": null,
   "id": "21d43162",
   "metadata": {},
   "outputs": [],
   "source": [
    "# Obtener los valores de Keys/claves en forma de listado\n",
    "listado_keys = [key for key in diccionario1.keys()]\n",
    "listado_keys"
   ]
  },
  {
   "cell_type": "code",
   "execution_count": null,
   "id": "7c775fd7",
   "metadata": {},
   "outputs": [],
   "source": [
    "# Obtener los valores de values/valores\n",
    "for value in diccionario1.values():\n",
    "    print(value)"
   ]
  },
  {
   "cell_type": "code",
   "execution_count": null,
   "id": "54ce0ac3",
   "metadata": {},
   "outputs": [],
   "source": [
    "# Obtener listado\n",
    "listado_values = [value for value in diccionario1.values()]\n",
    "listado_values"
   ]
  },
  {
   "cell_type": "code",
   "execution_count": null,
   "id": "358dc83e",
   "metadata": {},
   "outputs": [],
   "source": [
    "diccionario1.items()"
   ]
  },
  {
   "cell_type": "code",
   "execution_count": null,
   "id": "797d3e1d",
   "metadata": {},
   "outputs": [],
   "source": [
    "# obtención de clave/valor mediante for:\n",
    "for key, value in diccionario1.items():\n",
    "    print(\"clave: \", key)\n",
    "    print(\"valor: \", value)"
   ]
  },
  {
   "cell_type": "code",
   "execution_count": null,
   "id": "40796f58",
   "metadata": {},
   "outputs": [],
   "source": [
    "diccionario1[\"clave1\"]"
   ]
  },
  {
   "cell_type": "code",
   "execution_count": null,
   "id": "b286dd12",
   "metadata": {},
   "outputs": [],
   "source": [
    "# Modificación de valores en el diccionario\n",
    "diccionario1[\"clave1\"] = 5\n",
    "diccionario1"
   ]
  },
  {
   "cell_type": "code",
   "execution_count": null,
   "id": "8fe4988c",
   "metadata": {},
   "outputs": [],
   "source": [
    "len(diccionario1)"
   ]
  },
  {
   "cell_type": "code",
   "execution_count": null,
   "id": "5054cc4b",
   "metadata": {},
   "outputs": [],
   "source": [
    "# Eliminar un campo del diccionario\n",
    "del diccionario1[\"clave3\"]\n",
    "diccionario1"
   ]
  },
  {
   "cell_type": "code",
   "execution_count": null,
   "id": "ee92405e",
   "metadata": {},
   "outputs": [],
   "source": [
    "len(diccionario1)"
   ]
  },
  {
   "cell_type": "code",
   "execution_count": null,
   "id": "d9330108",
   "metadata": {},
   "outputs": [],
   "source": [
    "# otra forma de eliminar...\n",
    "diccionario1.pop(\"clave2\")\n",
    "diccionario1"
   ]
  },
  {
   "cell_type": "code",
   "execution_count": null,
   "id": "24a45715",
   "metadata": {},
   "outputs": [],
   "source": [
    "len(diccionario1)"
   ]
  },
  {
   "cell_type": "code",
   "execution_count": null,
   "id": "4e915a94",
   "metadata": {},
   "outputs": [],
   "source": [
    "# Borrar todos los elementos del diccionario .clear()\n",
    "diccionario1.clear()"
   ]
  },
  {
   "cell_type": "code",
   "execution_count": null,
   "id": "bf86fe55",
   "metadata": {},
   "outputs": [],
   "source": [
    "diccionario1"
   ]
  },
  {
   "cell_type": "code",
   "execution_count": null,
   "id": "d85010a2",
   "metadata": {},
   "outputs": [],
   "source": [
    "len(diccionario1)"
   ]
  },
  {
   "cell_type": "markdown",
   "id": "37e7e129",
   "metadata": {},
   "source": [
    "## Parte 3"
   ]
  },
  {
   "cell_type": "code",
   "execution_count": null,
   "id": "41b89af5",
   "metadata": {},
   "outputs": [],
   "source": [
    "dic = {\"clave1\": 10, \"clave2\": 20, \"clave3\": 30}\n",
    "dic"
   ]
  },
  {
   "cell_type": "code",
   "execution_count": null,
   "id": "08d21127",
   "metadata": {},
   "outputs": [],
   "source": [
    "from collections import Counter"
   ]
  },
  {
   "cell_type": "code",
   "execution_count": null,
   "id": "29635fca",
   "metadata": {},
   "outputs": [],
   "source": [
    "Counter(dic)"
   ]
  },
  {
   "cell_type": "code",
   "execution_count": null,
   "id": "58287329",
   "metadata": {},
   "outputs": [],
   "source": [
    "Counter(dic).most_common()"
   ]
  },
  {
   "cell_type": "code",
   "execution_count": null,
   "id": "c2a28cb6",
   "metadata": {},
   "outputs": [],
   "source": [
    "Counter(dic).most_common()[0]"
   ]
  },
  {
   "cell_type": "code",
   "execution_count": null,
   "id": "38927ccb",
   "metadata": {},
   "outputs": [],
   "source": [
    "Counter(dic).most_common()[1]"
   ]
  },
  {
   "cell_type": "code",
   "execution_count": null,
   "id": "d631a2af",
   "metadata": {},
   "outputs": [],
   "source": [
    "Counter(dic).most_common()[2]"
   ]
  },
  {
   "cell_type": "code",
   "execution_count": null,
   "id": "e676c150",
   "metadata": {},
   "outputs": [],
   "source": [
    "Counter(dic).most_common()[-1]"
   ]
  },
  {
   "cell_type": "code",
   "execution_count": null,
   "id": "7c694011",
   "metadata": {},
   "outputs": [],
   "source": [
    "Counter(dic).most_common()[-2]"
   ]
  },
  {
   "cell_type": "code",
   "execution_count": null,
   "id": "500fbf02",
   "metadata": {},
   "outputs": [],
   "source": [
    "Counter(dic).most_common()[-3]"
   ]
  },
  {
   "cell_type": "code",
   "execution_count": null,
   "id": "19aab9b7",
   "metadata": {},
   "outputs": [],
   "source": [
    "# Si queremos seleccionar unos elementos del dicionario,\n",
    "# en este caso los primeros valores\n",
    "Counter(dic).most_common()[:2]"
   ]
  },
  {
   "cell_type": "code",
   "execution_count": null,
   "id": "ae3e5aa3",
   "metadata": {},
   "outputs": [],
   "source": [
    "Counter(dic).most_common()[1:]"
   ]
  },
  {
   "cell_type": "markdown",
   "id": "f0524e98",
   "metadata": {},
   "source": [
    "## Parte 4"
   ]
  },
  {
   "cell_type": "code",
   "execution_count": null,
   "id": "0c2bb05f",
   "metadata": {},
   "outputs": [],
   "source": [
    "diccionario2 = {\"clave1\": 10, \"clave2\": 20, \"clave3\": 30}\n",
    "diccionario2"
   ]
  },
  {
   "cell_type": "code",
   "execution_count": null,
   "id": "20ad161e",
   "metadata": {},
   "outputs": [],
   "source": [
    "diccionario2.keys()"
   ]
  },
  {
   "cell_type": "code",
   "execution_count": null,
   "id": "2d33881b",
   "metadata": {},
   "outputs": [],
   "source": [
    "listado_keys = []\n",
    "for key in diccionario2.keys():\n",
    "    listado_keys.append(key)\n",
    "listado_keys"
   ]
  },
  {
   "cell_type": "code",
   "execution_count": null,
   "id": "d08dc8d8",
   "metadata": {},
   "outputs": [],
   "source": [
    "listado_values = []\n",
    "for value in diccionario2.values():\n",
    "    listado_values.append(value)\n",
    "listado_values"
   ]
  },
  {
   "cell_type": "code",
   "execution_count": null,
   "id": "66b8b46b",
   "metadata": {},
   "outputs": [],
   "source": [
    "# pip install pandas\n",
    "import pandas as pd"
   ]
  },
  {
   "cell_type": "code",
   "execution_count": null,
   "id": "791ca30b",
   "metadata": {},
   "outputs": [],
   "source": [
    "df_diccionario = pd.DataFrame(listado_keys, columns=[\"claves\"])\n",
    "df_diccionario"
   ]
  },
  {
   "cell_type": "code",
   "execution_count": null,
   "id": "8f8b83a3",
   "metadata": {},
   "outputs": [],
   "source": [
    "df_diccionario[\"Valores\"] = listado_values\n",
    "df_diccionario"
   ]
  },
  {
   "cell_type": "markdown",
   "id": "1398a716",
   "metadata": {},
   "source": [
    "## Parte 5"
   ]
  },
  {
   "cell_type": "code",
   "execution_count": null,
   "id": "d2b297a3",
   "metadata": {},
   "outputs": [],
   "source": [
    "# Como ordenar un dataframe\n",
    "df_diccionario.sort_values(by='Valores')\n",
    "# ascendente"
   ]
  },
  {
   "cell_type": "code",
   "execution_count": null,
   "id": "10365d2c",
   "metadata": {},
   "outputs": [],
   "source": [
    "# si no se especifica ascending (caso anterior) por defecto ascending = True\n",
    "df_diccionario.sort_values(by='Valores', ascending=True)"
   ]
  },
  {
   "cell_type": "code",
   "execution_count": null,
   "id": "2dcf3f5c",
   "metadata": {},
   "outputs": [],
   "source": [
    "df_diccionario.sort_values(by='Valores', ascending=False)\n",
    "# descendente"
   ]
  },
  {
   "cell_type": "markdown",
   "id": "8d5cb0b2",
   "metadata": {},
   "source": [
    "## -5.1- Strings"
   ]
  },
  {
   "cell_type": "markdown",
   "id": "74f5ab16",
   "metadata": {},
   "source": [
    "### Importancia de los strings en AI"
   ]
  },
  {
   "cell_type": "markdown",
   "id": "88b614d8",
   "metadata": {},
   "source": [
    "**Strings como introducción al Procesamiento de Lenguaje Natural (NLP- Natural Language Processing)**"
   ]
  },
  {
   "cell_type": "markdown",
   "id": "e888bdab",
   "metadata": {},
   "source": [
    "**Proyectos típicos de Inteligencia Artificial con NLP:**\n",
    "* Chatbots,\n",
    "* analítica de textos,\n",
    "* análisis de sentimientos en redes sociales,\n",
    "* Etc."
   ]
  },
  {
   "cell_type": "markdown",
   "id": "723e5a99",
   "metadata": {},
   "source": [
    "## Index en los Strings"
   ]
  },
  {
   "cell_type": "code",
   "execution_count": null,
   "id": "13a9844a",
   "metadata": {},
   "outputs": [],
   "source": [
    "s1 = \"Hi, How are you?\"\n",
    "s1"
   ]
  },
  {
   "cell_type": "code",
   "execution_count": null,
   "id": "54f4e819",
   "metadata": {},
   "outputs": [],
   "source": [
    "s1[0]"
   ]
  },
  {
   "cell_type": "code",
   "execution_count": null,
   "id": "e841db2b",
   "metadata": {},
   "outputs": [],
   "source": [
    "s1[0], s1[1], s1[2]"
   ]
  },
  {
   "cell_type": "code",
   "execution_count": null,
   "id": "8db35707",
   "metadata": {},
   "outputs": [],
   "source": [
    "s1[-1]"
   ]
  },
  {
   "cell_type": "markdown",
   "id": "888eb3d7",
   "metadata": {},
   "source": [
    "**Longitud**"
   ]
  },
  {
   "cell_type": "code",
   "execution_count": null,
   "id": "83c6d408",
   "metadata": {},
   "outputs": [],
   "source": [
    "len(s1)"
   ]
  },
  {
   "cell_type": "code",
   "execution_count": null,
   "id": "45748871",
   "metadata": {},
   "outputs": [],
   "source": [
    "for letra in s1:\n",
    "    print(letra)"
   ]
  },
  {
   "cell_type": "markdown",
   "id": "bc1d382a",
   "metadata": {},
   "source": [
    "## most_common()"
   ]
  },
  {
   "cell_type": "code",
   "execution_count": null,
   "id": "799da71d",
   "metadata": {},
   "outputs": [],
   "source": [
    "s1 = \"Hi, How are you?\"\n",
    "s1"
   ]
  },
  {
   "cell_type": "code",
   "execution_count": null,
   "id": "18cc3eb8",
   "metadata": {},
   "outputs": [],
   "source": [
    "from collections import Counter"
   ]
  },
  {
   "cell_type": "code",
   "execution_count": null,
   "id": "b0d974c8",
   "metadata": {},
   "outputs": [],
   "source": [
    "# Número de veces que esta en el strings\n",
    "Counter(s1).most_common()"
   ]
  },
  {
   "cell_type": "markdown",
   "id": "d3a607a8",
   "metadata": {},
   "source": [
    "## count"
   ]
  },
  {
   "cell_type": "code",
   "execution_count": null,
   "id": "ddbc8728",
   "metadata": {},
   "outputs": [],
   "source": [
    "# Frecuencia aparece la palabra\n",
    "s1 = \"Hi, How are you?\"\n",
    "s1"
   ]
  },
  {
   "cell_type": "code",
   "execution_count": null,
   "id": "5e519026",
   "metadata": {},
   "outputs": [],
   "source": [
    "s1.count(\"Hi\")"
   ]
  },
  {
   "cell_type": "code",
   "execution_count": null,
   "id": "0a29ff28",
   "metadata": {},
   "outputs": [],
   "source": [
    "s1.count(\"How\")"
   ]
  },
  {
   "cell_type": "code",
   "execution_count": null,
   "id": "188727d4",
   "metadata": {},
   "outputs": [],
   "source": [
    "# debe ser exacta para que la busque, si está en H pues debe buscarse así\n",
    "s1.count(\"hi\")"
   ]
  },
  {
   "cell_type": "markdown",
   "id": "f7aaab31",
   "metadata": {},
   "source": [
    "## upper / lower"
   ]
  },
  {
   "cell_type": "code",
   "execution_count": null,
   "id": "74ed9d49",
   "metadata": {},
   "outputs": [],
   "source": [
    "s1 = \"Hi, How are you?\"\n",
    "s1"
   ]
  },
  {
   "cell_type": "code",
   "execution_count": null,
   "id": "f4116439",
   "metadata": {},
   "outputs": [],
   "source": [
    "mayusculas = s1.upper()\n",
    "mayusculas"
   ]
  },
  {
   "cell_type": "code",
   "execution_count": null,
   "id": "13f4707b",
   "metadata": {},
   "outputs": [],
   "source": [
    "minuscula = s1.lower()\n",
    "minuscula"
   ]
  },
  {
   "cell_type": "markdown",
   "id": "ac9b9a07",
   "metadata": {},
   "source": [
    "## find"
   ]
  },
  {
   "cell_type": "code",
   "execution_count": null,
   "id": "ec887390",
   "metadata": {},
   "outputs": [],
   "source": [
    "s1 = \"Hi, How are you?\"\n",
    "s1"
   ]
  },
  {
   "cell_type": "code",
   "execution_count": null,
   "id": "699edb79",
   "metadata": {},
   "outputs": [],
   "source": [
    "len(s1)"
   ]
  },
  {
   "cell_type": "code",
   "execution_count": null,
   "id": "6043e776",
   "metadata": {},
   "outputs": [],
   "source": [
    "# Buscar la letra \"o\"\n",
    "s1[5], s1[13]"
   ]
  },
  {
   "cell_type": "code",
   "execution_count": null,
   "id": "8fae4746",
   "metadata": {},
   "outputs": [],
   "source": [
    "# busqueda de la posición\n",
    "s1_find = s1.find(\"o\")\n",
    "s1_find"
   ]
  },
  {
   "cell_type": "code",
   "execution_count": null,
   "id": "35dacd39",
   "metadata": {},
   "outputs": [],
   "source": [
    "# busqueda de la posición\n",
    "s1_interrogación = s1.find(\"?\")\n",
    "s1_interrogación"
   ]
  },
  {
   "cell_type": "code",
   "execution_count": null,
   "id": "36c213d3",
   "metadata": {},
   "outputs": [],
   "source": [
    "s1[-1]"
   ]
  },
  {
   "cell_type": "code",
   "execution_count": null,
   "id": "770eb097",
   "metadata": {},
   "outputs": [],
   "source": [
    "# si no encuentra la letra, en ese caso pone -1\n",
    "s1_notfound = s1.find(\"p\")\n",
    "s1_notfound"
   ]
  },
  {
   "cell_type": "code",
   "execution_count": null,
   "id": "7b92c382",
   "metadata": {},
   "outputs": [],
   "source": [
    "# Diferencia entre mayúsculas y minúsculas\n",
    "s1 = \"Hi, how are you?\"\n",
    "s1"
   ]
  },
  {
   "cell_type": "code",
   "execution_count": null,
   "id": "72ce0a37",
   "metadata": {},
   "outputs": [],
   "source": [
    "s1_H = s1.find(\"H\")\n",
    "s1_H"
   ]
  },
  {
   "cell_type": "code",
   "execution_count": null,
   "id": "64cd6f97",
   "metadata": {},
   "outputs": [],
   "source": [
    "s1_h = s1.find(\"h\")\n",
    "s1_h"
   ]
  },
  {
   "cell_type": "markdown",
   "id": "943c8360",
   "metadata": {},
   "source": [
    "## startswith, endswith"
   ]
  },
  {
   "cell_type": "code",
   "execution_count": null,
   "id": "2a198eba",
   "metadata": {},
   "outputs": [],
   "source": [
    "s1 = \"Hi, how are you?\"\n",
    "s1"
   ]
  },
  {
   "cell_type": "code",
   "execution_count": null,
   "id": "b2c8b0b4",
   "metadata": {},
   "outputs": [],
   "source": [
    "s1_startswith = s1.startswith(\"hi\")\n",
    "s1_startswith"
   ]
  },
  {
   "cell_type": "code",
   "execution_count": null,
   "id": "e7f708ea",
   "metadata": {},
   "outputs": [],
   "source": [
    "s1_startswith = s1.startswith(\"Hi\")\n",
    "s1_startswith"
   ]
  },
  {
   "cell_type": "code",
   "execution_count": null,
   "id": "ec2f1c02",
   "metadata": {},
   "outputs": [],
   "source": [
    "s1_endswith = s1.endswith(\"you\")\n",
    "s1_endswith"
   ]
  },
  {
   "cell_type": "code",
   "execution_count": null,
   "id": "850fb1a7",
   "metadata": {},
   "outputs": [],
   "source": [
    "s1_endswith = s1.endswith(\"you?\")\n",
    "s1_endswith"
   ]
  },
  {
   "cell_type": "markdown",
   "id": "e8dd7097",
   "metadata": {},
   "source": [
    "## Split"
   ]
  },
  {
   "cell_type": "code",
   "execution_count": null,
   "id": "52d5098b",
   "metadata": {},
   "outputs": [],
   "source": [
    "# hacemos el split de un string (division en substrings)\n",
    "# creando una lista de elementos que componen el string\n",
    "s1 = \"Hi, how are you?\"\n",
    "s1"
   ]
  },
  {
   "cell_type": "code",
   "execution_count": null,
   "id": "1602e2f1",
   "metadata": {},
   "outputs": [],
   "source": [
    "s1_split = s1.split()\n",
    "s1_split"
   ]
  },
  {
   "cell_type": "code",
   "execution_count": null,
   "id": "8d0eecdd",
   "metadata": {},
   "outputs": [],
   "source": [
    "s1 = \"Hi, how are you?\"\n",
    "s1"
   ]
  },
  {
   "cell_type": "code",
   "execution_count": null,
   "id": "f3650ac6",
   "metadata": {},
   "outputs": [],
   "source": [
    "s1_split = s1.split(\",\")\n",
    "s1_split"
   ]
  },
  {
   "cell_type": "code",
   "execution_count": null,
   "id": "d9e24e2c",
   "metadata": {},
   "outputs": [],
   "source": [
    "s2 = \"Hi , how are you?\"\n",
    "s2"
   ]
  },
  {
   "cell_type": "code",
   "execution_count": null,
   "id": "01971a97",
   "metadata": {},
   "outputs": [],
   "source": [
    "s2_split = s2.split()\n",
    "s2_split"
   ]
  },
  {
   "cell_type": "markdown",
   "id": "9d13d568",
   "metadata": {},
   "source": [
    "## Replace"
   ]
  },
  {
   "cell_type": "code",
   "execution_count": null,
   "id": "2b99584b",
   "metadata": {},
   "outputs": [],
   "source": [
    "# reemplazar algo\n",
    "s1 = \"Hi, How are you?\"\n",
    "s1"
   ]
  },
  {
   "cell_type": "code",
   "execution_count": null,
   "id": "c375addd",
   "metadata": {},
   "outputs": [],
   "source": [
    "# sustituir la \"H\" por \"h\"\n",
    "# el primer valor es el valor a sustituir\n",
    "# el segundo valor el valor que quiero poner\n",
    "s1.replace(\"H\", \"h\")"
   ]
  },
  {
   "cell_type": "markdown",
   "id": "d5f3f586",
   "metadata": {},
   "source": [
    "## Join"
   ]
  },
  {
   "cell_type": "code",
   "execution_count": null,
   "id": "be159ef1",
   "metadata": {},
   "outputs": [],
   "source": [
    "# une todos los elementos del string por un simbolo específico\n",
    "# \"-\" en este caso"
   ]
  },
  {
   "cell_type": "code",
   "execution_count": null,
   "id": "c5761d17",
   "metadata": {},
   "outputs": [],
   "source": [
    "s1 = \"Hi, How are you?\"\n",
    "s1"
   ]
  },
  {
   "cell_type": "code",
   "execution_count": null,
   "id": "c4dbe339",
   "metadata": {},
   "outputs": [],
   "source": [
    "s1_join = \"-\".join(s1)\n",
    "s1_join"
   ]
  },
  {
   "cell_type": "code",
   "execution_count": null,
   "id": "23836d5e",
   "metadata": {},
   "outputs": [],
   "source": [
    "s1_join = \"+\".join(s1)\n",
    "s1_join"
   ]
  },
  {
   "cell_type": "markdown",
   "id": "1c3d22f8",
   "metadata": {},
   "source": [
    "## Sleep y time"
   ]
  },
  {
   "cell_type": "code",
   "execution_count": null,
   "id": "ece9a8ed",
   "metadata": {},
   "outputs": [],
   "source": [
    "from time import sleep"
   ]
  },
  {
   "cell_type": "code",
   "execution_count": null,
   "id": "d00f4b72",
   "metadata": {},
   "outputs": [],
   "source": [
    "%%time\n",
    "print(\"Hola\")\n",
    "sleep(2)\n",
    "print(\"Mundo\")"
   ]
  },
  {
   "cell_type": "code",
   "execution_count": null,
   "id": "05d3e14f",
   "metadata": {},
   "outputs": [],
   "source": [
    "%%time\n",
    "print(\"Hola\")\n",
    "sleep(10)\n",
    "print(\"Mundo\")"
   ]
  },
  {
   "cell_type": "code",
   "execution_count": null,
   "id": "0a1be823",
   "metadata": {},
   "outputs": [],
   "source": [
    "import time"
   ]
  },
  {
   "cell_type": "code",
   "execution_count": null,
   "id": "6f74575c",
   "metadata": {},
   "outputs": [],
   "source": [
    "%%time\n",
    "print(\"Hola\")\n",
    "time.sleep(2)\n",
    "print(\"Mundo\")"
   ]
  },
  {
   "cell_type": "code",
   "execution_count": null,
   "id": "e3d4355d",
   "metadata": {},
   "outputs": [],
   "source": [
    "# Ejemplo 1"
   ]
  },
  {
   "cell_type": "code",
   "execution_count": null,
   "id": "30ebd66b",
   "metadata": {},
   "outputs": [],
   "source": [
    "%%time\n",
    "x = 2\n",
    "a = time.time()\n",
    "print(x)\n",
    "b = time.time()\n",
    "\n",
    "tiempo = a -b\n",
    "tiempo"
   ]
  },
  {
   "cell_type": "code",
   "execution_count": null,
   "id": "414c264b",
   "metadata": {},
   "outputs": [],
   "source": [
    "%%time\n",
    "print(\"Hello\")\n",
    "a = time.time()\n",
    "time.sleep(5)\n",
    "b = time.time()\n",
    "print(\"World\")\n",
    "\n",
    "tiempo = a -b\n",
    "tiempo"
   ]
  },
  {
   "cell_type": "code",
   "execution_count": null,
   "id": "b958162d",
   "metadata": {},
   "outputs": [],
   "source": [
    "# Ejemplo 2"
   ]
  },
  {
   "cell_type": "code",
   "execution_count": null,
   "id": "0dab8a8a",
   "metadata": {},
   "outputs": [],
   "source": [
    "%%time\n",
    "\n",
    "import time\n",
    "\n",
    "tiempo_inicial = time.time()\n",
    "\n",
    "contador = 0\n",
    "\n",
    "for numero in range(1000000):\n",
    "    contador += 1\n",
    "\n",
    "tiempo_final = time.time()\n",
    "\n",
    "tiempo_ejecucion = tiempo_final - tiempo_inicial\n",
    "print(\"tiempo de ejecución: t_final - t.inicial = \", tiempo_ejecucion)"
   ]
  },
  {
   "cell_type": "markdown",
   "id": "8b67077f",
   "metadata": {},
   "source": [
    "## Operaciones Elementales y algunas cosas más"
   ]
  },
  {
   "cell_type": "code",
   "execution_count": null,
   "id": "0c5ced30",
   "metadata": {},
   "outputs": [],
   "source": [
    "5<7"
   ]
  },
  {
   "cell_type": "code",
   "execution_count": null,
   "id": "8530287e",
   "metadata": {},
   "outputs": [],
   "source": [
    "5<7, 5<5, 5<=5, 7>5, 7>=5, 5>5"
   ]
  },
  {
   "cell_type": "code",
   "execution_count": null,
   "id": "77abe82c",
   "metadata": {},
   "outputs": [],
   "source": [
    "# Ojo con estos, porque van en condicionales if para testear\n",
    "6!=5, 6!=6, 5==5, 5==6"
   ]
  },
  {
   "cell_type": "code",
   "execution_count": null,
   "id": "ae66272b",
   "metadata": {},
   "outputs": [],
   "source": [
    "# division:\n",
    "12/4"
   ]
  },
  {
   "cell_type": "code",
   "execution_count": null,
   "id": "fe02939b",
   "metadata": {},
   "outputs": [],
   "source": [
    "# cociente:\n",
    "11//4"
   ]
  },
  {
   "cell_type": "code",
   "execution_count": null,
   "id": "62fe9785",
   "metadata": {},
   "outputs": [],
   "source": [
    "# resto:\n",
    "11 % 4"
   ]
  },
  {
   "cell_type": "code",
   "execution_count": null,
   "id": "5789fc86",
   "metadata": {},
   "outputs": [],
   "source": [
    "print('División exacta: ', 12/4, \"cociente:\", 11//4, \"resto\", 11%4)"
   ]
  },
  {
   "cell_type": "code",
   "execution_count": null,
   "id": "09026c3e-60a7-4136-98f9-0b2b618d0f83",
   "metadata": {},
   "outputs": [],
   "source": [
    "resultado = 12/4 + 11//4 + 11%4\n",
    "resultado"
   ]
  },
  {
   "cell_type": "code",
   "execution_count": null,
   "id": "1b2b78fc",
   "metadata": {},
   "outputs": [],
   "source": [
    "# Multiplicacion\n",
    "2 * 4"
   ]
  },
  {
   "cell_type": "code",
   "execution_count": null,
   "id": "7ae70677",
   "metadata": {},
   "outputs": [],
   "source": [
    "# Elevado:\n",
    "2**4"
   ]
  },
  {
   "cell_type": "markdown",
   "id": "057ae2af",
   "metadata": {},
   "source": [
    "*Creado por:*\n",
    "    \n",
    "*Isabel Maniega*"
   ]
  }
 ],
 "metadata": {
  "kernelspec": {
   "display_name": "Python 3 (ipykernel)",
   "language": "python",
   "name": "python3"
  },
  "language_info": {
   "codemirror_mode": {
    "name": "ipython",
    "version": 3
   },
   "file_extension": ".py",
   "mimetype": "text/x-python",
   "name": "python",
   "nbconvert_exporter": "python",
   "pygments_lexer": "ipython3",
   "version": "3.8.18"
  }
 },
 "nbformat": 4,
 "nbformat_minor": 5
}
